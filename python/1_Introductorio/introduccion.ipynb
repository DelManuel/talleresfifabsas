{
 "cells": [
  {
   "cell_type": "markdown",
   "metadata": {},
   "source": [
    "![](fig/logos_python_fifa.png)\n",
    "\n",
    "## ¿Qué es programar?\n",
    "La computadora es una gran gran calculadora que permite hacer cualquier tipo de cuenta de las que necesitemos dentro de nuestras carreras (y de la vida también) mientras sepamos cómo decirle a la máquina qué cómputos hacer.\n",
    "\n",
    "La idea de esta primera clase, es comprender los siguientes conceptos:\n",
    "* Cómo definir variables y las verlas en pantalla.\n",
    "* Cómo hacer cuentas con las variables.\n",
    "* Trabajar con listas.\n",
    "* Condicionales (if).\n",
    "* Reiterar acciones (for loops).\n",
    "* Declarar funciones\n",
    "\n",
    "---\n",
    "Para hacer estas cuentas la computadora tiene que almacenar los números que necesitemos y luego hacer las operaciones apropiadas con ellos.\n",
    "Nuestros valores numéricos se guardan en espacios de memoria, y esos espacios tienen un nombre, un rótulo, con el cual los podremos llamar.\n",
    "La computadora comprende estos nombres y uno puede indicarle que los utilice para operar con ellos, modificarlos, etc.\n",
    "Ese nombre a cada espacio de memoria se asigna, al menos en Python, con el símbolo `=`, que suele llamarse **operador de asignación**.\n",
    "\n",
    "Pero no solamente guardaremos valores numéricos.\n",
    "Además, como veremos ahora, podemos guardar otros tipos de datos, como texto (strings) y listas (lists) entre muchos otros.\n",
    "Todos los tipos de valores que podremos almacenar difieren entre si en el espacio en memoria que ocupan y las operaciones que podremos hacer con ellos.\n",
    "A estos *tipos de datos* con los que se puede operar se los llama **objetos**.\n",
    "\n",
    "Veamos un ejemplo"
   ]
  },
  {
   "cell_type": "code",
   "execution_count": 9,
   "metadata": {},
   "outputs": [],
   "source": [
    "x = 5\n",
    "un_texto = 'Hola mundo!' # Esto es un comentario\n",
    "una_lista = [1,2,3, \"texto\"]"
   ]
  },
  {
   "cell_type": "markdown",
   "metadata": {},
   "source": [
    "Acá asignamos al espacio en memoria ```x``` el valor *5* que es un objeto de tipo _int_ (número entero o integer en inglés).\n",
    "A estos espacios de memoria se los suele llamar **variables**.\n",
    "De modo que en este caso tenemos la variable ```x``` que guarda el valor _5_.\n",
    "\n",
    "Además, creamos otras dos variables: ```un_texto``` y ```una_lista```.\n",
    "Estas tienen los valores _'Hola mundo!'_ y _[1,2,3]_ respectivamente.\n",
    "\n",
    "Los valores entre comillas simples (') o dobles (\") son objetos del **tipo** **string**, que es la forma en que se le dice a la computadora que se busca almacenar una palabra.\n",
    "Y los valores entre corchetes son **listas**, que básicamente son conjuntos de otros valores.\n",
    "En nuestro ejemplo armamos una lista con los valores numéricos 1, 2, 3 y con un valor del tipo string \"texto\".\n",
    "\n",
    "Cualquier texto escrito luego de ```#``` Python lo toma como un comentario y no lo trata de ejecutar.\n",
    "Esto está muy bueno para dejar anotaciones en el código.\n",
    "**¡Úsenlo!**"
   ]
  },
  {
   "cell_type": "markdown",
   "metadata": {},
   "source": [
    "### Funciones predefinidas"
   ]
  },
  {
   "cell_type": "markdown",
   "metadata": {},
   "source": [
    "Ahora que tenemos las variables ya **declaradas** podemos operar con **funciones** sobre ellas.\n",
    "Las funciones son un conjunto de líneas de código que realizan alguna tarea específica.\n",
    "Por ejemplo veamos las funciones ```print()``` y ```type()```."
   ]
  },
  {
   "cell_type": "code",
   "execution_count": 10,
   "metadata": {},
   "outputs": [
    {
     "name": "stdout",
     "output_type": "stream",
     "text": [
      "5\n",
      "<class 'int'>\n",
      "Hola mundo! es del tipo <class 'str'>\n"
     ]
    }
   ],
   "source": [
    "print(x)\n",
    "print(type(x))\n",
    "print(un_texto, \"es del tipo\", type(un_texto))"
   ]
  },
  {
   "cell_type": "markdown",
   "metadata": {},
   "source": [
    "Como vemos, la función ```print()``` nos permite mostrar en pantalla el valor de una variable específica.\n",
    "\n",
    "Por otro lado, la función ```type()``` nos **retorna** el **tipo de objeto** almacenado en una variable.\n",
    "Donde 'int' hace alusión a los números enteros y 'str' a los *strings*.\n",
    "Esta función es muy útil para entender con qué tipo de variables estamos trabajando.\n",
    "\n",
    "Además, vemos que ```print()```, por ejemplo, puede recibir más de un objeto como **argumento**.\n",
    "Pasa lo mismo con ```type()```?"
   ]
  },
  {
   "cell_type": "code",
   "execution_count": 11,
   "metadata": {},
   "outputs": [
    {
     "ename": "TypeError",
     "evalue": "type() takes 1 or 3 arguments",
     "output_type": "error",
     "traceback": [
      "\u001b[0;31m---------------------------------------------------------------------------\u001b[0m",
      "\u001b[0;31mTypeError\u001b[0m                                 Traceback (most recent call last)",
      "\u001b[0;32m<ipython-input-11-07485e09eb8c>\u001b[0m in \u001b[0;36m<module>\u001b[0;34m\u001b[0m\n\u001b[0;32m----> 1\u001b[0;31m \u001b[0mprint\u001b[0m\u001b[0;34m(\u001b[0m\u001b[0mtype\u001b[0m\u001b[0;34m(\u001b[0m\u001b[0mx\u001b[0m\u001b[0;34m,\u001b[0m \u001b[0mun_texto\u001b[0m\u001b[0;34m)\u001b[0m\u001b[0;34m)\u001b[0m\u001b[0;34m\u001b[0m\u001b[0;34m\u001b[0m\u001b[0m\n\u001b[0m",
      "\u001b[0;31mTypeError\u001b[0m: type() takes 1 or 3 arguments"
     ]
    }
   ],
   "source": [
    "print(type(x, un_texto))"
   ]
  },
  {
   "cell_type": "markdown",
   "metadata": {},
   "source": [
    "No, no pasa lo mismo.\n",
    "En este caso nos dice que sólo puede recibir 1 ó 3 argumentos.\n",
    "\n",
    "(*Obs*: los otros dos argumentos son para cuestiones más específicas que no nos van a interesar por ahora)"
   ]
  },
  {
   "cell_type": "markdown",
   "metadata": {},
   "source": [
    "### Operadores y tipos de números"
   ]
  },
  {
   "cell_type": "markdown",
   "metadata": {},
   "source": [
    "Para los objetos que son números, los operadores ```+```, ```-```, ```*```, ```/``` y ```**``` funcionan exactamente como los operadores matemáticos que conocemos.\n",
    "\n",
    "(*Obs*: El operador ```**``` es el \"elevado a\")\n",
    "\n",
    "Por ejemplo:"
   ]
  },
  {
   "cell_type": "code",
   "execution_count": 12,
   "metadata": {},
   "outputs": [
    {
     "name": "stdout",
     "output_type": "stream",
     "text": [
      "La suma de x e y es igual a 18 . Y el resultado es de tipo <class 'int'>\n",
      "La resta de x e y es igual a 2 . Y el resultado es de tipo <class 'int'>\n",
      "La división entre x e y es igual a 1.25 . Y el resultado es de tipo <class 'float'>\n",
      "La multiplicación entre x e y es igual a 80 . Y el resultado es de tipo <class 'int'>\n",
      "x elevado a la y es igual a 100000000 . Y el resultado es de tipo <class 'int'>\n"
     ]
    }
   ],
   "source": [
    "x = 10\n",
    "y = 8\n",
    "print('La suma de x e y es igual a', x + y, '. Y el resultado es de tipo', type(x+y))\n",
    "print('La resta de x e y es igual a', x - y, '. Y el resultado es de tipo', type(x-y))\n",
    "print('La división entre x e y es igual a', x / y, '. Y el resultado es de tipo', type(x/y))\n",
    "print('La multiplicación entre x e y es igual a', x * y, '. Y el resultado es de tipo', type(x*y))\n",
    "print('x elevado a la y es igual a', x ** y, '. Y el resultado es de tipo', type(x**y))"
   ]
  },
  {
   "cell_type": "markdown",
   "metadata": {},
   "source": [
    "#### Tipos de números: enteros, flotantes e imaginarios"
   ]
  },
  {
   "cell_type": "markdown",
   "metadata": {},
   "source": [
    "La computadora no almacena todos los números de igual forma.\n",
    "Hay dos tipos de datos fundamentales: los números enteros (`int`) y los números de punto flotante `float`.\n",
    "Hay números que no pueden ser representados por enteros, como los decimales, o que sería muy ineficiente representarlos como enteros, los números muy grandes (más de $\\sim 10^{19}$).\n",
    "Y para eso existen los `float`s, que guardan a los números en notación científica:\n",
    "\n",
    "$$a \\,.\\, b^c$$\n",
    "\n",
    "Por ejemplo,\n",
    "$$200 \\rightarrow 2\\,.\\,10^2$$\n",
    "$$0.002 \\rightarrow 2\\,.\\,10^{-3}$$\n",
    "\n",
    "No es importante saber el detalle de cómo se representan estos números, pero sí que existen dos tipos de números.\n",
    "Es importante porque, en ciertos lugares, Python necesita que usemos especïficamente un número entero.\n",
    "\n",
    "En las operaciones que hicimos arriba, todas devolvieron un `int`, a excepción de la división, que devolvió un `float`.\n",
    "En general, el resultado de una división no puede ser representado por un entero y, como Python a priori no sabe el resultado, se convierten los números a flotantes antes de realizar la división$^{1}$.\n",
    "Esto sucede en general para cualquier operación que pueda dar como resultado un número no entero: raíces, logarítmos, etc.\n",
    "Si sabemos que el resultado es un entero, podemos convertirlo con la función `int`:\n",
    "\n",
    "```python\n",
    "int(4 / 2)\n",
    "```\n",
    "\n",
    "En caso de que queramos realizar la división entera (10 \"dividido\" 8 = 1) podemos utilizar el operador **//**. Y en caso que queramos declarar directamente un número con coma podemos poner ```x = 10.0 ```\n",
    "\n",
    "Por completitud, el último tipo de número que falta es el imaginario. Que se declaran de la siguiente manera:\n",
    "```python\n",
    "num_complejo = 24 + 10j\n",
    "i = 0 + 1j\n",
    "```\n",
    "De forma nativa Python utiliza j en vez de i porque es la letra más usual en ingeniería en las universidades.\n",
    "\n",
    "$\\scriptsize\\text{1. En realidad, esto es así a partir de la versión 3 de Python.}$"
   ]
  },
  {
   "cell_type": "markdown",
   "metadata": {},
   "source": [
    "### Inciso: Cómo dar formato al texto\n",
    "\n",
    "Antes de continuar vamos a ver un poco cómo dar formato a los *strings*.\n",
    "Esto nos interesa para poder imprimir cosas en pantalla de una forma más ordenada y elegante, pero además es muy útil para manejar instrumentos en laboratorio, ya que estos reciben como *input* una cadena de texto.\n",
    "\n",
    "En el ejemplo anterior para imprimir un texto junto a los valores de las variables, realizamos líneas de este estilo\n",
    "```python\n",
    "print(\"La suma de x e y es igual a\", x + y, \". Que es de tipo\", type(x+y))\n",
    "```\n",
    "que en principio no tienen nada de malo, pero son difíciles de leer en el código y pueden escalar muy feo si hay que poner más variables.\n",
    "\n",
    "Dicho esto, veamos algunas formas de reescribir estas líneas de forma más elegante:"
   ]
  },
  {
   "cell_type": "code",
   "execution_count": 13,
   "metadata": {},
   "outputs": [
    {
     "name": "stdout",
     "output_type": "stream",
     "text": [
      "Ejemplo 1:\n",
      "La suma de x e y es igual a 10 + 8. Que es de tipo <class 'int'>\n",
      "\n",
      "Ejemplo 2:\n",
      "La suma de x e y es igual a 10 + 8. Que es de tipo <class 'int'>\n",
      "\n",
      "Ejemplo 2 bis:\n",
      "La suma de x e y es igual a 10 + 8. Que es de tipo <class 'int'>\n",
      "\n",
      "Ejemplo 3:\n",
      "La suma de x e y es igual a 10 + 8. Que es de tipo <class 'int'>\n"
     ]
    }
   ],
   "source": [
    "print('Ejemplo 1:') # Solo en versiones >= 3.6\n",
    "print(f'La suma de x e y es igual a {x} + {y}. Que es de tipo {type(x+y)}')\n",
    "## la f al principio importa, y mucho\n",
    "#print('La suma de x e y es igual a {x} + {y}. Que es de tipo {type(x+y)}')\n",
    "\n",
    "print('\\nEjemplo 2:')\n",
    "print('La suma de x e y es igual a {} + {}. Que es de tipo {}'.format(x, y, type(x+y))) \n",
    "\n",
    "print('\\nEjemplo 2 bis:')\n",
    "print('La suma de x e y es igual a {1} + {2}. Que es de tipo {0}'.format(type(x+y), x, y))\n",
    "\n",
    "print('\\nEjemplo 3:')\n",
    "print('La suma de x e y es igual a %d + %d. Que es de tipo %s' % (x, y, type(x+y)))\n"
   ]
  },
  {
   "cell_type": "markdown",
   "metadata": {},
   "source": [
    "...\n",
    "\n",
    "En el *ejemplo 1* vemos una forma muy elegante y fácil de leer que se conoce como f-string (format string).\n",
    "Esta forma está muy buena, pero sólo es compatible con las versiones de Python a partir de la 3.6, y muchas computadoras (si no están actualizadas) pueden no tener esta versión.\n",
    "\n",
    "En el *ejemplo 2* y *2 bis* vemos otra forma, también bastante concisa y elegante.\n",
    "Esta es la recomendada para programas que van a compartir con otra gente, ya que es compatible con todas las versiones de Python.\n",
    "La idea en general es poner {} donde van las variables y luego listarlas al final como argumentos del ```.format()```.\n",
    "En el *bis* vemos que también es posible listarlas desordenadas y utilizar números entre las llaves para elegir el orden deseado.\n",
    "\n",
    "En el *ejemplo 3* vemos una forma un tanto distinta, donde hay que aclarar el tipo de variable con la que estamos trabajando (%d hace alusión a digit y %s a string).\n",
    "Este formato es bastante molesto de usar pero tiene la ventaja de que es común a otros muchos lenguajes de programación como C, C++ y Java.\n",
    "La idea de declarar el tipo de variable viene de lenguajes que necesitan **compilar**.\n",
    "Acá un [link](https://blog.makeitreal.camp/lenguajes-compilados-e-interpretados/) si alguien quiere adentrarse más en la diferencia entre lenguajes interpretados (Python, Javascript, ...) y lenguajes compilados (C, Fortran, ...).\n",
    "\n",
    "Aclaración: vemos un ```\\n``` en algunos de los textos.\n",
    "Estos simplemente lo que hace es poner una linea en blanco en el medio.\n",
    "Si lo probás por cuenta propia rápidamente vas a entender cómo funciona."
   ]
  },
  {
   "cell_type": "markdown",
   "metadata": {},
   "source": [
    "---\n",
    "### Ejercicio 1\n",
    "\n",
    "Encontrar las raíces de el polinomio\n",
    "\n",
    "$$x^2 + \\frac{3}{2}x -1$$\n",
    "\n",
    "Recordar que la fórmula para las raíces de un polinomio del estilo $a\\,x^2 + b\\,x + c$ es\n",
    "\n",
    "$$x_{1,2} = \\frac{-b\\pm(b^2 -4ac)^{\\frac{1}{2}}}{2a}$$\n",
    "\n",
    "##### Objetivos\n",
    "* Declarar las variables $a$, $b$, $c$ para los coeficientes\n",
    "* Guardar los resultados en las variables $x1$ y $x2$.\n",
    "* Imprimir los valores de $x1$ y $x2$ aclarando cuál es cada uno usando alguna de las formas que vimos para formatear texto.\n",
    "\n",
    "¿Los resultados son de tipo _int_ o _float_?\n",
    "\n",
    "**Ejercicio 1 _bis_**: Reemplazar los valores del _Ejercicio 1_ para encontrar las raíces de \n",
    "\n",
    "$$4x^2 - x$$\n",
    "\n",
    "---"
   ]
  },
  {
   "cell_type": "markdown",
   "metadata": {},
   "source": [
    "## Listas\n",
    "Las listas son grupos de datos de cualquier tipo a los que llamamos por el mismo nombre de variable.\n",
    "Estos datos están enumerados dentro de la lista, de forma de poder acceder a cualquiera de ellos.\n",
    "\n",
    "#### Cosas a conocer sobre las listas\n",
    "* En Python, las listas se enumeran desde el 0 en adelante. De modo que el primer elemento es el ```lista[0]```.\n",
    "* Para pedir, por ejemplo, el cuarto elemento ponemos ```lista[3]```, por lo mismo que el punto anterior.\n",
    "* Para pedir el último elemento de una lista, una sintaxis válida es ```lista[-1]```, para el penúltimo es ```lista[-2]```, y así...\n",
    "* Para obtener todos los elementos de una lista entre el i-ésimo y el j-ésimo valor, la sintaxis es ```lista[i-1:j]``` (probando va a quedar más claro!).\n",
    "* Se puede guardar el valor de una variable dentro de una lista sin ningún problema.\n",
    "* El operador de suma (`+`) entre listas las **concatena**. No suma elemento a elemento como si fuera un vector (eso lo veremos más adelante en el curso).\n",
    "\n",
    "Veamos algunos ejemplos de todo esto:"
   ]
  },
  {
   "cell_type": "code",
   "execution_count": 14,
   "metadata": {},
   "outputs": [
    {
     "name": "stdout",
     "output_type": "stream",
     "text": [
      "[1, 2, 3, 'texto'] <class 'list'>\n",
      "1 <class 'int'>\n",
      "3 <class 'int'>\n",
      "texto <class 'str'>\n",
      "[2, 3] <class 'list'>\n"
     ]
    }
   ],
   "source": [
    "lista1 = [1,2,3, \"texto\"]\n",
    "print(lista1, type(lista1))\n",
    "print(lista1[0], type(lista1[1]))\n",
    "print(lista1[2], type(lista1[2]))\n",
    "print(lista1[-1], type(lista1[-1]))\n",
    "print(lista1[1:3], type(lista1[1:3]))"
   ]
  },
  {
   "cell_type": "code",
   "execution_count": 15,
   "metadata": {},
   "outputs": [
    {
     "name": "stdout",
     "output_type": "stream",
     "text": [
      "[15, 10, 12, 17]\n",
      "22\n"
     ]
    }
   ],
   "source": [
    "lista2 = [15, 10]\n",
    "lista3 = [12, 17]\n",
    "print(lista2 + lista3)\n",
    "print(lista2[1] + lista3[0])"
   ]
  },
  {
   "cell_type": "code",
   "execution_count": 16,
   "metadata": {},
   "outputs": [
    {
     "name": "stdout",
     "output_type": "stream",
     "text": [
      "[10, 100, 1000]\n"
     ]
    }
   ],
   "source": [
    "a = 10\n",
    "b = a**2\n",
    "c = a**3\n",
    "lista4 = [a, b, c]\n",
    "print(lista4)"
   ]
  },
  {
   "cell_type": "markdown",
   "metadata": {},
   "source": [
    "### Agregar elementos a una lista\n",
    "En la sección de strings vimos el ```.format()```, que es una función propia de los tipos de variables de texto.\n",
    "Otra función de esta índole es el ```.append()```.\n",
    "Esta función se puede utilizar sobre una lista para agregar un elemento a ella.\n",
    "Por ejemplo:"
   ]
  },
  {
   "cell_type": "code",
   "execution_count": 17,
   "metadata": {},
   "outputs": [
    {
     "name": "stdout",
     "output_type": "stream",
     "text": [
      "[1, 4, 7]\n",
      "[1, 4, 7, 9]\n"
     ]
    }
   ],
   "source": [
    "lista = [1, 4, 7]\n",
    "print(lista)\n",
    "lista.append(9)\n",
    "print(lista)"
   ]
  },
  {
   "cell_type": "markdown",
   "metadata": {},
   "source": [
    "### Función range()\n",
    "\n",
    "Para hacer listas largas sin escribir los elementos uno por uno existen algunas funciones.\n",
    "Una de ellas es ```range()```.\n",
    "Esta función nos devuelve un objeto que podemos convertir a una lista mediante la función ```list()```.\n",
    "\n",
    "Veamos cómo funciona mediante un ejemplo:"
   ]
  },
  {
   "cell_type": "code",
   "execution_count": 18,
   "metadata": {},
   "outputs": [
    {
     "name": "stdout",
     "output_type": "stream",
     "text": [
      "range(0, 10) <class 'range'>\n",
      "[0, 1, 2, 3, 4, 5, 6, 7, 8, 9] <class 'list'>\n"
     ]
    }
   ],
   "source": [
    "obj_range = range(10)\n",
    "lista_range = list(obj_range)\n",
    "\n",
    "print(obj_range, type(obj_range))\n",
    "print(lista_range, type(lista_range))"
   ]
  },
  {
   "cell_type": "markdown",
   "metadata": {},
   "source": [
    "La fución ```range()``` nos da un objeto del tipo _range_ que define una sucesión de números en abtracto, y podemos convertirlos a una lista de números explícitos, si lo necesitamos, utilizando ```list()``` (esto de convertir un objeto en otro vamos a poder hacerlo casi siempre entre objetos _similares_ y durante el curso vamos a ver otros ejemplos).\n",
    "\n",
    "Tener en cuenta que el objeto `range(0, 10)`, por ejemplo, nos da la succesión de elemenentos del 0 incluído hasta el 10 excluído.\n",
    "Esto es así para que la función `range(10)` contenga _10_ elementos y no _11_.\n",
    "\n",
    "---\n",
    "\n",
    "#### Documentación de una función\n",
    "\n",
    "Siempre que se quiera conocer más de de una función, o de cualquier otro objeto en Python, se puede utilizar el comando ```help(lo_que_quiero_conocer)```. \n",
    "\n",
    "Como ejemplo, en este caso sería ```help(range)```.\n",
    "\n",
    "No lo ponemos en la presentación porque el texto de salida es largo.\n",
    "Pero si lo prueban en sus computadoras van a ver que en una de las primeras lineas les dice:\n",
    "```\n",
    " |  range(stop) -> range object\n",
    " |  range(start, stop[, step]) -> range object\n",
    "```\n",
    "lo que significa que no sólo podemos darle el argumento _stop_ como valor, sino que, opcionalmente, también podemos darle un inicio y un paso.\n",
    "Veamos dos ejemplos:"
   ]
  },
  {
   "cell_type": "code",
   "execution_count": 19,
   "metadata": {},
   "outputs": [
    {
     "name": "stdout",
     "output_type": "stream",
     "text": [
      "[10, 11, 12, 13, 14]\n",
      "[0, 2, 4, 6, 8]\n"
     ]
    }
   ],
   "source": [
    "print(list(range(10, 15)))\n",
    "print(list(range(0, 10, 2)))"
   ]
  },
  {
   "cell_type": "markdown",
   "metadata": {},
   "source": [
    "---"
   ]
  },
  {
   "cell_type": "markdown",
   "metadata": {},
   "source": [
    "## Condicionales y booleans\n",
    "En esta sección vamos a introducir un nuevo tipo de variables: los _bool_.\n",
    "Esta variable solo puede tomar dos valores posibles: ```1``` y ```0```, o ```True``` y \n",
    "```False```.\n",
    "Son especialmente útiles para verificar si una condición se cumple (True) o no (False).\n",
    "\n",
    "Estas variables se comportan bajo el álgebra de Bool, por lo que permiten hacer operaciones lógicas si se está familiarizado.\n",
    "Lo que nos es relevante para este momento del curso es que nos permiten verificar (des)igualdades.\n",
    "\n",
    "Por ejemplo, si le preguntamos a Python si 5 es mayor que 4 nos va a devolver el valor ```True```"
   ]
  },
  {
   "cell_type": "code",
   "execution_count": 20,
   "metadata": {},
   "outputs": [
    {
     "name": "stdout",
     "output_type": "stream",
     "text": [
      "True\n"
     ]
    }
   ],
   "source": [
    "print(5 > 4)"
   ]
  },
  {
   "cell_type": "markdown",
   "metadata": {},
   "source": [
    "El símbolo ```>``` es lo que se llama un **operador lógico**.\n",
    "Acá una lista de los más usados:\n",
    "* ```a>b``` Verifica si a es **mayor** que b\n",
    "* ```a<b``` Verifica si a es **menor** que b\n",
    "* ```a>=b``` Verifica si a es **mayor o igual** que b\n",
    "* ```a<=b``` Verifica si a es **menor o igual** que b\n",
    "* ```a==b``` Verifica si a es **igual** que b\n",
    "* ```a!=b``` Verifica si a es **distinto** que b\n",
    "\n",
    "Tener en cuenta que para verificar la igualdad se usa ```==``` y no ```=``` ya que este último está reservado para _asignar_ un valor.\n",
    "\n",
    "#### Ejemplo"
   ]
  },
  {
   "cell_type": "code",
   "execution_count": 21,
   "metadata": {},
   "outputs": [
    {
     "name": "stdout",
     "output_type": "stream",
     "text": [
      "True\n",
      "False\n",
      "False\n",
      "True\n",
      "<class 'bool'>\n"
     ]
    }
   ],
   "source": [
    "print(5 > 4)\n",
    "print(5 < 4)\n",
    "print(5 == 4)\n",
    "print(5 != 4)\n",
    "print(type(4 > 5))"
   ]
  },
  {
   "cell_type": "markdown",
   "metadata": {},
   "source": [
    "### Condicionales (if, elif y else)\n",
    "Veamos los condicionales con un ejemplo sencillo.\n",
    "Supongamos que queremos saber si un número es positivo, y si lo es, queremos _printearlo_.\n",
    "\n",
    "Para poder armar este tipo de condiciones en el código se usa el ```if```.\n",
    "\n",
    "Ejemplo:"
   ]
  },
  {
   "cell_type": "code",
   "execution_count": 22,
   "metadata": {},
   "outputs": [
    {
     "name": "stdout",
     "output_type": "stream",
     "text": [
      "Este número es positivo:\n",
      "4\n"
     ]
    }
   ],
   "source": [
    "num1 = -3\n",
    "num2 = 4\n",
    "\n",
    "if num1 > 0:\n",
    "    print('Este número es positivo:')\n",
    "    print(num1)\n",
    "    \n",
    "if num2 > 0:\n",
    "    print('Este número es positivo:')\n",
    "    print(num2)"
   ]
  },
  {
   "cell_type": "markdown",
   "metadata": {},
   "source": [
    "\n",
    "Vemos que la estructura de cada uno de los```if``` es algo así:\n",
    "\n",
    "```Python\n",
    "esto se ejecuta sí o sí\n",
    "if BOOL:\n",
    "    |esto se ejecuta\n",
    "    |si BOOL es True\n",
    "    \n",
    "esto se ejecuta sí o sí\n",
    "```\n",
    "\n",
    "Las barritas marcan que esa parte de código está **identada** (es la forma anglosajona decír que tiene una sangría), lo que implica que es una parte que se va a ejecutar únicamente si la condición que está arriba (y sin identar) se cumple.\n",
    "\n",
    "En el código de arriba se están leyendo ambos ```if```, pero el primero tiene una condición que retorna ```False``` por lo que no ejecuta el código que tiene _adentro_.\n",
    "En cambio, la condición del segundo es ```True```, por lo que sí se ejecutan sus _print()_.\n",
    "\n",
    "\n",
    "Pero qué pasa si también quiero _printear_ los números que no son positivos?\n",
    "Para eso existe ```else```, que te permite ejecutar un bloque distinto de código cuando una dada condición no se cumple, por ejemplo:"
   ]
  },
  {
   "cell_type": "code",
   "execution_count": 23,
   "metadata": {},
   "outputs": [
    {
     "name": "stdout",
     "output_type": "stream",
     "text": [
      "Este número no es positivo\n",
      "-3\n"
     ]
    }
   ],
   "source": [
    "if num1 > 0:\n",
    "    print('Este número es positivo:')\n",
    "    print(num1)\n",
    "else:\n",
    "    print('Este número no es positivo')\n",
    "    print(num1)"
   ]
  },
  {
   "cell_type": "markdown",
   "metadata": {},
   "source": [
    "Bien, pero qué pasa si el número no es ni positivo ni negativo sino que es 0?\n",
    "Para resolver este problema existe ```elif``` que es una abreviación de _else if_ que nos permite agregar más de una condición.\n",
    "En este caso:"
   ]
  },
  {
   "cell_type": "code",
   "execution_count": 24,
   "metadata": {},
   "outputs": [
    {
     "name": "stdout",
     "output_type": "stream",
     "text": [
      "El número es negativo\n",
      "-3\n"
     ]
    }
   ],
   "source": [
    "num = -3\n",
    "\n",
    "if num > 0:\n",
    "    print('El número es positivo:')\n",
    "    print(num1)\n",
    "    \n",
    "elif num < 0:\n",
    "    print('El número es negativo')\n",
    "    print(num1)\n",
    "    \n",
    "else:\n",
    "    print('El número es cero')"
   ]
  },
  {
   "cell_type": "markdown",
   "metadata": {},
   "source": [
    "Por lo que la estructura completa queda:\n",
    "\n",
    "```Python\n",
    "esto se ejecuta sí o sí\n",
    "\n",
    "if BOOL_1:\n",
    "    |esto se ejecuta\n",
    "    |si BOOL_1 es True\n",
    "    \n",
    "elif BOOL_2:\n",
    "    |esto se ejecuta\n",
    "    |si BOOL_1 es False\n",
    "    |pero BOOL_2 es True\n",
    "    \n",
    "elif BOOL_3:\n",
    "    |esto se ejecuta\n",
    "    |si BOOL_1 es False,\n",
    "    |si BOOL_2 es False\n",
    "    |pero BOOL_3 es True\n",
    "\n",
    "...(elif BOOL_4 etc)\n",
    "\n",
    "else:\n",
    "    |esto se ejecuta\n",
    "    |si todas las BOOL_n\n",
    "    |son False\n",
    "    \n",
    "esto se ejecuta sí o sí\n",
    "```"
   ]
  },
  {
   "cell_type": "markdown",
   "metadata": {},
   "source": [
    "---\n",
    "### Ejercicio 2\n",
    "\n",
    "Realizar un pequeño programa en el que verifique si un número es par.\n",
    "Para esto, pueden verificar si el resto al dividirlo por 2 es cero.\n",
    "\n",
    "Luego, si el número es par, que lo imprima en pantalla.\n",
    "Si no lo es que imprima el siguiente número par.\n",
    "\n",
    "La idea es que tengan un resultado similar al siguiente:\n",
    "\n",
    "```\n",
    "input: 4\n",
    "output: El número es par.\n",
    "\n",
    "input: 5\n",
    "output: El número es impar.\n",
    "        El siguiente número par es 6\n",
    "```\n",
    "\n",
    "**Ayuda:** El operador ```a%b``` da el resto de dividir a entre b\n",
    "\n",
    "---"
   ]
  },
  {
   "cell_type": "markdown",
   "metadata": {},
   "source": [
    "### For loops\n",
    "Supongamos ahora que queremos realizar este proceso que hicimos antes para los para los primeros 10 números enteros positivos.\n",
    "Vemos que es muy trabajoso hacerlo a mano.\n",
    "Y en general los programas los vamos a realizar sobre muchísimos más elementos que 10.\n",
    "\n",
    "Para solucionar este problema podemos utilizar los cíclos de Python, que nos permiten ejecutar un código muchas veces sobre distintos elementos.\n",
    "Veamos un ejemplo del ciclo ```for```.\n",
    "Para esto, vamos a crear una lista con algunos números, vamos a recorrer sobre ella, vamos a sumarle _0.5_ a cada uno de los elementos y vamos a _printearlos_."
   ]
  },
  {
   "cell_type": "code",
   "execution_count": 25,
   "metadata": {},
   "outputs": [
    {
     "name": "stdout",
     "output_type": "stream",
     "text": [
      "1.5\n",
      "6.5\n",
      "8.5\n",
      "9.5\n"
     ]
    }
   ],
   "source": [
    "lista = [1, 6, 8, 9]\n",
    "for elemento in lista:\n",
    "    print(elemento + 0.5)"
   ]
  },
  {
   "cell_type": "markdown",
   "metadata": {},
   "source": [
    "Al proceso de recorrer los elementos de un objeto se lo llama **iterar**.\n",
    "\n",
    "En este caso estamos iterando sobre una lista, pero el ```for``` nos permite iterar sobre varios objetos, como por ejemplo el range."
   ]
  },
  {
   "cell_type": "code",
   "execution_count": 26,
   "metadata": {},
   "outputs": [
    {
     "name": "stdout",
     "output_type": "stream",
     "text": [
      "0\n",
      "1\n",
      "2\n"
     ]
    }
   ],
   "source": [
    "for i in range(3):\n",
    "    print(i)"
   ]
  },
  {
   "cell_type": "markdown",
   "metadata": {},
   "source": [
    "De este modo podemos reproducir el resultado anterior usando el range."
   ]
  },
  {
   "cell_type": "code",
   "execution_count": 27,
   "metadata": {},
   "outputs": [
    {
     "name": "stdout",
     "output_type": "stream",
     "text": [
      "1.5\n",
      "6.5\n",
      "8.5\n",
      "9.5\n"
     ]
    }
   ],
   "source": [
    "for i in range(len(lista)):\n",
    "    print(lista[i] + 0.5)"
   ]
  },
  {
   "cell_type": "markdown",
   "metadata": {},
   "source": [
    "Que parece más engorroso pero es útil si te interesa conocer el número del elemento con el que estás trabajando, ya que el i guarda ese valor, por ejemplo"
   ]
  },
  {
   "cell_type": "code",
   "execution_count": 28,
   "metadata": {},
   "outputs": [
    {
     "name": "stdout",
     "output_type": "stream",
     "text": [
      "El elemento 0 de las lista es 1\n",
      "El elemento 1 de las lista es 6\n",
      "El elemento 2 de las lista es 8\n",
      "El elemento 3 de las lista es 9\n"
     ]
    }
   ],
   "source": [
    "lista = [1, 6, 8, 9]\n",
    "for i in range(len(lista)):\n",
    "    print(f'El elemento {i} de las lista es {lista[i]}')"
   ]
  },
  {
   "cell_type": "markdown",
   "metadata": {},
   "source": [
    "*OBS*: Esta no es la forma usual (ni recomendada) de recorrer una lista los elementos e índices de una lista.\n",
    "Python ofrece una función `enumerate()` que solucióna el problema y facilita mucho la escritura.\n",
    "No la vamos a usar en este curso, pero pueden buscarla por su cuenta."
   ]
  },
  {
   "cell_type": "markdown",
   "metadata": {},
   "source": [
    "---\n",
    "### Ejercicio 3\n",
    "\n",
    "Realizar el **Ejercicio 2** para todos lo números enteros positivos hasta el 10 utilizando un ciclo ```for```.\n",
    "\n",
    "**Ayuda:**\n",
    "Se pueden unir los ciclos for e if. Osea, esto vale:\n",
    "```Python\n",
    "for ALGUNA_ITERACIÓN:\n",
    "    |if BOOL:\n",
    "    |    ...\n",
    "    |else:\n",
    "    |    ...\n",
    "```\n",
    "y esto también:\n",
    "```Python\n",
    "if BOOL:\n",
    "    |for ALGUNA_ITERACIÓN:\n",
    "    |    ...\n",
    "```\n",
    "\n",
    "---"
   ]
  },
  {
   "cell_type": "markdown",
   "metadata": {},
   "source": [
    "## Funciones"
   ]
  },
  {
   "cell_type": "markdown",
   "metadata": {},
   "source": [
    "Ya vimos algunas funciones, como ```print()```, ```range()```, ```type()``` o ```help()```.\n",
    "\n",
    "Pero supongamos que quiero una función que haga otra cosa, como calcularme el promedio entre los dos números.\n",
    "\n",
    "En este caso no conocemos ninguna función que haga eso, así que vamos a crearla.\n",
    "Para esto utilizamos las palabra ```def``` para *definir* una nueva función y ```return``` para indicar que *devuelva* un cierto valor."
   ]
  },
  {
   "cell_type": "code",
   "execution_count": 29,
   "metadata": {},
   "outputs": [],
   "source": [
    "def promedio(num1, num2):\n",
    "    suma_de_numeros = num1 + num2\n",
    "    promedio = suma_de_numeros / 2\n",
    "    return promedio"
   ]
  },
  {
   "cell_type": "markdown",
   "metadata": {},
   "source": [
    "de este modo **declaramos** la función _promedio_. La estructura en general es\n",
    "\n",
    "```Python\n",
    "def nombre_de_la_funcion(par_1, par_2, par_3, ...):\n",
    "    |bloque de código\n",
    "    |return algun_valor\n",
    "```\n",
    "\n",
    "donde _par_1, par_2, ..._ son los parámetros de la función.\n",
    "\n",
    "Ahora podemos **llamar** a esta función de el mismo modo que hacíamos con las demás:"
   ]
  },
  {
   "cell_type": "code",
   "execution_count": 30,
   "metadata": {},
   "outputs": [
    {
     "name": "stdout",
     "output_type": "stream",
     "text": [
      "4.0\n",
      "5.0\n",
      "3.5\n"
     ]
    }
   ],
   "source": [
    "print(promedio(2, 6))\n",
    "print(promedio(5, 5))\n",
    "print(promedio(3, 4))"
   ]
  },
  {
   "cell_type": "markdown",
   "metadata": {},
   "source": [
    "#### Aclaración \n",
    "La función anterior se puede escribir de forma mucho más corta si se quiere:\n",
    "```Python\n",
    "def promedio(num1, num2):\n",
    "    return (num1 + num2) / 2\n",
    "```\n",
    "o inclusive\n",
    "```Python\n",
    "def promedio(num1, num2): return (num1 + num2) / 2\n",
    "```\n",
    "\n",
    "pero si el proceso es largo y no trivial es muy recomendado dividir los pasos e ir dejando comentarios para que el código sea más legible."
   ]
  },
  {
   "cell_type": "markdown",
   "metadata": {},
   "source": [
    "#### Lambda functions\n",
    "En Python existe otra forma de declarar funciones además de la que vimos anteriormente, que es utilizando la palabra ```lambda```. La función anterior de este modo se escribiría de la siguiente forma\n",
    "\n",
    "```Python\n",
    "promedio = lambda num1, num2: (num1 + num2) / 2\n",
    "\n",
    "```\n",
    "\n",
    "Los `lambda` son funciones \"anónimas\", y fueron introducidas a Python para código que sigue un estilo de programación llamado \"funcional\". Generalmente, la idea no es asignarla a una variable, sino usarla directamente dentro de otra función. Por ejemplo, la función `filter`:\n",
    "\n",
    "```python\n",
    "pares = list(filter(lambda x: x % 2 == 0, range(10)))\n",
    "```\n",
    "\n",
    "Lo introducimos por completitud, por si se la encuentran leyendo el código de otra persona, pero lo recomendado es definir funciones \"normales\" con `def`."
   ]
  },
  {
   "cell_type": "markdown",
   "metadata": {},
   "source": [
    "## La importancia de las referencias\n",
    "Para más referencias pueden googlear. Dejamos algunas de referencia:\n",
    "\n",
    "http://pybonacci.org/2012/06/07/algebra-lineal-en-python-con-numpy-i-operaciones-basicas/\n",
    "\n",
    "http://relopezbriega.github.io/blog/2015/06/14/algebra-lineal-con-python/\n",
    "\n",
    "http://pendientedemigracion.ucm.es/info/aocg/python/modulos_cientificos/numpy/index.html\n",
    "\n",
    "Pero es importantísimo manejarse con la documentación de las bibliotecas que se utilizan\n",
    "\n",
    "https://docs.python.org/2/library/math.html\n",
    "\n",
    "http://docs.scipy.org/doc/numpy/reference/routines.linalg.html\n",
    "\n",
    "http://matplotlib.org/api/pyplot_api.html\n",
    "\n",
    "## Recursos\n",
    "Para seguir profundizando con la programación en Python, ofrecemos distintos recursos\n",
    "\n",
    "Un tutorial: http://www.learnpython.org/\n",
    "\n",
    "How to think like a computer scientist (aprendizaje interactivo): http://interactivepython.org/runestone/static/thinkcspy/index.html\n",
    "\n",
    "Otro tutorial, en inglés, pero muy completo: http://learnpythonthehardway.org/book\n",
    "\n",
    "Coursera, que nunca está de más: https://www.coursera.org/learn/interactive-python-1\n",
    "\n",
    "Otro más: https://es.coursera.org/learn/python\n",
    "\n",
    "Y por fuera del taller, seguimos en contacto.\n",
    "Tenemos un canal de Discord donde pueden hacerse consultas y otros chicos que fueron al taller antes o aprendieron por sus medios podrán responderles.\n",
    " \n",
    "Canal de Discord: https://discord.gg/bN2KeTu\n",
    "También un grupo de Facebook (más olvidado): https://www.facebook.com/groups/303815376436624/?fref=ts\n",
    "\n",
    "## Y para seguir manijeando\n",
    "Tenemos otro taller dentro de una semana donde profundizaremos el uso de algunas herramientas clave para el análisis de datos de Laboratorio. ¡No te lo podés perder!\n",
    "\n",
    "A parte, en nuestro Github (https://github.com/fifabsas/talleresfifabsas) iremos colgando nuevo material para ejemplificar, con problemas de las materias de Física resueltos numéricamente, herramientas de Labo y mucho más.\n",
    "\n",
    "## Agradecimientos\n",
    "Todo esto es posible gracias al aporte de mucha gente.\n",
    "\n",
    "* Gente muy copada del DF como Hernán Grecco, Guillermo Frank, Osvaldo Santillán , Martín Elías Costa y Agustín Corbat por hacer aportes a estos talleres de diferentes maneras, desde poner su apellido para que nos presten un labo hasta venir como invitado a un taller.\n",
    "* El Departamento de Computación que cuatrimestre a cuatrimestre nos presta los labos desinteresadamente.\n",
    "* Los estudiantes del CODEP de Física, el CECEN y mucha gente que ayuda con la difusión.\n",
    "* Pibes de la FIFA que prestan su tiempo a organizar el material y llevan a cabo el taller.\n",
    "* Todos los que se acercan y piden que estos talleres se sigan dando y nos siguen llenando los Labos. Sí ¡Gracias a todos ustedes!"
   ]
  }
 ],
 "metadata": {
  "kernelspec": {
   "display_name": "Python 3",
   "language": "python",
   "name": "python3"
  },
  "language_info": {
   "codemirror_mode": {
    "name": "ipython",
    "version": 3
   },
   "file_extension": ".py",
   "mimetype": "text/x-python",
   "name": "python",
   "nbconvert_exporter": "python",
   "pygments_lexer": "ipython3",
   "version": "3.9.1"
  }
 },
 "nbformat": 4,
 "nbformat_minor": 4
}
