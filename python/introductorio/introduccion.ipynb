{
 "cells": [
  {
   "cell_type": "markdown",
   "metadata": {},
   "source": [
    "![taller_python](https://raw.githubusercontent.com/fifabsas/talleresfifabsas/master/python/difusion/logos_python_fifa.png)\n",
    "\n",
    "#Taller introductorio de Python\n",
    "\n",
    "##Temario\n",
    "\n",
    "* Entrada y salida de datos por consola\n",
    "* Variables y operaciones:\n",
    "    - Enteros (intergers)\n",
    "    - Punto flotante (floats)\n",
    "    - Booleanos\n",
    "    - Listas (y tal vez tuplas)\n",
    "* Condicionales y ciclos: if, for and while\n",
    "* Funciones def y lambda\n",
    "* Gráficos:\n",
    "    - Creación de una lista de valores aleatorios\n",
    "    - Gráfico en scatter y plot"
   ]
  },
  {
   "cell_type": "markdown",
   "metadata": {},
   "source": [
    "##Entrada y salida de datos\n",
    "Todo programa necesita recibir una entrada de datos y sacar una salida de datos, por más rudimentaria o fija que sea. Lo más rápido es usar la consola de texto, con _print_ y _input_"
   ]
  },
  {
   "cell_type": "code",
   "execution_count": 4,
   "metadata": {
    "collapsed": false
   },
   "outputs": [
    {
     "name": "stdout",
     "output_type": "stream",
     "text": [
      "Hola mundo\n",
      "10\n"
     ]
    }
   ],
   "source": [
    "#Los comentarios son líneas, o partes de una línea, que no se leen, y ayudan a entender el código.\n",
    "#Empiezan con # todas\n",
    "\n",
    "#Acá imprimos en pantalla\n",
    "print(\"Hola mundo\")\n",
    "print(5 + 5)"
   ]
  },
  {
   "cell_type": "code",
   "execution_count": 3,
   "metadata": {
    "collapsed": false
   },
   "outputs": [
    {
     "name": "stdout",
     "output_type": "stream",
     "text": [
      "Ingresá algo: 253\n",
      "Ingresaste 253\n"
     ]
    }
   ],
   "source": [
    "text = input(\"Ingresá algo: \")\n",
    "print(\"Ingresaste \" + text)"
   ]
  },
  {
   "cell_type": "markdown",
   "metadata": {},
   "source": [
    "## Variables\n",
    "Las variables son pedazos de la memoria de la computadora que pueden variar con el avance del programa. Para mejorar la legibilidad y la usabilidad del código, existen los **tipos** de datos"
   ]
  },
  {
   "cell_type": "code",
   "execution_count": 8,
   "metadata": {
    "collapsed": false
   },
   "outputs": [
    {
     "name": "stdout",
     "output_type": "stream",
     "text": [
      "<class 'int'>\n",
      "<class 'float'>\n",
      "1.0\n",
      "1 \t <class 'int'>\n",
      "False \t <class 'bool'>\n",
      "[1, 2, 3]\n",
      "2\n",
      "3\n",
      "[1, 2, 3, 3]\n",
      "[1, 2, 3, 3, [4, 5, 6]]\n",
      "[1, 2, 3, 3, [4, 5, 6], 4, 5, 6]\n",
      "Todo Python ahi adentro\n",
      "['a', 'b', False, 5]\n"
     ]
    }
   ],
   "source": [
    "integer = 5  #Números \"enteros\"\n",
    "print(type(integer))\n",
    "flotante = 5.0 #Números \"reales\"\n",
    "print(type(flotante))\n",
    "\n",
    "division = integer / flotante #Divisón no entera por defecto en Python v3.x\n",
    "print(division)\n",
    "\n",
    "division = int(division)   #Transformación a entero\n",
    "print(division,'\\t', type(division))\n",
    "\n",
    "# En la próxima entrega vamos a ver otras funcionalidades con Numpy\n",
    "\n",
    "# Los tipos booleanos o de verdad son muy útiles para escribir relaciones lógicas\n",
    "boolean = 5==4\n",
    "# <, >, >=, <=, != son comparadores booleanos\n",
    "# and, or, not son conjuntores para hacer frases lógicas más complicadas.\n",
    "# Para lo demás, hay que usar las leyes de DeMorgan.\n",
    "print(boolean, '\\t', type(boolean))\n",
    "\n",
    "# Las listas pueden mantener varias variables con diferentes tipos y valores. Son como una bolsa ordenada de datos.\n",
    "lista1 = [1, 2, 3]\n",
    "print(lista1)\n",
    "print(lista1[1])\n",
    "print(lista1[-1])\n",
    "\n",
    "lista2 = [4, 5, 6]\n",
    "lista3 = ['a', 'b', boolean, integer, 'Todo Python ahi adentro']\n",
    "\n",
    "#Agrego al final a una lista\n",
    "lista1.append(3)\n",
    "print(lista1)\n",
    "\n",
    "#Agrego una lista a otra lista\n",
    "lista1.append(lista2)\n",
    "print(lista1)\n",
    "\n",
    "#\"Sumo\" las listas\n",
    "lista1.extend(lista2)\n",
    "print(lista1)\n",
    "\n",
    "print(lista3.pop()) #Devuelve el último elemento\n",
    "print(lista3) #Y no está más en la lista\n",
    "\n",
    "# Probar los métodos insert, remove, pop, sort de las listas"
   ]
  },
  {
   "cell_type": "markdown",
   "metadata": {},
   "source": [
    "##Condicionales y ciclos\n",
    "***Repetir y controlar***; si necesitamos repetir cosas, no escribir mil veces el mismo código, usar un ciclo (for, while). Y si es necesario decidir sobre dos cosas, condicionales (ifs)"
   ]
  },
  {
   "cell_type": "code",
   "execution_count": 14,
   "metadata": {
    "collapsed": false
   },
   "outputs": [
    {
     "name": "stdout",
     "output_type": "stream",
     "text": [
      "Cadena de ifs\n",
      "Finalmente\n"
     ]
    }
   ],
   "source": [
    "boolean = True #Cambiar para ver resultados\n",
    "\n",
    "# Control de flujo de código con condicionales (Ifs).\n",
    "if boolean == True:\n",
    "    boolean = True\n",
    "\n",
    "# Se puede volver tan complejo como uno quiera\n",
    "if 5>4:\n",
    "    if 3 >2:\n",
    "        if 2>1:\n",
    "            if 1>0:\n",
    "                print('Cadena de ifs')\n",
    "\n",
    "# También podemos agregarle un \"si no\"\n",
    "if boolean == True:\n",
    "    boolean = False\n",
    "else:\n",
    "    boolean = True\n",
    "    \n",
    "# Y también, un \"si no, si\"\n",
    "if boolean == True:\n",
    "    print(\"True\")\n",
    "elif 1 < 5:  #Cambiar para ver resultados\n",
    "    print(False)\n",
    "else:\n",
    "    print(\"Finalmente\")"
   ]
  },
  {
   "cell_type": "markdown",
   "metadata": {},
   "source": [
    "### Bucles\n",
    "Con esto, vamos a poder imprimir muchos hola mundo"
   ]
  },
  {
   "cell_type": "code",
   "execution_count": 28,
   "metadata": {
    "collapsed": false
   },
   "outputs": [
    {
     "name": "stdout",
     "output_type": "stream",
     "text": [
      "[0, 1, 2, 3, 4, 5, 6, 7, 8, 9, 10, 11, 12, 13, 14, 15, 16, 17, 18, 19]\n",
      "[0, 1, 2, 3, 4, 5, 6, 7, 8, 9, 10, 11, 12, 13, 14, 15, 16, 17, 18, 19, 0, 1, 2, 3, 4, 5, 6, 7, 8, 9, 10, 11, 12, 13, 14, 15, 16, 17, 18, 19]\n",
      "-1\n",
      "0\n",
      "1\n",
      "2\n",
      "3\n",
      "4\n",
      "5\n",
      "6\n",
      "7\n",
      "8\n",
      "9\n",
      "10\n",
      "11\n",
      "12\n",
      "13\n",
      "14\n",
      "15\n",
      "16\n",
      "17\n",
      "18\n"
     ]
    }
   ],
   "source": [
    "nueva_lista = []\n",
    "# Bucles con tamaño fijo\n",
    "for i in range(20):\n",
    "    nueva_lista.append(i)\n",
    "print(nueva_lista)\n",
    "\n",
    "if len(nueva_lista) <= 20:\n",
    "    for i in range(20):\n",
    "        nueva_lista.append(i)\n",
    "print(nueva_lista)\n",
    "\n",
    "#Bucles de tamaño no necesariamente fijo\n",
    "#OJO que pueden ser infinitos y nunca terminar. Para eso Ctrl+C y detiene la operación\n",
    "i = 0\n",
    "while i < 20:\n",
    "    print(i - 1)\n",
    "    i += 1"
   ]
  },
  {
   "cell_type": "markdown",
   "metadata": {},
   "source": [
    "##Funciones\n",
    "A veces hay que repetir código en muchos lugares, para lo que no hay que repetir con Ctrl+C y Ctrl+V, use *funciones*"
   ]
  },
  {
   "cell_type": "code",
   "execution_count": 21,
   "metadata": {
    "collapsed": false
   },
   "outputs": [
    {
     "name": "stdout",
     "output_type": "stream",
     "text": [
      "5\n",
      "120\n"
     ]
    }
   ],
   "source": [
    "def suma(a, b):\n",
    "    c = a + b\n",
    "    return c #Devuelvo el resultado\n",
    "\n",
    "print(suma(2, 3))\n",
    "\n",
    "def factorial(n):\n",
    "    j = 1\n",
    "    for i in range(1, n + 1): #EL range va de 0 a n, no inclusive\n",
    "        j *= i \n",
    "    return j\n",
    "\n",
    "print(factorial(5))"
   ]
  },
  {
   "cell_type": "code",
   "execution_count": 27,
   "metadata": {
    "collapsed": false
   },
   "outputs": [
    {
     "name": "stdout",
     "output_type": "stream",
     "text": [
      "<class 'function'> \t False\n"
     ]
    }
   ],
   "source": [
    "#Funciones anónimas o lambdas, una forma rápida de hacer una función simple\n",
    "par = lambda n: n%2 == 0 #Me devuelve True si es par\n",
    "print(type(par), '\\t', par(5))  #Las funciones tienen tipo!!!"
   ]
  },
  {
   "cell_type": "markdown",
   "metadata": {},
   "source": [
    "## Gráficos\n",
    "Acá hacemos un acercamiento básico a los gráficos, para perderle el miedo nomás. En la próxima entrega vamos a trabajar de forma más exhautiva con los gráficos y datos"
   ]
  },
  {
   "cell_type": "code",
   "execution_count": 30,
   "metadata": {
    "collapsed": true
   },
   "outputs": [],
   "source": [
    "#Importo los paquetes para ser usados después\n",
    "import numpy as np\n",
    "from matplotlib import pyplot as plt\n",
    "%matplotlib inline"
   ]
  },
  {
   "cell_type": "code",
   "execution_count": 32,
   "metadata": {
    "collapsed": false
   },
   "outputs": [
    {
     "data": {
      "image/png": "[encoded data removed]",
      "text/plain": [
       "<matplotlib.figure.Figure at 0x6f84780>"
      ]
     },
     "metadata": {},
     "output_type": "display_data"
    }
   ],
   "source": [
    "import numpy as np\n",
    "from matplotlib import pyplot as plt\n",
    "\n",
    "x = np.linspace(-5, 5) #Por defecto son 50 números equispaciados entre -5 y 5\n",
    "\n",
    "#Ahora creamos la variable dependiente, con algun de ruido para \"crear datos\"\n",
    "y = x**2 -3\n",
    "ruido = np.random.rand(len(y))*0.8\n",
    "y = y+ruido\n",
    "\n",
    "#Con esto graficamos una variable contra otra\n",
    "plt.plot(x, y, 'bo')\n",
    "plt.xlabel('Variable independiente')\n",
    "plt.ylabel('x^2')\n",
    "plt.grid()\n",
    "\n",
    "plt.show() #Si corrés en Ipython con %matplotlib inline no es necesario"
   ]
  },
  {
   "cell_type": "code",
   "execution_count": null,
   "metadata": {
    "collapsed": true
   },
   "outputs": [],
   "source": []
  }
 ],
 "metadata": {
  "kernelspec": {
   "display_name": "Python 3",
   "language": "python",
   "name": "python3"
  },
  "language_info": {
   "codemirror_mode": {
    "name": "ipython",
    "version": 3
   },
   "file_extension": ".py",
   "mimetype": "text/x-python",
   "name": "python",
   "nbconvert_exporter": "python",
   "pygments_lexer": "ipython3",
   "version": "3.4.3"
  }
 },
 "nbformat": 4,
 "nbformat_minor": 0
}
