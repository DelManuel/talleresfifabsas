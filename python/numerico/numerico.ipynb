{
 "cells": [
  {
   "cell_type": "markdown",
   "metadata": {},
   "source": [
    "# Taller de Python: versión numérico y laboratorios!\n",
    "\n",
    "![](./logo_fifa.png)\n",
    "\n",
    "Vamos a usar este notebook para aprender a manejar [NumPy](http://www.numpy.org/) (cálculo numérico en general) y [matplotlib](http://matplotlib.org/) (gráficos para todos y todas). Ambas bibliotecas son parte del ecosistema científico por default de Python: [SciPy](http://scipy.org/).\n",
    "\n",
    "Disclaimer: la idea de este notebook es que ustedes puedan ir ejecutando cada celda a medida que vamos explicando. De esa forma, ustedes pueden ver en tiempo real que hace su código. En vista de eso, les recordamos que con Ctrl+Enter pueden ejecutar una celda y con Shift+Enter ejecutan y pasan inmediatamente a la celda de abajo.\n",
    "\n",
    "## Temario\n",
    "1. NumPy:\n",
    "    + ndarray: una lista, un vector, una matriz...Da lo mismo.\n",
    "    + Un poco de álgebra lineal.\n",
    "    + Yapa útil.\n",
    "2. matplotlib:\n",
    "    + La función plot.\n",
    "    + Gráficos re chetos.\n",
    "3. Laboratorio:\n",
    "    + Adquisición con python y osciloscopio (pyvisa).\n",
    "    + Análisis de datos.\n",
    "4. Yapas:\n",
    "    + Integración numérica de ecuaciones diferenciales.\n",
    "    + matplotlib: subplots, ejes y figuras.\n",
    "    + Ya voy a pensar alguna yapa."
   ]
  },
  {
   "cell_type": "markdown",
   "metadata": {},
   "source": [
    "## 1. NumPy\n",
    "NumPy es LA biblioteca para cálculo vectorial. Además de contener un nuevo [tipo de dato](http://docs.scipy.org/doc/numpy/reference/arrays.ndarray.html) que nos va a ser muy útil para representar vectores y matrices, nos provee de un arsenal de [funciones de todo tipo](https://docs.scipy.org/doc/numpy/reference/routines.html).\n",
    "\n",
    "Para aprender a programar, hay que programar."
   ]
  },
  {
   "cell_type": "code",
   "execution_count": 1,
   "metadata": {
    "collapsed": true
   },
   "outputs": [],
   "source": [
    "#siempre importamos la biblioteca primero\n",
    "import numpy as np\n",
    "import math #para comparar algunas cosas"
   ]
  },
  {
   "cell_type": "code",
   "execution_count": 2,
   "metadata": {
    "collapsed": false
   },
   "outputs": [
    {
     "name": "stdout",
     "output_type": "stream",
     "text": [
      "Tenemos a pi: 3.141592653589793 \n",
      "Y también su coseno: -1.0\n",
      "Opa! Que pasó con el \\n?\n",
      "Y el np.pi de numpy es el mismo que el de math?\n",
      "Claro que si campeón! \t\t(El resultado de eso es True ).\n",
      "22026.4657948 + 485165195.41 = 485187221.876\n",
      "1.22464679915e-16\n",
      "0\n",
      "Claro que si campeón! \t\t(El resultado de eso es True).\n"
     ]
    }
   ],
   "source": [
    "#funciones básicas (también en biblioteca math)\n",
    "a, b, c = 10., 20., 3.14\n",
    "print('Tenemos a pi:', np.pi, '\\nY también su coseno:', np.cos(np.pi))\n",
    "print('Opa! Que pasó con el \\\\n?')\n",
    "print('Y el np.pi de numpy es el mismo que el de math?')\n",
    "\n",
    "resultado = np.pi == math.pi\n",
    "print('Claro que si campeón!', '\\t\\t(El resultado de eso es', resultado, ').')\n",
    "\n",
    "#y otras\n",
    "print(np.exp(a), '+', np.exp(b), '=', np.exp(a)+np.exp(b))\n",
    "\n",
    "#y el seno de pi?\n",
    "print(np.sin(np.pi))\n",
    "#cualquier cosa por 10**-16 es cero para mi\n",
    "print('{:.0f}'.format(np.sin(np.pi)))\n",
    "#opa! también puedo arreglar el pequeño error de formato de antes\n",
    "print('Claro que si campeón!', '\\t\\t(El resultado de eso es', '{}'.format(resultado)+').')"
   ]
  },
  {
   "cell_type": "markdown",
   "metadata": {},
   "source": [
    "### ndarray: una lista, un vector, una matriz...Da lo mismo\n",
    "El tipo de datos que maneja NumPy es el ndarray, array para los amigos. Mal y pronto, es una lista poderosa. Del [Quickstart tutorial](https://docs.scipy.org/doc/numpy-dev/user/quickstart.html) de NumPy (traducido por sus propios físicos):\n",
    ">El objeto principal de NumPy es el array multidimensional homogéneo. Es una tabla de datos (usualmente números) todos del mismo tipo, indexados por una tupla de enteros positivos. En NumPy las dimensiones se llaman _ejes (axes)_. El número de ejes es el _rango (rank)_.\n",
    "\n",
    ">Por ejemplo, las coordenadas de un punto en el espacio 3D [1, 2, 1] es un _array_ de _rango_ 1, porque tiene un sólo _eje_. Ese _eje_ tiene longitud 3. En el ejemplo de abajo, el _array_ es de rango 2 (es bidimensional). La primer dimensión (eje) tiene longitud 2, la segunda dimensión tiene longitud 3.\n",
    "\n",
    ">[[1, 2, 3],\n",
    ">[4, 5, 6]]\n",
    "\n",
    "Entonces, vamos por partes:\n",
    "#### ¿Qué diablos es un array?\n",
    "Es un contenedor de datos. En ese sentido, el array va a ser parecido a una lista de Python. La primer diferencia que encontramos respecto a las listas es la forma que toman las operaciones matemáticas. Veámoslo en un ejemplo:"
   ]
  },
  {
   "cell_type": "code",
   "execution_count": 3,
   "metadata": {
    "collapsed": false
   },
   "outputs": [
    {
     "name": "stdout",
     "output_type": "stream",
     "text": [
      "Las operaciones con arrays son elemento a elemento.\n",
      "a + b =  [5 7 9]\n",
      "Algunas otras:\n",
      "a * b =  [ 4 10 18] \ta^b = [  1  32 729] \ta^2 =  [1 4 9]\n"
     ]
    }
   ],
   "source": [
    "#creemos algunos arrays y operemos con ellos\n",
    "#el método 'array' toma como primer argumento un 'array_like'\n",
    "#un 'array_like' es una lista u otro array... o sea, un array_like\n",
    "a = np.array([1, 2, 3])\n",
    "b = np.array([4,5,6])\n",
    "print('Las operaciones con arrays son elemento a elemento.\\na + b = ', a + b)\n",
    "print('Algunas otras:\\na * b = ', a * b, '\\ta^b =', a**b, '\\ta^2 = ', a**2)"
   ]
  },
  {
   "cell_type": "markdown",
   "metadata": {},
   "source": [
    "Otra diferencia con las listas es que los arrays tienen todos elementos de un mismo tipo. En numpy, el tipo de datos que contiene el array viene dado por su [dtype](http://docs.scipy.org/doc/numpy/reference/arrays.dtypes.html#arrays-dtypes), el cuál nos dice el tipo de datos propiamente dicho (int, float, complex, string, otros) y cuánto espacio, en bits, ocupan en memoria (32, 64, 25, etc.).\n",
    "Preguntémosle a un par de arrays cuál es su dtype:"
   ]
  },
  {
   "cell_type": "code",
   "execution_count": 4,
   "metadata": {
    "collapsed": false
   },
   "outputs": [
    {
     "name": "stdout",
     "output_type": "stream",
     "text": [
      "af.dtype = float64 \t\t(float64 es el dtype default de numpy)\n",
      "Alguno de los arrays de antes, a.dtype =  int32\n",
      "ay b son del mismo tipo, no? True\n",
      "am.dtype = float64\n",
      "am = [ 1.2  3.   7. ]\n",
      "El último array tiene dtype float32\n"
     ]
    }
   ],
   "source": [
    "af = np.array([1., 2., 3.]) #array de floats\n",
    "am = np.array([1.2, 3, 7]) #array mixto (ints y floats)\n",
    "\n",
    "#el método 'dtype' de numpy nos dice qué tipo de elementos tiene el array\n",
    "print('af.dtype =', af.dtype, '\\t\\t(float64 es el dtype default de numpy)')\n",
    "print('Alguno de los arrays de antes, a.dtype = ', a.dtype)\n",
    "print('ay b son del mismo tipo, no?', a.dtype == b.dtype)\n",
    "\n",
    "#veamos qué pasa con el mixto\n",
    "print('am.dtype =', am.dtype)\n",
    "#los convirtió todos a floats!\n",
    "print('am =', am)\n",
    "\n",
    "#por último, si quiero un dtype específico\n",
    "af32 = np.array([1, 2, 3], dtype=np.float32)\n",
    "print('El último array tiene dtype' ,af32.dtype)"
   ]
  },
  {
   "cell_type": "markdown",
   "metadata": {},
   "source": [
    "Para terminar de entender al ndarray, veamos el temita de la multidimensionalidad. De paso, vamos a ver cómo podemos llamar a elementos específicos dentro de un array.\n",
    "\n",
    "Arranquemos con el 1D. Recordemos que a las \"dimensiones\" de un array se las llama ejes (_axis_ en inglés)."
   ]
  },
  {
   "cell_type": "code",
   "execution_count": 5,
   "metadata": {
    "collapsed": false
   },
   "outputs": [
    {
     "name": "stdout",
     "output_type": "stream",
     "text": [
      "Suma de elementos de a1d: 6\n"
     ]
    }
   ],
   "source": [
    "a1d = np.array([1, 2, 3]) #este tiene un eje\n",
    "#igual que las listas, los arrays están indexados\n",
    "suma = a1d[0] + a1d[1] + a1d[2] #con un índice me basta para recuperar elementos individuales\n",
    "print('Suma de elementos de a1d:', suma)"
   ]
  },
  {
   "cell_type": "markdown",
   "metadata": {},
   "source": [
    "Ahora agreguemos dimensiones, pero en partes (_como dijo Jack_)"
   ]
  },
  {
   "cell_type": "code",
   "execution_count": 6,
   "metadata": {
    "collapsed": false,
    "scrolled": true
   },
   "outputs": [
    {
     "name": "stdout",
     "output_type": "stream",
     "text": [
      "[[1 2 3]\n",
      " [4 5 6]]\n",
      "\n",
      "Primera fila:  [1, 2, 3]\n",
      "Segunda fila:  [4, 5, 6]\n",
      "Más rápido: [array([1, 2, 3]), array([4, 5, 6])]\n",
      "Puedo pedirles cosas como su dtype: a2d[0].dtype = int32\n"
     ]
    }
   ],
   "source": [
    "#ahora agreguemos un eje/dimensión más\n",
    "a2d = np.array([\n",
    "                [1, 2, 3], \n",
    "                [4, 5, 6]\n",
    "                ])\n",
    "print(a2d)\n",
    "print()\n",
    "#ahora necesito 2 indices si quiero un elemento de a2d (la ubicación en cada eje)\n",
    "#pueden pensarlo como filas y columnas a2d[fila, columna]\n",
    "print('Primera fila: ', [a2d[0, 0], a2d[0, 1], a2d[0, 2]])\n",
    "print('Segunda fila: ', [a2d[1, 0], a2d[1, 1], a2d[1, 2]])\n",
    "print('Más rápido:', [a2d[0], a2d[1]]) #cada fila es un array --> el array 2D es un array de arrays\n",
    "print('Puedo pedirles cosas como su dtype: a2d[0].dtype =', a2d[0].dtype) #y opera como cualquier array"
   ]
  },
  {
   "cell_type": "code",
   "execution_count": 7,
   "metadata": {
    "collapsed": false
   },
   "outputs": [
    {
     "name": "stdout",
     "output_type": "stream",
     "text": [
      "Primer elemento de cada fila: (1, 4, 7)\n"
     ]
    }
   ],
   "source": [
    "#pero ojo, que esto no es un array 3D\n",
    "aN3d = np.array([\n",
    "                [1, 2, 3], \n",
    "                [4, 5, 6],\n",
    "                [7, 8, 9]\n",
    "                ])\n",
    "#sigo necesitando sólo dos índices!\n",
    "print('Primer elemento de cada fila:', (aN3d[0, 0], aN3d[1, 0], aN3d[2, 0]))"
   ]
  },
  {
   "cell_type": "markdown",
   "metadata": {},
   "source": [
    "Así que un array 2D es algo parecido a una matriz (dos índices!). Es más si buscan en la [documentación](http://docs.scipy.org/doc/numpy/reference/generated/numpy.matrix.html#numpy.matrix) van a ver que existe un tipo `matrix`, pero no es más que una ndarray en 2 dimensiones con funciones para hacerla más \"MATLAB friendly\". \n",
    "\n",
    "Ahora si, veamos cómo agregar una dimensión más:"
   ]
  },
  {
   "cell_type": "code",
   "execution_count": 8,
   "metadata": {
    "collapsed": false
   },
   "outputs": [
    {
     "name": "stdout",
     "output_type": "stream",
     "text": [
      "El primer elemento es a3d[0]\n",
      " [[1 2 3]\n",
      " [4 5 6]]\n",
      "\n",
      "El primer elemento de a3d[0] es ea3d[0,0]: [1 2 3]\n",
      "Ese tiene también su primer elemento: a3d[0, 0, 0] =  1\n"
     ]
    }
   ],
   "source": [
    "a3d = np.array([\n",
    "                    [\n",
    "                        [1, 2, 3], \n",
    "                        [4, 5, 6]\n",
    "                    ],\n",
    "        #dejo un espacio en el medio para que se vea mejor\n",
    "                    [\n",
    "                        [7, 8, 9], \n",
    "                        [10, 11, 12]\n",
    "                    ]\n",
    "                ])\n",
    "#esto es un array con dos elementos, cada elemento es un array como el a2d\n",
    "print('El primer elemento es a3d[0]\\n', a3d[0])\n",
    "print('\\nEl primer elemento de a3d[0] es ea3d[0,0]:', a3d[0, 0])\n",
    "print('Ese tiene también su primer elemento: a3d[0, 0, 0] = ', a3d[0, 0, 0])"
   ]
  },
  {
   "cell_type": "code",
   "execution_count": 9,
   "metadata": {
    "collapsed": false
   },
   "outputs": [
    {
     "name": "stdout",
     "output_type": "stream",
     "text": [
      "Longitud del primer array, len(a) =  3\n",
      "Longitud del 2D: 2\n",
      "Longitud del 3D: 2\n",
      "a.shape =  (3,)\n",
      "a2d.shape =  (2, 3)\n",
      "a3d.shape =  (2, 2, 3)\n",
      "a.ndim =  1\n",
      "a2d.ndim =  2\n",
      "a3d.ndim =  3\n"
     ]
    }
   ],
   "source": [
    "#para terminar con esto de las dimensiones, veamos las formas de medir al array\n",
    "#en principio podemos usar len(), el mismo que para listas\n",
    "print('Longitud del primer array, len(a) = ', len(a))\n",
    "print('Longitud del 2D:', len(a2d))\n",
    "print('Longitud del 3D:', len(a3d))\n",
    "\n",
    "#para más dimensiones no nos da tanta información\n",
    "#los ndarrays tienen un 'shape'\n",
    "print('a.shape = ', a.shape)\n",
    "print('a2d.shape = ', a2d.shape)\n",
    "print('a3d.shape = ', a3d.shape)\n",
    "\n",
    "#y también tienen ndim\n",
    "print('a.ndim = ', a.ndim)\n",
    "print('a2d.ndim = ', a2d.ndim)\n",
    "print('a3d.ndim = ', a3d.ndim)"
   ]
  },
  {
   "cell_type": "markdown",
   "metadata": {},
   "source": [
    "Ya deberíamos entender bien qué es un array de numpy. Veamos ahora [formas rápidas y convenientes](http://docs.scipy.org/doc/numpy/reference/routines.array-creation.html#routines-array-creation) de crear arrays. En general, vamos a crear arrays de tres formas distintas: a mano o a través de tipos convencionales mediante np.array() como hicimos hasta ahora; con métodos propios de numpy; y finalmente tomando datos de un archivo (txt, wav, etc., ¡qué vamos a usar más adelante!). Lo que les mostramos acá son algunas y sólo algunas formas del segundo método: a través de funciones específicas para creación de arrays que ya vienen con numpy. Queda en ustedes investigar otras posibilidades en la referencia de numpy."
   ]
  },
  {
   "cell_type": "code",
   "execution_count": 10,
   "metadata": {
    "collapsed": false
   },
   "outputs": [
    {
     "name": "stdout",
     "output_type": "stream",
     "text": [
      "Equiespaciado lineal: [ 0.          0.11111111  0.22222222  0.33333333  0.44444444  0.55555556\n",
      "  0.66666667  0.77777778  0.88888889  1.        ]\n",
      "\n",
      "Equiespaciado logarítmico: [  10.           12.91549665   16.68100537   21.5443469    27.82559402\n",
      "   35.93813664   46.41588834   59.94842503   77.42636827  100.        ]\n",
      "\n",
      "Como el range de las listas: [ 0.   0.1  0.2  0.3  0.4  0.5  0.6  0.7  0.8  0.9]\n",
      "\n",
      "Identidad de 3x3:\n",
      " [[ 1.  0.  0.]\n",
      " [ 0.  1.  0.]\n",
      " [ 0.  0.  1.]]\n",
      "Y su shape? (3, 3)\n",
      "[[ 1.  0.  0.  0.  0.]\n",
      " [ 0.  1.  0.  0.  0.]\n",
      " [ 0.  0.  1.  0.  0.]\n",
      " [ 0.  0.  0.  1.  0.]\n",
      " [ 0.  0.  0.  0.  1.]]\n",
      "\n",
      "[[ 0.  0.  1.  0.  0.]\n",
      " [ 0.  0.  0.  1.  0.]\n",
      " [ 0.  0.  0.  0.  1.]\n",
      " [ 0.  0.  0.  0.  0.]\n",
      " [ 0.  0.  0.  0.  0.]]\n"
     ]
    }
   ],
   "source": [
    "#equiespaciados\n",
    "equilin = np.linspace(0, 1, 10)\n",
    "equilog = np.logspace(1, 2, 10) #y este?\n",
    "print('Equiespaciado lineal:', equilin)\n",
    "print('\\nEquiespaciado logarítmico:', equilog)\n",
    "\n",
    "arange = np.arange(0, 1, 1./10) #como el range de python\n",
    "print('\\nComo el range de las listas:', arange)\n",
    "\n",
    "identidad = np.identity(3)\n",
    "print('\\nIdentidad de 3x3:\\n', identidad)\n",
    "print('Y su shape?', identidad.shape)\n",
    "\n",
    "#otros para que prueben ustedes\n",
    "ceros = np.zeros((4, 4)) #todos ceros\n",
    "unos = np.ones((2,3)) #todos unos\n",
    "ojos = np.eye(5, k=0) #unos en la diagonal, como identidad\n",
    "ojos2 = np.eye(5, k=2) #qué pasó acá?\n",
    "\n",
    "print(ojos)\n",
    "print()\n",
    "print(ojos2)"
   ]
  },
  {
   "cell_type": "code",
   "execution_count": 11,
   "metadata": {
    "collapsed": true
   },
   "outputs": [],
   "source": [
    "#Ejercicio: crear una matriz de 15 x 15, con los números de 1 al 225.\n",
    "#Ayuda: La función reshape de un ndarray te permite pasarle una tupla con el tamaño, en este caso (15,15)."
   ]
  },
  {
   "cell_type": "markdown",
   "metadata": {},
   "source": [
    "### Un poco de álgebra lineal\n",
    "Vamos a cargar el módulo de algebra lineal de NumPy, _linalg_, y vamos a ver cómo resolver algunas operaciones y problemas típicos."
   ]
  },
  {
   "cell_type": "code",
   "execution_count": 12,
   "metadata": {
    "collapsed": false
   },
   "outputs": [
    {
     "name": "stdout",
     "output_type": "stream",
     "text": [
      "norma1 = 3.74165738677 \t\tnorma2 = 3.74165738677\n"
     ]
    }
   ],
   "source": [
    "#tenemos dos formas de acceder a linalg\n",
    "from numpy import linalg\n",
    "#y accedemos a las funciones de linalg poniendo el prefijo ln.\n",
    "#sino, ya importamos numpy como np\n",
    "norma1 = np.linalg.norm(a) #calcula la norma del array\n",
    "norma2 = np.linalg.norm(a) #misma función, accedida desde la\n",
    "print('norma1 =', norma1, '\\t\\tnorma2 =', norma2) #dan lo mismo!"
   ]
  },
  {
   "cell_type": "markdown",
   "metadata": {},
   "source": [
    "Problema típico 1: Autovalores y autovectores."
   ]
  },
  {
   "cell_type": "code",
   "execution_count": 13,
   "metadata": {
    "collapsed": false
   },
   "outputs": [
    {
     "name": "stdout",
     "output_type": "stream",
     "text": [
      "Los autovalores: [ 11.18284163  -0.7098946    3.52705297] \n",
      "Los autovectores: [[ 0.3958966   0.87811967 -0.26684193]\n",
      " [ 0.77182982  0.25744029 -0.93373034]\n",
      " [ 0.49753855 -0.40327453  0.2386274 ]]\n"
     ]
    }
   ],
   "source": [
    "matriz = np.array([[1, 2, 5], [2, 5, 8], [4, 0, 8]], dtype=np.float64)\n",
    "#eig devuelve una tupla de arrays con los autovalores en un array 1D y los autovec en un array 2D\n",
    "eigens = np.linalg.eig(matriz)\n",
    "print('Los autovalores:', eigens[0], '\\nLos autovectores:', eigens[1])\n",
    "\n",
    "#se terminó el problema"
   ]
  },
  {
   "cell_type": "markdown",
   "metadata": {},
   "source": [
    "Problema típico 2: sistema de ecuaciones lineales."
   ]
  },
  {
   "cell_type": "code",
   "execution_count": 14,
   "metadata": {
    "collapsed": false,
    "scrolled": true
   },
   "outputs": [
    {
     "ename": "NameError",
     "evalue": "name 'la' is not defined",
     "output_type": "error",
     "traceback": [
      "\u001b[1;31m---------------------------------------------------------------------------\u001b[0m",
      "\u001b[1;31mNameError\u001b[0m                                 Traceback (most recent call last)",
      "\u001b[1;32m<ipython-input-14-a7d000eb66bb>\u001b[0m in \u001b[0;36m<module>\u001b[1;34m()\u001b[0m\n\u001b[0;32m      1\u001b[0m \u001b[0mb\u001b[0m \u001b[1;33m=\u001b[0m \u001b[0mnp\u001b[0m\u001b[1;33m.\u001b[0m\u001b[0marray\u001b[0m\u001b[1;33m(\u001b[0m\u001b[1;33m[\u001b[0m\u001b[1;36m1\u001b[0m\u001b[1;33m,\u001b[0m \u001b[1;36m2\u001b[0m\u001b[1;33m,\u001b[0m \u001b[1;36m3\u001b[0m\u001b[1;33m]\u001b[0m\u001b[1;33m)\u001b[0m\u001b[1;33m\u001b[0m\u001b[0m\n\u001b[1;32m----> 2\u001b[1;33m \u001b[0mla\u001b[0m\u001b[1;33m.\u001b[0m\u001b[0msolve\u001b[0m\u001b[1;33m(\u001b[0m\u001b[0mmatriz\u001b[0m\u001b[1;33m,\u001b[0m \u001b[0mb\u001b[0m\u001b[1;33m)\u001b[0m \u001b[1;31m#resuelve el sistema matriz*X = b\u001b[0m\u001b[1;33m\u001b[0m\u001b[0m\n\u001b[0m\u001b[0;32m      3\u001b[0m \u001b[1;33m\u001b[0m\u001b[0m\n\u001b[0;32m      4\u001b[0m \u001b[1;31m#se terminó el problema\u001b[0m\u001b[1;33m\u001b[0m\u001b[1;33m\u001b[0m\u001b[0m\n",
      "\u001b[1;31mNameError\u001b[0m: name 'la' is not defined"
     ]
    }
   ],
   "source": [
    "b = np.array([1, 2, 3])\n",
    "la.solve(matriz, b) #resuelve el sistema matriz*X = b\n",
    "\n",
    "#se terminó el problema"
   ]
  },
  {
   "cell_type": "code",
   "execution_count": null,
   "metadata": {
    "collapsed": true
   },
   "outputs": [],
   "source": [
    "#Ejercicio: inventen una matrix de 5 x 5 (con el método que quieran y que no sea la identidad!) y averiguen si es invertible\n",
    "# No tienen que calcular la inversa. Busquen en a ayuda de numpy.linalg\n",
    "#Ayuda: ¿qué importancia tenía los autovalores?"
   ]
  },
  {
   "cell_type": "markdown",
   "metadata": {},
   "source": [
    "### Yapa Nº1: Indexado de ndarrays\n",
    "\n",
    "Además de la gran cantidad de cosas que nos permite calcular numpy, nos da una forma muy útil de tomar elementos de un array mediante su indexado. Veamos un poco de eso:"
   ]
  },
  {
   "cell_type": "code",
   "execution_count": 15,
   "metadata": {
    "collapsed": false
   },
   "outputs": [
    {
     "data": {
      "text/plain": [
       "array([ 0.        ,  0.01001001,  0.02002002,  0.03003003,  0.04004004,\n",
       "        0.05005005,  0.06006006,  0.07007007,  0.08008008,  0.09009009,\n",
       "        0.1001001 ,  0.11011011,  0.12012012,  0.13013013,  0.14014014,\n",
       "        0.15015015,  0.16016016,  0.17017017,  0.18018018,  0.19019019,\n",
       "        0.2002002 ,  0.21021021,  0.22022022,  0.23023023,  0.24024024,\n",
       "        0.25025025,  0.26026026,  0.27027027,  0.28028028,  0.29029029,\n",
       "        0.3003003 ,  0.31031031,  0.32032032,  0.33033033,  0.34034034,\n",
       "        0.35035035,  0.36036036,  0.37037037,  0.38038038,  0.39039039,\n",
       "        0.4004004 ,  0.41041041,  0.42042042,  0.43043043,  0.44044044,\n",
       "        0.45045045,  0.46046046,  0.47047047,  0.48048048,  0.49049049,\n",
       "        0.5005005 ,  0.51051051,  0.52052052,  0.53053053,  0.54054054,\n",
       "        0.55055055,  0.56056056,  0.57057057,  0.58058058,  0.59059059,\n",
       "        0.6006006 ,  0.61061061,  0.62062062,  0.63063063,  0.64064064,\n",
       "        0.65065065,  0.66066066,  0.67067067,  0.68068068,  0.69069069,\n",
       "        0.7007007 ,  0.71071071,  0.72072072,  0.73073073,  0.74074074,\n",
       "        0.75075075,  0.76076076,  0.77077077,  0.78078078,  0.79079079,\n",
       "        0.8008008 ,  0.81081081,  0.82082082,  0.83083083,  0.84084084,\n",
       "        0.85085085,  0.86086086,  0.87087087,  0.88088088,  0.89089089,\n",
       "        0.9009009 ,  0.91091091,  0.92092092,  0.93093093,  0.94094094,\n",
       "        0.95095095,  0.96096096,  0.97097097,  0.98098098,  0.99099099,\n",
       "        1.001001  ,  1.01101101,  1.02102102,  1.03103103,  1.04104104,\n",
       "        1.05105105,  1.06106106,  1.07107107,  1.08108108,  1.09109109,\n",
       "        1.1011011 ,  1.11111111,  1.12112112,  1.13113113,  1.14114114,\n",
       "        1.15115115,  1.16116116,  1.17117117,  1.18118118,  1.19119119,\n",
       "        1.2012012 ,  1.21121121,  1.22122122,  1.23123123,  1.24124124,\n",
       "        1.25125125,  1.26126126,  1.27127127,  1.28128128,  1.29129129,\n",
       "        1.3013013 ,  1.31131131,  1.32132132,  1.33133133,  1.34134134,\n",
       "        1.35135135,  1.36136136,  1.37137137,  1.38138138,  1.39139139,\n",
       "        1.4014014 ,  1.41141141,  1.42142142,  1.43143143,  1.44144144,\n",
       "        1.45145145,  1.46146146,  1.47147147,  1.48148148,  1.49149149,\n",
       "        1.5015015 ,  1.51151151,  1.52152152,  1.53153153,  1.54154154,\n",
       "        1.55155155,  1.56156156,  1.57157157,  1.58158158,  1.59159159,\n",
       "        1.6016016 ,  1.61161161,  1.62162162,  1.63163163,  1.64164164,\n",
       "        1.65165165,  1.66166166,  1.67167167,  1.68168168,  1.69169169,\n",
       "        1.7017017 ,  1.71171171,  1.72172172,  1.73173173,  1.74174174,\n",
       "        1.75175175,  1.76176176,  1.77177177,  1.78178178,  1.79179179,\n",
       "        1.8018018 ,  1.81181181,  1.82182182,  1.83183183,  1.84184184,\n",
       "        1.85185185,  1.86186186,  1.87187187,  1.88188188,  1.89189189,\n",
       "        1.9019019 ,  1.91191191,  1.92192192,  1.93193193,  1.94194194,\n",
       "        1.95195195,  1.96196196,  1.97197197,  1.98198198,  1.99199199,\n",
       "        2.002002  ,  2.01201201,  2.02202202,  2.03203203,  2.04204204,\n",
       "        2.05205205,  2.06206206,  2.07207207,  2.08208208,  2.09209209,\n",
       "        2.1021021 ,  2.11211211,  2.12212212,  2.13213213,  2.14214214,\n",
       "        2.15215215,  2.16216216,  2.17217217,  2.18218218,  2.19219219,\n",
       "        2.2022022 ,  2.21221221,  2.22222222,  2.23223223,  2.24224224,\n",
       "        2.25225225,  2.26226226,  2.27227227,  2.28228228,  2.29229229,\n",
       "        2.3023023 ,  2.31231231,  2.32232232,  2.33233233,  2.34234234,\n",
       "        2.35235235,  2.36236236,  2.37237237,  2.38238238,  2.39239239,\n",
       "        2.4024024 ,  2.41241241,  2.42242242,  2.43243243,  2.44244244,\n",
       "        2.45245245,  2.46246246,  2.47247247,  2.48248248,  2.49249249,\n",
       "        2.5025025 ,  2.51251251,  2.52252252,  2.53253253,  2.54254254,\n",
       "        2.55255255,  2.56256256,  2.57257257,  2.58258258,  2.59259259,\n",
       "        2.6026026 ,  2.61261261,  2.62262262,  2.63263263,  2.64264264,\n",
       "        2.65265265,  2.66266266,  2.67267267,  2.68268268,  2.69269269,\n",
       "        2.7027027 ,  2.71271271,  2.72272272,  2.73273273,  2.74274274,\n",
       "        2.75275275,  2.76276276,  2.77277277,  2.78278278,  2.79279279,\n",
       "        2.8028028 ,  2.81281281,  2.82282282,  2.83283283,  2.84284284,\n",
       "        2.85285285,  2.86286286,  2.87287287,  2.88288288,  2.89289289,\n",
       "        2.9029029 ,  2.91291291,  2.92292292,  2.93293293,  2.94294294,\n",
       "        2.95295295,  2.96296296,  2.97297297,  2.98298298,  2.99299299,\n",
       "        3.003003  ,  3.01301301,  3.02302302,  3.03303303,  3.04304304,\n",
       "        3.05305305,  3.06306306,  3.07307307,  3.08308308,  3.09309309,\n",
       "        3.1031031 ,  3.11311311,  3.12312312,  3.13313313,  3.14314314,\n",
       "        3.15315315,  3.16316316,  3.17317317,  3.18318318,  3.19319319,\n",
       "        3.2032032 ,  3.21321321,  3.22322322,  3.23323323,  3.24324324,\n",
       "        3.25325325,  3.26326326,  3.27327327,  3.28328328,  3.29329329,\n",
       "        3.3033033 ,  3.31331331,  3.32332332,  3.33333333,  3.34334334,\n",
       "        3.35335335,  3.36336336,  3.37337337,  3.38338338,  3.39339339,\n",
       "        3.4034034 ,  3.41341341,  3.42342342,  3.43343343,  3.44344344,\n",
       "        3.45345345,  3.46346346,  3.47347347,  3.48348348,  3.49349349,\n",
       "        3.5035035 ,  3.51351351,  3.52352352,  3.53353353,  3.54354354,\n",
       "        3.55355355,  3.56356356,  3.57357357,  3.58358358,  3.59359359,\n",
       "        3.6036036 ,  3.61361361,  3.62362362,  3.63363363,  3.64364364,\n",
       "        3.65365365,  3.66366366,  3.67367367,  3.68368368,  3.69369369,\n",
       "        3.7037037 ,  3.71371371,  3.72372372,  3.73373373,  3.74374374,\n",
       "        3.75375375,  3.76376376,  3.77377377,  3.78378378,  3.79379379,\n",
       "        3.8038038 ,  3.81381381,  3.82382382,  3.83383383,  3.84384384,\n",
       "        3.85385385,  3.86386386,  3.87387387,  3.88388388,  3.89389389,\n",
       "        3.9039039 ,  3.91391391,  3.92392392,  3.93393393,  3.94394394,\n",
       "        3.95395395,  3.96396396,  3.97397397,  3.98398398,  3.99399399,\n",
       "        4.004004  ,  4.01401401,  4.02402402,  4.03403403,  4.04404404,\n",
       "        4.05405405,  4.06406406,  4.07407407,  4.08408408,  4.09409409,\n",
       "        4.1041041 ,  4.11411411,  4.12412412,  4.13413413,  4.14414414,\n",
       "        4.15415415,  4.16416416,  4.17417417,  4.18418418,  4.19419419,\n",
       "        4.2042042 ,  4.21421421,  4.22422422,  4.23423423,  4.24424424,\n",
       "        4.25425425,  4.26426426,  4.27427427,  4.28428428,  4.29429429,\n",
       "        4.3043043 ,  4.31431431,  4.32432432,  4.33433433,  4.34434434,\n",
       "        4.35435435,  4.36436436,  4.37437437,  4.38438438,  4.39439439,\n",
       "        4.4044044 ,  4.41441441,  4.42442442,  4.43443443,  4.44444444,\n",
       "        4.45445445,  4.46446446,  4.47447447,  4.48448448,  4.49449449,\n",
       "        4.5045045 ,  4.51451451,  4.52452452,  4.53453453,  4.54454454,\n",
       "        4.55455455,  4.56456456,  4.57457457,  4.58458458,  4.59459459,\n",
       "        4.6046046 ,  4.61461461,  4.62462462,  4.63463463,  4.64464464,\n",
       "        4.65465465,  4.66466466,  4.67467467,  4.68468468,  4.69469469,\n",
       "        4.7047047 ,  4.71471471,  4.72472472,  4.73473473,  4.74474474,\n",
       "        4.75475475,  4.76476476,  4.77477477,  4.78478478,  4.79479479,\n",
       "        4.8048048 ,  4.81481481,  4.82482482,  4.83483483,  4.84484484,\n",
       "        4.85485485,  4.86486486,  4.87487487,  4.88488488,  4.89489489,\n",
       "        4.9049049 ,  4.91491491,  4.92492492,  4.93493493,  4.94494494,\n",
       "        4.95495495,  4.96496496,  4.97497497,  4.98498498,  4.99499499])"
      ]
     },
     "execution_count": 15,
     "metadata": {},
     "output_type": "execute_result"
    }
   ],
   "source": [
    "#dos arrays de muchos elementos\n",
    "v1 = np.linspace(0, 10, 1000)\n",
    "v2 = np.linspace(10, 20, 1000)\n",
    "#si me quiero quedar con los primeros 500 qué hago?\n",
    "v1[:500]"
   ]
  },
  {
   "cell_type": "code",
   "execution_count": 16,
   "metadata": {
    "collapsed": false
   },
   "outputs": [
    {
     "data": {
      "text/plain": [
       "array([  5.00500501,   5.01501502,   5.02502503,   5.03503504,\n",
       "         5.04504505,   5.05505506,   5.06506507,   5.07507508,\n",
       "         5.08508509,   5.0950951 ,   5.10510511,   5.11511512,\n",
       "         5.12512513,   5.13513514,   5.14514515,   5.15515516,\n",
       "         5.16516517,   5.17517518,   5.18518519,   5.1951952 ,\n",
       "         5.20520521,   5.21521522,   5.22522523,   5.23523524,\n",
       "         5.24524525,   5.25525526,   5.26526527,   5.27527528,\n",
       "         5.28528529,   5.2952953 ,   5.30530531,   5.31531532,\n",
       "         5.32532533,   5.33533534,   5.34534535,   5.35535536,\n",
       "         5.36536537,   5.37537538,   5.38538539,   5.3953954 ,\n",
       "         5.40540541,   5.41541542,   5.42542543,   5.43543544,\n",
       "         5.44544545,   5.45545546,   5.46546547,   5.47547548,\n",
       "         5.48548549,   5.4954955 ,   5.50550551,   5.51551552,\n",
       "         5.52552553,   5.53553554,   5.54554555,   5.55555556,\n",
       "         5.56556557,   5.57557558,   5.58558559,   5.5955956 ,\n",
       "         5.60560561,   5.61561562,   5.62562563,   5.63563564,\n",
       "         5.64564565,   5.65565566,   5.66566567,   5.67567568,\n",
       "         5.68568569,   5.6956957 ,   5.70570571,   5.71571572,\n",
       "         5.72572573,   5.73573574,   5.74574575,   5.75575576,\n",
       "         5.76576577,   5.77577578,   5.78578579,   5.7957958 ,\n",
       "         5.80580581,   5.81581582,   5.82582583,   5.83583584,\n",
       "         5.84584585,   5.85585586,   5.86586587,   5.87587588,\n",
       "         5.88588589,   5.8958959 ,   5.90590591,   5.91591592,\n",
       "         5.92592593,   5.93593594,   5.94594595,   5.95595596,\n",
       "         5.96596597,   5.97597598,   5.98598599,   5.995996  ,\n",
       "         6.00600601,   6.01601602,   6.02602603,   6.03603604,\n",
       "         6.04604605,   6.05605606,   6.06606607,   6.07607608,\n",
       "         6.08608609,   6.0960961 ,   6.10610611,   6.11611612,\n",
       "         6.12612613,   6.13613614,   6.14614615,   6.15615616,\n",
       "         6.16616617,   6.17617618,   6.18618619,   6.1961962 ,\n",
       "         6.20620621,   6.21621622,   6.22622623,   6.23623624,\n",
       "         6.24624625,   6.25625626,   6.26626627,   6.27627628,\n",
       "         6.28628629,   6.2962963 ,   6.30630631,   6.31631632,\n",
       "         6.32632633,   6.33633634,   6.34634635,   6.35635636,\n",
       "         6.36636637,   6.37637638,   6.38638639,   6.3963964 ,\n",
       "         6.40640641,   6.41641642,   6.42642643,   6.43643644,\n",
       "         6.44644645,   6.45645646,   6.46646647,   6.47647648,\n",
       "         6.48648649,   6.4964965 ,   6.50650651,   6.51651652,\n",
       "         6.52652653,   6.53653654,   6.54654655,   6.55655656,\n",
       "         6.56656657,   6.57657658,   6.58658659,   6.5965966 ,\n",
       "         6.60660661,   6.61661662,   6.62662663,   6.63663664,\n",
       "         6.64664665,   6.65665666,   6.66666667,   6.67667668,\n",
       "         6.68668669,   6.6966967 ,   6.70670671,   6.71671672,\n",
       "         6.72672673,   6.73673674,   6.74674675,   6.75675676,\n",
       "         6.76676677,   6.77677678,   6.78678679,   6.7967968 ,\n",
       "         6.80680681,   6.81681682,   6.82682683,   6.83683684,\n",
       "         6.84684685,   6.85685686,   6.86686687,   6.87687688,\n",
       "         6.88688689,   6.8968969 ,   6.90690691,   6.91691692,\n",
       "         6.92692693,   6.93693694,   6.94694695,   6.95695696,\n",
       "         6.96696697,   6.97697698,   6.98698699,   6.996997  ,\n",
       "         7.00700701,   7.01701702,   7.02702703,   7.03703704,\n",
       "         7.04704705,   7.05705706,   7.06706707,   7.07707708,\n",
       "         7.08708709,   7.0970971 ,   7.10710711,   7.11711712,\n",
       "         7.12712713,   7.13713714,   7.14714715,   7.15715716,\n",
       "         7.16716717,   7.17717718,   7.18718719,   7.1971972 ,\n",
       "         7.20720721,   7.21721722,   7.22722723,   7.23723724,\n",
       "         7.24724725,   7.25725726,   7.26726727,   7.27727728,\n",
       "         7.28728729,   7.2972973 ,   7.30730731,   7.31731732,\n",
       "         7.32732733,   7.33733734,   7.34734735,   7.35735736,\n",
       "         7.36736737,   7.37737738,   7.38738739,   7.3973974 ,\n",
       "         7.40740741,   7.41741742,   7.42742743,   7.43743744,\n",
       "         7.44744745,   7.45745746,   7.46746747,   7.47747748,\n",
       "         7.48748749,   7.4974975 ,   7.50750751,   7.51751752,\n",
       "         7.52752753,   7.53753754,   7.54754755,   7.55755756,\n",
       "         7.56756757,   7.57757758,   7.58758759,   7.5975976 ,\n",
       "         7.60760761,   7.61761762,   7.62762763,   7.63763764,\n",
       "         7.64764765,   7.65765766,   7.66766767,   7.67767768,\n",
       "         7.68768769,   7.6976977 ,   7.70770771,   7.71771772,\n",
       "         7.72772773,   7.73773774,   7.74774775,   7.75775776,\n",
       "         7.76776777,   7.77777778,   7.78778779,   7.7977978 ,\n",
       "         7.80780781,   7.81781782,   7.82782783,   7.83783784,\n",
       "         7.84784785,   7.85785786,   7.86786787,   7.87787788,\n",
       "         7.88788789,   7.8978979 ,   7.90790791,   7.91791792,\n",
       "         7.92792793,   7.93793794,   7.94794795,   7.95795796,\n",
       "         7.96796797,   7.97797798,   7.98798799,   7.997998  ,\n",
       "         8.00800801,   8.01801802,   8.02802803,   8.03803804,\n",
       "         8.04804805,   8.05805806,   8.06806807,   8.07807808,\n",
       "         8.08808809,   8.0980981 ,   8.10810811,   8.11811812,\n",
       "         8.12812813,   8.13813814,   8.14814815,   8.15815816,\n",
       "         8.16816817,   8.17817818,   8.18818819,   8.1981982 ,\n",
       "         8.20820821,   8.21821822,   8.22822823,   8.23823824,\n",
       "         8.24824825,   8.25825826,   8.26826827,   8.27827828,\n",
       "         8.28828829,   8.2982983 ,   8.30830831,   8.31831832,\n",
       "         8.32832833,   8.33833834,   8.34834835,   8.35835836,\n",
       "         8.36836837,   8.37837838,   8.38838839,   8.3983984 ,\n",
       "         8.40840841,   8.41841842,   8.42842843,   8.43843844,\n",
       "         8.44844845,   8.45845846,   8.46846847,   8.47847848,\n",
       "         8.48848849,   8.4984985 ,   8.50850851,   8.51851852,\n",
       "         8.52852853,   8.53853854,   8.54854855,   8.55855856,\n",
       "         8.56856857,   8.57857858,   8.58858859,   8.5985986 ,\n",
       "         8.60860861,   8.61861862,   8.62862863,   8.63863864,\n",
       "         8.64864865,   8.65865866,   8.66866867,   8.67867868,\n",
       "         8.68868869,   8.6986987 ,   8.70870871,   8.71871872,\n",
       "         8.72872873,   8.73873874,   8.74874875,   8.75875876,\n",
       "         8.76876877,   8.77877878,   8.78878879,   8.7987988 ,\n",
       "         8.80880881,   8.81881882,   8.82882883,   8.83883884,\n",
       "         8.84884885,   8.85885886,   8.86886887,   8.87887888,\n",
       "         8.88888889,   8.8988989 ,   8.90890891,   8.91891892,\n",
       "         8.92892893,   8.93893894,   8.94894895,   8.95895896,\n",
       "         8.96896897,   8.97897898,   8.98898899,   8.998999  ,\n",
       "         9.00900901,   9.01901902,   9.02902903,   9.03903904,\n",
       "         9.04904905,   9.05905906,   9.06906907,   9.07907908,\n",
       "         9.08908909,   9.0990991 ,   9.10910911,   9.11911912,\n",
       "         9.12912913,   9.13913914,   9.14914915,   9.15915916,\n",
       "         9.16916917,   9.17917918,   9.18918919,   9.1991992 ,\n",
       "         9.20920921,   9.21921922,   9.22922923,   9.23923924,\n",
       "         9.24924925,   9.25925926,   9.26926927,   9.27927928,\n",
       "         9.28928929,   9.2992993 ,   9.30930931,   9.31931932,\n",
       "         9.32932933,   9.33933934,   9.34934935,   9.35935936,\n",
       "         9.36936937,   9.37937938,   9.38938939,   9.3993994 ,\n",
       "         9.40940941,   9.41941942,   9.42942943,   9.43943944,\n",
       "         9.44944945,   9.45945946,   9.46946947,   9.47947948,\n",
       "         9.48948949,   9.4994995 ,   9.50950951,   9.51951952,\n",
       "         9.52952953,   9.53953954,   9.54954955,   9.55955956,\n",
       "         9.56956957,   9.57957958,   9.58958959,   9.5995996 ,\n",
       "         9.60960961,   9.61961962,   9.62962963,   9.63963964,\n",
       "         9.64964965,   9.65965966,   9.66966967,   9.67967968,\n",
       "         9.68968969,   9.6996997 ,   9.70970971,   9.71971972,\n",
       "         9.72972973,   9.73973974,   9.74974975,   9.75975976,\n",
       "         9.76976977,   9.77977978,   9.78978979,   9.7997998 ,\n",
       "         9.80980981,   9.81981982,   9.82982983,   9.83983984,\n",
       "         9.84984985,   9.85985986,   9.86986987,   9.87987988,\n",
       "         9.88988989,   9.8998999 ,   9.90990991,   9.91991992,\n",
       "         9.92992993,   9.93993994,   9.94994995,   9.95995996,\n",
       "         9.96996997,   9.97997998,   9.98998999,  10.        ])"
      ]
     },
     "execution_count": 16,
     "metadata": {},
     "output_type": "execute_result"
    }
   ],
   "source": [
    "#y con los último 500?\n",
    "v1[500:]"
   ]
  },
  {
   "cell_type": "code",
   "execution_count": 17,
   "metadata": {
    "collapsed": false
   },
   "outputs": [
    {
     "data": {
      "text/plain": [
       "array([ 10.        ,  10.02002002,  10.04004004,  10.06006006,\n",
       "        10.08008008,  10.1001001 ,  10.12012012,  10.14014014,\n",
       "        10.16016016,  10.18018018,  10.2002002 ,  10.22022022,\n",
       "        10.24024024,  10.26026026,  10.28028028,  10.3003003 ,\n",
       "        10.32032032,  10.34034034,  10.36036036,  10.38038038,\n",
       "        10.4004004 ,  10.42042042,  10.44044044,  10.46046046,\n",
       "        10.48048048,  10.5005005 ,  10.52052052,  10.54054054,\n",
       "        10.56056056,  10.58058058,  10.6006006 ,  10.62062062,\n",
       "        10.64064064,  10.66066066,  10.68068068,  10.7007007 ,\n",
       "        10.72072072,  10.74074074,  10.76076076,  10.78078078,\n",
       "        10.8008008 ,  10.82082082,  10.84084084,  10.86086086,\n",
       "        10.88088088,  10.9009009 ,  10.92092092,  10.94094094,\n",
       "        10.96096096,  10.98098098,  11.001001  ,  11.02102102,\n",
       "        11.04104104,  11.06106106,  11.08108108,  11.1011011 ,\n",
       "        11.12112112,  11.14114114,  11.16116116,  11.18118118,\n",
       "        11.2012012 ,  11.22122122,  11.24124124,  11.26126126,\n",
       "        11.28128128,  11.3013013 ,  11.32132132,  11.34134134,\n",
       "        11.36136136,  11.38138138,  11.4014014 ,  11.42142142,\n",
       "        11.44144144,  11.46146146,  11.48148148,  11.5015015 ,\n",
       "        11.52152152,  11.54154154,  11.56156156,  11.58158158,\n",
       "        11.6016016 ,  11.62162162,  11.64164164,  11.66166166,\n",
       "        11.68168168,  11.7017017 ,  11.72172172,  11.74174174,\n",
       "        11.76176176,  11.78178178,  11.8018018 ,  11.82182182,\n",
       "        11.84184184,  11.86186186,  11.88188188,  11.9019019 ,\n",
       "        11.92192192,  11.94194194,  11.96196196,  11.98198198,\n",
       "        12.002002  ,  12.02202202,  12.04204204,  12.06206206,\n",
       "        12.08208208,  12.1021021 ,  12.12212212,  12.14214214,\n",
       "        12.16216216,  12.18218218,  12.2022022 ,  12.22222222,\n",
       "        12.24224224,  12.26226226,  12.28228228,  12.3023023 ,\n",
       "        12.32232232,  12.34234234,  12.36236236,  12.38238238,\n",
       "        12.4024024 ,  12.42242242,  12.44244244,  12.46246246,\n",
       "        12.48248248,  12.5025025 ,  12.52252252,  12.54254254,\n",
       "        12.56256256,  12.58258258,  12.6026026 ,  12.62262262,\n",
       "        12.64264264,  12.66266266,  12.68268268,  12.7027027 ,\n",
       "        12.72272272,  12.74274274,  12.76276276,  12.78278278,\n",
       "        12.8028028 ,  12.82282282,  12.84284284,  12.86286286,\n",
       "        12.88288288,  12.9029029 ,  12.92292292,  12.94294294,\n",
       "        12.96296296,  12.98298298,  13.003003  ,  13.02302302,\n",
       "        13.04304304,  13.06306306,  13.08308308,  13.1031031 ,\n",
       "        13.12312312,  13.14314314,  13.16316316,  13.18318318,\n",
       "        13.2032032 ,  13.22322322,  13.24324324,  13.26326326,\n",
       "        13.28328328,  13.3033033 ,  13.32332332,  13.34334334,\n",
       "        13.36336336,  13.38338338,  13.4034034 ,  13.42342342,\n",
       "        13.44344344,  13.46346346,  13.48348348,  13.5035035 ,\n",
       "        13.52352352,  13.54354354,  13.56356356,  13.58358358,\n",
       "        13.6036036 ,  13.62362362,  13.64364364,  13.66366366,\n",
       "        13.68368368,  13.7037037 ,  13.72372372,  13.74374374,\n",
       "        13.76376376,  13.78378378,  13.8038038 ,  13.82382382,\n",
       "        13.84384384,  13.86386386,  13.88388388,  13.9039039 ,\n",
       "        13.92392392,  13.94394394,  13.96396396,  13.98398398,\n",
       "        14.004004  ,  14.02402402,  14.04404404,  14.06406406,\n",
       "        14.08408408,  14.1041041 ,  14.12412412,  14.14414414,\n",
       "        14.16416416,  14.18418418,  14.2042042 ,  14.22422422,\n",
       "        14.24424424,  14.26426426,  14.28428428,  14.3043043 ,\n",
       "        14.32432432,  14.34434434,  14.36436436,  14.38438438,\n",
       "        14.4044044 ,  14.42442442,  14.44444444,  14.46446446,\n",
       "        14.48448448,  14.5045045 ,  14.52452452,  14.54454454,\n",
       "        14.56456456,  14.58458458,  14.6046046 ,  14.62462462,\n",
       "        14.64464464,  14.66466466,  14.68468468,  14.7047047 ,\n",
       "        14.72472472,  14.74474474,  14.76476476,  14.78478478,\n",
       "        14.8048048 ,  14.82482482,  14.84484484,  14.86486486,\n",
       "        14.88488488,  14.9049049 ,  14.92492492,  14.94494494,\n",
       "        14.96496496,  14.98498498,  15.00500501,  15.02502503,\n",
       "        15.04504505,  15.06506507,  15.08508509,  15.10510511,\n",
       "        15.12512513,  15.14514515,  15.16516517,  15.18518519,\n",
       "        15.20520521,  15.22522523,  15.24524525,  15.26526527,\n",
       "        15.28528529,  15.30530531,  15.32532533,  15.34534535,\n",
       "        15.36536537,  15.38538539,  15.40540541,  15.42542543,\n",
       "        15.44544545,  15.46546547,  15.48548549,  15.50550551,\n",
       "        15.52552553,  15.54554555,  15.56556557,  15.58558559,\n",
       "        15.60560561,  15.62562563,  15.64564565,  15.66566567,\n",
       "        15.68568569,  15.70570571,  15.72572573,  15.74574575,\n",
       "        15.76576577,  15.78578579,  15.80580581,  15.82582583,\n",
       "        15.84584585,  15.86586587,  15.88588589,  15.90590591,\n",
       "        15.92592593,  15.94594595,  15.96596597,  15.98598599,\n",
       "        16.00600601,  16.02602603,  16.04604605,  16.06606607,\n",
       "        16.08608609,  16.10610611,  16.12612613,  16.14614615,\n",
       "        16.16616617,  16.18618619,  16.20620621,  16.22622623,\n",
       "        16.24624625,  16.26626627,  16.28628629,  16.30630631,\n",
       "        16.32632633,  16.34634635,  16.36636637,  16.38638639,\n",
       "        16.40640641,  16.42642643,  16.44644645,  16.46646647,\n",
       "        16.48648649,  16.50650651,  16.52652653,  16.54654655,\n",
       "        16.56656657,  16.58658659,  16.60660661,  16.62662663,\n",
       "        16.64664665,  16.66666667,  16.68668669,  16.70670671,\n",
       "        16.72672673,  16.74674675,  16.76676677,  16.78678679,\n",
       "        16.80680681,  16.82682683,  16.84684685,  16.86686687,\n",
       "        16.88688689,  16.90690691,  16.92692693,  16.94694695,\n",
       "        16.96696697,  16.98698699,  17.00700701,  17.02702703,\n",
       "        17.04704705,  17.06706707,  17.08708709,  17.10710711,\n",
       "        17.12712713,  17.14714715,  17.16716717,  17.18718719,\n",
       "        17.20720721,  17.22722723,  17.24724725,  17.26726727,\n",
       "        17.28728729,  17.30730731,  17.32732733,  17.34734735,\n",
       "        17.36736737,  17.38738739,  17.40740741,  17.42742743,\n",
       "        17.44744745,  17.46746747,  17.48748749,  17.50750751,\n",
       "        17.52752753,  17.54754755,  17.56756757,  17.58758759,\n",
       "        17.60760761,  17.62762763,  17.64764765,  17.66766767,\n",
       "        17.68768769,  17.70770771,  17.72772773,  17.74774775,\n",
       "        17.76776777,  17.78778779,  17.80780781,  17.82782783,\n",
       "        17.84784785,  17.86786787,  17.88788789,  17.90790791,\n",
       "        17.92792793,  17.94794795,  17.96796797,  17.98798799,\n",
       "        18.00800801,  18.02802803,  18.04804805,  18.06806807,\n",
       "        18.08808809,  18.10810811,  18.12812813,  18.14814815,\n",
       "        18.16816817,  18.18818819,  18.20820821,  18.22822823,\n",
       "        18.24824825,  18.26826827,  18.28828829,  18.30830831,\n",
       "        18.32832833,  18.34834835,  18.36836837,  18.38838839,\n",
       "        18.40840841,  18.42842843,  18.44844845,  18.46846847,\n",
       "        18.48848849,  18.50850851,  18.52852853,  18.54854855,\n",
       "        18.56856857,  18.58858859,  18.60860861,  18.62862863,\n",
       "        18.64864865,  18.66866867,  18.68868869,  18.70870871,\n",
       "        18.72872873,  18.74874875,  18.76876877,  18.78878879,\n",
       "        18.80880881,  18.82882883,  18.84884885,  18.86886887,\n",
       "        18.88888889,  18.90890891,  18.92892893,  18.94894895,\n",
       "        18.96896897,  18.98898899,  19.00900901,  19.02902903,\n",
       "        19.04904905,  19.06906907,  19.08908909,  19.10910911,\n",
       "        19.12912913,  19.14914915,  19.16916917,  19.18918919,\n",
       "        19.20920921,  19.22922923,  19.24924925,  19.26926927,\n",
       "        19.28928929,  19.30930931,  19.32932933,  19.34934935,\n",
       "        19.36936937,  19.38938939,  19.40940941,  19.42942943,\n",
       "        19.44944945,  19.46946947,  19.48948949,  19.50950951,\n",
       "        19.52952953,  19.54954955,  19.56956957,  19.58958959,\n",
       "        19.60960961,  19.62962963,  19.64964965,  19.66966967,\n",
       "        19.68968969,  19.70970971,  19.72972973,  19.74974975,\n",
       "        19.76976977,  19.78978979,  19.80980981,  19.82982983,\n",
       "        19.84984985,  19.86986987,  19.88988989,  19.90990991,\n",
       "        19.92992993,  19.94994995,  19.96996997,  19.98998999])"
      ]
     },
     "execution_count": 17,
     "metadata": {},
     "output_type": "execute_result"
    }
   ],
   "source": [
    "#y esas selecciones son arrays, asíque operan como arrays!\n",
    "v1[:500] + v2[:500]"
   ]
  },
  {
   "cell_type": "code",
   "execution_count": 18,
   "metadata": {
    "collapsed": false
   },
   "outputs": [
    {
     "data": {
      "text/plain": [
       "500"
      ]
     },
     "execution_count": 18,
     "metadata": {},
     "output_type": "execute_result"
    }
   ],
   "source": [
    "len(v1[:500] + v2[:500])"
   ]
  },
  {
   "cell_type": "code",
   "execution_count": 19,
   "metadata": {
    "collapsed": false
   },
   "outputs": [
    {
     "data": {
      "text/plain": [
       "array([ 0.        ,  0.1001001 ,  1.5015015 ,  5.32532533])"
      ]
     },
     "execution_count": 19,
     "metadata": {},
     "output_type": "execute_result"
    }
   ],
   "source": [
    "#en general, podemos dar como índice un array_like cualquiera\n",
    "v1[[0, 10, 150, 532]]"
   ]
  },
  {
   "cell_type": "code",
   "execution_count": 20,
   "metadata": {
    "collapsed": false
   },
   "outputs": [
    {
     "data": {
      "text/plain": [
       "array([ 0.        ,  0.01001001,  0.02002002,  0.03003003,  0.04004004,\n",
       "        0.05005005,  0.06006006,  0.07007007,  0.08008008,  0.09009009,\n",
       "        0.1001001 ,  0.11011011,  0.12012012,  0.13013013,  0.14014014,\n",
       "        0.15015015,  0.16016016,  0.17017017,  0.18018018,  0.19019019,\n",
       "        0.2002002 ,  0.21021021,  0.22022022,  0.23023023,  0.24024024,\n",
       "        0.25025025,  0.26026026,  0.27027027,  0.28028028,  0.29029029,\n",
       "        0.3003003 ,  0.31031031,  0.32032032,  0.33033033,  0.34034034,\n",
       "        0.35035035,  0.36036036,  0.37037037,  0.38038038,  0.39039039,\n",
       "        0.4004004 ,  0.41041041,  0.42042042,  0.43043043,  0.44044044,\n",
       "        0.45045045,  0.46046046,  0.47047047,  0.48048048,  0.49049049,\n",
       "        0.5005005 ,  0.51051051,  0.52052052,  0.53053053,  0.54054054,\n",
       "        0.55055055,  0.56056056,  0.57057057,  0.58058058,  0.59059059,\n",
       "        0.6006006 ,  0.61061061,  0.62062062,  0.63063063,  0.64064064,\n",
       "        0.65065065,  0.66066066,  0.67067067,  0.68068068,  0.69069069,\n",
       "        0.7007007 ,  0.71071071,  0.72072072,  0.73073073,  0.74074074,\n",
       "        0.75075075,  0.76076076,  0.77077077,  0.78078078,  0.79079079,\n",
       "        0.8008008 ,  0.81081081,  0.82082082,  0.83083083,  0.84084084,\n",
       "        0.85085085,  0.86086086,  0.87087087,  0.88088088,  0.89089089,\n",
       "        0.9009009 ,  0.91091091,  0.92092092,  0.93093093,  0.94094094,\n",
       "        0.95095095,  0.96096096,  0.97097097,  0.98098098,  0.99099099,\n",
       "        1.001001  ,  1.01101101,  1.02102102,  1.03103103,  1.04104104,\n",
       "        1.05105105,  1.06106106,  1.07107107,  1.08108108,  1.09109109,\n",
       "        1.1011011 ,  1.11111111,  1.12112112,  1.13113113,  1.14114114,\n",
       "        1.15115115,  1.16116116,  1.17117117,  1.18118118,  1.19119119,\n",
       "        1.2012012 ,  1.21121121,  1.22122122,  1.23123123,  1.24124124,\n",
       "        1.25125125,  1.26126126,  1.27127127,  1.28128128,  1.29129129,\n",
       "        1.3013013 ,  1.31131131,  1.32132132,  1.33133133,  1.34134134,\n",
       "        1.35135135,  1.36136136,  1.37137137,  1.38138138,  1.39139139,\n",
       "        1.4014014 ,  1.41141141,  1.42142142,  1.43143143,  1.44144144,\n",
       "        1.45145145,  1.46146146,  1.47147147,  1.48148148,  1.49149149,\n",
       "        1.5015015 ,  1.51151151,  1.52152152,  1.53153153,  1.54154154,\n",
       "        1.55155155,  1.56156156,  1.57157157,  1.58158158,  1.59159159,\n",
       "        1.6016016 ,  1.61161161,  1.62162162,  1.63163163,  1.64164164,\n",
       "        1.65165165,  1.66166166,  1.67167167,  1.68168168,  1.69169169,\n",
       "        1.7017017 ,  1.71171171,  1.72172172,  1.73173173,  1.74174174,\n",
       "        1.75175175,  1.76176176,  1.77177177,  1.78178178,  1.79179179,\n",
       "        1.8018018 ,  1.81181181,  1.82182182,  1.83183183,  1.84184184,\n",
       "        1.85185185,  1.86186186,  1.87187187,  1.88188188,  1.89189189,\n",
       "        1.9019019 ,  1.91191191,  1.92192192,  1.93193193,  1.94194194,\n",
       "        1.95195195,  1.96196196,  1.97197197,  1.98198198,  1.99199199])"
      ]
     },
     "execution_count": 20,
     "metadata": {},
     "output_type": "execute_result"
    }
   ],
   "source": [
    "#e incluso podemos poner filtrar datos mediante alguna expresión que de un resultado verdadero o falso (booleano) como resultado\n",
    "v1[v1[:] < 2]"
   ]
  },
  {
   "cell_type": "markdown",
   "metadata": {},
   "source": [
    "## 2. Matplotlib\n",
    "Matplotlib es la librería de graficación por excelencia. Hace gráficos 3D también, pero su fuerte y objetivo general de la vida son los 2D. Vamos a hacer un par de ejemplos para ver lo sencillo que es.\n",
    "\n",
    "Primero importamos y nos generamos un par de arrays para graficar."
   ]
  },
  {
   "cell_type": "code",
   "execution_count": 21,
   "metadata": {
    "collapsed": false
   },
   "outputs": [],
   "source": [
    "import matplotlib.pyplot as plt\n",
    "#tanto en notebook como consola qt de jupyter esto nos permite graficar 'inline'\n",
    "#Otras opciones es qt, tk, gtk (NO anda en Windows)\n",
    "%matplotlib inline\n",
    "plt.style.reload_library()"
   ]
  },
  {
   "cell_type": "code",
   "execution_count": 22,
   "metadata": {
    "collapsed": true
   },
   "outputs": [],
   "source": [
    "x = np.linspace(-5, 5, 2000) #dominio\n",
    "#un par de funciones para graficar\n",
    "y1 = x**2\n",
    "y2 = x**3\n",
    "y3 = x**2 + x**3"
   ]
  },
  {
   "cell_type": "markdown",
   "metadata": {},
   "source": [
    "### La función plot\n",
    "\n",
    "* La primer forma de graficar, la más rápida, es usando la función plot. Vamos a ir viendo la sintaxis junto con los ejemplos, pero en el caso general la forma de conocer la sintaxis es mirando la [documentación](http://matplotlib.org/contents.html) y las [referencias](http://matplotlib.org/api/pyplot_summary.html)."
   ]
  },
  {
   "cell_type": "code",
   "execution_count": 23,
   "metadata": {
    "collapsed": false
   },
   "outputs": [
    {
     "data": {
      "text/plain": [
       "[<matplotlib.lines.Line2D at 0x7d43588>]"
      ]
     },
     "execution_count": 23,
     "metadata": {},
     "output_type": "execute_result"
    },
    {
     "data": {
      "image/png": "[encoded data removed]",
      "text/plain": [
       "<matplotlib.figure.Figure at 0x7cb94a8>"
      ]
     },
     "metadata": {},
     "output_type": "display_data"
    }
   ],
   "source": [
    "plt.plot(x, y1, 'b.') #'b.' le dice que plotee en azul y con puntitos"
   ]
  },
  {
   "cell_type": "code",
   "execution_count": 24,
   "metadata": {
    "collapsed": false
   },
   "outputs": [
    {
     "data": {
      "text/plain": [
       "[<matplotlib.lines.Line2D at 0x7de1400>]"
      ]
     },
     "execution_count": 24,
     "metadata": {},
     "output_type": "execute_result"
    },
    {
     "data": {
      "image/png": "[encoded data removed]",
      "text/plain": [
       "<matplotlib.figure.Figure at 0x7d6d240>"
      ]
     },
     "metadata": {},
     "output_type": "display_data"
    }
   ],
   "source": [
    "plt.plot(x, y1, 'r.') #podemos usar otro color"
   ]
  },
  {
   "cell_type": "code",
   "execution_count": 25,
   "metadata": {
    "collapsed": false
   },
   "outputs": [
    {
     "data": {
      "text/plain": [
       "[<matplotlib.lines.Line2D at 0x8224240>]"
      ]
     },
     "execution_count": 25,
     "metadata": {},
     "output_type": "execute_result"
    },
    {
     "data": {
      "image/png": "[encoded data removed]",
      "text/plain": [
       "<matplotlib.figure.Figure at 0x7db76d8>"
      ]
     },
     "metadata": {},
     "output_type": "display_data"
    }
   ],
   "source": [
    "plt.plot(x, y1, 'r-') #es una función, queda mejor si ploteamos con linea y no con puntos"
   ]
  },
  {
   "cell_type": "code",
   "execution_count": 26,
   "metadata": {
    "collapsed": false
   },
   "outputs": [
    {
     "data": {
      "text/plain": [
       "[<matplotlib.lines.Line2D at 0x8282cc0>,\n",
       " <matplotlib.lines.Line2D at 0x8282e80>]"
      ]
     },
     "execution_count": 26,
     "metadata": {},
     "output_type": "execute_result"
    },
    {
     "data": {
      "image/png": "[encoded data removed]",
      "text/plain": [
       "<matplotlib.figure.Figure at 0x7e18630>"
      ]
     },
     "metadata": {},
     "output_type": "display_data"
    }
   ],
   "source": [
    "plt.plot(x, y1, 'r-', x, y2, 'b-') #y podemos anexar otra"
   ]
  },
  {
   "cell_type": "code",
   "execution_count": 27,
   "metadata": {
    "collapsed": false
   },
   "outputs": [
    {
     "data": {
      "text/plain": [
       "[<matplotlib.lines.Line2D at 0x82e0da0>,\n",
       " <matplotlib.lines.Line2D at 0x82e0f60>,\n",
       " <matplotlib.lines.Line2D at 0x82e6908>]"
      ]
     },
     "execution_count": 27,
     "metadata": {},
     "output_type": "execute_result"
    },
    {
     "data": {
      "image/png": "[encoded data removed]",
      "text/plain": [
       "<matplotlib.figure.Figure at 0x8299ef0>"
      ]
     },
     "metadata": {},
     "output_type": "display_data"
    }
   ],
   "source": [
    "plt.plot(x, y1, 'r-', x, y2, 'b-', x, y3, 'k-') #y otra"
   ]
  },
  {
   "cell_type": "code",
   "execution_count": 28,
   "metadata": {
    "collapsed": false
   },
   "outputs": [
    {
     "data": {
      "text/plain": [
       "<matplotlib.legend.Legend at 0x83084a8>"
      ]
     },
     "execution_count": 28,
     "metadata": {},
     "output_type": "execute_result"
    },
    {
     "data": {
      "image/png": "[encoded data removed]",
      "text/plain": [
       "<matplotlib.figure.Figure at 0x7dedc88>"
      ]
     },
     "metadata": {},
     "output_type": "display_data"
    }
   ],
   "source": [
    "#quiero saber cuál es cuál\n",
    "label = ['$y = x^2$', '$y = x^3$', '$y = x^2 + x^3$'] #qué? no fuiste al taller de LaTex de la FIFA??\n",
    "plt.plot(x, y1, 'r-', x, y2, 'b-', x, y3, 'k-')\n",
    "plt.legend(label, loc='best')"
   ]
  },
  {
   "cell_type": "code",
   "execution_count": 29,
   "metadata": {
    "collapsed": false
   },
   "outputs": [
    {
     "data": {
      "text/plain": [
       "<matplotlib.text.Text at 0xaf2b70>"
      ]
     },
     "execution_count": 29,
     "metadata": {},
     "output_type": "execute_result"
    },
    {
     "data": {
      "image/png": "[encoded data removed]",
      "text/plain": [
       "<matplotlib.figure.Figure at 0xaa7b70>"
      ]
     },
     "metadata": {},
     "output_type": "display_data"
    }
   ],
   "source": [
    "#y que son los ejes?\n",
    "label = ['$y = x^2$', '$y = x^3$', '$y = x^2 + x^3$']\n",
    "plt.plot(x, y1, 'r-', x, y2, 'b-', x, y3, 'k-')\n",
    "plt.legend(label, loc='best')\n",
    "plt.xlabel('x')\n",
    "plt.ylabel('y')"
   ]
  },
  {
   "cell_type": "markdown",
   "metadata": {},
   "source": [
    "### Gráficos re chetos\n",
    "\n",
    "Ya aprendimos a graficar. Si ahora queremos modificar un poco la apariencia del gráfico, tenemos dos formas: con las [style sheets](http://matplotlib.org/users/style_sheets.html) de matplotlib o configurando parámetros a mano. Modofiquemos algunos parámetros a mano (debemos acceder a los rcParams de pyplot) y después veamos algunos estilos predefinidos."
   ]
  },
  {
   "cell_type": "code",
   "execution_count": 30,
   "metadata": {
    "collapsed": false
   },
   "outputs": [
    {
     "data": {
      "text/plain": [
       "<matplotlib.text.Text at 0xc6d860>"
      ]
     },
     "execution_count": 30,
     "metadata": {},
     "output_type": "execute_result"
    },
    {
     "data": {
      "image/png": "[encoded data removed]",
      "text/plain": [
       "<matplotlib.figure.Figure at 0xc279e8>"
      ]
     },
     "metadata": {},
     "output_type": "display_data"
    }
   ],
   "source": [
    "#a mano\n",
    "plt.rcParams[\"figure.figsize\"] = (5 * (1 + np.sqrt(5)) / 2, 5)\n",
    "plt.rcParams[\"lines.linewidth\"] = 2.5\n",
    "plt.rcParams[\"ytick.labelsize\"] = 12\n",
    "plt.rcParams[\"xtick.labelsize\"] = 12\n",
    "plt.rcParams[\"axes.labelsize\"] = 20\n",
    "plt.rcParams[\"axes.grid\"] = True\n",
    "plt.rcParams[\"legend.fontsize\"] = 20\n",
    "\n",
    "plt.plot(x, y1, 'r-', x, y2, 'b-', x, y3, 'k-')\n",
    "plt.legend(label, loc='best')\n",
    "plt.xlabel('x')\n",
    "plt.ylabel('y')"
   ]
  },
  {
   "cell_type": "markdown",
   "metadata": {},
   "source": [
    "Y algunos de los predefinidos:"
   ]
  },
  {
   "cell_type": "code",
   "execution_count": 31,
   "metadata": {
    "collapsed": false
   },
   "outputs": [
    {
     "data": {
      "text/plain": [
       "<matplotlib.text.Text at 0xcbb438>"
      ]
     },
     "execution_count": 31,
     "metadata": {},
     "output_type": "execute_result"
    },
    {
     "data": {
      "image/png": "[encoded data removed]",
      "text/plain": [
       "<matplotlib.figure.Figure at 0xcf0a90>"
      ]
     },
     "metadata": {},
     "output_type": "display_data"
    }
   ],
   "source": [
    "#hay otros estilos de ploteo\n",
    "label = ['$y = x^2$', '$y = x^3$', '$y = x^2 + x^3$']\n",
    "plt.plot(x, y1, 'r-', x, y2, 'b-', x, y3, 'k-')\n",
    "plt.legend(label, loc='best')\n",
    "plt.xlabel('x')\n",
    "plt.ylabel('y')"
   ]
  },
  {
   "cell_type": "code",
   "execution_count": 32,
   "metadata": {
    "collapsed": false
   },
   "outputs": [
    {
     "data": {
      "text/plain": [
       "['ggplot',\n",
       " 'classic',\n",
       " 'seaborn-dark',\n",
       " 'bmh',\n",
       " 'seaborn-deep',\n",
       " 'grayscale',\n",
       " 'seaborn-colorblind',\n",
       " 'seaborn-talk',\n",
       " 'seaborn-ticks',\n",
       " 'seaborn-paper',\n",
       " 'seaborn-darkgrid',\n",
       " 'seaborn-whitegrid',\n",
       " 'seaborn-notebook',\n",
       " 'seaborn-white',\n",
       " 'seaborn-muted',\n",
       " 'seaborn-bright',\n",
       " 'fivethirtyeight',\n",
       " 'dark_background',\n",
       " 'seaborn-dark-palette',\n",
       " 'seaborn-poster',\n",
       " 'seaborn-pastel']"
      ]
     },
     "execution_count": 32,
     "metadata": {},
     "output_type": "execute_result"
    }
   ],
   "source": [
    "#si quiero saber qué estilos puedo usar\n",
    "plt.style.available"
   ]
  },
  {
   "cell_type": "code",
   "execution_count": 33,
   "metadata": {
    "collapsed": false
   },
   "outputs": [
    {
     "data": {
      "text/plain": [
       "<matplotlib.text.Text at 0xb2de80>"
      ]
     },
     "execution_count": 33,
     "metadata": {},
     "output_type": "execute_result"
    },
    {
     "data": {
      "image/png": "[encoded data removed]",
      "text/plain": [
       "<matplotlib.figure.Figure at 0xb3bd30>"
      ]
     },
     "metadata": {},
     "output_type": "display_data"
    }
   ],
   "source": [
    "#probemos algún otro\n",
    "plt.style.use('ggplot')\n",
    "label = ['$y = x^2$', '$y = x^3$', '$y = x^2 + x^3$']\n",
    "plt.plot(x, y1, 'r-', x, y2, 'b-', x, y3, 'k-')\n",
    "plt.legend(label, loc='best')\n",
    "plt.xlabel('x')\n",
    "plt.ylabel('y')"
   ]
  },
  {
   "cell_type": "code",
   "execution_count": null,
   "metadata": {
    "collapsed": true
   },
   "outputs": [],
   "source": [
    "#Ejercicio: ploteen el logaritmo natural y la exponencial, en un mismo gráfico, una roja punteada y otra negra continua. \n",
    "#Y si grafica también f(x) = x... ¿qué pasa interesante?"
   ]
  },
  {
   "cell_type": "markdown",
   "metadata": {},
   "source": [
    "### Yapa Nº2: Subfiguras\n",
    "\n",
    "Matplotlib tiene un mecanismo para hacer subfiguras"
   ]
  },
  {
   "cell_type": "code",
   "execution_count": 34,
   "metadata": {
    "collapsed": false
   },
   "outputs": [
    {
     "data": {
      "image/png": "[encoded data removed]",
      "text/plain": [
       "<matplotlib.figure.Figure at 0xce2198>"
      ]
     },
     "metadata": {},
     "output_type": "display_data"
    },
    {
     "data": {
      "image/png": "[encoded data removed]",
      "text/plain": [
       "<matplotlib.figure.Figure at 0xdd19e8>"
      ]
     },
     "metadata": {},
     "output_type": "display_data"
    },
    {
     "data": {
      "image/png": "[encoded data removed]",
      "text/plain": [
       "<matplotlib.figure.Figure at 0xeb7cc0>"
      ]
     },
     "metadata": {},
     "output_type": "display_data"
    }
   ],
   "source": [
    "plt.style.reload_library()\n",
    "\n",
    "f, (ax1, ax2) = plt.subplots(2, sharex=True) #Devuelve una tupla además de la figura!\n",
    "ax1.plot(x, y1, \"b-\")\n",
    "ax1.set_title('Mismo eje x')\n",
    "ax2.plot(x, y2, \"g-\")\n",
    "\n",
    "f, (ax1, ax2) = plt.subplots(1, 2, sharey=True)\n",
    "ax1.plot(x, y1, \"b-\")\n",
    "ax1.set_title('Mismo eje y')\n",
    "ax2.plot(x, y2, \"g-\")\n",
    "\n",
    "\n",
    "f, (ax1, ax2, ax3) = plt.subplots(3, sharex=True, sharey=True) #Saca el sharey y fijate que pasa!\n",
    "ax1.plot(x, y1, \"b-\")\n",
    "ax1.set_title(\"Comparten ambos ejes\")\n",
    "ax2.plot(x, y2, \"g-\")\n",
    "ax3.plot(x, 20*np.sin(x), \"k-\")\n",
    "f.subplots_adjust(hspace=0)\n",
    "plt.setp([a.get_xticklabels() for a in f.axes[:-1]], visible=False);"
   ]
  },
  {
   "cell_type": "markdown",
   "metadata": {},
   "source": [
    "Algo también útil a veces es un gráfico dentro de otro gráfico"
   ]
  },
  {
   "cell_type": "code",
   "execution_count": 35,
   "metadata": {
    "collapsed": false
   },
   "outputs": [
    {
     "data": {
      "image/png": "[encoded data removed]",
      "text/plain": [
       "<matplotlib.figure.Figure at 0xd61d68>"
      ]
     },
     "metadata": {},
     "output_type": "display_data"
    }
   ],
   "source": [
    "t = np.linspace(-5,5,1000)\n",
    "Y = np.sin(t)\n",
    "Y1 = np.cos(t)\n",
    "\n",
    "fig, ax1 = plt.subplots()\n",
    "\n",
    "# These are in unitless percentages of the figure size. (0,0 is bottom left)\n",
    "left, bottom, width, height = [0.25, 0.6, 0.2, 0.2]\n",
    "ax2 = fig.add_axes([left, bottom, width, height])\n",
    "\n",
    "ax1.plot(t,Y, 'r-')\n",
    "ax2.plot(t,Y1, \"g-\")\n",
    "\n",
    "plt.show()"
   ]
  },
  {
   "cell_type": "markdown",
   "metadata": {},
   "source": [
    "Algo aún más interesante, es hacer un zoom a alguna parte del gráfico. Es engorroso, pero cuando le agarrás la mano queda espectacular"
   ]
  },
  {
   "cell_type": "code",
   "execution_count": 37,
   "metadata": {
    "collapsed": false
   },
   "outputs": [
    {
     "data": {
      "image/png": "[encoded data removed]",
      "text/plain": [
       "<matplotlib.figure.Figure at 0xa318fd0>"
      ]
     },
     "metadata": {},
     "output_type": "display_data"
    }
   ],
   "source": [
    "from mpl_toolkits.axes_grid1.inset_locator import zoomed_inset_axes\n",
    "from mpl_toolkits.axes_grid1.inset_locator import mark_inset\n",
    "\n",
    "fig, ax = plt.subplots()\n",
    "\n",
    "# prepare the demo image\n",
    "x = np.linspace(-5,5,100)\n",
    "y = np.exp(-x**2/2) + 0.1*np.random.rand(100)\n",
    "\n",
    "\n",
    "ax.plot(x,y)\n",
    "\n",
    "axins = zoomed_inset_axes(ax, 5, loc=1)  # zoom = 6\n",
    "axins.plot(x,y)\n",
    "\n",
    "# sub region of the original image\n",
    "x1, x2, y1, y2 = -0.25,0.25 , 1, 1.1\n",
    "axins.set_xlim(x1, x2)\n",
    "axins.set_ylim(y1, y2)\n",
    "\n",
    "plt.xticks(visible=False)\n",
    "plt.yticks(visible=False)\n",
    "\n",
    "# draw a bbox of the region of the inset axes in the parent axes and\n",
    "# connecting lines between the bbox and the inset axes area\n",
    "mark_inset(ax, axins, loc1=2, loc2=4, fc=\"none\", ec=\"0.5\")\n",
    "\n",
    "plt.draw()\n",
    "plt.show()"
   ]
  },
  {
   "cell_type": "markdown",
   "metadata": {},
   "source": [
    "## 3. Laboratorio\n",
    "\n",
    "### Adquisición con [PyVISA](https://pyvisa.readthedocs.org/en/stable/)\n",
    "\n",
    "Pueden ver el [notebook para adquirir con osciloscopio](https://github.com/fifabsas/talleresfifabsas/blob/master/python/ejemplos/adquisicion/osci_rigol.ipynb) en el repo de GitHub de la FIFA."
   ]
  },
  {
   "cell_type": "markdown",
   "metadata": {},
   "source": [
    "### Análisis de datos\n",
    "\n",
    "Ustedes pueden ~~hacer~~ programar el análisis que ~~más les guste~~ puedan. Acá les vamos a mostrar dos formas de hacer un ajuste: la primera es definiendo nosotros una función que haga los cuadrados mínimos; la segunda es mediante los métodos de [scipy.odr](http://docs.scipy.org/doc/scipy/reference/odr.html#module-scipy.odr). Vamos a importar eso cuando lo necesitemos.\n",
    "\n",
    "Antes de ponernos a ajustar, vamos a construirnos algunos datos que simulen a alguna cosa medianamente lineal que podríamos conseguir en un labo. Ya que estamos, les vamos a mostrar cómo pueden guardar e importar archivos de texto con numpy."
   ]
  },
  {
   "cell_type": "code",
   "execution_count": null,
   "metadata": {
    "collapsed": false
   },
   "outputs": [],
   "source": [
    "f = lambda B, x: B[0] * x + B[1] #una lineal\n",
    "N = 200 #este va a ser el número total de datos\n",
    "x = np.linspace(-1, 1, N)\n",
    "ruido = np.random.randn(N) #un array de N elementos random con distribución normal alrededor del 0\n",
    "data = f([5, 2], x) + ruido\n",
    "plt.plot(x, data, 'b.')"
   ]
  },
  {
   "cell_type": "code",
   "execution_count": null,
   "metadata": {
    "collapsed": false
   },
   "outputs": [],
   "source": [
    "#y si tengo errores?\n",
    "errX = np.ones_like(x) * 0.015\n",
    "errY = np.ones_like(x) * .4\n",
    "plt.errorbar(x, data, yerr=errY, xerr=errX, fmt='bo')"
   ]
  },
  {
   "cell_type": "markdown",
   "metadata": {},
   "source": [
    "Veamos como guardar estos datos, sólo para poder mostrarles después como pueden importar datos. Para guardar, usamos np.savetxt y para importar np.loadtxt."
   ]
  },
  {
   "cell_type": "code",
   "execution_count": null,
   "metadata": {
    "collapsed": false
   },
   "outputs": [],
   "source": [
    "archivo = \"./archivo.txt\" #ruta donde van a guardar el archivo\n",
    "np.savetxt(archivo, np.c_[x, data, errX, errY], delimiter='\\t') #np.c_[] para que se guarden como columnas"
   ]
  },
  {
   "cell_type": "markdown",
   "metadata": {},
   "source": [
    "Ahora hagamos como que nunca creamos ningún dato, e importemos lo que acabamos de guardar."
   ]
  },
  {
   "cell_type": "code",
   "execution_count": null,
   "metadata": {
    "collapsed": false
   },
   "outputs": [],
   "source": [
    "xdata, ydata, errx, erry = np.loadtxt(archivo, delimiter='\\t', unpack=True)\n",
    "#xy_data = np.loadtxt(archivo, delimiter='\\t') #unpack es False por default\n",
    "plt.errorbar(xdata, ydata, erry, errx, fmt='bo') #grafiquemos para ver que son lo mismo\n",
    "print(x==xdata, data==ydata, errx==errX, erry==errY)#otro chequeo por si las dudas"
   ]
  },
  {
   "cell_type": "markdown",
   "metadata": {},
   "source": [
    "Ahora si, hagamos un ajuste. Hagamos primero la versión manual: nos definimos una función que haga la regresión lineal. En este caso, la regresión sólo acepta errores en la variable y (ajuste común). Más adelante vemos como odr nos permite ajustar errores en ambas variables."
   ]
  },
  {
   "cell_type": "code",
   "execution_count": null,
   "metadata": {
    "collapsed": false
   },
   "outputs": [],
   "source": [
    "def ajustelineal(x,y,errores):\n",
    "    \"\"\"\n",
    "    Ajusta los datos con una recta lineal en el sentido de max verosimilitud\n",
    "    errores es un array con las desviaciones estándar de los valores y\n",
    "    x es un array con los valores independientes (sin error)\n",
    "    y es un array con los datos medidos que se desea ajustar\n",
    "    ---\n",
    "    Devuelve: slope,intercept,r2,chi2,pcov\n",
    "    pcov es la matriz de covarianza de slope e intercept\n",
    "    slope = slope +- sqrt(pcov[0,0])\n",
    "    intercept = intercept +- sqrt(pcov[1,1])\n",
    "    \"\"\"\n",
    "    import numpy as np\n",
    "    # Supongo mediciones no correlacionadas --> V prop. Id.\n",
    "    # El ajuste es lineal en x, pero puede ser lineal en theta\n",
    "    N = len(x)\n",
    "    A = np.ones((N,2))\n",
    "    A[:,1] = x\n",
    "    Vi = np.diag(1/errores**2)\n",
    "    \n",
    "    pcov = np.linalg.inv( np.dot(np.transpose(A),np.dot(Vi,A)))\n",
    "    theta = np.dot(np.dot(pcov, np.transpose(A)),np.dot(Vi,y))\n",
    "    slope = theta[1]\n",
    "    intercept = theta[0]\n",
    "    \n",
    "    # Coeficiente R2\n",
    "    fit = theta[0]+theta[1]*x\n",
    "    r2 = 1 - sum((y-fit)**2)/sum((y-np.mean(y))**2)\n",
    "    # Coeficiente Chi2\n",
    "    chi2 = np.dot(np.transpose(y-fit),np.dot(Vi,y-fit))/(N-2)\n",
    "    return slope,intercept,r2,chi2,pcov\n"
   ]
  },
  {
   "cell_type": "code",
   "execution_count": null,
   "metadata": {
    "collapsed": false
   },
   "outputs": [],
   "source": [
    "#nos devuelve una tupla con la pendiente, la ordenada, el r^2, el chi^2 y lamatriz de covarianza\n",
    "a, b, r2, chi2, cov = ajustelineal(xdata, ydata, erry)\n",
    "print('Pendiente:', a, '\\nOrdenada:', b, '\\nr²:', r2, '\\nCovarianza:', cov)"
   ]
  },
  {
   "cell_type": "code",
   "execution_count": null,
   "metadata": {
    "collapsed": false
   },
   "outputs": [],
   "source": [
    "plt.errorbar(xdata, ydata, erry, errx, fmt='bo')\n",
    "plt.plot(xdata, f([a, b], xdata), 'r-')\n",
    "plt.legend(['Ajuste casero', 'Datos experimentales'], loc='best')"
   ]
  },
  {
   "cell_type": "markdown",
   "metadata": {},
   "source": [
    "## ¡¡¡¡ERA TAN FACIL DEJAR DE USAR EL ORIYIN!!!!\n",
    "\n",
    "Ahora si, terminemos con esto viendo como ajustar con las funciones de odr. scipy.odr es una interfaz para ODRPACK, una librería de Fortran-77 para hacer regresiones ortogonales (tranquilos, no hace falta aprender Fortran (pero háganlo si quieren!)). Si quieren investigar un poco, tienen la guía de [ODRPACK](http://docs.scipy.org/doc/external/odrpack_guide.pdf). Importemos:"
   ]
  },
  {
   "cell_type": "code",
   "execution_count": null,
   "metadata": {
    "collapsed": true
   },
   "outputs": [],
   "source": [
    "import scipy as sp\n",
    "from scipy import odr"
   ]
  },
  {
   "cell_type": "code",
   "execution_count": null,
   "metadata": {
    "collapsed": false
   },
   "outputs": [],
   "source": [
    "#usamos pesos o covarianzas\n",
    "out = sp.odr.odr(f, [1., 2.], ydata, xdata, wd = 1/errx**2, we = 1/erry**2)\n",
    "out"
   ]
  },
  {
   "cell_type": "markdown",
   "metadata": {},
   "source": [
    "Con un poquito más de control, y paso a paso."
   ]
  },
  {
   "cell_type": "code",
   "execution_count": null,
   "metadata": {
    "collapsed": false
   },
   "outputs": [],
   "source": [
    "#definimos el modelo a usar\n",
    "linear = odr.Model(f)\n",
    "#luego los datos (ver también odr.RealData)\n",
    "data = odr.Data(xdata, ydata, wd = 1/errx**2, we = 1/erry**2)\n",
    "#instanciamos la clase ODR y calculamos con el método run()\n",
    "myodr = odr.ODR(data, linear, beta0=[1., 2.])\n",
    "out2 = myodr.run()\n",
    "#podemos pprintear\n",
    "out2.pprint()\n",
    "out2.beta"
   ]
  },
  {
   "cell_type": "code",
   "execution_count": null,
   "metadata": {
    "collapsed": false
   },
   "outputs": [],
   "source": [
    "#plotiemos todo\n",
    "plt.errorbar(xdata, ydata, erry, errx, fmt='bo')\n",
    "plt.plot(xdata, f([a, b], xdata), 'r-')\n",
    "plt.plot(xdata, f(out2.beta, xdata), 'c-')\n",
    "leyendas = ['Ajuste casero', 'Ajuste con ODR', 'Datos experimentales']\n",
    "plt.legend(leyendas, loc='best')"
   ]
  },
  {
   "cell_type": "markdown",
   "metadata": {},
   "source": [
    "En este caso, como el error en `x` es bastante pequeño el \"algoritmo casero\" y el algoritmo de `ODRPACK` anduvieron igual. Si el error en `x` pasa a ser importante, va a haber diferencias razonables y `ODRPACK` implementa un algoritmo más robusto"
   ]
  },
  {
   "cell_type": "code",
   "execution_count": null,
   "metadata": {
    "collapsed": true
   },
   "outputs": [],
   "source": [
    "#Ejercicio: a partir de x creen una y = a * x**2 + b * x + c. \n",
    "# Hagan el ajuste con ODRPACK, ¿funcionará?"
   ]
  },
  {
   "cell_type": "markdown",
   "metadata": {
    "collapsed": false
   },
   "source": [
    "### Estadística básica\n",
    "Scipy tiene un apartado de [stats](http://docs.scipy.org/doc/scipy/reference/stats.html), que vamos a usar para hacer operaciones simples, después cada uno puede investigar otras cosas (como los test de hipótesis)"
   ]
  },
  {
   "cell_type": "code",
   "execution_count": null,
   "metadata": {
    "collapsed": true
   },
   "outputs": [],
   "source": [
    "from scipy import stats"
   ]
  },
  {
   "cell_type": "code",
   "execution_count": null,
   "metadata": {
    "collapsed": false
   },
   "outputs": [],
   "source": [
    "N = sp.stats.norm(loc=0,scale=1)\n",
    "t = np.linspace(-5,5,1000)\n",
    "plt.plot(t, N.pdf(t))"
   ]
  },
  {
   "cell_type": "markdown",
   "metadata": {},
   "source": [
    "Ahora una herramienta muy útil para obtener información descriptiva"
   ]
  },
  {
   "cell_type": "code",
   "execution_count": null,
   "metadata": {
    "collapsed": false
   },
   "outputs": [],
   "source": [
    "t = np.random.beta(1,1,100) #Busquen lo que es la función beta, y cambien los parámetros\n",
    "print(sp.stats.describe(t))\n",
    "plt.hist(t);"
   ]
  },
  {
   "cell_type": "markdown",
   "metadata": {},
   "source": [
    "Veamos algo interesante del caso de ajuste lineal"
   ]
  },
  {
   "cell_type": "code",
   "execution_count": null,
   "metadata": {
    "collapsed": false
   },
   "outputs": [],
   "source": [
    "residuos = (f([a, b], xdata) - ydata)**2\n",
    "p = plt.hist(residuos, bins=30);\n",
    "t = np.linspace(0, 9, 1000)\n",
    "plt.plot(t, p[0].max() * sp.stats.chi2(df=1).pdf(t),'b-')"
   ]
  },
  {
   "cell_type": "markdown",
   "metadata": {},
   "source": [
    "Si tuviesemos más datos, la $\\chi$-cuadrado de un grado de libertad se acercaría más a los datos. Esto se puede demostrar, pero queda para un curso de estadística"
   ]
  }
 ],
 "metadata": {
  "kernelspec": {
   "display_name": "Python 3",
   "language": "python",
   "name": "python3"
  },
  "language_info": {
   "codemirror_mode": {
    "name": "ipython",
    "version": 3
   },
   "file_extension": ".py",
   "mimetype": "text/x-python",
   "name": "python",
   "nbconvert_exporter": "python",
   "pygments_lexer": "ipython3",
   "version": "3.4.4"
  }
 },
 "nbformat": 4,
 "nbformat_minor": 0
}
