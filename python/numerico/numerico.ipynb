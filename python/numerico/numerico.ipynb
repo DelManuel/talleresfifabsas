{
 "cells": [
  {
   "cell_type": "markdown",
   "metadata": {},
   "source": [
    "# Taller de Python Capítulo 2:  Numérico y Laboratorio\n",
    "\n",
    "![taller_python](logo_fifa.png)"
   ]
  },
  {
   "cell_type": "markdown",
   "metadata": {},
   "source": [
    "## _NumPy_: vectores, matrices y tablas de datos\n",
    "\n",
    "NumPy es LA biblioteca para cálculo vectorial. Además de contener un nuevo [tipo de dato](http://docs.scipy.org/doc/numpy/reference/arrays.ndarray.html) que nos va a ser muy útil para representar vectores y matrices, nos provee de un arsenal de [funciones de todo tipo](https://docs.scipy.org/doc/numpy/reference/routines.html).\n",
    "\n",
    "Vamos a empezar por importar la bliblioteca _numpy_. La sintaxis típica de eso era *import biblio as nombre*:"
   ]
  },
  {
   "cell_type": "code",
   "execution_count": 3,
   "metadata": {
    "collapsed": false
   },
   "outputs": [
    {
     "name": "stdout",
     "output_type": "stream",
     "text": [
      "('El numero e = ', 2.718281828459045)\n",
      "('O el numero Pi = ', 3.141592653589793)\n",
      "1.22464679915e-16\n"
     ]
    }
   ],
   "source": [
    "import numpy as np # con eso voy a poder acceder a las funciones de numpy a través de np.función()\n",
    "\n",
    "# en ejemplo\n",
    "print('El numero e = ', np.e)\n",
    "print('O el numero Pi = ', np.pi)\n",
    "\n",
    "# y podemos calcular senos y cosenos entre otras cosas\n",
    "print(np.sin(np.pi)) # casi cero! guarda con los floats!"
   ]
  },
  {
   "cell_type": "markdown",
   "metadata": {},
   "source": [
    "Todo eso está muy bien, pero lo importante de _numpy_ son los arrays numéricos. Los arrays numéricos nos van a servir para representar vectores (el objeto matemático) o columnas/tablas de datos (el objeto oriyinezco o de laboratorio).\n",
    "\n",
    "La idea es que es parecido a una lista: son muchos números juntos en la misma variable y están indexados (los puedo llamar de a uno dando la posición dentro de la variable). La gran diferencia con las listas de Python es que los arrays de _numpy_ operan de la forma que todos queremos:\n",
    "1. Si sumamos o restamos dos arrays, se suman componente a componente.\n",
    "2. Si multiplicamos o dividimos dos arrays, se multiplican o dividen componente a componente.\n",
    "\n",
    "Veamos ejemplos usando la función *array* para crear arrays básicos."
   ]
  },
  {
   "cell_type": "code",
   "execution_count": 19,
   "metadata": {
    "collapsed": false
   },
   "outputs": [
    {
     "name": "stdout",
     "output_type": "stream",
     "text": [
      "[ 6  8 10 12]\n",
      "[ 5 12 21 32]\n",
      "[1, 2, 3, 4, 5, 6, 7, 8]\n"
     ]
    }
   ],
   "source": [
    "a = np.array([1, 2, 3, 4]) # array toma como argumento un vector_like (lista, tupla, otro array...vector_like)\n",
    "b = np.array([5, 6, 7, 8])\n",
    "\n",
    "print(a + b) # vector suma\n",
    "print(a * b) # acá multiplicó\n",
    "\n",
    "# en el caso de las listas esto era muy molesto\n",
    "l1 = [1, 2, 3, 4]\n",
    "l2 = [5, 6, 7, 8]\n",
    "\n",
    "print(l1 + l2) # sumar concatena\n",
    "# print(l1 * l2) # esto ni siquiera se puede hacer!"
   ]
  },
  {
   "cell_type": "markdown",
   "metadata": {},
   "source": [
    "Y al igual que con las listas, uno puede acceder a elementos específicos de un array:"
   ]
  },
  {
   "cell_type": "code",
   "execution_count": 26,
   "metadata": {
    "collapsed": false
   },
   "outputs": [
    {
     "name": "stdout",
     "output_type": "stream",
     "text": [
      "1 2 3 4\n",
      "8\n",
      "[5 6 7]\n"
     ]
    }
   ],
   "source": [
    "print(a[0], a[1], a[2], a[3]) # son 4 elementos, los indices van del 0 al 3\n",
    "# y más o menos vale todo lo que valía con listas\n",
    "print(b[-1]) # agarro al último elemento de b\n",
    "print(b[0:3]) # desde el primero hasta el 3 (no incluido el final, nunca se incluye)"
   ]
  },
  {
   "cell_type": "markdown",
   "metadata": {},
   "source": [
    "Para facilitar la vida del usuario _numpy_ viene con un montón de rutinas de creación de arrays típicos. En particular, matrices típicas como las identidades o de todos elementos iguales a 1 o 0 y arrays con cierta cantidad de elementos entre dos números (muy útil para crear dominios para gráficos).\n",
    "\n",
    "Veamos ejemplos de esos:"
   ]
  },
  {
   "cell_type": "code",
   "execution_count": 7,
   "metadata": {
    "collapsed": false
   },
   "outputs": [
    {
     "name": "stdout",
     "output_type": "stream",
     "text": [
      "('Equiespaciado lineal:', array([ 0.   ,  0.125,  0.25 ,  0.375,  0.5  ,  0.625,  0.75 ,  0.875,  1.   ]))\n",
      "('Como el range de las listas:', array([ 0. ,  0.1,  0.2,  0.3,  0.4,  0.5,  0.6,  0.7,  0.8,  0.9]))\n",
      "('Identidad de 3x3:', array([[ 1.,  0.,  0.],\n",
      "       [ 0.,  1.,  0.],\n",
      "       [ 0.,  0.,  1.]]))\n",
      "()\n",
      "[[ 0.  0.  0.  0.]\n",
      " [ 0.  0.  0.  0.]\n",
      " [ 0.  0.  0.  0.]\n",
      " [ 0.  0.  0.  0.]]\n",
      "()\n",
      "[[ 1.  1.  1.]\n",
      " [ 1.  1.  1.]]\n",
      "()\n",
      "[[ 1.  0.  0.  0.  0.]\n",
      " [ 0.  1.  0.  0.  0.]\n",
      " [ 0.  0.  1.  0.  0.]\n",
      " [ 0.  0.  0.  1.  0.]\n",
      " [ 0.  0.  0.  0.  1.]]\n",
      "()\n",
      "[[ 0.  0.  1.  0.  0.]\n",
      " [ 0.  0.  0.  1.  0.]\n",
      " [ 0.  0.  0.  0.  1.]\n",
      " [ 0.  0.  0.  0.  0.]\n",
      " [ 0.  0.  0.  0.  0.]]\n"
     ]
    }
   ],
   "source": [
    "# equiespaciados\n",
    "equilin = np.linspace(0, 1, 9) # 10 número equiespaciados linealmente entre 0 y 1\n",
    "print('Equiespaciado lineal:', equilin)\n",
    "\n",
    "arange = np.arange(0, 1, 1./10) # como el range de Python pero puede venir con un paso en coma flotante\n",
    "print('Como el range de las listas:', arange)\n",
    "\n",
    "identidad = np.identity(3)\n",
    "print('Identidad de 3x3:', identidad)\n",
    "print()\n",
    "\n",
    "#otros para que prueben ustedes\n",
    "ceros = np.zeros((4, 4)) # todos ceros, matriz de 4x4\n",
    "unos = np.ones((2,3)) # todos unos, matriz de 2x3\n",
    "ojos = np.eye(5, k=0) # unos en la diagonal, como identidad\n",
    "ojos2 = np.eye(5, k=2) # qué pasó acá?\n",
    "\n",
    "print(ceros)\n",
    "print() \n",
    "print(unos)\n",
    "print()\n",
    "print(ojos)\n",
    "print()\n",
    "print(ojos2)"
   ]
  },
  {
   "cell_type": "markdown",
   "metadata": {},
   "source": [
    "Y antes de seguir, algo que siempre puede ser útil: los arrays tienen ciertas propiedades como su _shape_ (de cuánto por cuánto) y el _dtype_ (qué tipo de cosas tiene adentro). Podemos acceder a estos datos de la siguiente manera:"
   ]
  },
  {
   "cell_type": "code",
   "execution_count": 36,
   "metadata": {
    "collapsed": false
   },
   "outputs": [
    {
     "name": "stdout",
     "output_type": "stream",
     "text": [
      "float64\n",
      "(100, 100)\n"
     ]
    }
   ],
   "source": [
    "x = np.linspace(0, 10, 1000) # ese array tiene 1000 elementos, andar printeando es poco práctico!\n",
    "\n",
    "print(x.dtype) # array.dtype nos dice que tipo de elementos tiene el array\n",
    "ceros = np.zeros((100, 100)) # matriz de 100x100\n",
    "print(ceros.shape) # array.shape nos dice cuántas filas y columnas tiene el array\n",
    "\n",
    "\n",
    "# prueben que pasa cuando le piden el shape a un array con una sola fila o columna como el x"
   ]
  },
  {
   "cell_type": "markdown",
   "metadata": {},
   "source": [
    "---\n",
    "\n",
    "### Ejercicio 1\n",
    "\n",
    "Creen un vector \"dominio\" con 20 valores entre -5 y 5, y un vector \"imagen\" donde la imagen sea la de la función $x^2$"
   ]
  },
  {
   "cell_type": "code",
   "execution_count": null,
   "metadata": {
    "collapsed": true
   },
   "outputs": [],
   "source": [
    "# Realicen el ejercicio 1"
   ]
  },
  {
   "cell_type": "markdown",
   "metadata": {},
   "source": [
    "---\n",
    "\n",
    "### Ejercicio 2\n",
    "\n",
    "Creen una matriz de 15x15 con los números del 1 al 255.\n",
    "\n",
    "*Ayuda*: siempre que puedan utilicen las funciones de creación de arrays de numpy. \n",
    "\n",
    "*Ayuda* bis: la función _reshape_ hace lo que promete (reshapear) y puede tomar tuplas como argumento. (Si, hay que *googlear*. ¿Nunca les pasó?)"
   ]
  },
  {
   "cell_type": "code",
   "execution_count": 8,
   "metadata": {
    "collapsed": true
   },
   "outputs": [],
   "source": [
    "# Realicen el ejercicio 2"
   ]
  },
  {
   "cell_type": "markdown",
   "metadata": {},
   "source": [
    "---\n",
    "\n",
    "## Un poco de algebra lineal con *NumPy*\n",
    "\n",
    "NumPy trae muchas funciones para resolver problemas típicos de algebra lineal usando a los arrays como vectores. El que nos interesa en general es el de autovalores y autovectores y el sistema de ecuaciones lineales, pero empecemos con un ejemplo más fácil:"
   ]
  },
  {
   "cell_type": "code",
   "execution_count": 15,
   "metadata": {
    "collapsed": false
   },
   "outputs": [
    {
     "name": "stdout",
     "output_type": "stream",
     "text": [
      " 1.73205080757\n",
      "1.73205080757\n",
      "True\n"
     ]
    }
   ],
   "source": [
    "# cargamos el módulo de algebra lineal\n",
    "from numpy import linalg\n",
    "v = np.array([1, 1, 1])\n",
    "w = np.array([2, 2, 2])\n",
    "z = np.array([1, 0, 1])\n",
    "\n",
    "norma =linalg.norm(v) # la norma 2 / módulo del vector v\n",
    "print(norma)\n",
    "print(np.sqrt(3)) # calculado a mano\n",
    "print(norma == np.sqrt(3)) # y numpy sabe que son lo mismo"
   ]
  },
  {
   "cell_type": "markdown",
   "metadata": {},
   "source": [
    "Ahora si, usemos los vectores que creamos recién para crear una matriz y digamosle a _NumPy_ que calcule los autovectoresy autovalores de esa matriz:"
   ]
  },
  {
   "cell_type": "code",
   "execution_count": 46,
   "metadata": {
    "collapsed": false
   },
   "outputs": [
    {
     "name": "stdout",
     "output_type": "stream",
     "text": [
      "Los autovalores: [  3.41421356e+00  -1.23150120e-16   5.85786438e-01]\n",
      "\n",
      "Los autovectores: [[  4.39732612e-01   7.07106781e-01  -3.03890631e-01]\n",
      " [  8.79465224e-01  -5.45825614e-17  -6.07781262e-01]\n",
      " [  1.82143212e-01  -7.07106781e-01   7.33656883e-01]]\n"
     ]
    }
   ],
   "source": [
    "matriz = np.array([v, w, z], dtype=np.float64) \n",
    "#eig devuelve una tupla de arrays con los autovalores en un array 1D y los autovec en un array 2D\n",
    "eigens = linalg.eig(matriz)\n",
    "print('Los autovalores:', eigens[0])\n",
    "print()\n",
    "print('Los autovectores:', eigens[1])\n",
    "\n",
    "#se terminó el problema"
   ]
  },
  {
   "cell_type": "markdown",
   "metadata": {},
   "source": [
    "Y para un sistema de ecuaciones del tipo $Ax = b$:"
   ]
  },
  {
   "cell_type": "code",
   "execution_count": 30,
   "metadata": {
    "collapsed": false
   },
   "outputs": [
    {
     "name": "stdout",
     "output_type": "stream",
     "text": [
      "[ 0.67857143  0.07142857  0.03571429]\n"
     ]
    }
   ],
   "source": [
    "mat = np.array([[1, 2, 5], [2, 5, 8], [4, 0, 8]], dtype=np.float64)\n",
    "b = np.array([1, 2, 3])\n",
    "x = linalg.solve(mat, b) #resuelve el sistema A*x = b\n",
    "print x\n",
    "\n",
    "#se terminó el problema"
   ]
  },
  {
   "cell_type": "markdown",
   "metadata": {},
   "source": [
    "Por supuesto, también se puede hacer producto matriz con vector, y... oh si, se pueden calcular *inversas*."
   ]
  },
  {
   "cell_type": "code",
   "execution_count": 33,
   "metadata": {
    "collapsed": false
   },
   "outputs": [
    {
     "name": "stdout",
     "output_type": "stream",
     "text": [
      "[ 1.  2.  3.]\n",
      "[[-1.42857143  0.57142857  0.32142857]\n",
      " [-0.57142857  0.42857143 -0.07142857]\n",
      " [ 0.71428571 -0.28571429 -0.03571429]]\n"
     ]
    }
   ],
   "source": [
    "print np.dot(mat,x)\n",
    "print linalg.inv(mat)"
   ]
  },
  {
   "cell_type": "markdown",
   "metadata": {},
   "source": [
    "--- \n",
    "\n",
    "### Ejercicio 3\n",
    "\n",
    "Parecen incrédulos. Fabriquen entonces la matriz \n",
    "\\begin{equation}\n",
    "A = \n",
    "\\begin{pmatrix}\n",
    "  0 & 1 & \\\\\n",
    "  1 & 0 &  \n",
    "\\end{pmatrix}\n",
    "\\end{equation}\n",
    "\n",
    "\n",
    "cuyos autovalores son $\\lambda_1 = 1$ y $\\lambda_2 = -1 $, hallen sus autovalores y autovectores (a mano y con Python) y calculen $Ax$ con \n",
    "\n",
    "\\begin{equation}\n",
    "x = \n",
    "\\begin{pmatrix}\n",
    "1\\\\0\n",
    "\\end{pmatrix}\n",
    "\\end{equation}"
   ]
  },
  {
   "cell_type": "code",
   "execution_count": 34,
   "metadata": {
    "collapsed": false
   },
   "outputs": [],
   "source": [
    "# Realicen el ejercicio 3"
   ]
  },
  {
   "cell_type": "markdown",
   "metadata": {},
   "source": [
    "---\n",
    "### Ejercicio 4\n",
    "\n",
    "Inventen una matriz de 5x5 (con el método que quieran y ¡que no sea la identidad!) y averigüen si es invertible. Si están prestando atención, saben que para resolver este problema les conviene ver la documentación (Shift+Tab) de numpy.linalg.\n",
    "\n",
    "*Ayuda*: ¿es necesario calcular la inversa? ¿Se acuerdan algo de álgebra lineal? ¿Qué importancia tienen los autovalores?"
   ]
  },
  {
   "cell_type": "code",
   "execution_count": 45,
   "metadata": {
    "collapsed": true
   },
   "outputs": [],
   "source": [
    "# Realicen el ejercicio 4"
   ]
  },
  {
   "cell_type": "markdown",
   "metadata": {},
   "source": [
    "## Gráficos, datos y ajustes"
   ]
  },
  {
   "cell_type": "markdown",
   "metadata": {},
   "source": [
    "Hacer gráficos es lo primero que aprendimos a hacer en *Origin*, así que es lo primero que vamos a aprender para reemplazarlo. Van a ver que no es nada complicado.\n",
    "\n",
    "Primero, debemos importar las bibliotecas necesarias para graficar, *numpy* por si no la teníamos, y de la biblioteca *matplotlib* (que tiene infinitas funciones y posibilidades), solamente *pyplot* de donde sacaremos las funciones que necesitaremos para graficar."
   ]
  },
  {
   "cell_type": "code",
   "execution_count": 36,
   "metadata": {
    "collapsed": false
   },
   "outputs": [],
   "source": [
    "import numpy as np\n",
    "from matplotlib import pyplot as plt\n",
    "# muestra los gráficos en el mismo notebook\n",
    "%matplotlib inline "
   ]
  },
  {
   "cell_type": "markdown",
   "metadata": {},
   "source": [
    "Luego, debemos definir lo que queremos ver ploteado. Definamos un dominio y una función que nos dé una imagen. Por ejemplo, la función $$ \\displaystyle f(x) = Ae^{-x/\\tau}+C $$"
   ]
  },
  {
   "cell_type": "code",
   "execution_count": 2,
   "metadata": {
    "collapsed": false
   },
   "outputs": [],
   "source": [
    "# Definimos la función\n",
    "f = lambda x, A,T,C: A*np.exp(-x/T)+C\n",
    "\n",
    "# Definimos los parámetros\n",
    "A = 1\n",
    "T = 10\n",
    "C = 5\n",
    "\n",
    "# Definimos dominio e imagen\n",
    "x = np.linspace(-20, 20, 100)\n",
    "y = f(x,A,T,C)\n"
   ]
  },
  {
   "cell_type": "markdown",
   "metadata": {},
   "source": [
    "Ahora que tenemos dos vectores del mismo tamaño, uso las función *plot* para graficar, más otras funciones como *grid, title, xlabel, ylabel, legend* que le darán formato presentable a nuestro gráfico."
   ]
  },
  {
   "cell_type": "code",
   "execution_count": 3,
   "metadata": {
    "collapsed": false
   },
   "outputs": [
    {
     "data": {
      "image/png": "[encoded data removed]",
      "text/plain": [
       "<matplotlib.figure.Figure at 0x7fd11d607cf8>"
      ]
     },
     "metadata": {},
     "output_type": "display_data"
    }
   ],
   "source": [
    "# Ploteamos\n",
    "plt.plot(x, y, 'b-', label = 'Modelo')\n",
    "\n",
    "# Detalles del gráfico\n",
    "plt.grid(True) # Para que quede en hoja cuadriculada\n",
    "plt.title('Grafico ejemplo')\n",
    "plt.xlabel('Valores en x')\n",
    "plt.ylabel('Valores en y')\n",
    "plt.legend(loc = 'best') \n",
    "\n",
    "plt.show() # si no usaron %matplotlib inline, esto abre una ventanita con el gráfico\n"
   ]
  },
  {
   "cell_type": "markdown",
   "metadata": {},
   "source": [
    "Notemos que dentro de la función *plot* pusimos como parámetros *b-* que significa que el color que queremos para la curva sea azul, y que el trazo sea una línea continua. Esto es customizable, pueden probar letras de otros colores (*g, r, y, k*) o bien otros trazos. "
   ]
  },
  {
   "cell_type": "code",
   "execution_count": 4,
   "metadata": {
    "collapsed": false
   },
   "outputs": [
    {
     "data": {
      "image/png": "[encoded data removed]",
      "text/plain": [
       "<matplotlib.figure.Figure at 0x7fd0fd829c50>"
      ]
     },
     "metadata": {},
     "output_type": "display_data"
    }
   ],
   "source": [
    "# Ploteamos\n",
    "plt.plot(x, y, 'g*', label = 'Modelo')\n",
    "\n",
    "# Detalles del gráfico\n",
    "plt.grid(True) # Para que quede en hoja cuadriculada\n",
    "plt.title('Grafico ejemplo')\n",
    "plt.xlabel('Valores en x')\n",
    "plt.ylabel('Valores en y')\n",
    "plt.legend(loc = 'best') \n",
    "\n",
    "plt.show()\n"
   ]
  },
  {
   "cell_type": "markdown",
   "metadata": {},
   "source": [
    "Imagino que se les ocurren infinitas cosas para customizar el gráfico. Lugares para buscar esos settings pueden ser el [github de la FIFA](https://github.com/fifabsas/talleresfifabsas/tree/master/python), o también en el [*documentation* de *matplotlib*](http://matplotlib.org/)\n",
    "\n",
    "Vayamos ahora a un caso experimental. Supongamos que tenemos algunos datos medidos de alguna manera. Si los datos se refieren a este modelo, tendremos puntos de esta curva corridos aleatoriamente dentro de $\\sigma^2$ (la varianza o desvío estandar). Para simular esta situación, tomaremos los datos del modelo y le sumaremos algún \"ruido\" estadístico. Usaremos la función de *numpy*, *random.random* para producir un vector de largo igual al vector *y* con números distribuidos entre el 0 y el 1, al multiplicarlo por dos, se distribuirán entre 0 y 2, y al restarle 1 estarán entre -1 y 1. Ahora lo multiplicamos por el 20% del valor del vector *y* solamente para que sea un ejemplo. Y propondremos una incerteza del 10% por ahora en *y* aunque podría incluirse en *x* también."
   ]
  },
  {
   "cell_type": "code",
   "execution_count": 5,
   "metadata": {
    "collapsed": true
   },
   "outputs": [],
   "source": [
    "# Creamos un ruido y lo agregamos a los datos\n",
    "ruido =  (2*(np.random.random(len(y)))-1)*0.2*y\n",
    "y_data = y + ruido\n",
    "\n",
    "# Proponemos un error\n",
    "error_y = 0.1*y\n",
    "#error_x = 0.05*x"
   ]
  },
  {
   "cell_type": "markdown",
   "metadata": {},
   "source": [
    "Lo que resulta en el siguiente gráfico"
   ]
  },
  {
   "cell_type": "code",
   "execution_count": 6,
   "metadata": {
    "collapsed": false
   },
   "outputs": [
    {
     "data": {
      "image/png": "[encoded data removed]",
      "text/plain": [
       "<matplotlib.figure.Figure at 0x7fd11d607d68>"
      ]
     },
     "metadata": {},
     "output_type": "display_data"
    }
   ],
   "source": [
    "plt.plot(x, y, 'b-', label = 'Modelo')\n",
    "plt.plot(x,y_data, 'r.', label = 'Datos')\n",
    "plt.errorbar(x, y_data, error_y, linestyle = 'None')\n",
    "#plt.errorbar(x, y_data, error_y , error_x)\n",
    "\n",
    "# Detalles del gráfico\n",
    "plt.grid(True) # Para que quede en hoja cuadriculada\n",
    "plt.title('Grafico ejemplo')\n",
    "plt.xlabel('Valores en x')\n",
    "plt.ylabel('Valores en y')\n",
    "plt.legend(loc = 'best') \n",
    "\n",
    "plt.show()\n"
   ]
  },
  {
   "cell_type": "markdown",
   "metadata": {},
   "source": [
    "Consideramos valiosos los datos obtenidos. Veamos como desde *numpy* pueden guardarse. Con otra función veamos también cómo se cargan datos, en este caso los mismos, pero en cualquier otro si los datos vienen de un instrumental o de cualquier fuente (ver documentación de estas funciones para poder usarlas en cualquier caso de presentación de datos, por ejemplo con formato *cvs* o cualquier otro)"
   ]
  },
  {
   "cell_type": "code",
   "execution_count": 7,
   "metadata": {
    "collapsed": false
   },
   "outputs": [
    {
     "data": {
      "image/png": "[encoded data removed]",
      "text/plain": [
       "<matplotlib.figure.Figure at 0x7fd0f5d77ac8>"
      ]
     },
     "metadata": {},
     "output_type": "display_data"
    }
   ],
   "source": [
    "# Guardamos y cargamos, a modo de ejemplo\n",
    "\n",
    "np.savetxt('Datos_taller.txt', [x,y_data, error_y], delimiter = '\\t')\n",
    "Data = np.loadtxt('Datos_taller.txt', delimiter = '\\t')\n",
    "\n",
    "plt.plot(Data[0],Data[1], 'r.') # Veamos que son los mismos datos\n",
    "plt.errorbar(Data[0], Data[1], Data[2], linestyle = 'None')\n",
    "plt.show()"
   ]
  },
  {
   "cell_type": "markdown",
   "metadata": {},
   "source": [
    "Obtenidos los datos, queremos el ajuste. aPara eso importamos la biblioteca con la función que usaremos, que aplica cuadrados mínimos para obtener los coeficientes."
   ]
  },
  {
   "cell_type": "code",
   "execution_count": 13,
   "metadata": {
    "collapsed": true
   },
   "outputs": [],
   "source": [
    "from scipy.optimize import curve_fit"
   ]
  },
  {
   "cell_type": "markdown",
   "metadata": {},
   "source": [
    "El algoritmo de cuadrados mínimos necesita la función con la que queremos ajustar, que ya definimos en un renglón como función lambda (¡EN TU CARA ORIGIN!), dominio, los datos, un vector con los valores iniciales de los parámetros desde donde debe comenzar a iterar (un buen valor inicial haría que el tiempo que tarde en converger la solución sea menor, nosotros usaremos los que conocemos y propusimos) y una desviación estandar que hayamos considerado (en nuestro caso el vector *error_y*. \n",
    "\n",
    "La función nos devolverá 2 cosas. Primero, los parámetros optimizados por este algoritmo, ordenados como los pusimos en la función lambda cuando la definimos, que lo guardamos en el vector *popt*. Por otro lado nos dará la *matriz de covarianza*, que tiene en su diagonal los $\\sigma^2$ de cada parámetro, y fuera de ella nos dará el valor de covarianzas entre los parámetros (qué tanto se modifica un parámetro si variáramos un poco otro parámetro). Lo guardaremos en la matriz *pcov* aunque, para un análisis básico, usaremos sólo las varianzas y las guardaremos en un vector llamado *sigmas*."
   ]
  },
  {
   "cell_type": "code",
   "execution_count": 31,
   "metadata": {
    "collapsed": false
   },
   "outputs": [
    {
     "name": "stdout",
     "output_type": "stream",
     "text": [
      "[ 0.68794298  8.31174041  5.33001347] [0.025277527651388246, 0.82622616804029547, 0.018262671020511122]\n"
     ]
    }
   ],
   "source": [
    "# Ajustamos\n",
    "popt, pcov = curve_fit(f, x, y_data, sigma = error_y)\n",
    "sigmas = [pcov[0,0],pcov[1,1], pcov[2,2]]\n",
    "print popt, sigmas"
   ]
  },
  {
   "cell_type": "markdown",
   "metadata": {},
   "source": [
    "Listo, ahora chequeamos con un gráfico que haya ajustado"
   ]
  },
  {
   "cell_type": "code",
   "execution_count": 32,
   "metadata": {
    "collapsed": false
   },
   "outputs": [
    {
     "data": {
      "image/png": "[encoded data removed]",
      "text/plain": [
       "<matplotlib.figure.Figure at 0x7f2723ea0450>"
      ]
     },
     "metadata": {},
     "output_type": "display_data"
    }
   ],
   "source": [
    "plt.plot(x, y, 'b-', label = 'Modelo')\n",
    "plt.plot(x,y_data, 'r.', label = 'Datos')\n",
    "plt.plot(x,f(x, popt[0], popt[1],popt[2]), 'g-', label = 'Ajuste') # Hacemos el gráfico en otro color de\n",
    "                                                                   #la función evaluada en los parámetros ajustados\n",
    "plt.errorbar(x, y_data, error_y, linestyle = 'None')\n",
    "\n",
    "# Detalles del gráfico\n",
    "plt.grid(True)\n",
    "plt.title('Grafico ejemplo')\n",
    "plt.xlabel('Valores en x')\n",
    "plt.ylabel('Valores en y')\n",
    "plt.legend(loc = 'best')\n",
    "\n",
    "plt.show()"
   ]
  },
  {
   "cell_type": "markdown",
   "metadata": {},
   "source": [
    "### Ejercicio 5\n",
    "1. Hagan un ajuste sobre la función $f(x) = Acos(\\omega x)$ con $A = 2$ y $\\omega = 3$ para 40 valores en $Dom = [-\\pi, \\pi]$ con valores que varían el 15% del valor dado por el modelo, y compare los parámetros obtenidos con los dados.\n",
    "2. **Bonus track**: Se puede escribir en LaTeX sobre los gráficos. Averiguen qué biblioteca hace falta importar y presenten los parámetros ajustados en el título."
   ]
  },
  {
   "cell_type": "code",
   "execution_count": 46,
   "metadata": {
    "collapsed": true
   },
   "outputs": [],
   "source": [
    "# Realicen el ejercicio 5"
   ]
  },
  {
   "cell_type": "markdown",
   "metadata": {},
   "source": [
    "## Histogramas\n",
    "\n",
    "Una cosita más que nos va a ser útil a la hora de dejar el Oriyin sin instalar es poder hacer histogramas. Con _pyplot_ eso lo podemos obtener de la función _hist_.\n",
    "\n",
    "Recordemos que en un histograma dividimos una serie de datos en rangos y contamos cuántos de nuestros datos caen en cada rango. A esos rangos se los llama _bins_.\n",
    "\n",
    "_hist_ toma como argumentos un array de números, en cuántos _bins_ queremos dividir a nuestro eje x y algunas otras opciones de color como constante de normalización y color de las barras.\n",
    "\n",
    "Hagamos un histograma simple de un set gaussiano. Para eso, creemos datos alrededor de algún valor medio usando _randn_ de _NumPy_:"
   ]
  },
  {
   "cell_type": "code",
   "execution_count": 40,
   "metadata": {
    "collapsed": false
   },
   "outputs": [
    {
     "data": {
      "image/png": "[encoded data removed]",
      "text/plain": [
       "<matplotlib.figure.Figure at 0x7f805645f1d0>"
      ]
     },
     "metadata": {},
     "output_type": "display_data"
    }
   ],
   "source": [
    "mu, sigma = 100, 15 # mu es mi valor medio, sigma la desviación\n",
    "x = mu + sigma*np.random.randn(10000) # le sumo ruido gaussiano a mu\n",
    "\n",
    "n, bins, patches = plt.hist(x, bins=50, normed=1, facecolor='green', alpha=0.75)\n",
    "# en la variable n se encuentran los datos del histograma\n",
    "# bins es un vector con los bordes de los rangos de datos\n",
    "# patches no nos interesa en general"
   ]
  },
  {
   "cell_type": "markdown",
   "metadata": {},
   "source": [
    "Y ya que estamos, para mostrar cómo afecta la elección de _bins_, graficamos dos histogramas uno arriba del otro."
   ]
  },
  {
   "cell_type": "code",
   "execution_count": 41,
   "metadata": {
    "collapsed": false
   },
   "outputs": [
    {
     "data": {
      "image/png": "[encoded data removed]",
      "text/plain": [
       "<matplotlib.figure.Figure at 0x7f80569422d0>"
      ]
     },
     "metadata": {},
     "output_type": "display_data"
    }
   ],
   "source": [
    "n, bins, patches = plt.hist(x, bins=100, normed=1, facecolor='green', alpha=0.75)\n",
    "n, bins, patches = plt.hist(x, bins=10, normed=1, facecolor='red', alpha=0.75)"
   ]
  },
  {
   "cell_type": "markdown",
   "metadata": {},
   "source": [
    "### Ejercicio 6\n",
    "\n",
    "La función _randn_ que usamos nos brinda números aleatorios distribuidos de manera gaussiana (distribución normal).\n",
    "1. Haga el mismo ejercicio de recién pero con números aleatorios distribuidos de manera uniforme\n",
    "2. Lo mismo pero con números con una distribución de $\\chi^2$"
   ]
  },
  {
   "cell_type": "markdown",
   "metadata": {},
   "source": [
    "## Resolución de un sistema de ecuaciones diferenciales ordinarias (ODE)"
   ]
  },
  {
   "cell_type": "markdown",
   "metadata": {},
   "source": [
    "Vamos con un caso simple y conocido por la mayoría: el infaltable problema del péndulo. Arrancamos desde donde sabemos todos.\n",
    "\n",
    "$$ \\frac{d^2\\theta}{dt^2} + \\omega^2 \\theta = 0$$\n",
    "\n",
    "con $\\omega^2 = \\frac{g}{l}$\n",
    "\n",
    "Para integrar numéricamente, proponemos utilizar la función *odeint* de la biblioteca *scipy.integrate*, y esa función utiliza el [método de Euler](https://es.wikipedia.org/wiki/M%C3%A9todo_de_Euler) para la solución de ODE's, (inserte conocimientos de Cálculo Numérico aquí, sí, dale, cursala antes de recibirte) por lo que, para un problema con derivadas de segundo orden debemos armar un sistema de ecuaciones de primer orden.\n",
    "\n",
    "Sea $\\phi = \\dot{\\theta} \\rightarrow \\dot{\\phi} = \\ddot{\\theta}$\n",
    "\n",
    "Nos queda entonces\n",
    "\n",
    "\\begin{eqnarray}\n",
    "\\dot{\\theta}= \\phi \\\\\n",
    "\\dot{\\phi} = -\\omega^2 \\theta\n",
    "\\end{eqnarray}\n",
    "\n",
    "o bien\n",
    "\\begin{equation}\n",
    "\\begin{pmatrix}\n",
    "\\dot{\\theta} \\\\\n",
    "\\dot{\\phi}\n",
    "\\end{pmatrix}\n",
    "=\n",
    " \\begin{pmatrix}\n",
    "  0         & 1 &  \\\\\n",
    "  -\\omega^2 & 0 &  \n",
    " \\end{pmatrix}\n",
    "\\begin{pmatrix}\n",
    "\\theta \\\\\n",
    "\\phi\n",
    "\\end{pmatrix}\n",
    "\\end{equation}\n",
    "\n",
    "o también\n",
    "\n",
    "$$ \\dot{\\vec{X}} = A \\vec{X}$$\n",
    "\n",
    "Escencialmente, nuestro *odeint* va a intentar resolver ese sistema para distintos *t* mientras le hayamos dado un valor inicial de donde comenzar. Nada demasiado extraño. Así que lo que la función va a necesitar es una función *def* que tome como argumento $\\vec{X}$ y opere para obtener $\\dot{\\vec{X}}$, el valor inicial y los tiempos donde se requiere resuelto, más parámetros como *g* y *l* en este caso."
   ]
  },
  {
   "cell_type": "code",
   "execution_count": 43,
   "metadata": {
    "collapsed": true
   },
   "outputs": [],
   "source": [
    "from scipy.integrate import odeint"
   ]
  },
  {
   "cell_type": "code",
   "execution_count": 44,
   "metadata": {
    "collapsed": false
   },
   "outputs": [
    {
     "data": {
      "image/png": "[encoded data removed]",
      "text/plain": [
       "<matplotlib.figure.Figure at 0x7f805650f690>"
      ]
     },
     "metadata": {},
     "output_type": "display_data"
    }
   ],
   "source": [
    "def ecdif(X,t,g,l):\n",
    "    theta, phi = X\n",
    "    omega2 = g/l\n",
    "    return [phi, -omega2 * theta]\n",
    "\n",
    "g = 9.8\n",
    "l = 2\n",
    "X0 = [np.pi/4,0] # Inicio a 45 grados con velocidad = 0\n",
    "t = np.linspace(0, 10, 101)\n",
    "solucion = odeint(ecdif, X0, t, args = (g,l))\n",
    "\n",
    "plt.plot(t,solucion[:,0], label = 'theta')\n",
    "plt.plot(t,solucion[:,1], label = 'phi')\n",
    "plt.title('Resolucion del pendulo')\n",
    "plt.xlabel('Tiempo')\n",
    "plt.ylabel('Valores')\n",
    "plt.grid(True)\n",
    "plt.legend(loc = 'best')\n",
    "plt.show()"
   ]
  },
  {
   "cell_type": "markdown",
   "metadata": {},
   "source": [
    "Altísimamente recomendado el [resuelto](https://github.com/fifabsas/talleresfifabsas/blob/master/python/Fisica2/oscilador_forzado.py) del oscilador con el *forzante* completo del péndulo sin aproximación y comparado con la solución analítica (sí, esa que sin aproximación no buscó nadie). También recomendamos, a cuento de esto, un pasito más en resolución de ODE's que es una [simulación](https://github.com/fifabsas/talleresfifabsas/blob/master/python/simulacion/simulacion.ipynb) con la biblioteca *ipywidgets* o tantas otras posibles."
   ]
  },
  {
   "cell_type": "markdown",
   "metadata": {},
   "source": [
    "### Ejercicio 7\n",
    "1. Resuelvan el oscilador armónico amortiguado con el parámetro $\\gamma$\n",
    "2. Vuelvan a todas esas guías que nadie terminó, busquen los ejercicios con asterisco, métanlos en Python y aprecien el poder del cálculo numérico."
   ]
  },
  {
   "cell_type": "code",
   "execution_count": null,
   "metadata": {
    "collapsed": true
   },
   "outputs": [],
   "source": []
  },
  {
   "cell_type": "code",
   "execution_count": null,
   "metadata": {
    "collapsed": true
   },
   "outputs": [],
   "source": []
  }
 ],
 "metadata": {
  "anaconda-cloud": {},
  "kernelspec": {
   "display_name": "Python [conda env:py27]",
   "language": "python",
   "name": "conda-env-py27-py"
  },
  "language_info": {
   "codemirror_mode": {
    "name": "ipython",
    "version": 2
   },
   "file_extension": ".py",
   "mimetype": "text/x-python",
   "name": "python",
   "nbconvert_exporter": "python",
   "pygments_lexer": "ipython2",
   "version": "2.7.12"
  }
 },
 "nbformat": 4,
 "nbformat_minor": 0
}
