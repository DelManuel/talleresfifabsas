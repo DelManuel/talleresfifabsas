{
 "cells": [
  {
   "cell_type": "markdown",
   "metadata": {},
   "source": [
    "# Adquisición programada en Python"
   ]
  },
  {
   "cell_type": "markdown",
   "metadata": {},
   "source": [
    "Otra ventaja de la conversión del mundo analógico al digital es la posibilidad de programar nuestro instrumental, dado que es esencialmente una computadora.\n",
    "\n",
    "Programar significa dar órdenes para que la computadora ejecute ciertas órdenes en un determinado orden y una dada cantidad de veces. Pero para comunicarse con la computadora que hará las acciones desde una que nosotros manejamos necesitamos que entre ellas haya un \"lenguaje común\". Eso se llama **protocolo**.\n",
    "\n",
    "En nuestro caso utilizaremos el instrumental *Tektronix*, y tenemos la suerte de que esta empresa haya desarrollado un protocolo de comunicación con las PC, llamado VISA (Virtual Instrument Software Architecture). \n",
    "\n",
    "Según la empresa: *\"is an industry-standard communication protocol. VISA is a Test & Measurement industry standard communication API (Application Programming Interface) for use with test and measurement devices. Some times called a communication driver, VISA allows for the development of programs to be bus independent. Using VISA libraries enables communication for many interfaces such as GPIB, USB, and Ethernet.\"*"
   ]
  },
  {
   "cell_type": "markdown",
   "metadata": {},
   "source": [
    "Una vez establecida la comunicación entre las dos PC's, tenemos que ver cómo pedirle cosas al instrumental en algún lenguaje. Algo de eso ya hicimos, tenemos un software que permite hacer el screenshot del osciloscopio y toma los datos en pantalla, te los guarda en un txt. Lo que vamos a hacer ahora es superar al software \"manual\", y vamos a programarlo para que adquiera N veces, y nos guarde sólo un parámetro de la adquisición, y luego plotee ese parámetro en función de lo que determinemos. Con Python podemos hacer todo eso. "
   ]
  },
  {
   "cell_type": "markdown",
   "metadata": {},
   "source": [
    "## Generador de funciones"
   ]
  },
  {
   "cell_type": "markdown",
   "metadata": {},
   "source": [
    "La biblioteca que utilizaremos para establecer la comunicación PC-instrumental se llama *pyvisa*. Con ella, deberemos crearnos un tipo de variable llamado *Resource Manager*, desde el cual le pediremos información al instrumental. \n",
    "\n",
    "Probaremos esto para un generador de funciones Tektronix"
   ]
  },
  {
   "cell_type": "code",
   "execution_count": null,
   "metadata": {
    "collapsed": true
   },
   "outputs": [],
   "source": [
    "import time\n",
    "\n",
    "import numpy as np\n",
    "import visa\n",
    "\n",
    "rm = visa.ResourceManager() # Creamos al Resource Manager\n",
    "\n",
    "rm.list_resources() # Esto les permitirá ver qué es lo que pyvisa reconoce conectado a la PC\n",
    "\n",
    "resource_name = 'USB0::0x0699::0x0346::C033250::INSTR' # Este es un nombre ejemplo con el cual Pyvisa reconoce al instrumento\n",
    "\n",
    "fungen = rm.open_resource(resource_name) # \"Abrimos la comunicación con el aparato llamándolo por su nombre\n",
    "\n",
    "fungen.write('*IDN?') # Entre otras cosas, nosotros podemos preguntarle al generador de funciones quién es o cómo se hace llamar\n",
    "\n",
    "print(fungen.read())\n"
   ]
  },
  {
   "cell_type": "markdown",
   "metadata": {},
   "source": [
    "Es importante en los pasos que acabamos de dar que reconozcamos cuando Pyvisa reconoce nuestro instrumental y cuando no. Si nos conectamos por USB, eso debería indicarlo (distinto sería si nos conectáramos por puerto GPIB o similares), y si es un instrumento, debería decir \"instr\" o similar. Todos los demás números del nombre del recurso reconocen marca, modelo y número de serie, propio de cada aparato. \n",
    "\n",
    "Notemos que la comunicación, el envío y la recepción de información, se hace por medio de un *write* y un *read*. En el primero, definimos qué string vamos a mandarle al aparato. Esos strings los sabemos si tenemos acceso a su **manual de programación**, y es propio de cada marca y a veces del modelo. En particular, el string *IDN?* lo que hace es solicitarle al aparato su \"identidad\", por lo que este generador de funciones emite y almacena en un *buffer* esa información, disponible si nosotros emitimos un *read*.\n",
    "\n",
    "El equivalente a enviar un string y leer el buffer es la función *query*"
   ]
  },
  {
   "cell_type": "code",
   "execution_count": null,
   "metadata": {
    "collapsed": true
   },
   "outputs": [],
   "source": [
    "print(fungen.query('*IDN?'))"
   ]
  },
  {
   "cell_type": "markdown",
   "metadata": {},
   "source": [
    "A parte de preguntarle cosas, al generador de funciones le puedo setear condiciones, como el voltaje, la frecuencia o el offset de la señal que quiero que genere:"
   ]
  },
  {
   "cell_type": "code",
   "execution_count": null,
   "metadata": {
    "collapsed": true
   },
   "outputs": [],
   "source": [
    "\n",
    "# Rampa logaritmica de frequencias \n",
    "# Los dos primeros numeros (1 y 3) indican los exponentes de los limites(10^1 y 10^3)\n",
    "# El siguiente el numero de pasos\n",
    "for freq in np.logspace(1, 3, 20):\n",
    "    fungen.write('FREQ %f' % freq)\n",
    "    time.sleep(0.1)\n",
    "\n",
    "# Rampa lineal de amplitudes\n",
    "# Los dos primeros numeros (0 y 1) indican los limites.\n",
    "# El siguiente el numero de pasos\n",
    "for amplitude in np.linspace(0, 1, 10):\n",
    "    fungen.write('VOLT %f' % amplitude)\n",
    "    time.sleep(0.1)\n",
    "    \n",
    "    \n",
    "# Rampa lineal de offset\n",
    "# Los dos primeros numeros (0 y 1) indican los limites.\n",
    "# El siguiente el numero de pasos\n",
    "for offset in np.linspace(0, 1, 10):\n",
    "    fungen.write('VOLT:OFFS %f' % offset)\n",
    "    time.sleep(0.1)\n"
   ]
  },
  {
   "cell_type": "markdown",
   "metadata": {},
   "source": [
    "Notemos que la función *write* pretende un caracter como argumento para enviar al generador, lo cual coincide con lo que veniamos diciendo antes. Qué palabras y cómo escribirlas dependerá siempre del instrumental que usemos y de su manual.\n",
    "\n",
    "Es importante que siempre que terminemos de hacer una medición, cerremos la comunicación con el aparato."
   ]
  },
  {
   "cell_type": "code",
   "execution_count": null,
   "metadata": {
    "collapsed": true
   },
   "outputs": [],
   "source": [
    "fungen.close()"
   ]
  },
  {
   "cell_type": "markdown",
   "metadata": {},
   "source": [
    "## Osciloscopio"
   ]
  },
  {
   "cell_type": "markdown",
   "metadata": {},
   "source": [
    "Con el osciloscopio será distinto, porque es más común leer datos que pedirle que haga cosas. Al igual que antes, iniciamos un Resource Manager y abrimos comunicación con el osciloscopio."
   ]
  },
  {
   "cell_type": "code",
   "execution_count": null,
   "metadata": {
    "collapsed": true
   },
   "outputs": [],
   "source": [
    "rm = visa.ResourceManager()\n",
    "\n",
    "rm.list_resources()\n",
    "\n",
    "resource_name = 'USB0::0x0699::0x0363::C065089::INSTR'\n",
    "\n",
    "osci = rm.open_resource(resource_name)\n",
    "\n",
    "osci.query('*IDN?')"
   ]
  },
  {
   "cell_type": "markdown",
   "metadata": {},
   "source": [
    "Bien, para lo siguiente es importante reconocer que los tipos de datos que el osciloscopio nos puede ofrecer se pueden escribir en ASCII o en binario. El ASCII es una forma de enumerar a todos los dígitos y teclas conocidas, es un estándar de representación numérica. El binario es lo que es, un número escrito en binario. Generalmente, el ASCII es más fácil de leer (aunque con cierta dificultad) por un humano, pero eso lo hace más difícil de manipular. En cambio información en binario es mucho más difícil de leer, pero mejor para cálculos.\n",
    "\n",
    "Nosotros le pediremos al osciloscopio que nos escriba en binario"
   ]
  },
  {
   "cell_type": "code",
   "execution_count": null,
   "metadata": {
    "collapsed": true
   },
   "outputs": [],
   "source": [
    "osci.write('DAT:ENC RPB') # Recordar que esto puede depender del instrumental usado y de su sintaxis\n",
    "osci.write('DAT:WID 1')"
   ]
  },
  {
   "cell_type": "markdown",
   "metadata": {},
   "source": [
    "Luego, los datos del osciloscopio los necesitaremos calibrar. Para eso necesitamos ciertos parámetros:"
   ]
  },
  {
   "cell_type": "code",
   "execution_count": null,
   "metadata": {
    "collapsed": true
   },
   "outputs": [],
   "source": [
    "xze, xin, yze, ymu, yoff = osci.query_ascii_values('WFMPRE:XZE?;XIN?;YZE?;YMU?;YOFF?;', separator=';')"
   ]
  },
  {
   "cell_type": "markdown",
   "metadata": {},
   "source": [
    "Luego sí, pedimos que levante la curva en pantalla, y la magia está cuando la ploteamos."
   ]
  },
  {
   "cell_type": "code",
   "execution_count": null,
   "metadata": {
    "collapsed": true
   },
   "outputs": [],
   "source": [
    "data = osci.query_binary_values('CURV?', datatype='B', container=np.array)\n",
    "\n",
    "tiempo = xze + np.arange(len(data)) * xin\n",
    "\n",
    "plt.plot(tiempo, data)"
   ]
  },
  {
   "cell_type": "markdown",
   "metadata": {},
   "source": [
    "![alt text](figure_1.png \"Arte\")"
   ]
  },
  {
   "cell_type": "markdown",
   "metadata": {},
   "source": [
    "Y no olvidemos cerrar la comunicación con el aparato"
   ]
  },
  {
   "cell_type": "code",
   "execution_count": null,
   "metadata": {
    "collapsed": true
   },
   "outputs": [],
   "source": [
    "fungen.close()"
   ]
  },
  {
   "cell_type": "markdown",
   "metadata": {},
   "source": [
    "## Para más información..."
   ]
  },
  {
   "cell_type": "markdown",
   "metadata": {},
   "source": [
    "dirigirse a ventanilla de ventas. Muchas gracias.\n",
    "\n",
    "En este [link](https://github.com/hgrecco/labosdf/tree/master/software/python/instrumentos) podrán acceder a más ejemplos con pyvisa, gentileza de Hernán Grecco."
   ]
  }
 ],
 "metadata": {
  "kernelspec": {
   "display_name": "Python 3",
   "language": "python",
   "name": "python3"
  },
  "language_info": {
   "codemirror_mode": {
    "name": "ipython",
    "version": 3
   },
   "file_extension": ".py",
   "mimetype": "text/x-python",
   "name": "python",
   "nbconvert_exporter": "python",
   "pygments_lexer": "ipython3",
   "version": "3.6.0"
  }
 },
 "nbformat": 4,
 "nbformat_minor": 2
}
