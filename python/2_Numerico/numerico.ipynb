{
 "cells": [
  {
   "cell_type": "markdown",
   "metadata": {},
   "source": [
    "# Taller de Python Capítulo 2:  Numérico y Laboratorio\n",
    "\n",
    "![taller_python](logo_fifa.png)"
   ]
  },
  {
   "cell_type": "markdown",
   "metadata": {},
   "source": [
    "## _Bibliotecas_\n",
    "Ya hemos visto la vez anterior que python tiene varias funciones que vienen \"de fábrica\" como ```help()```, ```print()``` asi tambien como operaciones básicas entre numeros como sumar, restar, etc; también vimos que nosotros podemos crear nustras propias funciones para que hagan lo que necesitemos usando la palabra clave ```def nombre_funcion```. Si uno necesita siempre realizar las mismas operaciones, reutilizará la misma función en todos sus códigos.\n",
    "Por ejemplo: Supongamos que uno quiere calcular ```cos(x)```. Python no viene por defecto con esa operación, uno deberia crear un algoritmo (es decir, una serie de acciones) que calcule el valor del seno de x (cosa que puede ser no trivial), pero es _obvio_ que alguien ya lo hizo antes, alguien ya pensó el algoritmo, lo escribió, y lo utiliza diariamente, si esta persona subió su código a internet, todos podemos aprovechar y utilizarlo sin preocuparnos en cómo hizo esta persona!! Solamente hay que decirle a Python _donde_ es que está guardado esta función. **Esta posibilidad de usar algoritmos de otros es fundamental en la programación, porque es lo que permite que nuestro problema se limite solamente a entender cómo llamar a estos algoritmos ya pensados y no tener que pensarlos cada vez**.\n",
    "\n",
    "Vamos entonces a decirle a python que, además de sus operaciones de fábrica, queremos ampliar nuestro abanico de operaciones matemáticas en todas las opciones que aparecen dentro de la biblioteca \"math\" (una biblioteca es, tal como sugiere el nombre, un archivo con un monton de funciones, objetos y demás).\n"
   ]
  },
  {
   "cell_type": "code",
   "execution_count": 1,
   "metadata": {},
   "outputs": [],
   "source": [
    "import math #Importo a mi programa todo lo que este contenido dentro del archivo \"math\""
   ]
  },
  {
   "cell_type": "markdown",
   "metadata": {},
   "source": [
    "Con esta linea Python entiende que queremos que traiga todo lo que está dentro del archivo \"math\"\n",
    "\n",
    "###### <span style='color:red'>OJO:</span> No todas las bibliotecas vienen instaladas por defecto, si queremos usar una muy rara es probable que tengamos que instalarla nosotros. Las que vamos a utilizar en el curso ya fueron instaladas automaticamente por Anaconda.\n",
    "\n",
    "Macanudo, ahora que Python trajo esa biblioteca, nosotros podemos acceder a su contenido usando la sintaxis ```math.lo_que_haya_dentro_de_math``` por ejemplo, ```math.cos()```"
   ]
  },
  {
   "cell_type": "code",
   "execution_count": 2,
   "metadata": {},
   "outputs": [
    {
     "data": {
      "text/plain": [
       "1.0"
      ]
     },
     "execution_count": 2,
     "metadata": {},
     "output_type": "execute_result"
    }
   ],
   "source": [
    "math.cos(0)"
   ]
  },
  {
   "cell_type": "markdown",
   "metadata": {},
   "source": [
    "Hay una infinidad de bibliotecas o librerías dando vueltas por internet. Muchas veces el problema que queremos solucionar se reduce simplemente a encontrar la librería que tenga la funcionalidad correcta.\n",
    "\n",
    "Ahora continuaremos usando una muy utilizada en nuestro ámbito, la queridisima NumPy."
   ]
  },
  {
   "cell_type": "markdown",
   "metadata": {},
   "source": [
    "## _NumPy_ : vectores, matrices y tablas de datos\n",
    "\n",
    "NumPy (NUMeric PYthon) es **LA** biblioteca para operar sobre vectores de números. Además de contener un nuevo [tipo de dato](http://docs.scipy.org/doc/numpy/reference/arrays.ndarray.html) que nos va a ser muy útil para representar vectores y matrices, nos provee de un arsenal de [funciones de todo tipo](https://docs.scipy.org/doc/numpy/reference/routines.html).\n",
    "\n",
    "Vamos a empezar por importar la bliblioteca _numpy_. La sintaxis típica de eso era *import biblio as nombre*:"
   ]
  },
  {
   "cell_type": "code",
   "execution_count": 3,
   "metadata": {},
   "outputs": [
    {
     "name": "stdout",
     "output_type": "stream",
     "text": [
      "El numero e =  2.718281828459045\n",
      "O el numero Pi =  3.141592653589793\n",
      "1.2246467991473532e-16\n"
     ]
    }
   ],
   "source": [
    "import numpy as np # con eso voy a poder acceder a las funciones de numpy a través de np.función()\n",
    "\n",
    "# en ejemplo\n",
    "print('El numero e = ', np.e)\n",
    "#print(f\"El numero e = {np.e}\")\n",
    "#print(\"El numero e = {}\".format(np.e))\n",
    "\n",
    "print('O el numero Pi = ', np.pi)\n",
    "#print(f\"O el numero Pi = {np.pi}\")\n",
    "#print(\"O el numero Pi = {}\".format(np.pi))\n",
    "\n",
    "\n",
    "# Podemos calcular senos y cosenos de numeros igual que con math!\n",
    "print(np.sin(np.pi)) # casi cero! guarda con los floats!"
   ]
  },
  {
   "cell_type": "markdown",
   "metadata": {},
   "source": [
    "Todo eso está muy bien, pero lo importante de _numpy_ son los arrays numéricos, que van a ser como una lista de números pero con muchos esteroides. Los arrays numéricos nos van a servir para representar vectores (el objeto matemático de \"la tira de números\", no el físico) o columnas/tablas de datos (el objeto oriyinezco o de laboratorio).\n",
    "\n",
    "La idea es que es parecido a una lista: son muchos números juntos en la misma variable y están indexados (los puedo llamar de a uno dando la posición dentro de la variable). La gran diferencia con las listas de Python es que los arrays de _numpy_ operan de la forma que todos queremos:\n",
    "1. Si sumamos o restamos dos arrays, se suman componente a componente.\n",
    "2. Si multiplicamos o dividimos dos arrays, se multiplican o dividen componente a componente.\n",
    "\n",
    "Veamos ejemplos usando la función *array* para crear arrays básicos."
   ]
  },
  {
   "cell_type": "code",
   "execution_count": 4,
   "metadata": {},
   "outputs": [
    {
     "name": "stdout",
     "output_type": "stream",
     "text": [
      "ARRAYS:\n",
      "[1 2 3 4] + [5 6 7 8] =  [ 6  8 10 12]\n",
      "[1 2 3 4] * [5 6 7 8] = [ 5 12 21 32]\n",
      "LISTAS:\n",
      "[5, 6, 7, 8] + [1, 2, 3, 4] = [1, 2, 3, 4, 5, 6, 7, 8]\n"
     ]
    }
   ],
   "source": [
    "array_1 = np.array([1, 2, 3, 4]) # array toma como argumento un vector_like (lista, tupla, otro array...vector_like)\n",
    "array_2 = np.array([5, 6, 7, 8])\n",
    "\n",
    "# Se acuerdan como antes pasabamos de un objeto tipo 'range' a un objeto tipo 'list' porque eran \"parecidos\"?\n",
    "# Aca hacemos lo mismo. Pasamos de un objeto tipo 'list' a un objeto tipo 'ndarray'\n",
    "\n",
    "print(\"ARRAYS:\")\n",
    "print(f\"{array_1} + {array_2} =  {array_1 + array_2}\") # aca los sumo\n",
    "print(f\"{array_1} * {array_2} = {array_1*array_2}\") # acá los multiplico\n",
    "\n",
    "\n",
    "# en el caso de las listas esto era muy molesto\n",
    "lista_1 = [1, 2, 3, 4]\n",
    "lista_2 = [5, 6, 7, 8]\n",
    "print(\"LISTAS:\")\n",
    "print(f\"{lista_2} + {lista_1} = {lista_1 + lista_2}\") # sumar concatena\n",
    "# print(l1 * l2) # esto ni siquiera se puede hacer!"
   ]
  },
  {
   "cell_type": "markdown",
   "metadata": {},
   "source": [
    "Y al igual que con las listas, uno puede acceder a elementos específicos de un array con su índice:"
   ]
  },
  {
   "cell_type": "code",
   "execution_count": 5,
   "metadata": {},
   "outputs": [
    {
     "name": "stdout",
     "output_type": "stream",
     "text": [
      "1 2 3 4\n",
      "8\n",
      "[5 6 7]\n"
     ]
    }
   ],
   "source": [
    "print(array_1[0], array_1[1], array_1[2], array_1[3]) # son 4 elementos, los indices van del 0 al 3\n",
    "\n",
    "# y más o menos vale todo lo que valía con listas\n",
    "print(array_2[-1]) # agarro al último elemento de b\n",
    "print(array_2[0:3]) # desde el primero hasta el 3 (no incluido el final, nunca se incluye)"
   ]
  },
  {
   "cell_type": "markdown",
   "metadata": {},
   "source": [
    "También podemos iterar sobre ellos con _for_ , de las mismas formas que habiamos visto para iterar listas."
   ]
  },
  {
   "cell_type": "code",
   "execution_count": 6,
   "metadata": {},
   "outputs": [
    {
     "name": "stdout",
     "output_type": "stream",
     "text": [
      "array_1:\n",
      "1\n",
      "2\n",
      "3\n",
      "4\n",
      "\n",
      "\n",
      "array_2:\n",
      "5\n",
      "6\n",
      "7\n",
      "8\n"
     ]
    }
   ],
   "source": [
    "print(\"array_1:\")\n",
    "for num in array_1:  # Aca itero sobre los ELEMENTOS de array_1\n",
    "    print(num)\n",
    "\n",
    "print('\\n') # Esto es solo para que agregue una linea nueva y no queden pegados\n",
    "\n",
    "print(\"array_2:\")\n",
    "for j in range(len(array_2)): # Aca itero sobre los INDICES de array_2\n",
    "    print(array_2[j])\n"
   ]
  },
  {
   "cell_type": "markdown",
   "metadata": {},
   "source": [
    "Para crear *arrays* de dos dimensiones (o más), podemos aplicar la función `np.array` sobre una *lista de listas*:"
   ]
  },
  {
   "cell_type": "code",
   "execution_count": 7,
   "metadata": {},
   "outputs": [
    {
     "name": "stdout",
     "output_type": "stream",
     "text": [
      "[[1 2 3]\n",
      " [4 5 6]\n",
      " [7 8 9]]\n"
     ]
    }
   ],
   "source": [
    "c = np.array([[1, 2, 3], [4, 5, 6], [7, 8, 9]]) # cada lista corresponde a una fila de la matriz\n",
    "print(c)\n",
    "\n",
    "# Aca hacer c[0] dara la primer FILA de la matrix. \n",
    "# Si queremos sacar la primer componente habra que hacer c[0, 0]"
   ]
  },
  {
   "cell_type": "markdown",
   "metadata": {},
   "source": [
    "Para facilitar la vida del usuario _numpy_ viene con un montón de rutinas de creación de arrays típicos. En particular, matrices típicas como las identidades o de todos elementos iguales a 1 o 0 y arrays con cierta cantidad de elementos entre dos números (muy útil para crear dominios para gráficos).\n",
    "\n",
    "Veamos ejemplos de esos:"
   ]
  },
  {
   "cell_type": "code",
   "execution_count": 8,
   "metadata": {},
   "outputs": [
    {
     "name": "stdout",
     "output_type": "stream",
     "text": [
      "Numero de puntos fijo: [0.         0.11111111 0.22222222 0.33333333 0.44444444 0.55555556\n",
      " 0.66666667 0.77777778 0.88888889 1.        ]\n",
      "\n",
      "\n",
      "Paso entre puntos fijo: [0.  0.1 0.2 0.3 0.4 0.5 0.6 0.7 0.8 0.9]\n",
      "\n",
      " Identidad de 3×3\n",
      "[[1. 0. 0.]\n",
      " [0. 1. 0.]\n",
      " [0. 0. 1.]]\n",
      "\n",
      "[[0. 0. 0. 0.]\n",
      " [0. 0. 0. 0.]\n",
      " [0. 0. 0. 0.]\n",
      " [0. 0. 0. 0.]]\n",
      "\n",
      "[[1. 1. 1.]\n",
      " [1. 1. 1.]]\n",
      "\n",
      "[[1. 0. 0. 0. 0.]\n",
      " [0. 1. 0. 0. 0.]\n",
      " [0. 0. 1. 0. 0.]\n",
      " [0. 0. 0. 1. 0.]\n",
      " [0. 0. 0. 0. 1.]]\n",
      "\n",
      "[[0. 0. 1. 0. 0.]\n",
      " [0. 0. 0. 1. 0.]\n",
      " [0. 0. 0. 0. 1.]\n",
      " [0. 0. 0. 0. 0.]\n",
      " [0. 0. 0. 0. 0.]]\n"
     ]
    }
   ],
   "source": [
    "# Equiespaciados >> Elijo CANTIDAD DE PUNTOS en un dado intervalo [a, b]\n",
    "equi_linspace = np.linspace(0, 1, 10) # 9 números equiespaciados linealmente entre 0 y 1 (LINear SPACE = linspace)\n",
    "print('Numero de puntos fijo:', equi_linspace) # N-1 puntos entre [0, 1] = {0, 1/n, 2/n, 3/n, ... , n/n = 1}\n",
    "\n",
    "print('\\n')\n",
    "# Equiespaciados >> Elijo EL PASO entre los puntos en un dado intervalo [a, b)\n",
    "equi_arange = np.arange(0, 1, 1./10) # como el range de Python pero puede venir con un paso en coma flotante\n",
    "print('Paso entre puntos fijo:', equi_arange) # {0, paso, 2*paso, ... n*paso} siempre que n*paso<1\n",
    "\n",
    "print('\\n Identidad de 3×3')\n",
    "identidad = np.identity(3)\n",
    "print(identidad)\n",
    "\n",
    "#otros para que prueben ustedes\n",
    "ceros = np.zeros((4, 4)) # todos ceros, matriz de 4x4\n",
    "unos = np.ones((2,3)) # todos unos, matriz de 2x3\n",
    "ojos = np.eye(5, k=0) # unos en la diagonal, como identidad\n",
    "ojos2 = np.eye(5, k=2) # qué pasó acá?\n",
    "\n",
    "print()\n",
    "print(ceros)\n",
    "print() \n",
    "print(unos)\n",
    "print()\n",
    "print(ojos)\n",
    "print()\n",
    "print(ojos2)"
   ]
  },
  {
   "cell_type": "markdown",
   "metadata": {},
   "source": [
    "Y antes de seguir, algo que siempre puede ser útil: los arrays tienen ciertas propiedades como su _shape_ (de cuánto por cuánto) y el _dtype_ (qué tipo de cosas tiene adentro). Podemos acceder a estos datos de la siguiente manera:"
   ]
  },
  {
   "cell_type": "code",
   "execution_count": 15,
   "metadata": {},
   "outputs": [
    {
     "name": "stdout",
     "output_type": "stream",
     "text": [
      "float64\n",
      "(100, 100)\n"
     ]
    }
   ],
   "source": [
    "x = np.linspace(0, 10, 1000) # ese array tiene 1000 elementos, andar printeando es poco práctico!\n",
    "\n",
    "print(x.dtype) # Esto nos dice qué tipo de elemento es x (tener en cuenta que acá no van paréntesis)\n",
    "\n",
    "ceros = np.zeros((100, 100)) # matriz de 100x100\n",
    "print(ceros.shape) # np.shape nos dice cuántas filas y columnas tiene el array\n",
    "# obs: esto es equivalente a:\n",
    "# print(np.shape(ceros))\n",
    "\n",
    "# Prueben qué pasa cuando le piden el shape a un array con una sola fila o columna como el x"
   ]
  },
  {
   "cell_type": "markdown",
   "metadata": {},
   "source": [
    "---\n",
    "\n",
    "### Ejercicio 1\n",
    "\n",
    "Creen un vector con 20 valores entre -5 y 5 llamado ```dominio```, y un vector llamado ```imagen``` que contenga los valores de la función $x^2$ en el mismo intervalo.\n",
    "\n",
    "**Ejercicio 1 _bis_ :** creen otro vector que calcule el valor absoluto de ```dominio``` (Ayuda: googlear \"numpy valor absoluto\")"
   ]
  },
  {
   "cell_type": "markdown",
   "metadata": {},
   "source": [
    "---\n",
    "\n",
    "### Ejercicio 2\n",
    "\n",
    "La idea de este ejercicio es crear una matriz de 16x16 con los números del 1 al 256 siguiendo los pasos:\n",
    "\n",
    "1) Crear un array que contenga los valores 1, 2, ..., 256\n",
    "\n",
    "2) Modificar las dimensiones del array de 1×256 a 16×16\n",
    "\n",
    "*Ayuda*: siempre que puedan utilicen las funciones de creación de arrays de numpy. \n",
    "\n",
    "*Ayuda* bis: la función _np.reshape_ hace lo que promete (reshapear) y puede tomar tuplas como argumento. Vean como usarla ya sea con su documentacion ```help(np.reshape)``` o con google."
   ]
  },
  {
   "cell_type": "markdown",
   "metadata": {},
   "source": [
    "---\n",
    "## Graficar funciones"
   ]
  },
  {
   "cell_type": "markdown",
   "metadata": {},
   "source": [
    "A lo largo de nuestras carreras, y de la vida, nos encontramos con información que queremos **graficar**. Vamos a ver que con la ayuda de la biblioteca ```matplotlib``` esto no es nada complicado.\n",
    "\n",
    "Esta librería es muy grande, por lo que tiene divididas sus funciones en distintos módulos. Para lo que vamos a ver en esta segunda parte nos alcanza con la sublibrería ```pyplot```. Una de las formas de importar esta librería es:\n",
    "```python\n",
    "import matplotlib.pyplot as plt\n",
    "```"
   ]
  },
  {
   "cell_type": "markdown",
   "metadata": {},
   "source": [
    "Podemos usar esta librería, en conjunto con ```numpy``` para graficar las funciones que querramos.\n",
    "\n",
    "Veamos un ejemplo, grafiquemos la función $f(x) = \\sin(x)\\sin(20x)$ entre $0$ y $2\\pi$ (no tienen por qué entender la función, es solo el logo de [Arctic Monkeys](https://c1.staticflickr.com/7/6126/5933658807_601e0b1751_b.jpg))"
   ]
  },
  {
   "cell_type": "code",
   "execution_count": 16,
   "metadata": {},
   "outputs": [
    {
     "data": {
      "image/png": "[encoded data removed]",
      "text/plain": [
       "<Figure size 432x288 with 1 Axes>"
      ]
     },
     "metadata": {
      "needs_background": "light"
     },
     "output_type": "display_data"
    }
   ],
   "source": [
    "import numpy as np\n",
    "import matplotlib.pyplot as plt\n",
    "# La siguiente linea va si estás usando un notebook\n",
    "%matplotlib inline \n",
    "\n",
    "# Definimos la función\n",
    "def f(x): return np.sin(x)*np.sin(20*x)\n",
    "\n",
    "# Definimos el dominio y la imagen\n",
    "x = np.linspace(0, 2*np.pi, 500)\n",
    "y = f(x)\n",
    "\n",
    "# Graficamos la función\n",
    "plt.plot(x, y)\n",
    "plt.show() # Esta linea va si no estás usando un Notenook"
   ]
  },
  {
   "cell_type": "markdown",
   "metadata": {},
   "source": [
    "Desglosemos el código que acabamos de escribir:\n",
    "* Primero escribimos la función que queremos graficar.\n",
    "* Luego, definimos nuestro dominio ```x``` y nuestra imagen ```y```.\n",
    "* Y por último usamos la función de ```plot``` de ```matplotlib.pyplot``` para graficar ```y``` en función de ```x```.\n",
    "\n",
    "**Aclaración 1: plt.show() vs %matplotlib:**\n",
    "En este ejemplo pusimos estas dos lineas, pero son redudantes, solo una de ellas es necesaria. Si están trabajando en un Notebook, o en algo que use un Notebook de fondo, este puede trabajar con gráficos de forma interactiva, por lo que necesitan de la linea ```%matplotlib inline```. En el caso contrario, si están trabajando en un IDLE más usual, o ejecutando Python desde la terminal, necesitan usar la función ```plt.show()``` para mostrar los gráficos. No se vuelvan locos/as con esto, simplemente prueben cuál les funcina! (En Spyder puede funcionar cualquiera de las dos dependiendo de la configuración, pero por defecto se usa ```plt.show()```.)\n",
    "\n",
    "**Aclaración 2:** ```y``` no es una función. Sino que es un _array_ que contiene los números que resultan de aplicarle ```f``` a cada uno de los valores de ```x```. Lo que vemos arriba parece ser una _función continua_ pero en realidad es un conjunto de punto unidos con una línea. Para visualizar mejor esto podemos hacer un gráfico de los puntos que forman el gráfico:\n"
   ]
  },
  {
   "cell_type": "code",
   "execution_count": 17,
   "metadata": {},
   "outputs": [
    {
     "data": {
      "image/png": "[encoded data removed]",
      "text/plain": [
       "<Figure size 432x288 with 1 Axes>"
      ]
     },
     "metadata": {
      "needs_background": "light"
     },
     "output_type": "display_data"
    }
   ],
   "source": [
    "plt.plot(x, y, '.-');"
   ]
  },
  {
   "cell_type": "markdown",
   "metadata": {},
   "source": [
    "#### Qué hace plt.plot()?\n",
    "Esta función que parece mágica lo único que hace es tomar los vectores que le damos como inputs y graficar un punto en cada par de coordenadas $(x,y)$. Además, por defecto une estos puntos con lineas rectas. Por lo tanto, para que la función pueda hacer su trabajo, es necesario que los _array_ ```x``` e ```y``` tengan la misma longitud. Para dejar claro este concepto veamos un ejemplo con pocos puntos escritos a mano:"
   ]
  },
  {
   "cell_type": "code",
   "execution_count": 18,
   "metadata": {},
   "outputs": [
    {
     "data": {
      "image/png": "[encoded data removed]",
      "text/plain": [
       "<Figure size 432x288 with 1 Axes>"
      ]
     },
     "metadata": {
      "needs_background": "light"
     },
     "output_type": "display_data"
    }
   ],
   "source": [
    "coords_en_x = np.array( [0, 2, 6, 8,  10] )\n",
    "coords_en_y = np.array( [2, 4, 6, 14, 14] )\n",
    "\n",
    "plt.plot(coords_en_x, coords_en_y, 'o:r')\n",
    "plt.grid() # Esto me deja poner una grilla detrás!"
   ]
  },
  {
   "cell_type": "markdown",
   "metadata": {},
   "source": [
    "Vemos que los puntos que se grafican son los $(x,y)$ = $\\{(0,2);\\,(2,4);\\,(6,6);\\,(8,14);\\,(10,14)\\}$"
   ]
  },
  {
   "cell_type": "markdown",
   "metadata": {},
   "source": [
    "### Dar formato y estética a los gráficos\n",
    "En los gráficos anteriores cuando usamos ```plt.plot``` agregamos un término opcional para cambiar el color y la forma en la que se muestran los puntos que graficamos. Si usamos ```help(plt.plot)``` vemos que este argumento opcional es el _[fmt]_ y que toma distintos _strings_ con los que se puede cambiar la forma en que se ve el gráfico. La estructura general es\n",
    "```\n",
    "fmt = '[color][marker][line]'\n",
    "```\n",
    "donde _marker_ hace referencia a la forma de los puntitos y _line_ hace referencia a la forma de la linea.\n",
    "\n",
    "Los _strings_ válidos son un montón y los pueden ver en la documentación usando el _help_ o en la [documentación online](https://matplotlib.org/3.2.1/api/_as_gen/matplotlib.pyplot.plot.html) de la función.\n",
    "\n",
    "Acá dejamos algunas de las opciones para que se den una idea:\n",
    "* **color:** 'r' (rojo), 'b' (azul), 'g' (verde), 'm' (magenta), etc\n",
    "* **marker:** '.' (puntito chiquito), 'o' (punto grande), '^' (triángulo), '*' (estrella), etc\n",
    "* **line:** '-' (sólida), '--' (de a rayas), ':' (de a puntos)\n",
    "\n",
    "#### Título, labels y grid\n",
    "Veamos también algunas funciones que nos permiten agregar información a la figura sobre la que estamos trabajando. Veamos un ejemplo con la función de los [Arctic Monkeys](https://c1.staticflickr.com/7/6126/5933658807_601e0b1751_b.jpg)."
   ]
  },
  {
   "cell_type": "code",
   "execution_count": 19,
   "metadata": {},
   "outputs": [
    {
     "data": {
      "image/png": "[encoded data removed]",
      "text/plain": [
       "<Figure size 432x288 with 1 Axes>"
      ]
     },
     "metadata": {
      "needs_background": "light"
     },
     "output_type": "display_data"
    }
   ],
   "source": [
    "import numpy as np\n",
    "import matplotlib.pyplot as plt\n",
    "# La siguiente linea solo es necesaria si estás usando Jupyter Notebook\n",
    "%matplotlib inline \n",
    "\n",
    "# Definimos la función\n",
    "def f(x): return np.sin(x)*np.sin(20*x)\n",
    "\n",
    "# Definimos el dominio y la imagen\n",
    "x = np.linspace(0, 2*np.pi, 500)\n",
    "y = f(x)\n",
    "\n",
    "# Graficamos la función con linea sólida y le ponemos una etiqueta\n",
    "plt.plot(x, y, '-', label='Arctic Monkeys')\n",
    "\n",
    "# Agregamos título y etiquetamos los ejes\n",
    "plt.title('Logo de los Arctic Monkeys', fontsize=16)\n",
    "plt.xlabel('Eje de $\\hat x$')\n",
    "plt.ylabel('Eje de $\\hat y$')\n",
    "\n",
    "plt.grid()\n",
    "plt.legend()\n",
    "plt.show()"
   ]
  },
  {
   "cell_type": "markdown",
   "metadata": {},
   "source": [
    "La mayoría de las funciones son bastante descriptivas. Veamos solo algunas aclaraciones:\n",
    "* El _fontsize_ en el ```plt.title``` es un argumento opcional y también se puede utilizar en el ```plt.xlabel``` o ```plt.ylabel``` por ejemplo.\n",
    "* El ```plt.grid()``` agrega una grid si no exite y la elimina si existe. Si se quiere forzar a que aparezca se puede utilizar ```plt.grid(True)```\n",
    "* El ```plt.legend()``` es el que permite que se muestren los labels asociados a las lineas (en este caso es el \"Arctic Monkeys\"). Esta función tiene algunos parámetros opcionales que pueden probar como el _fontsize_ o el _loc_. (ver ```help(plt.legend)```)\n",
    "* Podemos usar $Latex$ en los labels!"
   ]
  },
  {
   "cell_type": "markdown",
   "metadata": {},
   "source": [
    "### Graficar información guardada y ajustes\n",
    "\n",
    "#### Llevando los datos a Python\n",
    "Muchas veces estamos acostumbrados a guardar los datos en hojas de Excel o en las Hoja de Cálculo de Drive. Python puede leer estas hojas utilizando las librerías adecuadas, pero es más sencillo, y es mejor práctica, exportar estos archivos en CSV para luego leerlos desde ahí.\n",
    "\n",
    "##### Por qué CSV\n",
    "* El formato **CSV (Comma Separated Values)** es abierto y un estándar a la hora de guardar datos de tipo fila o columna. Guardar los datos en Excel o Drive no está mal, pero se dificulta a la hora de pasarle los archivos a un/a colega, los CSV los puede abrir cualquiera! Inclusive, se pueden abrir Excel y Drive si se busca visualizarlo mejor.\n",
    "* Con pocos datos no hay problemas de _lag_ o _crasheos_, pero si son muchos datos: _\"Microsoft Excel dejó de responder\"_.$^1$\n",
    "\n",
    "\n",
    "Acá una imagen de cómo descargar los archivos de Drive en CSV y de cómo se ven una vez en la compu. Es solo un archivo de texto con valores separados con comas, nada místico.\n",
    " \n",
    "![](fig/export_drive_calc_to_csv.gif)\n",
    "\n",
    "$\\scriptsize\\text{1. Para archivos muchos muuuchos datos inclusive los CSV se pueden quedar corto, y para estos casos existen formatos específicos que dependen de la naturaleza de los datos.}$"
   ]
  },
  {
   "cell_type": "markdown",
   "metadata": {},
   "source": [
    "Una vez tenemos el archivo que descargamos podemos leerlo desde Python utilizando numpy. En este caso, la linea es\n",
    "```python\n",
    "data = np.loadtxt('data_exp.csv', delimiter=',', skiprows=1, unpack=True)\n",
    "```\n",
    "\n",
    "Desglosemos esto por argumentos:\n",
    "1. El primer argumento es ubicación del archivo con la ruta respecto del archivo de Python. En este caso tenemos ambos archivos en la misma carpeta por lo que es solo el nombre.\n",
    "2. El segundo argumento, _delimiter_, recibe un _string_ que le indica a Python cómo están separados los valores en nuestro archivo. En este caso es por comas porque son archivos CSV.\n",
    "3. El tercer argumento es más opcional, y nos permite evitar que Python lea algunas lineas del archivo. En nuestro caso pusimos _1_ ya que queremos evitar que lea la primera linea, que dice _\"VAR 1, VAR 2\"_.\n",
    "4. Por qué ```unpack=True```\n",
    "\n",
    "    ```np.loadtxt()``` por defecto te da los valores exactamente como están en el CSV, por lo que en este caso nos daría 2 columnas de datos con 20 filas. Utilizando ```unpack=True``` trasponemos los datos para pasar las columnas a filas, de modo que la primera fila (```data[0]```) sean los datos de _VAR 1_ y la segunda fila (```data[1]```) sean los valores de _VAR 2_. Acá el código utilizando ```unpack=True``` y sin utilizarlo\n",
    "    \n",
    "    También podríamos importarlo sin usar el ```unpack=True``` y luego usar ```data = np.transpose(data)```"
   ]
  },
  {
   "cell_type": "code",
   "execution_count": 20,
   "metadata": {},
   "outputs": [
    {
     "name": "stdout",
     "output_type": "stream",
     "text": [
      "Data sin unpack:\n",
      " [[ 0.    1.93]\n",
      " [ 1.58  1.67]\n",
      " [ 3.16  1.3 ]\n",
      " [ 4.74  0.63]\n",
      " [ 6.32  1.26]\n",
      " [ 7.89  2.38]\n",
      " [ 9.47  2.91]\n",
      " [11.05  2.36]\n",
      " [12.63  3.93]\n",
      " [14.21  4.8 ]\n",
      " [15.79  4.83]\n",
      " [17.37  5.17]\n",
      " [18.95  6.21]\n",
      " [20.53  7.94]\n",
      " [22.11  9.12]\n",
      " [23.68 11.09]\n",
      " [25.26 12.57]\n",
      " [26.84 14.28]\n",
      " [28.42 17.1 ]\n",
      " [30.   20.56]]\n",
      "\n",
      "Data con unpack:\n",
      " [[ 0.    1.58  3.16  4.74  6.32  7.89  9.47 11.05 12.63 14.21 15.79 17.37\n",
      "  18.95 20.53 22.11 23.68 25.26 26.84 28.42 30.  ]\n",
      " [ 1.93  1.67  1.3   0.63  1.26  2.38  2.91  2.36  3.93  4.8   4.83  5.17\n",
      "   6.21  7.94  9.12 11.09 12.57 14.28 17.1  20.56]]\n"
     ]
    }
   ],
   "source": [
    "data = np.loadtxt('data_exp.csv', delimiter=',', skiprows=1)\n",
    "print(f\"Data sin unpack:\\n {data}\")\n",
    "\n",
    "data = np.loadtxt('data_exp.csv', delimiter=',', skiprows=1, unpack=True)\n",
    "print(f\"\\nData con unpack:\\n {data}\")"
   ]
  },
  {
   "cell_type": "markdown",
   "metadata": {},
   "source": [
    "### Graficar datos y hacer ajustes\n",
    "Una vez tenemos los datos en Python podemos graficarlos igual que lo hacíamos antes. Por ahora vamos a graficarlo sin agregar labels para que quede el código más cortito."
   ]
  },
  {
   "cell_type": "code",
   "execution_count": 21,
   "metadata": {},
   "outputs": [
    {
     "data": {
      "image/png": "[encoded data removed]",
      "text/plain": [
       "<Figure size 432x288 with 1 Axes>"
      ]
     },
     "metadata": {
      "needs_background": "light"
     },
     "output_type": "display_data"
    }
   ],
   "source": [
    "import numpy as np\n",
    "import matplotlib.pyplot as plt\n",
    "\n",
    "# Importamos los datos\n",
    "data = np.loadtxt('data_exp.csv', delimiter=',', skiprows=1, unpack=True)\n",
    "var_x, var_y = data # es lo mismo que poner en dos lineas x = data[0] e y = data[1]\n",
    "\n",
    "# Graficamos los datos crudos\n",
    "plt.plot(var_x, var_y, 'o-k', label='Datos')\n",
    "\n",
    "plt.legend()\n",
    "plt.show()"
   ]
  },
  {
   "cell_type": "markdown",
   "metadata": {},
   "source": [
    "Los datos parecen tener un comportamiento exponencial. Para realizar un ajuste podemos usar la función ```curve_fit()``` que nos ofrece la librería/sublibrería ```scipy.optimize```. Veamos cómo funciona con un ejemplo:"
   ]
  },
  {
   "cell_type": "code",
   "execution_count": 22,
   "metadata": {},
   "outputs": [
    {
     "name": "stdout",
     "output_type": "stream",
     "text": [
      "Parámetros óptimos para A y C (popt): [0.97349007 0.10119234]\n",
      "\n",
      "Matriz de covariancia de popt (pcov):\n",
      "[[ 4.92276143e-03 -1.89187399e-04]\n",
      " [-1.89187399e-04  7.51566980e-06]]\n"
     ]
    },
    {
     "data": {
      "image/png": "[encoded data removed]",
      "text/plain": [
       "<Figure size 432x288 with 1 Axes>"
      ]
     },
     "metadata": {
      "needs_background": "light"
     },
     "output_type": "display_data"
    }
   ],
   "source": [
    "# Importo la función desde la librería\n",
    "from scipy.optimize import curve_fit\n",
    "\n",
    "# Declaro la función con la que quiero ajustar con parámetros genéricos\n",
    "def f_ajuste(x, A, C): return A*np.exp(C*x)\n",
    "\n",
    "# Utilizo curve_fit() para el ajuste\n",
    "popt, pcov = curve_fit( f_ajuste, var_x, var_y )\n",
    "\n",
    "# Imprimo en pantalla los valores de popt y pcov\n",
    "print(f'Parámetros óptimos para A y C (popt): {popt}')\n",
    "print(f'\\nMatriz de covariancia de popt (pcov):\\n{pcov}')\n",
    "\n",
    "# Graficamos los datos crudos\n",
    "plt.plot(var_x, var_y, 'o-k', label='Datos')\n",
    "\n",
    "# Graficamos el ajuste\n",
    "A, C = popt\n",
    "var_x_ajuste = var_x\n",
    "var_y_ajuste = f_ajuste(var_x, A, C)\n",
    "plt.plot(var_x_ajuste, var_y_ajuste, '-r', label='Ajuste')\n",
    "\n",
    "# Legend y show\n",
    "plt.legend()\n",
    "plt.show()"
   ]
  },
  {
   "cell_type": "markdown",
   "metadata": {},
   "source": [
    "##### Vemos que la función recibe tres inputs (obligatorios):\n",
    "* **El primer argumento es la función _modelo_ con la que queremos ajustar.**\n",
    "    \n",
    "    La función modelo tiene que tener como primer argumento la variable que corresponde al eje $\\hat x$. Luego se usan los otros argumentos para poner las constantes que queremos hallar (en nuestro caso A y C).\n",
    " \n",
    "* **Los otros dos argumentos son nuestros datos**\n",
    "\n",
    "    Estos son los datos crudos, los que usamos para visualizarlos normalmente.\n",
    "    \n",
    "##### Outputs del ```curve_fit()```\n",
    "* **popt**\n",
    "    \n",
    "    Vemos que ```curve_fit()``` nos devuelve como primer parámetro una lista con los valores óptimos para nuestro ajuste. En este caso son dos porque en la función modelo pusimos dos constantes (A y C). Estos valores vienen ordenados del mismo modo que están en la función modelo por lo que ```popt[0]``` es el A óptimo y ```popt[1]``` es el C óptimo.\n",
    " \n",
    "* **pcov**\n",
    "    \n",
    "    Esta es la matriz de covarianza de los resultados que nos da _popt_. Esta matriz nos da una idea de cuál es el error de este ajuste y de cuán ligados están estos errores entre sí. No es el objetivo del curso dar una clase de estadísitica, pero si conocemos que las variables son independientes podemos obtener el error de nuestros parámetros de ajuste como la raíz cuadrada de la covarianza. Para este ejemplo sería\n",
    "    ```python\n",
    "    err_A = np.sqrt(pcov[0,0])\n",
    "    err_C = np.sqrt(pcov[1,1])\n",
    "    ```\n",
    "    o\n",
    "    ```python\n",
    "    err_A, err_C = np.sqrt(np.diag(pcov))\n",
    "    ```\n",
    "   \n",
    "**Una cosita más:** En este caso pusimos ```var_x_ajuste = var_x```, lo que implica que el dominio para graficar nuestro ajuste tiene 20 puntos (los mismos que var_x), pero como conocemos la función podríamos hacer un linspace del estilo ```np.linspace( min(var_x), max(var_x), 1000 )``` para tener una mejor densidad de puntos."
   ]
  },
  {
   "cell_type": "markdown",
   "metadata": {},
   "source": [
    "#### Error y barras de error\n",
    "* Si ven la [documentación](https://docs.scipy.org/doc/scipy/reference/generated/scipy.optimize.curve_fit.html) de ```curve_fit()``` ven que como parámetro opcional también se le puede agregar el error de nuestros datos.\n",
    "* Si queremos poner barras de error a nuestro gráfico podemos usar ```plt.errorbar()```, que funciona de forma muy similar a ```plt.plot()``` pero nos permite dar un array con los errores o un error constante para todos.\n",
    "\n",
    "#### Guardar un gráfico\n",
    "Una vez tenemos un gráfico podemos guardarlo en el mismo directorio donde tenemos el archivo con el que estamos trabajando utilizando la linea\n",
    "```python\n",
    "plt.savefig('nombre_del_archivo.png')\n",
    "```\n",
    "\n",
    "#### Ejemplo final\n",
    "Perfecto, utilizando todo lo aprendido el código para gráfico completo y exportado sería:"
   ]
  },
  {
   "cell_type": "code",
   "execution_count": 23,
   "metadata": {},
   "outputs": [
    {
     "data": {
      "image/png": "[encoded data removed]",
      "text/plain": [
       "<Figure size 432x288 with 1 Axes>"
      ]
     },
     "metadata": {
      "needs_background": "light"
     },
     "output_type": "display_data"
    },
    {
     "name": "stdout",
     "output_type": "stream",
     "text": [
      "A: 0.9734902098520813 ± 0.07016299437470676\n",
      "C: 0.10119233143377283 ± 0.0027414639445172777\n"
     ]
    }
   ],
   "source": [
    "import numpy as np\n",
    "import matplotlib.pyplot as plt\n",
    "from scipy.optimize import curve_fit\n",
    "\n",
    "# Importamos los datos\n",
    "var_x, var_y = np.loadtxt('data_exp.csv', delimiter=',', skiprows=1, unpack=True)\n",
    "err_var_y = 1.1 * np.ones(len(var_y)) # ponemos que todos los var_y tiene 1.1 de error a modo de ej\n",
    "\n",
    "# Graficamos los datos crudos con su error\n",
    "plt.errorbar(var_x, var_y, yerr=err_var_y, fmt='o-k', label='Datos')\n",
    "\n",
    "# Calculamos el ajuste\n",
    "def f_ajuste(x, A, C): return A*np.exp(C*x)\n",
    "popt, pcov = curve_fit(f_ajuste, var_x, var_y, sigma=err_var_y)\n",
    "A, C = popt\n",
    "\n",
    "# Declaramos nuestro nuevo dominio e imagen y graficamos el ajuste\n",
    "new_var_x = np.linspace(min(var_x), max(var_x), 1000)\n",
    "new_var_y = f_ajuste(new_var_x, A, C)\n",
    "plt.plot(new_var_x, new_var_y, '-r', label='Ajuste exponencial')\n",
    "\n",
    "# Títuo y labels\n",
    "plt.title('Datos y Ajuste Exponencial', fontsize=16)\n",
    "plt.xlabel('Variable 1', fontsize=14)\n",
    "plt.ylabel('Variable 2', fontsize=14)\n",
    "\n",
    "\n",
    "# Grid, legend, save y show\n",
    "plt.grid(True)\n",
    "plt.legend()\n",
    "plt.savefig('ajuste_exponencial.png')\n",
    "plt.show()\n",
    "\n",
    "# Printiamos en pantalla los parámetros óptimos con sus errores\n",
    "err_A, err_C = np.sqrt(np.diag(pcov))\n",
    "print(f'A: {A} ± {err_A}')\n",
    "print(f'C: {C} ± {err_C}')"
   ]
  },
  {
   "cell_type": "markdown",
   "metadata": {},
   "source": [
    "---\n",
    "### Ejercicio 5\n",
    "1. Hagan un ajuste sobre la función $f(x) = Acos(\\omega x)$ con $A = 2$ y $\\omega = 3$ para 40 valores en $Dom = [-\\pi, \\pi]$ con valores que varían el 15% del valor dado por el modelo, y compare los parámetros obtenidos con los dados.\n",
    "2. **Bonus track**: Se puede escribir en LaTeX sobre los gráficos. Averiguen qué biblioteca hace falta importar y presenten los parámetros ajustados en el título.\n",
    "---"
   ]
  },
  {
   "cell_type": "markdown",
   "metadata": {},
   "source": [
    "## Histogramas\n",
    "\n",
    "Una cosita más que nos va a ser útil a la hora de dejar el Oriyin sin instalar es poder hacer histogramas. Con _pyplot_ eso lo podemos obtener de la función _hist_.\n",
    "\n",
    "Recordemos que en un histograma dividimos una serie de datos en rangos y contamos cuántos de nuestros datos caen en cada rango. A esos rangos se los llama _bins_.\n",
    "\n",
    "_hist_ toma como argumentos un array de números, en cuántos _bins_ queremos dividir a nuestro eje x y algunas otras opciones de color como constante de normalización y color de las barras.\n",
    "\n",
    "Hagamos un histograma simple de un set gaussiano. Para eso, creemos datos alrededor de algún valor medio usando _randn_ de _NumPy_:"
   ]
  },
  {
   "cell_type": "code",
   "execution_count": null,
   "metadata": {},
   "outputs": [],
   "source": [
    "mu, sigma = 100, 15 # mu es mi valor medio, sigma la desviación\n",
    "x = mu + sigma*np.random.randn(10000) # le sumo ruido gaussiano a mu\n",
    "\n",
    "n, bins, patches = plt.hist(x, bins=50, normed=1, edgecolor='black', facecolor='green', alpha=0.75)\n",
    "# en la variable n se encuentran los datos del histograma\n",
    "# bins es un vector con los bordes de los rangos de datos\n",
    "# patches no nos interesa en general"
   ]
  },
  {
   "cell_type": "markdown",
   "metadata": {},
   "source": [
    "Y ya que estamos, para mostrar cómo afecta la elección de _bins_, graficamos dos histogramas uno arriba del otro."
   ]
  },
  {
   "cell_type": "code",
   "execution_count": null,
   "metadata": {},
   "outputs": [],
   "source": [
    "n, bins, patches = plt.hist(x, bins=100, normed=1, edgecolor='black', facecolor='green', alpha=0.75)\n",
    "n, bins, patches = plt.hist(x, bins=10, normed=1, edgecolor='black', facecolor='red', alpha=0.5)"
   ]
  },
  {
   "cell_type": "markdown",
   "metadata": {},
   "source": [
    "### Ejercicio 6\n",
    "\n",
    "La función _randn_ que usamos nos brinda números aleatorios distribuidos de manera gaussiana (distribución normal).\n",
    "1. Haga el mismo ejercicio de recién pero con números aleatorios distribuidos de manera uniforme\n",
    "2. Lo mismo pero con números con una distribución de $\\chi^2$"
   ]
  },
  {
   "cell_type": "markdown",
   "metadata": {},
   "source": [
    "## Resolución de un sistema de ecuaciones diferenciales ordinarias (ODE)"
   ]
  },
  {
   "cell_type": "markdown",
   "metadata": {},
   "source": [
    "Vamos con un caso simple y conocido por la mayoría: el infaltable problema del péndulo. Arrancamos desde donde sabemos todos.\n",
    "\n",
    "$$ \\frac{d^2\\theta}{dt^2} + \\omega^2 \\theta = 0$$\n",
    "\n",
    "con $\\omega^2 = \\frac{g}{l}$\n",
    "\n",
    "Para integrar numéricamente, proponemos utilizar la función *odeint* de la biblioteca *scipy.integrate*, y esa función utiliza el [método de Euler](https://es.wikipedia.org/wiki/M%C3%A9todo_de_Euler) para la solución de ODE's, (inserte conocimientos de Cálculo Numérico aquí, sí, dale, cursala antes de recibirte) por lo que, para un problema con derivadas de segundo orden debemos armar un sistema de ecuaciones de primer orden.\n",
    "\n",
    "Sea $\\phi = \\dot{\\theta} \\rightarrow \\dot{\\phi} = \\ddot{\\theta}$\n",
    "\n",
    "Nos queda entonces\n",
    "$$\n",
    "\\begin{align}\n",
    "\\dot{\\theta} = \\phi \\\\\n",
    "\\dot{\\phi} = -\\omega^2 \\theta\n",
    "\\end{align}\n",
    "$$\n",
    "o bien\n",
    "$$\n",
    "\\begin{pmatrix}\n",
    "\\dot{\\theta} \\\\ \n",
    "\\dot{\\phi}\n",
    "\\end{pmatrix}\n",
    "=\n",
    " \\begin{pmatrix}\n",
    "  0 & 1  \\\\ \n",
    "  -\\omega^2 & 0 \n",
    " \\end{pmatrix}\n",
    "\\begin{pmatrix}\n",
    "\\theta \\\\ \n",
    "\\phi \n",
    "\\end{pmatrix}\n",
    "$$\n",
    "o también\n",
    "\n",
    "$$ \\dot{\\vec{X}} = A \\vec{X} $$\n",
    "\n",
    "Escencialmente, nuestro *odeint* va a intentar resolver ese sistema para distintos *t* mientras le hayamos dado un valor inicial de donde comenzar. Nada demasiado extraño. Así que lo que la función va a necesitar es una función *def* que tome como argumento $\\vec{X}$ y opere para obtener $\\dot{\\vec{X}}$, el valor inicial y los tiempos donde se requiere resuelto, más parámetros como $g$ y $l$ en este caso."
   ]
  },
  {
   "cell_type": "code",
   "execution_count": null,
   "metadata": {},
   "outputs": [],
   "source": [
    "from scipy.integrate import odeint"
   ]
  },
  {
   "cell_type": "code",
   "execution_count": null,
   "metadata": {},
   "outputs": [],
   "source": [
    "def ecdif(X,t,g,l):\n",
    "    theta, phi = X\n",
    "    omega2 = g/l\n",
    "    return [phi, -omega2 * theta]\n",
    "\n",
    "g = 9.8\n",
    "l = 2\n",
    "X0 = [np.pi/4,0] # Inicio a 45 grados con velocidad = 0\n",
    "t = np.linspace(0, 10, 101)\n",
    "solucion = odeint(ecdif, X0, t, args = (g,l))\n",
    "\n",
    "plt.plot(t,solucion[:,0], label = 'theta')\n",
    "plt.plot(t,solucion[:,1], label = 'phi')\n",
    "plt.title('Resolucion del pendulo')\n",
    "plt.xlabel('Tiempo')\n",
    "plt.ylabel('Valores')\n",
    "plt.grid(True)\n",
    "plt.legend(loc = 'best')\n",
    "plt.show()"
   ]
  },
  {
   "cell_type": "markdown",
   "metadata": {},
   "source": [
    "Altísimamente recomendado el [resuelto](https://github.com/fifabsas/talleresfifabsas/blob/master/python/Fisica2/oscilador_forzado.py) del oscilador con el *forzante* completo del péndulo sin aproximación y comparado con la solución analítica (sí, esa que sin aproximación no buscó nadie). También recomendamos, a cuento de esto, un pasito más en resolución de ODE's que es una [simulación](https://github.com/fifabsas/talleresfifabsas/blob/master/python/simulacion/simulacion.ipynb) con la biblioteca *ipywidgets* o tantas otras posibles."
   ]
  },
  {
   "cell_type": "markdown",
   "metadata": {},
   "source": [
    "### Ejercicio 7\n",
    "1. Resuelvan el oscilador armónico amortiguado con el parámetro $\\gamma$\n",
    "2. Vuelvan a todas esas guías que nadie terminó, busquen los ejercicios con asterisco, métanlos en Python y aprecien el poder del cálculo numérico."
   ]
  },
  {
   "cell_type": "markdown",
   "metadata": {},
   "source": [
    "---\n",
    "\n",
    "## Un poco de algebra lineal con *NumPy*\n",
    "\n",
    "NumPy trae muchas funciones para resolver problemas típicos de algebra lineal usando a los arrays como vectores. El que nos interesa en general es el de autovalores y autovectores y el sistema de ecuaciones lineales, pero empecemos con un ejemplo más fácil:"
   ]
  },
  {
   "cell_type": "code",
   "execution_count": null,
   "metadata": {},
   "outputs": [],
   "source": [
    "# cargamos el módulo de algebra lineal\n",
    "from numpy import linalg\n",
    "v = np.array([1, 1, 1])\n",
    "w = np.array([2, 2, 2])\n",
    "z = np.array([1, 0, 1])\n",
    "\n",
    "norma =linalg.norm(v) # la norma 2 / módulo del vector v\n",
    "print(norma)\n",
    "print(np.sqrt(v[0]**2 + v[1]**2 + v[2]**2)) # calculado a mano == sqrt(3)\n",
    "print(norma == np.sqrt(3)) # y numpy sabe que son lo mismo"
   ]
  },
  {
   "cell_type": "markdown",
   "metadata": {},
   "source": [
    "Ahora si, usemos los vectores que creamos recién para crear una matriz y digamosle a _NumPy_ que calcule los autovectoresy autovalores de esa matriz:"
   ]
  },
  {
   "cell_type": "code",
   "execution_count": null,
   "metadata": {},
   "outputs": [],
   "source": [
    "matriz = np.array([v, w, z], dtype=np.float64) \n",
    "#eig devuelve una tupla de arrays con los autovalores en un array 1D y los autovec en un array 2D\n",
    "eigens = linalg.eig(matriz)\n",
    "\n",
    "autvals, autvecs = eigens\n",
    "\n",
    "print('Los autovalores:', autvals)\n",
    "print()\n",
    "print('Los autovectores:', autvecs)\n",
    "\n",
    "#se terminó el problema"
   ]
  },
  {
   "cell_type": "markdown",
   "metadata": {},
   "source": [
    "Si hay algun desconfiado por ahi dando vueltas, podemos verificar que son autovectores"
   ]
  },
  {
   "cell_type": "code",
   "execution_count": null,
   "metadata": {},
   "outputs": [],
   "source": [
    "for i in range(len(autvecs)):\n",
    "    print(\"M . v1 = \", np.dot(matriz, np.transpose(autvecs[i])))\n",
    "    print(\"λ1 . v1 = \",  autvals[i]*autvecs[i])\n",
    "    print()"
   ]
  },
  {
   "cell_type": "markdown",
   "metadata": {},
   "source": [
    "Y para un sistema de ecuaciones del tipo $Ax = b$:"
   ]
  },
  {
   "cell_type": "code",
   "execution_count": null,
   "metadata": {},
   "outputs": [],
   "source": [
    "mat = np.array([[1, 2, 5], [2, 5, 8], [4, 0, 8]], dtype=np.float64)\n",
    "b = np.array([1, 2, 3])\n",
    "x = linalg.solve(mat, b) #resuelve el sistema A*x = b\n",
    "print(x)\n",
    "\n",
    "#se terminó el problema"
   ]
  },
  {
   "cell_type": "markdown",
   "metadata": {},
   "source": [
    "Por supuesto, también se puede hacer producto matriz con vector, y... oh si, se pueden calcular *inversas*."
   ]
  },
  {
   "cell_type": "code",
   "execution_count": null,
   "metadata": {},
   "outputs": [],
   "source": [
    "print np.dot(mat,x)\n",
    "print linalg.inv(mat)"
   ]
  },
  {
   "cell_type": "markdown",
   "metadata": {},
   "source": [
    "--- \n",
    "\n",
    "### Ejercicio 3\n",
    "\n",
    "Parecen incrédulos. Fabriquen entonces la matriz \n",
    "$$\n",
    "\\begin{equation}\n",
    "A = \n",
    "\\begin{pmatrix}\n",
    "  0 & 1 \\\\\n",
    "  1 & 0  \n",
    "\\end{pmatrix}\n",
    "\\end{equation}\n",
    "$$\n",
    "\n",
    "cuyos autovalores son $\\lambda_1 = 1$ y $\\lambda_2 = -1 $, hallen sus autovalores y autovectores (a mano y con Python) y calculen $Ax$ con \n",
    "$$\n",
    "\\begin{equation}\n",
    "x = \n",
    "\\begin{pmatrix}\n",
    "1\\\\0\n",
    "\\end{pmatrix}\n",
    "\\end{equation}\n",
    "$$"
   ]
  },
  {
   "cell_type": "markdown",
   "metadata": {},
   "source": [
    "---\n",
    "### Ejercicio 4\n",
    "\n",
    "Inventen una matriz de 5x5 (con el método que quieran y ¡que no sea la identidad!) y averigüen si es invertible. Si están prestando atención, saben que para resolver este problema les conviene ver la documentación (Shift+Tab) de numpy.linalg.\n",
    "\n",
    "*Ayuda*: ¿es necesario calcular la inversa? ¿Se acuerdan algo de álgebra lineal? ¿Qué importancia tienen los autovalores?"
   ]
  },
  {
   "cell_type": "markdown",
   "metadata": {},
   "source": [
    "# Cálculo simbólico"
   ]
  },
  {
   "cell_type": "markdown",
   "metadata": {},
   "source": [
    "Ahora no sólo nos vamos a emancipar del *Origin*, sino también del bendito *Wolfram Alpha*. Así es, Python nos va a permitir hacer cálculos simbólicos, como las integrales que nunca supimos calcular. Todo eso y más, en el paquete **SymPy**:\n",
    "\n",
    "Hemos dicho que en general no es una buena práctica, pero este es uno de los pocos casos para los cuales se justifica importar toda la librería."
   ]
  },
  {
   "cell_type": "code",
   "execution_count": null,
   "metadata": {},
   "outputs": [],
   "source": [
    "from sympy import *"
   ]
  },
  {
   "cell_type": "markdown",
   "metadata": {},
   "source": [
    "Les daremos ahora un breve tour por algunas de las funciones que nos ofrece *SymPy*. Así como *numpy* nos introdujo el array como tipo de variable, las expresiones algebraicas en *sympy* son del tipo *symbols*. Estas pueden representar números enteros, reales, funciones, etc.\n",
    "\n",
    "A diferencia de las librerías anteriores, en las cuales usualmente escribimos los comandos dentro de un archivo a ejectutar todo junto (*script*); a modo de demostración utilizaremos *SymPy* de forma *interactiva*. Esta es posiblemente la manera en la que usaron *Wolfram Alpha* (para quienes lo hayan hecho).\n",
    "\n",
    "Una forma conveniente para empezar es utilizando el siguiente comando:"
   ]
  },
  {
   "cell_type": "code",
   "execution_count": null,
   "metadata": {},
   "outputs": [],
   "source": [
    "init_session(use_latex='matplotlib') #el argumento nos permite renderear los resultados con el latex de matplotlib"
   ]
  },
  {
   "cell_type": "markdown",
   "metadata": {},
   "source": [
    "Vimos aquí que una cantidad de variables se definieron como *symbols* de distintos tipos.\n",
    "Veamos ahora algunas de las posibilidades que tenemos:"
   ]
  },
  {
   "cell_type": "code",
   "execution_count": null,
   "metadata": {},
   "outputs": [],
   "source": [
    "expand( (x + y)**5 )"
   ]
  },
  {
   "cell_type": "code",
   "execution_count": null,
   "metadata": {},
   "outputs": [],
   "source": [
    "factor( x**6 - 1 )"
   ]
  },
  {
   "cell_type": "markdown",
   "metadata": {},
   "source": [
    "Utilizando variables simbólicas de tipo integer, podemos hacer algunas sumatorias, por ejemplo, la famosa $$\\sum_{k=0}^{m}k$$"
   ]
  },
  {
   "cell_type": "code",
   "execution_count": null,
   "metadata": {},
   "outputs": [],
   "source": [
    "Sum(k, (k,0,m) ).doit().factor()  #el comando .doit() evalúa la suma"
   ]
  },
  {
   "cell_type": "markdown",
   "metadata": {},
   "source": [
    "O incluso algunas series, como $$ \\sum_{n=1}^{\\infty}\\frac{1}{n^2} $$"
   ]
  },
  {
   "cell_type": "code",
   "execution_count": null,
   "metadata": {},
   "outputs": [],
   "source": [
    "Sum(1/n**2, (n, 1, oo)).doit() #el infinito se escribe como oo (dos o minúscula)"
   ]
  },
  {
   "cell_type": "markdown",
   "metadata": {},
   "source": [
    "Posiblemente si queremos algo de cálculo simbólico, sea para calcular derivadas e integrales que nos molesten. Veamos algunos ejemplos:\n",
    "$$\\dfrac{\\text{d}x^n}{\\text{d}x}$$"
   ]
  },
  {
   "cell_type": "code",
   "execution_count": null,
   "metadata": {},
   "outputs": [],
   "source": [
    "diff(x**n , x).simplify()"
   ]
  },
  {
   "cell_type": "markdown",
   "metadata": {},
   "source": [
    "$$\\dfrac{\\partial^2}{\\partial y \\partial x}\\left( x\\sin{y} \\right)$$"
   ]
  },
  {
   "cell_type": "code",
   "execution_count": null,
   "metadata": {},
   "outputs": [],
   "source": [
    "diff(x*sin(y), x, y) #qué pasa si en lugar de x,y ponemos y,y?"
   ]
  },
  {
   "cell_type": "markdown",
   "metadata": {},
   "source": [
    "$$\\int \\dfrac{1}{1+x^2}\\text{d}x$$"
   ]
  },
  {
   "cell_type": "code",
   "execution_count": null,
   "metadata": {},
   "outputs": [],
   "source": [
    "integrate(1/(1+x**2), x)"
   ]
  },
  {
   "cell_type": "markdown",
   "metadata": {},
   "source": [
    "$$\\int_{-\\infty}^{+\\infty} \\dfrac{\\sin(x)}{x}\\text{d}x$$"
   ]
  },
  {
   "cell_type": "code",
   "execution_count": null,
   "metadata": {},
   "outputs": [],
   "source": [
    "integrate( sin(x)/x, (x,-oo,oo)  )"
   ]
  },
  {
   "cell_type": "markdown",
   "metadata": {},
   "source": [
    "### Ejercicio 9"
   ]
  },
  {
   "cell_type": "markdown",
   "metadata": {},
   "source": [
    "Calculen la siguiente integral:  $$ \\int_{-\\infty}^{+\\infty} e^{-x^2} \\text{d}x $$ (opcional: verificar el resultado a mano!)"
   ]
  },
  {
   "cell_type": "code",
   "execution_count": null,
   "metadata": {},
   "outputs": [],
   "source": [
    "# Realicen el ejercicio 9"
   ]
  },
  {
   "cell_type": "markdown",
   "metadata": {},
   "source": [
    "## Integración numérica\n",
    "Siempre es útil tener a mano una rutina de integración numérica. Puede ser para el caso en el cual la integral analítica sea muy complicada o no estándar. También es fundamental para poder integrar datos obtenidos experimentalmente, sin asumir alguna función que los modele. Para ambos casos, el paquete relevante será `scipy.integrate`"
   ]
  },
  {
   "cell_type": "markdown",
   "metadata": {},
   "source": [
    "### A partir de una función predefinida\n",
    "En este caso, la función a importar es `quad`"
   ]
  },
  {
   "cell_type": "code",
   "execution_count": null,
   "metadata": {},
   "outputs": [],
   "source": [
    "from scipy.integrate import quad"
   ]
  },
  {
   "cell_type": "markdown",
   "metadata": {},
   "source": [
    "Definamos una función para ser integrada. A modo de ejemplo, calcularemos \n",
    "\n",
    "$$\\int_a^b \\dfrac{\\text{e}^{-x^2 / 2}}{\\sqrt{2\\pi}}\\text{d}x$$"
   ]
  },
  {
   "cell_type": "code",
   "execution_count": null,
   "metadata": {},
   "outputs": [],
   "source": [
    "integrando = lambda x: np.exp(-x**2 / 2)/np.sqrt(2*np.pi)"
   ]
  },
  {
   "cell_type": "markdown",
   "metadata": {},
   "source": [
    "Ahora, llamamos a `quad` para integrar esta función entre $a=-1$ y $b=1$"
   ]
  },
  {
   "cell_type": "code",
   "execution_count": null,
   "metadata": {},
   "outputs": [],
   "source": [
    "a = -1\n",
    "b = 1\n",
    "integral, error = quad(integrando, a, b)\n",
    "print(integral, error)"
   ]
  },
  {
   "cell_type": "markdown",
   "metadata": {},
   "source": [
    "Podemos, con este método, incluso obtener la primitiva numéricamente. Por ejemplo\n",
    "\n",
    "$$F(x) = \\int_a^x \\dfrac{\\text{e}^{-t^2 / 2}}{\\sqrt{2\\pi}}\\text{d}t$$"
   ]
  },
  {
   "cell_type": "code",
   "execution_count": null,
   "metadata": {},
   "outputs": [],
   "source": [
    "# Definimos este dominio\n",
    "x = np.linspace(-5,5,100)\n",
    "\n",
    "# Ahora obtenemos la primitiva\n",
    "prim = np.zeros(x.size)\n",
    "\n",
    "for i in range(x.size):\n",
    "    prim[i], error = quad(integrando, a, x[i])\n"
   ]
  },
  {
   "cell_type": "markdown",
   "metadata": {},
   "source": [
    "Veamos la gráfica para este dominio"
   ]
  },
  {
   "cell_type": "code",
   "execution_count": null,
   "metadata": {},
   "outputs": [],
   "source": [
    "plt.figure()\n",
    "\n",
    "plt.plot(x, integrando(x), 'b', label = 'integrando')\n",
    "plt.plot(x, prim, 'r', label = 'primitiva')\n",
    "plt.grid(True)\n",
    "plt.legend()"
   ]
  },
  {
   "cell_type": "markdown",
   "metadata": {},
   "source": []
  },
  {
   "cell_type": "markdown",
   "metadata": {},
   "source": [
    "# Funciones especiales"
   ]
  },
  {
   "cell_type": "markdown",
   "metadata": {},
   "source": [
    "Tal vez en algún momento de la vida nos encontremos con funciones más exóticas que el seno, coseno y exponenciales, funciones que las conocemos de nombre pero de graficarlas ni hablemos. Por suerte, la biblioteca *scipy* cuenta con abanico muy grande de estas funciones con nombre propio. En la documentación (bloque de ayuda del spyder) podemos encontrar la lista completa de funciones, buscando `scipy.special`"
   ]
  },
  {
   "cell_type": "code",
   "execution_count": null,
   "metadata": {},
   "outputs": [],
   "source": [
    "import scipy.special as sp"
   ]
  },
  {
   "cell_type": "markdown",
   "metadata": {},
   "source": [
    "Empecemos graficando un ejemplo común en probabilidad, la *función error*:"
   ]
  },
  {
   "cell_type": "code",
   "execution_count": null,
   "metadata": {},
   "outputs": [],
   "source": [
    "import numpy as np\n",
    "import matplotlib.pyplot as plt\n",
    "%matplotlib inline\n",
    "\n",
    "x = np.linspace(-5,5,100) #generamos el dominio\n",
    "y = sp.erf(x) #llama a la función error de la librería\n",
    "\n",
    "plt.plot(x,y, label='función error')\n",
    "plt.grid(True)\n",
    "plt.legend(loc='best')\n",
    "plt.show()"
   ]
  },
  {
   "cell_type": "markdown",
   "metadata": {},
   "source": [
    "Dentro de las muchas funciones que nos ofrece la librería, otro ejemplo importante en la física son las *funciones de Bessel* $J_{\\nu}(x)$. Hay una función para cada valor del índice $\\nu$ (que llamamos orden). En la librería, se llaman con el comando `jv(i,x)`, donde la primer entrada corresponde al orden $\\nu$.\n",
    "Como demostración, veamos ahora algunos de sus gráficos:"
   ]
  },
  {
   "cell_type": "code",
   "execution_count": null,
   "metadata": {},
   "outputs": [],
   "source": [
    "num = 500\n",
    "r = np.linspace(0,10,num)\n",
    "\n",
    "for i in range(5):\n",
    "    y_i = sp.jv(i,r) # para cada i, grafica la función de orden i\n",
    "    plt.plot(r,y_i,label='orden {}'.format(i))\n",
    "    plt.legend(loc='best')\n",
    "plt.grid(True)\n",
    "plt.xlim(0, 10)\n",
    "plt.title('Funciones de Bessel')"
   ]
  },
  {
   "cell_type": "markdown",
   "metadata": {},
   "source": [
    "### Ejercicio 8"
   ]
  },
  {
   "cell_type": "markdown",
   "metadata": {},
   "source": [
    "1. Busquen en la documentación la función *gamma*, y grafiquenla en el intervalo $\\left[-5,5\\right]$\n",
    "2. (Opcional) Googleen a ver qué es lo tan importante de esa función."
   ]
  }
 ],
 "metadata": {
  "anaconda-cloud": {},
  "kernelspec": {
   "display_name": "Python 3",
   "language": "python",
   "name": "python3"
  },
  "language_info": {
   "codemirror_mode": {
    "name": "ipython",
    "version": 3
   },
   "file_extension": ".py",
   "mimetype": "text/x-python",
   "name": "python",
   "nbconvert_exporter": "python",
   "pygments_lexer": "ipython3",
   "version": "3.7.6"
  }
 },
 "nbformat": 4,
 "nbformat_minor": 4
}
