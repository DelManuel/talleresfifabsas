{
 "cells": [
  {
   "cell_type": "markdown",
   "metadata": {},
   "source": [
    "# Taller de Python Capítulo 2:  Numérico y Laboratorio\n",
    "\n",
    "![taller_python](logo_fifa.png)"
   ]
  },
  {
   "cell_type": "markdown",
   "metadata": {},
   "source": [
    "## _Bibliotecas_\n",
    "Ya hemos visto la vez anterior que python tiene varias funciones que vienen \"de fábrica\" como ```help()```, ```print()``` así también como operaciones básicas entre números como sumar, restar, etc; también vimos que nosotros podemos crear nustras propias funciones para que hagan lo que necesitemos usando la palabra clave ```def nombre_funcion```. Si uno necesita siempre realizar las mismas operaciones, reutilizará la misma función en todos sus códigos.\n",
    "Por ejemplo: Supongamos que uno quiere calcular ```cos(x)```. Python no viene por defecto con esa operación, uno debería crear un algoritmo (es decir, una serie de acciones) que calcule el valor del cos de x (cosa que puede ser no trivial), pero es _obvio_ que alguien ya lo hizo antes, alguien ya pensó el algoritmo, lo escribió, y lo utiliza diariamente, si esta persona subió su código a internet, todos podemos aprovechar y utilizarlo sin preocuparnos en cómo hizo esta persona!! Solamente hay que decirle a Python _donde_ es que está guardado esta función. **Esta posibilidad de usar algoritmos de otros es fundamental en la programación, porque es lo que permite que nuestro problema se limite solamente a entender cómo llamar a estos algoritmos ya pensados y no tener que pensarlos cada vez**.\n",
    "\n",
    "Vamos entonces a decirle a python que, además de sus operaciones de fábrica, queremos ampliar nuestro abanico de operaciones matemáticas en todas las opciones que aparecen dentro de la biblioteca \"math\" (una biblioteca es, tal como sugiere el nombre, un archivo con un montón de funciones, objetos y demás).\n"
   ]
  },
  {
   "cell_type": "code",
   "execution_count": null,
   "metadata": {},
   "outputs": [],
   "source": [
    "import math #Importo a mi programa todo lo que este contenido dentro del archivo \"math\""
   ]
  },
  {
   "cell_type": "markdown",
   "metadata": {},
   "source": [
    "Con esta linea Python entiende que queremos que traiga todo lo que está dentro del archivo \"math\"\n",
    "\n",
    "###### <span style='color:red'>OJO:</span> No todas las bibliotecas vienen instaladas por defecto, si queremos usar una muy rara es probable que tengamos que instalarla nosotros. Las que vamos a utilizar en el curso ya fueron instaladas automaticamente por Anaconda.\n",
    "\n",
    "Macanudo, ahora que Python trajo esa biblioteca, nosotros podemos acceder a su contenido usando la sintaxis ```math.lo_que_haya_dentro_de_math``` por ejemplo, ```math.cos()```"
   ]
  },
  {
   "cell_type": "code",
   "execution_count": null,
   "metadata": {},
   "outputs": [],
   "source": [
    "math.cos(0)"
   ]
  },
  {
   "cell_type": "markdown",
   "metadata": {},
   "source": [
    "Hay una infinidad de bibliotecas o librerías dando vueltas por internet. Muchas veces el problema que queremos solucionar se reduce simplemente a encontrar la librería que tenga la funcionalidad correcta.\n",
    "\n",
    "Ahora continuaremos usando una muy utilizada en nuestro ámbito, la querídisima NumPy."
   ]
  },
  {
   "cell_type": "markdown",
   "metadata": {},
   "source": [
    "## _NumPy_ : vectores, matrices y tablas de datos\n",
    "\n",
    "NumPy (NUMeric PYthon) es **LA** biblioteca para operar sobre vectores de números. Además de contener un nuevo [tipo de dato](http://docs.scipy.org/doc/numpy/reference/arrays.ndarray.html) que nos va a ser muy útil para representar vectores y matrices, nos provee de un arsenal de [funciones de todo tipo](https://docs.scipy.org/doc/numpy/reference/routines.html).\n",
    "\n",
    "Vamos a empezar por importar la bliblioteca _numpy_. La sintaxis típica de eso era `import biblio as nombre`:"
   ]
  },
  {
   "cell_type": "code",
   "execution_count": 3,
   "metadata": {},
   "outputs": [
    {
     "name": "stdout",
     "output_type": "stream",
     "text": [
      "El numero e =  2.718281828459045\n",
      "O el numero Pi =  3.141592653589793\n",
      "1.2246467991473532e-16\n"
     ]
    }
   ],
   "source": [
    "import numpy as np # con eso voy a poder acceder a las funciones de numpy a través de np.función()\n",
    "\n",
    "# en ejemplo\n",
    "print('El numero e = ', np.e)\n",
    "#print(f\"El numero e = {np.e}\")\n",
    "#print(\"El numero e = {}\".format(np.e))\n",
    "\n",
    "print('O el numero Pi = ', np.pi)\n",
    "#print(f\"O el numero Pi = {np.pi}\")\n",
    "#print(\"O el numero Pi = {}\".format(np.pi))\n",
    "\n",
    "\n",
    "# Podemos calcular senos y cosenos de numeros igual que con math!\n",
    "print(np.sin(np.pi)) # casi cero! guarda con los floats!"
   ]
  },
  {
   "cell_type": "markdown",
   "metadata": {},
   "source": [
    "Todo eso está muy bien, pero lo importante de _numpy_ son los arrays numéricos, que van a ser como una lista de números pero con muchos esteroides. Los arrays numéricos nos van a servir para representar vectores (el objeto matemático de \"la tira de números\", no el físico) o columnas/tablas de datos (el objeto oriyinezco o de laboratorio).\n",
    "\n",
    "La idea es que es parecido a una lista: son muchos números juntos en la misma variable y están indexados (los puedo llamar de a uno dando la posición dentro de la variable). La gran diferencia con las listas de Python es que los arrays de _numpy_ operan de la forma que todos queremos:\n",
    "1. Si sumamos o restamos dos arrays, se suman componente a componente.\n",
    "2. Si multiplicamos o dividimos dos arrays, se multiplican o dividen componente a componente.\n",
    "\n",
    "Veamos ejemplos usando la función `np.array` para crear arrays básicos."
   ]
  },
  {
   "cell_type": "code",
   "execution_count": 4,
   "metadata": {},
   "outputs": [
    {
     "name": "stdout",
     "output_type": "stream",
     "text": [
      "ARRAYS:\n",
      "[1 2 3 4] + [5 6 7 8] =  [ 6  8 10 12]\n",
      "[1 2 3 4] * [5 6 7 8] = [ 5 12 21 32]\n",
      "LISTAS:\n",
      "[5, 6, 7, 8] + [1, 2, 3, 4] = [1, 2, 3, 4, 5, 6, 7, 8]\n"
     ]
    }
   ],
   "source": [
    "array_1 = np.array([1, 2, 3, 4]) # array toma como argumento un vector_like (lista, tupla, otro array...vector_like)\n",
    "array_2 = np.array([5, 6, 7, 8])\n",
    "\n",
    "# Se acuerdan como antes pasabamos de un objeto tipo 'range' a un objeto tipo 'list' porque eran \"parecidos\"?\n",
    "# Aca hacemos lo mismo. Pasamos de un objeto tipo 'list' a un objeto tipo 'ndarray'\n",
    "\n",
    "print(\"ARRAYS:\")\n",
    "print(f\"{array_1} + {array_2} =  {array_1 + array_2}\") # aca los sumo\n",
    "print(f\"{array_1} * {array_2} = {array_1*array_2}\") # acá los multiplico\n",
    "\n",
    "\n",
    "# en el caso de las listas esto era muy molesto\n",
    "lista_1 = [1, 2, 3, 4]\n",
    "lista_2 = [5, 6, 7, 8]\n",
    "print(\"LISTAS:\")\n",
    "print(f\"{lista_2} + {lista_1} = {lista_1 + lista_2}\") # sumar concatena\n",
    "# print(l1 * l2) # esto ni siquiera se puede hacer!"
   ]
  },
  {
   "cell_type": "markdown",
   "metadata": {},
   "source": [
    "Y al igual que con las listas, uno puede acceder a elementos específicos de un array con su índice:"
   ]
  },
  {
   "cell_type": "code",
   "execution_count": 5,
   "metadata": {},
   "outputs": [
    {
     "name": "stdout",
     "output_type": "stream",
     "text": [
      "1 2 3 4\n",
      "8\n",
      "[5 6 7]\n"
     ]
    }
   ],
   "source": [
    "print(array_1[0], array_1[1], array_1[2], array_1[3]) # son 4 elementos, los indices van del 0 al 3\n",
    "\n",
    "# y más o menos vale todo lo que valía con listas\n",
    "print(array_2[-1]) # agarro al último elemento de b\n",
    "print(array_2[0:3]) # desde el primero hasta el 3 (no incluido el final, nunca se incluye)"
   ]
  },
  {
   "cell_type": "markdown",
   "metadata": {},
   "source": [
    "También podemos iterar sobre ellos con _for_ , de las mismas formas que habíamos visto para iterar listas."
   ]
  },
  {
   "cell_type": "code",
   "execution_count": 6,
   "metadata": {},
   "outputs": [
    {
     "name": "stdout",
     "output_type": "stream",
     "text": [
      "array_1:\n",
      "1\n",
      "2\n",
      "3\n",
      "4\n",
      "\n",
      "\n",
      "array_2:\n",
      "5\n",
      "6\n",
      "7\n",
      "8\n"
     ]
    }
   ],
   "source": [
    "print(\"array_1:\")\n",
    "for num in array_1:  # Aca itero sobre los ELEMENTOS de array_1\n",
    "    print(num)\n",
    "\n",
    "print('\\n') # Esto es solo para que agregue una linea nueva y no queden pegados\n",
    "\n",
    "print(\"array_2:\")\n",
    "for j in range(len(array_2)): # Aca itero sobre los INDICES de array_2\n",
    "    print(array_2[j])\n"
   ]
  },
  {
   "cell_type": "markdown",
   "metadata": {},
   "source": [
    "Para crear *arrays* de dos dimensiones (o más), podemos aplicar la función `np.array` sobre una *lista de listas*:"
   ]
  },
  {
   "cell_type": "code",
   "execution_count": 7,
   "metadata": {},
   "outputs": [
    {
     "name": "stdout",
     "output_type": "stream",
     "text": [
      "[[1 2 3]\n",
      " [4 5 6]\n",
      " [7 8 9]]\n"
     ]
    }
   ],
   "source": [
    "c = np.array([[1, 2, 3], [4, 5, 6], [7, 8, 9]]) # cada lista corresponde a una fila de la matriz\n",
    "print(c)\n",
    "\n",
    "# Aca hacer c[0] dara la primer FILA de la matrix. \n",
    "# Si queremos sacar la primer componente habra que hacer c[0, 0]"
   ]
  },
  {
   "cell_type": "markdown",
   "metadata": {},
   "source": [
    "Para facilitar la vida del usuario _numpy_ viene con un montón de rutinas de creación de arrays típicos. En particular, matrices típicas como las identidades o de todos elementos iguales a 1 o 0 y arrays con cierta cantidad de elementos entre dos números (muy útil para crear dominios para gráficos).\n",
    "\n",
    "Veamos ejemplos de esos:"
   ]
  },
  {
   "cell_type": "code",
   "execution_count": 8,
   "metadata": {},
   "outputs": [
    {
     "name": "stdout",
     "output_type": "stream",
     "text": [
      "Numero de puntos fijo: [0.         0.11111111 0.22222222 0.33333333 0.44444444 0.55555556\n",
      " 0.66666667 0.77777778 0.88888889 1.        ]\n",
      "\n",
      "\n",
      "Paso entre puntos fijo: [0.  0.1 0.2 0.3 0.4 0.5 0.6 0.7 0.8 0.9]\n",
      "\n",
      " Identidad de 3×3\n",
      "[[1. 0. 0.]\n",
      " [0. 1. 0.]\n",
      " [0. 0. 1.]]\n",
      "\n",
      "[[0. 0. 0. 0.]\n",
      " [0. 0. 0. 0.]\n",
      " [0. 0. 0. 0.]\n",
      " [0. 0. 0. 0.]]\n",
      "\n",
      "[[1. 1. 1.]\n",
      " [1. 1. 1.]]\n",
      "\n",
      "[[1. 0. 0. 0. 0.]\n",
      " [0. 1. 0. 0. 0.]\n",
      " [0. 0. 1. 0. 0.]\n",
      " [0. 0. 0. 1. 0.]\n",
      " [0. 0. 0. 0. 1.]]\n",
      "\n",
      "[[0. 0. 1. 0. 0.]\n",
      " [0. 0. 0. 1. 0.]\n",
      " [0. 0. 0. 0. 1.]\n",
      " [0. 0. 0. 0. 0.]\n",
      " [0. 0. 0. 0. 0.]]\n"
     ]
    }
   ],
   "source": [
    "# Equiespaciados >> Elijo CANTIDAD DE PUNTOS en un dado intervalo [a, b]\n",
    "equi_linspace = np.linspace(0, 1, 10) # 9 números equiespaciados linealmente entre 0 y 1 (LINear SPACE = linspace)\n",
    "print('Numero de puntos fijo:', equi_linspace) # N-1 puntos entre [0, 1] = {0, 1/n, 2/n, 3/n, ... , n/n = 1}\n",
    "\n",
    "print('\\n')\n",
    "# Equiespaciados >> Elijo EL PASO entre los puntos en un dado intervalo [a, b)\n",
    "equi_arange = np.arange(0, 1, 1./10) # como el range de Python pero puede venir con un paso en coma flotante\n",
    "print('Paso entre puntos fijo:', equi_arange) # {0, paso, 2*paso, ... n*paso} siempre que n*paso<1\n",
    "\n",
    "print('\\n Identidad de 3×3')\n",
    "identidad = np.identity(3)\n",
    "print(identidad)\n",
    "\n",
    "#otros para que prueben ustedes\n",
    "ceros = np.zeros((4, 4)) # todos ceros, matriz de 4x4\n",
    "unos = np.ones((2,3)) # todos unos, matriz de 2x3\n",
    "ojos = np.eye(5, k=0) # unos en la diagonal, como identidad\n",
    "ojos2 = np.eye(5, k=2) # qué pasó acá?\n",
    "\n",
    "print()\n",
    "print(ceros)\n",
    "print() \n",
    "print(unos)\n",
    "print()\n",
    "print(ojos)\n",
    "print()\n",
    "print(ojos2)"
   ]
  },
  {
   "cell_type": "markdown",
   "metadata": {},
   "source": [
    "Y antes de seguir, algo que siempre puede ser útil: los arrays tienen ciertas propiedades como su _shape_ (de cuánto por cuánto) y el _dtype_ (qué tipo de cosas tiene adentro). Podemos acceder a estos datos de la siguiente manera:"
   ]
  },
  {
   "cell_type": "code",
   "execution_count": 9,
   "metadata": {},
   "outputs": [
    {
     "name": "stdout",
     "output_type": "stream",
     "text": [
      "float64\n",
      "(100, 100)\n"
     ]
    }
   ],
   "source": [
    "x = np.linspace(0, 10, 1000) # ese array tiene 1000 elementos, andar printeando es poco práctico!\n",
    "\n",
    "print(x.dtype) # Esto nos dice qué tipo de elemento es x (tener en cuenta que acá no van paréntesis)\n",
    "\n",
    "ceros = np.zeros((100, 100)) # matriz de 100x100\n",
    "print(ceros.shape) # np.shape nos dice cuántas filas y columnas tiene el array\n",
    "# obs: esto es equivalente a:\n",
    "# print(np.shape(ceros))\n",
    "\n",
    "# Prueben qué pasa cuando le piden el shape a un array con una sola fila o columna como el x"
   ]
  },
  {
   "cell_type": "markdown",
   "metadata": {},
   "source": [
    "---\n",
    "\n",
    "### Ejercicio 1\n",
    "\n",
    "Creen un vector con 20 valores entre -5 y 5 llamado ```dominio```, y un vector llamado ```imagen``` que contenga los valores de la función $x^2$ en el mismo intervalo.\n",
    "\n",
    "**Ejercicio 1 _bis_ :** creen otro vector que calcule el valor absoluto de ```dominio``` (Ayuda: googlear \"numpy valor absoluto\")"
   ]
  },
  {
   "cell_type": "markdown",
   "metadata": {},
   "source": [
    "---\n",
    "\n",
    "### Ejercicio 2\n",
    "\n",
    "La idea de este ejercicio es crear una matriz de 16x16 con los números del 1 al 256 siguiendo los pasos:\n",
    "\n",
    "1) Crear un array que contenga los valores 1, 2, ..., 256\n",
    "\n",
    "2) Modificar las dimensiones del array de 1×256 a 16×16\n",
    "\n",
    "*Ayuda*: siempre que puedan utilicen las funciones de creación de arrays de numpy. \n",
    "\n",
    "*Ayuda* bis: la función `np.reshape` hace lo que promete (reshapear) y puede tomar tuplas como argumento. Vean como usarla ya sea con su documentacion ```help(np.reshape)``` o con google."
   ]
  },
  {
   "cell_type": "markdown",
   "metadata": {},
   "source": [
    "---\n",
    "## Graficar funciones"
   ]
  },
  {
   "cell_type": "markdown",
   "metadata": {},
   "source": [
    "A lo largo de nuestras carreras, y de la vida, nos encontramos con información que queremos **graficar**. Vamos a ver que con la ayuda de la biblioteca [```matplotlib```](https://matplotlib.org/) esto no es nada complicado.\n",
    "\n",
    "Esta librería es muy grande, por lo que tiene divididas sus funciones en distintos módulos. Para lo que vamos a ver en esta segunda parte nos alcanza con la sublibrería ```pyplot```. Una de las formas de importar esta librería es:\n",
    "```python\n",
    "import matplotlib.pyplot as plt\n",
    "```"
   ]
  },
  {
   "cell_type": "markdown",
   "metadata": {},
   "source": [
    "Podemos usar esta librería en conjunto con ```numpy``` para graficar las funciones que querramos.\n",
    "\n",
    "Veamos un ejemplo, grafiquemos la función $f(x) = \\sin(x)\\sin(20x)$ entre $0$ y $2\\pi$ (no tienen por qué entender la función, es solo el logo de [Arctic Monkeys](https://c1.staticflickr.com/7/6126/5933658807_601e0b1751_b.jpg))"
   ]
  },
  {
   "cell_type": "code",
   "execution_count": 10,
   "metadata": {},
   "outputs": [
    {
     "data": {
      "image/png": "[encoded data removed]",
      "text/plain": [
       "<Figure size 432x288 with 1 Axes>"
      ]
     },
     "metadata": {
      "needs_background": "light"
     },
     "output_type": "display_data"
    }
   ],
   "source": [
    "import numpy as np\n",
    "import matplotlib.pyplot as plt\n",
    "# La siguiente linea va si estás usando un Notebook\n",
    "%matplotlib inline \n",
    "\n",
    "# Definimos la función\n",
    "def f(x): return np.sin(x)*np.sin(20*x)\n",
    "\n",
    "# Definimos el dominio y la imagen\n",
    "x = np.linspace(0, 2*np.pi, 500)\n",
    "y = f(x)\n",
    "\n",
    "# Graficamos la función\n",
    "plt.plot(x, y)\n",
    "plt.show() # Esta linea va si no estás usando un Notenook"
   ]
  },
  {
   "cell_type": "markdown",
   "metadata": {},
   "source": [
    "Desglosemos el código que acabamos de escribir:\n",
    "* Primero escribimos la función que queremos graficar.\n",
    "* Luego, definimos nuestro dominio ```x``` y nuestra imagen ```y```.\n",
    "* Y por último usamos la función de ```plot``` de ```matplotlib.pyplot``` para graficar ```y``` en función de ```x```.\n",
    "\n",
    "**Aclaración 1: plt.show() vs %matplotlib:**\n",
    "En este ejemplo pusimos estas dos lineas, pero son redudantes, solo una de ellas es necesaria. Si están trabajando en un Notebook, o en algo que use un Notebook de fondo, este puede trabajar con gráficos de forma interactiva, por lo que necesitan de la linea ```%matplotlib inline```. En el caso contrario, si están trabajando en un IDLE más usual, o ejecutando Python desde la terminal, necesitan usar la función ```plt.show()``` para mostrar los gráficos. No se vuelvan locos/as con esto, simplemente prueben cuál les funcina! (En Spyder puede funcionar cualquiera de las dos dependiendo de la configuración, pero por defecto se usa ```plt.show()```.)\n",
    "\n",
    "**Aclaración 2:** ```y``` no es una función. Sino que es un _array_ que contiene los números que resultan de aplicarle ```f``` a cada uno de los valores de ```x```. Lo que vemos arriba parece ser una _función continua_ pero en realidad es un conjunto de punto unidos con una línea. Para visualizar mejor esto podemos hacer un gráfico que muestre explícitamente los puntos que forman el gráfico:\n"
   ]
  },
  {
   "cell_type": "code",
   "execution_count": 11,
   "metadata": {},
   "outputs": [
    {
     "data": {
      "image/png": "[encoded data removed]",
      "text/plain": [
       "<Figure size 432x288 with 1 Axes>"
      ]
     },
     "metadata": {
      "needs_background": "light"
     },
     "output_type": "display_data"
    }
   ],
   "source": [
    "plt.plot(x, y, '.-');"
   ]
  },
  {
   "cell_type": "markdown",
   "metadata": {},
   "source": [
    "#### Qué hace plt.plot()?\n",
    "Esta función que parece mágica lo único que hace es tomar los vectores que le damos como inputs y graficar un punto en cada par de coordenadas $(x,y)$. Además, por defecto une estos puntos con lineas rectas. Por lo tanto, para que la función pueda hacer su trabajo, es necesario que los _array_ ```x``` e ```y``` tengan la misma longitud. Para dejar claro este concepto veamos un ejemplo con pocos puntos escritos a mano:"
   ]
  },
  {
   "cell_type": "code",
   "execution_count": 12,
   "metadata": {},
   "outputs": [
    {
     "data": {
      "image/png": "[encoded data removed]",
      "text/plain": [
       "<Figure size 432x288 with 1 Axes>"
      ]
     },
     "metadata": {
      "needs_background": "light"
     },
     "output_type": "display_data"
    }
   ],
   "source": [
    "coords_en_x = np.array( [0, 2, 6, 8,  10] )\n",
    "coords_en_y = np.array( [2, 4, 6, 14, 14] )\n",
    "\n",
    "plt.plot(coords_en_x, coords_en_y, 'o:r')\n",
    "plt.grid() # Esto me deja poner una grilla detrás!"
   ]
  },
  {
   "cell_type": "markdown",
   "metadata": {},
   "source": [
    "Vemos que los puntos que se grafican son los $(x,y)$ = $\\{(0,2);\\,(2,4);\\,(6,6);\\,(8,14);\\,(10,14)\\}$"
   ]
  },
  {
   "cell_type": "markdown",
   "metadata": {},
   "source": [
    "### Dar formato y estética a los gráficos\n",
    "En los gráficos anteriores cuando usamos ```plt.plot``` agregamos un término opcional para cambiar el color y la forma en la que se muestran los puntos que graficamos. Si usamos ```help(plt.plot)``` vemos que este argumento opcional es el _[fmt]_ y que toma distintos _strings_ con los que se puede cambiar la forma en que se ve el gráfico. La estructura general es\n",
    "```\n",
    "fmt = '[color][marker][line]'\n",
    "```\n",
    "donde _marker_ hace referencia a la forma de los puntitos y _line_ hace referencia a la forma de la linea.\n",
    "\n",
    "Los _strings_ válidos son un montón y los pueden ver en la documentación usando el _help_ o en la [documentación online](https://matplotlib.org/3.2.1/api/_as_gen/matplotlib.pyplot.plot.html) de la función.\n",
    "\n",
    "Acá dejamos algunas de las opciones para que se den una idea:\n",
    "* **color:** 'r' (rojo), 'b' (azul), 'g' (verde), 'm' (magenta), etc\n",
    "* **marker:** '.' (puntito chiquito), 'o' (punto grande), '^' (triángulo), '*' (estrella), etc\n",
    "* **line:** '-' (sólida), '--' (de a rayas), ':' (de a puntos)\n",
    "\n",
    "#### Título, labels y grid\n",
    "Veamos también algunas funciones que nos permiten agregar información a la figura sobre la que estamos trabajando. Veamos un ejemplo con la función de los [Arctic Monkeys](https://qph.fs.quoracdn.net/main-qimg-69d69b537bb5e7e3f21e44c36781a10d)."
   ]
  },
  {
   "cell_type": "code",
   "execution_count": 13,
   "metadata": {},
   "outputs": [
    {
     "data": {
      "image/png": "[encoded data removed]",
      "text/plain": [
       "<Figure size 432x288 with 1 Axes>"
      ]
     },
     "metadata": {
      "needs_background": "light"
     },
     "output_type": "display_data"
    }
   ],
   "source": [
    "import numpy as np\n",
    "import matplotlib.pyplot as plt\n",
    "# La siguiente linea solo es necesaria si estás usando Jupyter Notebook\n",
    "%matplotlib inline \n",
    "\n",
    "# Definimos la función\n",
    "def f(x): return np.sin(x)*np.sin(20*x)\n",
    "\n",
    "# Definimos el dominio y la imagen\n",
    "x = np.linspace(0, 2*np.pi, 500)\n",
    "y = f(x)\n",
    "\n",
    "# Graficamos la función con linea sólida y le ponemos una etiqueta\n",
    "plt.plot(x, y, '-', label='Arctic Monkeys')\n",
    "\n",
    "# Agregamos título y etiquetamos los ejes\n",
    "plt.title('Logo de los Arctic Monkeys', fontsize=16)\n",
    "plt.xlabel('Eje de $\\hat x$')\n",
    "plt.ylabel('Eje de $\\hat y$')\n",
    "\n",
    "plt.grid()\n",
    "plt.legend()\n",
    "plt.show()"
   ]
  },
  {
   "cell_type": "markdown",
   "metadata": {},
   "source": [
    "La mayoría de las funciones son bastante descriptivas. Veamos solo algunas aclaraciones:\n",
    "* El _fontsize_ en el ```plt.title``` es un argumento opcional y también se puede utilizar en el ```plt.xlabel``` o ```plt.ylabel``` por ejemplo.\n",
    "* El ```plt.grid()``` agrega una grid si no exite y la elimina si existe. Si se quiere forzar a que aparezca se puede utilizar ```plt.grid(True)```\n",
    "* El ```plt.legend()``` es el que permite que se muestren los labels asociados a las lineas (en este caso es el \"Arctic Monkeys\"). Esta función tiene algunos parámetros opcionales que pueden probar como el _fontsize_ o el _loc_. (ver ```help(plt.legend)```)\n",
    "* Podemos usar $LaTeX$ en los labels!"
   ]
  },
  {
   "cell_type": "markdown",
   "metadata": {},
   "source": [
    "---\n",
    "### Ejercicio 3\n",
    "\n",
    "* Graficar la función $f(x) = x^2$ entre $-5$ y $5$ (pueden\n",
    "reutilizar el código del Ejercicio 1)\n",
    "* Etiquetar la función, los ejes y poner\n",
    "un título (pueden usar Latex si conocen la syntaxis)\n",
    "\n",
    "---"
   ]
  },
  {
   "cell_type": "markdown",
   "metadata": {},
   "source": [
    "### Graficar información guardada y ajustes\n",
    "\n",
    "#### Llevando los datos a Python\n",
    "Muchas veces estamos acostumbrados a guardar los datos en hojas de Excel o en las Hoja de Cálculo de Drive. Python puede leer estas hojas utilizando las librerías adecuadas, pero es más sencillo, y es mejor práctica, exportar estos archivos en CSV para luego leerlos desde ahí.\n",
    "\n",
    "##### Por qué CSV\n",
    "* El formato **CSV (Comma Separated Values)** es abierto y un estándar a la hora de guardar datos de tipo fila o columna. Guardar los datos en Excel o Drive no está mal, pero se dificulta a la hora de pasarle los archivos a un/a colega, los CSV los puede abrir cualquiera! Inclusive, se pueden abrir Excel y Drive si se busca visualizarlo mejor.\n",
    "* Con pocos datos no hay problemas de _lag_ o *crasheos*, pero si son muchos datos: _\"Microsoft Excel dejó de responder\"_ .$^1$\n",
    "\n",
    "\n",
    "Acá una imagen de cómo descargar los archivos de Drive en CSV y de cómo se ven una vez en la compu. Es solo un archivo de texto con valores separados con comas, nada místico.\n",
    " \n",
    "![](fig/export_drive_calc_to_csv.gif)\n",
    "\n",
    "$\\scriptsize\\text{1. Para archivos muchos muuuchos datos inclusive los CSV se pueden quedar corto, y para estos casos existen formatos específicos que dependen de la naturaleza de los datos.}$"
   ]
  },
  {
   "cell_type": "markdown",
   "metadata": {},
   "source": [
    "Una vez tenemos el archivo que descargamos podemos leerlo desde Python utilizando numpy. En este caso, la linea es\n",
    "```python\n",
    "data = np.loadtxt('data_exp.csv', delimiter=',', skiprows=1, unpack=True)\n",
    "```\n",
    "\n",
    "Desglosemos esto por argumentos:\n",
    "1. El primer argumento es ubicación del archivo con la ruta respecto del archivo de Python. En este caso tenemos ambos archivos en la misma carpeta por lo que es solo el nombre.\n",
    "2. El segundo argumento, _delimiter_, recibe un _string_ que le indica a Python cómo están separados los valores en nuestro archivo. En este caso es por comas porque son archivos CSV.\n",
    "3. El tercer argumento es más opcional, y nos permite evitar que Python lea algunas lineas del archivo. En nuestro caso pusimos *1* ya que queremos evitar que lea la primera linea, que dice _\"VAR 1, VAR 2\"_.\n",
    "4. Por qué ```unpack=True```\n",
    "\n",
    "    ```np.loadtxt()``` por defecto te da los valores exactamente como están en el CSV, por lo que en este caso nos daría 2 columnas de datos con 20 filas. Utilizando ```unpack=True``` trasponemos los datos para pasar las columnas a filas, de modo que la primera fila (```data[0]```) sean los datos de _VAR 1_ y la segunda fila (```data[1]```) sean los valores de _VAR 2_. Acá el código utilizando ```unpack=True``` y sin utilizarlo\n",
    "    \n",
    "    También podríamos importarlo sin usar el ```unpack=True``` y luego usar ```data = np.transpose(data)```"
   ]
  },
  {
   "cell_type": "code",
   "execution_count": 14,
   "metadata": {},
   "outputs": [
    {
     "name": "stdout",
     "output_type": "stream",
     "text": [
      "Data sin unpack:\n",
      " [[ 0.    1.93]\n",
      " [ 1.58  1.67]\n",
      " [ 3.16  1.3 ]\n",
      " [ 4.74  0.63]\n",
      " [ 6.32  1.26]\n",
      " [ 7.89  2.38]\n",
      " [ 9.47  2.91]\n",
      " [11.05  2.36]\n",
      " [12.63  3.93]\n",
      " [14.21  4.8 ]\n",
      " [15.79  4.83]\n",
      " [17.37  5.17]\n",
      " [18.95  6.21]\n",
      " [20.53  7.94]\n",
      " [22.11  9.12]\n",
      " [23.68 11.09]\n",
      " [25.26 12.57]\n",
      " [26.84 14.28]\n",
      " [28.42 17.1 ]\n",
      " [30.   20.56]]\n",
      "\n",
      "Data con unpack:\n",
      " [[ 0.    1.58  3.16  4.74  6.32  7.89  9.47 11.05 12.63 14.21 15.79 17.37\n",
      "  18.95 20.53 22.11 23.68 25.26 26.84 28.42 30.  ]\n",
      " [ 1.93  1.67  1.3   0.63  1.26  2.38  2.91  2.36  3.93  4.8   4.83  5.17\n",
      "   6.21  7.94  9.12 11.09 12.57 14.28 17.1  20.56]]\n"
     ]
    }
   ],
   "source": [
    "data = np.loadtxt('data_exp.csv', delimiter=',', skiprows=1)\n",
    "print(f\"Data sin unpack:\\n {data}\")\n",
    "\n",
    "data = np.loadtxt('data_exp.csv', delimiter=',', skiprows=1, unpack=True)\n",
    "print(f\"\\nData con unpack:\\n {data}\")"
   ]
  },
  {
   "cell_type": "markdown",
   "metadata": {},
   "source": [
    "### Graficar datos y hacer ajustes\n",
    "Una vez tenemos los datos en Python podemos graficarlos igual que lo hacíamos antes. Por ahora vamos a graficarlo sin agregar labels para que quede el código más cortito."
   ]
  },
  {
   "cell_type": "code",
   "execution_count": 15,
   "metadata": {},
   "outputs": [
    {
     "data": {
      "image/png": "[encoded data removed]",
      "text/plain": [
       "<Figure size 432x288 with 1 Axes>"
      ]
     },
     "metadata": {
      "needs_background": "light"
     },
     "output_type": "display_data"
    }
   ],
   "source": [
    "import numpy as np\n",
    "import matplotlib.pyplot as plt\n",
    "\n",
    "# Importamos los datos\n",
    "data = np.loadtxt('data_exp.csv', delimiter=',', skiprows=1, unpack=True)\n",
    "var_x, var_y = data # es lo mismo que poner en dos lineas x = data[0] e y = data[1]\n",
    "\n",
    "# Graficamos los datos crudos\n",
    "plt.plot(var_x, var_y, 'o-k', label='Datos')\n",
    "\n",
    "plt.legend()\n",
    "plt.show()"
   ]
  },
  {
   "cell_type": "markdown",
   "metadata": {},
   "source": [
    "Los datos parecen tener un comportamiento exponencial. Para realizar un ajuste podemos usar la función ```curve_fit()``` que nos ofrece la librería/sublibrería ```scipy.optimize```. Veamos cómo funciona con un ejemplo:"
   ]
  },
  {
   "cell_type": "code",
   "execution_count": 16,
   "metadata": {},
   "outputs": [
    {
     "name": "stdout",
     "output_type": "stream",
     "text": [
      "Parámetros óptimos para A y C (popt): [0.97349007 0.10119234]\n",
      "\n",
      "Matriz de covariancia de popt (pcov):\n",
      "[[ 4.92276143e-03 -1.89187399e-04]\n",
      " [-1.89187399e-04  7.51566980e-06]]\n"
     ]
    },
    {
     "data": {
      "image/png": "[encoded data removed]",
      "text/plain": [
       "<Figure size 432x288 with 1 Axes>"
      ]
     },
     "metadata": {
      "needs_background": "light"
     },
     "output_type": "display_data"
    }
   ],
   "source": [
    "# Importo la función desde la librería\n",
    "from scipy.optimize import curve_fit\n",
    "\n",
    "# Declaro la función con la que quiero ajustar con parámetros genéricos\n",
    "def f_ajuste(x, A, C): return A*np.exp(C*x)\n",
    "\n",
    "# Utilizo curve_fit() para el ajuste\n",
    "popt, pcov = curve_fit( f_ajuste, var_x, var_y )\n",
    "\n",
    "# Imprimo en pantalla los valores de popt y pcov\n",
    "print(f'Parámetros óptimos para A y C (popt): {popt}')\n",
    "print(f'\\nMatriz de covariancia de popt (pcov):\\n{pcov}')\n",
    "\n",
    "# Graficamos los datos crudos\n",
    "plt.plot(var_x, var_y, 'o-k', label='Datos')\n",
    "\n",
    "# Graficamos el ajuste\n",
    "A, C = popt\n",
    "var_x_ajuste = var_x\n",
    "var_y_ajuste = f_ajuste(var_x, A, C)\n",
    "plt.plot(var_x_ajuste, var_y_ajuste, '-r', label='Ajuste')\n",
    "\n",
    "# Legend y show\n",
    "plt.legend()\n",
    "plt.show()"
   ]
  },
  {
   "cell_type": "markdown",
   "metadata": {},
   "source": [
    "##### Vemos que la función recibe tres inputs (obligatorios):\n",
    "* **El primer argumento es la función _modelo_ con la que queremos ajustar.**\n",
    "    \n",
    "    La función modelo tiene que tener como primer argumento la variable que corresponde al eje $\\hat x$. Luego se usan los otros argumentos para poner las constantes que queremos hallar (en nuestro caso A y C).\n",
    " \n",
    " \n",
    "* **Los otros dos argumentos son nuestros datos**\n",
    "\n",
    "    Estos son los datos crudos, los que usamos para visualizarlos normalmente.\n",
    "    \n",
    "##### Outputs del ```curve_fit()```\n",
    "* **popt**\n",
    "    \n",
    "    Vemos que ```curve_fit()``` nos devuelve como primer parámetro una lista con los valores óptimos para nuestro ajuste. En este caso son dos porque en la función modelo pusimos dos constantes (A y C). Estos valores vienen ordenados del mismo modo que están en la función modelo por lo que ```popt[0]``` es el A óptimo y ```popt[1]``` es el C óptimo.\n",
    " \n",
    " \n",
    "* **pcov**\n",
    "    \n",
    "    Esta es la matriz de covarianza de los resultados que nos da _popt_. Esta matriz nos da una idea de cuál es el error de este ajuste y de cuán ligados están estos errores entre sí. No es el objetivo del curso dar una clase de estadísitica, pero si conocemos que las variables son independientes podemos obtener el error de nuestros parámetros de ajuste como la raíz cuadrada de la covarianza. Para este ejemplo sería\n",
    "    ```python\n",
    "    err_A = np.sqrt(pcov[0,0])\n",
    "    err_C = np.sqrt(pcov[1,1])\n",
    "    ```\n",
    "    o\n",
    "    ```python\n",
    "    err_A, err_C = np.sqrt(np.diag(pcov))\n",
    "    ```\n",
    "   \n",
    "**Una cosita más:** En este caso pusimos ```var_x_ajuste = var_x```, lo que implica que el dominio para graficar nuestro ajuste tiene 20 puntos (los mismos que var_x), pero como conocemos la función podríamos hacer un linspace del estilo ```np.linspace( min(var_x), max(var_x), 1000 )``` para tener una mejor densidad de puntos. Esto esta bueno para hacer que los gráficos se vean menos acartonados, pero SOLAMENTE se puede usar a la hora de graficar."
   ]
  },
  {
   "cell_type": "markdown",
   "metadata": {},
   "source": [
    "#### Error y barras de error\n",
    "* Si ven la [documentación](https://docs.scipy.org/doc/scipy/reference/generated/scipy.optimize.curve_fit.html) de ```curve_fit()``` ven que como parámetro opcional también se le puede agregar el error de nuestros datos.\n",
    "* Si queremos poner barras de error a nuestro gráfico podemos usar ```plt.errorbar()```, que funciona de forma muy similar a ```plt.plot()``` pero nos permite dar un array con los errores o un error constante para todos.\n",
    "\n",
    "#### Guardar un gráfico\n",
    "Una vez tenemos un gráfico podemos guardarlo en el mismo directorio donde tenemos el archivo con el que estamos trabajando utilizando la linea\n",
    "```python\n",
    "plt.savefig('nombre_del_archivo.png')\n",
    "```\n",
    "\n",
    "#### Ejemplo final\n",
    "Perfecto, utilizando todo lo aprendido el código para gráfico completo y exportado sería:"
   ]
  },
  {
   "cell_type": "code",
   "execution_count": 17,
   "metadata": {},
   "outputs": [
    {
     "data": {
      "image/png": "[encoded data removed]",
      "text/plain": [
       "<Figure size 432x288 with 1 Axes>"
      ]
     },
     "metadata": {
      "needs_background": "light"
     },
     "output_type": "display_data"
    },
    {
     "name": "stdout",
     "output_type": "stream",
     "text": [
      "A: 0.9734902098520813 ± 0.07016299437470676\n",
      "C: 0.10119233143377283 ± 0.0027414639445172777\n"
     ]
    }
   ],
   "source": [
    "import numpy as np\n",
    "import matplotlib.pyplot as plt\n",
    "from scipy.optimize import curve_fit\n",
    "\n",
    "# Importamos los datos\n",
    "var_x, var_y = np.loadtxt('data_exp.csv', delimiter=',', skiprows=1, unpack=True)\n",
    "err_var_y = 1.1 * np.ones(len(var_y)) # ponemos que todos los var_y tiene 1.1 de error a modo de ej\n",
    "\n",
    "# Graficamos los datos crudos con su error\n",
    "plt.errorbar(var_x, var_y, yerr=err_var_y, fmt='o-k', label='Datos')\n",
    "\n",
    "# Calculamos el ajuste\n",
    "def f_ajuste(x, A, C): return A*np.exp(C*x)\n",
    "popt, pcov = curve_fit(f_ajuste, var_x, var_y, sigma=err_var_y)\n",
    "A, C = popt\n",
    "\n",
    "# Declaramos nuestro nuevo dominio e imagen y graficamos el ajuste\n",
    "new_var_x = np.linspace(min(var_x), max(var_x), 1000)\n",
    "new_var_y = f_ajuste(new_var_x, A, C)\n",
    "plt.plot(new_var_x, new_var_y, '-r', label='Ajuste exponencial')\n",
    "\n",
    "# Títuo y labels\n",
    "plt.title('Datos y Ajuste Exponencial', fontsize=16)\n",
    "plt.xlabel('Variable 1', fontsize=14)\n",
    "plt.ylabel('Variable 2', fontsize=14)\n",
    "\n",
    "\n",
    "# Grid, legend, save y show\n",
    "plt.grid(True)\n",
    "plt.legend()\n",
    "plt.savefig('ajuste_exponencial.png')\n",
    "plt.show()\n",
    "\n",
    "# Printiamos en pantalla los parámetros óptimos con sus errores\n",
    "err_A, err_C = np.sqrt(np.diag(pcov))\n",
    "print(f'A: {A} ± {err_A}')\n",
    "print(f'C: {C} ± {err_C}')"
   ]
  },
  {
   "cell_type": "markdown",
   "metadata": {},
   "source": [
    "---\n",
    "### Ejercicio 4\n",
    "La idea ahora es que hagan un _script_ similar al de arriba para un set de datos lineal. Dejamos una pequeña guía.\n",
    "\n",
    "1. Descargar el archivo en este [link](https://raw.githubusercontent.com/fifabsas/talleresfifabsas/master/python/2_Numerico/data_lineal.csv). Pueden hacerlo con click derecho -> \"Guardar como...\"\n",
    "2. Importen el archivo data_lineal.csv a Python (miren el archivo para ver cuántas filas tienen que saltarse)\n",
    "3. Grafiquen los datos crudos\n",
    "4. Realicen un ajuste lineal de los datos (tengan en cuenta que la f_ajuste ahora va a ser otra!)\n",
    "5. Grafiquen los datos crudos junto a el ajuste.\n",
    "6. Decoren el gráfico tanto como les guste y guárdenlo en la computadora.\n",
    "\n",
    "Este ejercicio es el más largo y complicado hasta ahora. Hay muchas cosas! No se preocupen si no llegan, después en su casa pueden ir paso a paso leyendo la guía, probando y preguntando cosas por el [canal de Discord](https://discord.gg/bN2KeTu).\n",
    "\n",
    "---\n",
    "---"
   ]
  },
  {
   "cell_type": "markdown",
   "metadata": {},
   "source": [
    "### Acá termina nuestra clase. \n",
    "\n",
    "Si aún hay tiempo abajo tenemos armado algunos párrafos sobre distintas cosas piolas que podemos hacer. La elección esta en ustedes. (Si, se convirtió en un elija su propia aventura, no se la esperaba nadie esa)\n",
    "\n",
    "* Pandas y DataFrames\n",
    "* Histogramas\n",
    "* Sistemas de ecuaciones diferenciales\n",
    "* Algebra Lineal\n",
    "* Calculo Simbólico\n",
    "* Integración Numérica\n",
    "* Funciones Locas\n"
   ]
  },
  {
   "cell_type": "markdown",
   "metadata": {},
   "source": [
    "---\n",
    "# Pandas y DataFrames\n",
    "\n",
    "[Pandas](https://pandas.pydata.org/) es una librería bastante utilizada para Análisis de Datos y tiene [demasiadas](https://pandas.pydata.org/docs/user_guide/index.html) cosas disponibles, demasiadas. Aca en el curso no vamos a cubrir casi nada, sólo veremos algunas cosas.\n",
    "\n",
    "Pandas, tal como NumPy y SymPy, trae un nuevo tipo de dato muy genial, los DataFrames. Recomendado es el [tutorial](https://pandas.pydata.org/docs/getting_started/index.html) de 10 minutos que aporta la misma página de Pandas, en los que hace un paneo sobre las cosas básicas de la librería. Hay un [ejemplo práctico](../Extras/Pandas_ejemplo.ipynb) hecho por la FIFA en el que se trabaja un poco los datos de inscripción de una jornada anterior del cursito este.\n",
    "\n",
    "Los DataFrames, el nuevo tipo de dato introducido, son básicamente tablas de datos donde cada columna tiene un nombre descriptivo. Podemos operar con las columnas por su nombre, y también elegir filas como haciamos con arrays antes.\n",
    "    "
   ]
  },
  {
   "cell_type": "code",
   "execution_count": 18,
   "metadata": {},
   "outputs": [
    {
     "name": "stdout",
     "output_type": "stream",
     "text": [
      "          A         B   Columna\n",
      "0  1.306630 -2.291737 -0.569453\n",
      "1 -1.152830  0.732933  0.321360\n",
      "2 -0.764704  0.196400 -0.936674\n",
      "3  1.058185 -0.324949 -1.742166\n",
      "4  0.330806  0.085614  0.438102\n",
      "5  1.626899  0.383054  0.628802\n",
      "6  1.001783 -0.187721  1.806652\n",
      "7  0.802827 -0.100067  0.662701\n",
      "\n"
     ]
    },
    {
     "data": {
      "text/html": [
       "<div>\n",
       "<style scoped>\n",
       "    .dataframe tbody tr th:only-of-type {\n",
       "        vertical-align: middle;\n",
       "    }\n",
       "\n",
       "    .dataframe tbody tr th {\n",
       "        vertical-align: top;\n",
       "    }\n",
       "\n",
       "    .dataframe thead th {\n",
       "        text-align: right;\n",
       "    }\n",
       "</style>\n",
       "<table border=\"1\" class=\"dataframe\">\n",
       "  <thead>\n",
       "    <tr style=\"text-align: right;\">\n",
       "      <th></th>\n",
       "      <th>A</th>\n",
       "      <th>B</th>\n",
       "      <th>Columna</th>\n",
       "    </tr>\n",
       "  </thead>\n",
       "  <tbody>\n",
       "    <tr>\n",
       "      <th>0</th>\n",
       "      <td>1.306630</td>\n",
       "      <td>-2.291737</td>\n",
       "      <td>-0.569453</td>\n",
       "    </tr>\n",
       "    <tr>\n",
       "      <th>1</th>\n",
       "      <td>-1.152830</td>\n",
       "      <td>0.732933</td>\n",
       "      <td>0.321360</td>\n",
       "    </tr>\n",
       "    <tr>\n",
       "      <th>2</th>\n",
       "      <td>-0.764704</td>\n",
       "      <td>0.196400</td>\n",
       "      <td>-0.936674</td>\n",
       "    </tr>\n",
       "    <tr>\n",
       "      <th>3</th>\n",
       "      <td>1.058185</td>\n",
       "      <td>-0.324949</td>\n",
       "      <td>-1.742166</td>\n",
       "    </tr>\n",
       "    <tr>\n",
       "      <th>4</th>\n",
       "      <td>0.330806</td>\n",
       "      <td>0.085614</td>\n",
       "      <td>0.438102</td>\n",
       "    </tr>\n",
       "    <tr>\n",
       "      <th>5</th>\n",
       "      <td>1.626899</td>\n",
       "      <td>0.383054</td>\n",
       "      <td>0.628802</td>\n",
       "    </tr>\n",
       "    <tr>\n",
       "      <th>6</th>\n",
       "      <td>1.001783</td>\n",
       "      <td>-0.187721</td>\n",
       "      <td>1.806652</td>\n",
       "    </tr>\n",
       "    <tr>\n",
       "      <th>7</th>\n",
       "      <td>0.802827</td>\n",
       "      <td>-0.100067</td>\n",
       "      <td>0.662701</td>\n",
       "    </tr>\n",
       "  </tbody>\n",
       "</table>\n",
       "</div>"
      ],
      "text/plain": [
       "          A         B   Columna\n",
       "0  1.306630 -2.291737 -0.569453\n",
       "1 -1.152830  0.732933  0.321360\n",
       "2 -0.764704  0.196400 -0.936674\n",
       "3  1.058185 -0.324949 -1.742166\n",
       "4  0.330806  0.085614  0.438102\n",
       "5  1.626899  0.383054  0.628802\n",
       "6  1.001783 -0.187721  1.806652\n",
       "7  0.802827 -0.100067  0.662701"
      ]
     },
     "execution_count": 18,
     "metadata": {},
     "output_type": "execute_result"
    }
   ],
   "source": [
    "import pandas as pd\n",
    "\n",
    "df = pd.DataFrame(np.random.randn(8, 3), columns=['A', 'B', 'Columna'])\n",
    "\n",
    "print(df) # Esto lo muestra mas \"crudamente\"\n",
    "\n",
    "print()\n",
    "\n",
    "df  # Si solo escribimos esto la Notebook lo printea re cheto\n",
    "    # pero solo la notebook (Y quizas la terminal de spyder)"
   ]
  },
  {
   "cell_type": "markdown",
   "metadata": {},
   "source": [
    "Además podemos acceder a cada columna con su nombre! Genial. De yapa nos dice el tipo de dato que esa columna contiene. "
   ]
  },
  {
   "cell_type": "code",
   "execution_count": 19,
   "metadata": {},
   "outputs": [
    {
     "name": "stdout",
     "output_type": "stream",
     "text": [
      "0    1.306630\n",
      "1   -1.152830\n",
      "2   -0.764704\n",
      "3    1.058185\n",
      "4    0.330806\n",
      "5    1.626899\n",
      "6    1.001783\n",
      "7    0.802827\n",
      "Name: A, dtype: float64\n",
      "\n",
      "0   -0.569453\n",
      "1    0.321360\n",
      "2   -0.936674\n",
      "3   -1.742166\n",
      "4    0.438102\n",
      "5    0.628802\n",
      "6    1.806652\n",
      "7    0.662701\n",
      "Name: Columna, dtype: float64\n"
     ]
    }
   ],
   "source": [
    "print(df.A)\n",
    "print()\n",
    "print(df.Columna)"
   ]
  },
  {
   "cell_type": "markdown",
   "metadata": {},
   "source": [
    "Ya que está podemos indexear de otra forma y no con números del 0-7. Abajo mostramos una forma para indexear con fechas consecutivas. Además podemos tomar cachos del DataFrame igual que como hacíamos con vectores antes."
   ]
  },
  {
   "cell_type": "code",
   "execution_count": 20,
   "metadata": {},
   "outputs": [
    {
     "name": "stdout",
     "output_type": "stream",
     "text": [
      "            Columna         B\n",
      "2020-04-04        1  0.876051\n",
      "2020-04-05        1  0.783758\n",
      "2020-04-06        2  0.881846\n",
      "2020-04-07        0  0.303063\n",
      "2020-04-08        4  0.192155\n",
      "2020-04-09        2  0.913549\n",
      "2020-04-10        2  0.879073\n",
      "2020-04-11        2  0.583418\n",
      "\n",
      "                   B\n",
      "2020-04-04  0.876051\n",
      "2020-04-05  0.783758\n",
      "2020-04-06  0.881846\n",
      "2020-04-07  0.303063\n",
      "2020-04-08  0.192155\n",
      "2020-04-09  0.913549\n",
      "2020-04-10  0.879073\n",
      "2020-04-11  0.583418\n",
      "\n",
      "            Columna         B\n",
      "2020-04-04        1  0.876051\n",
      "2020-04-05        1  0.783758\n",
      "2020-04-06        2  0.881846\n",
      "2020-04-07        0  0.303063\n",
      "\n",
      "            Columna         B\n",
      "2020-04-07        0  0.303063\n",
      "2020-04-04        1  0.876051\n",
      "2020-04-05        1  0.783758\n",
      "2020-04-06        2  0.881846\n",
      "2020-04-09        2  0.913549\n",
      "2020-04-10        2  0.879073\n",
      "2020-04-11        2  0.583418\n",
      "2020-04-08        4  0.192155\n"
     ]
    }
   ],
   "source": [
    "dates = pd.date_range('20200404', periods=8)\n",
    "df = pd.DataFrame({'Columna': np.random.randint(0,5,8),\n",
    "                  'B': np.random.rand(8)},\n",
    "                  index=dates)\n",
    "print(df)\n",
    "print()\n",
    "print(df.loc[:, ['B']])\n",
    "print()\n",
    "print(df[0:4])\n",
    "print()\n",
    "print(df.sort_values(by='Columna'))"
   ]
  },
  {
   "cell_type": "markdown",
   "metadata": {},
   "source": [
    "La librería también viene con una forma bastante poderosa para levantar archivos de un [montón](https://pandas.pydata.org/docs/user_guide/io.html#csv-text-files) de tipos distintos (incluidas cosas tipo excel, json, html, etc...), vamos a usar ```read_csv``` para levantar el archivo que vimos arriba de la exponencial."
   ]
  },
  {
   "cell_type": "code",
   "execution_count": 21,
   "metadata": {},
   "outputs": [
    {
     "data": {
      "text/html": [
       "<div>\n",
       "<style scoped>\n",
       "    .dataframe tbody tr th:only-of-type {\n",
       "        vertical-align: middle;\n",
       "    }\n",
       "\n",
       "    .dataframe tbody tr th {\n",
       "        vertical-align: top;\n",
       "    }\n",
       "\n",
       "    .dataframe thead th {\n",
       "        text-align: right;\n",
       "    }\n",
       "</style>\n",
       "<table border=\"1\" class=\"dataframe\">\n",
       "  <thead>\n",
       "    <tr style=\"text-align: right;\">\n",
       "      <th></th>\n",
       "      <th>VAR 1</th>\n",
       "      <th>VAR 2</th>\n",
       "    </tr>\n",
       "  </thead>\n",
       "  <tbody>\n",
       "    <tr>\n",
       "      <th>0</th>\n",
       "      <td>0.00</td>\n",
       "      <td>1.93</td>\n",
       "    </tr>\n",
       "    <tr>\n",
       "      <th>1</th>\n",
       "      <td>1.58</td>\n",
       "      <td>1.67</td>\n",
       "    </tr>\n",
       "    <tr>\n",
       "      <th>2</th>\n",
       "      <td>3.16</td>\n",
       "      <td>1.30</td>\n",
       "    </tr>\n",
       "    <tr>\n",
       "      <th>3</th>\n",
       "      <td>4.74</td>\n",
       "      <td>0.63</td>\n",
       "    </tr>\n",
       "    <tr>\n",
       "      <th>4</th>\n",
       "      <td>6.32</td>\n",
       "      <td>1.26</td>\n",
       "    </tr>\n",
       "    <tr>\n",
       "      <th>5</th>\n",
       "      <td>7.89</td>\n",
       "      <td>2.38</td>\n",
       "    </tr>\n",
       "    <tr>\n",
       "      <th>6</th>\n",
       "      <td>9.47</td>\n",
       "      <td>2.91</td>\n",
       "    </tr>\n",
       "    <tr>\n",
       "      <th>7</th>\n",
       "      <td>11.05</td>\n",
       "      <td>2.36</td>\n",
       "    </tr>\n",
       "    <tr>\n",
       "      <th>8</th>\n",
       "      <td>12.63</td>\n",
       "      <td>3.93</td>\n",
       "    </tr>\n",
       "    <tr>\n",
       "      <th>9</th>\n",
       "      <td>14.21</td>\n",
       "      <td>4.80</td>\n",
       "    </tr>\n",
       "    <tr>\n",
       "      <th>10</th>\n",
       "      <td>15.79</td>\n",
       "      <td>4.83</td>\n",
       "    </tr>\n",
       "    <tr>\n",
       "      <th>11</th>\n",
       "      <td>17.37</td>\n",
       "      <td>5.17</td>\n",
       "    </tr>\n",
       "    <tr>\n",
       "      <th>12</th>\n",
       "      <td>18.95</td>\n",
       "      <td>6.21</td>\n",
       "    </tr>\n",
       "    <tr>\n",
       "      <th>13</th>\n",
       "      <td>20.53</td>\n",
       "      <td>7.94</td>\n",
       "    </tr>\n",
       "    <tr>\n",
       "      <th>14</th>\n",
       "      <td>22.11</td>\n",
       "      <td>9.12</td>\n",
       "    </tr>\n",
       "    <tr>\n",
       "      <th>15</th>\n",
       "      <td>23.68</td>\n",
       "      <td>11.09</td>\n",
       "    </tr>\n",
       "    <tr>\n",
       "      <th>16</th>\n",
       "      <td>25.26</td>\n",
       "      <td>12.57</td>\n",
       "    </tr>\n",
       "    <tr>\n",
       "      <th>17</th>\n",
       "      <td>26.84</td>\n",
       "      <td>14.28</td>\n",
       "    </tr>\n",
       "    <tr>\n",
       "      <th>18</th>\n",
       "      <td>28.42</td>\n",
       "      <td>17.10</td>\n",
       "    </tr>\n",
       "    <tr>\n",
       "      <th>19</th>\n",
       "      <td>30.00</td>\n",
       "      <td>20.56</td>\n",
       "    </tr>\n",
       "  </tbody>\n",
       "</table>\n",
       "</div>"
      ],
      "text/plain": [
       "    VAR 1  VAR 2\n",
       "0    0.00   1.93\n",
       "1    1.58   1.67\n",
       "2    3.16   1.30\n",
       "3    4.74   0.63\n",
       "4    6.32   1.26\n",
       "5    7.89   2.38\n",
       "6    9.47   2.91\n",
       "7   11.05   2.36\n",
       "8   12.63   3.93\n",
       "9   14.21   4.80\n",
       "10  15.79   4.83\n",
       "11  17.37   5.17\n",
       "12  18.95   6.21\n",
       "13  20.53   7.94\n",
       "14  22.11   9.12\n",
       "15  23.68  11.09\n",
       "16  25.26  12.57\n",
       "17  26.84  14.28\n",
       "18  28.42  17.10\n",
       "19  30.00  20.56"
      ]
     },
     "execution_count": 21,
     "metadata": {},
     "output_type": "execute_result"
    }
   ],
   "source": [
    "pd.read_csv(\"data_exp.csv\")\n",
    "\n",
    "#\n",
    "# Escrito asi nomas dejamos que Pandas trate de leer el archivo lo mejor que pueda\n",
    "# pero hay muchas opciones para levantar archivos mas \"conflictivos\", como para\n",
    "# definir el separador entre datos, las lineas iniciales, tipo de datos, etc...\n",
    "# esto puede verse desde la documentación de la librería o google.\n",
    "#"
   ]
  },
  {
   "cell_type": "markdown",
   "metadata": {},
   "source": [
    "---\n",
    "\n",
    "# Histogramas\n",
    "\n",
    "Una cosita más que nos va a ser útil a la hora de dejar el Oriyin sin instalar es poder hacer histogramas. Con _pyplot_ eso lo podemos obtener de la función _hist_.\n",
    "\n",
    "Recordemos que en un histograma dividimos una serie de datos en rangos y contamos cuántos de nuestros datos caen en cada rango. A esos rangos se los llama _bins_.\n",
    "\n",
    "_hist_ toma como argumentos un array de números, en cuántos _bins_ queremos dividir a nuestro eje x y algunas otras opciones de color como constante de normalización y color de las barras.\n",
    "\n",
    "Hagamos un histograma simple de un set gaussiano. Para eso, creemos datos alrededor de algún valor medio usando _randn_ de _NumPy_ . Esto de crear datos lo hacemos acá a modo de ejemplo, en la vida real uno importaria algun dataset de las formas que ya hemos visto."
   ]
  },
  {
   "cell_type": "code",
   "execution_count": 22,
   "metadata": {},
   "outputs": [
    {
     "data": {
      "image/png": "[encoded data removed]",
      "text/plain": [
       "<Figure size 432x288 with 1 Axes>"
      ]
     },
     "metadata": {
      "needs_background": "light"
     },
     "output_type": "display_data"
    }
   ],
   "source": [
    "import numpy as np\n",
    "import matplotlib.pyplot as plt\n",
    "\n",
    "mu = 100 # mu es mi valor medio\n",
    "sigma = 15 # sigma la desviación\n",
    "x = mu + sigma*np.random.randn(10000) # le sumo ruido gaussiano a mu\n",
    "\n",
    "n, bins, patches = plt.hist(x, bins=50, edgecolor='black', facecolor='green', alpha=0.75)\n",
    "# en la variable n se encuentran los datos del histograma\n",
    "# bins es un vector con los bordes de los rangos de datos\n",
    "# patches no nos interesa en general"
   ]
  },
  {
   "cell_type": "code",
   "execution_count": 23,
   "metadata": {},
   "outputs": [
    {
     "data": {
      "image/png": "[encoded data removed]",
      "text/plain": [
       "<Figure size 432x288 with 1 Axes>"
      ]
     },
     "metadata": {
      "needs_background": "light"
     },
     "output_type": "display_data"
    }
   ],
   "source": [
    "# Si lo quisieramos normalizar el area hay que agregar una opcion mas que es density=True como para \n",
    "# que entienda que queremos ver la \"densidad de probabilidad\", forma cheta para decir: normalizar el area.\n",
    "\n",
    "n, bins, patches = plt.hist(x, bins=50, edgecolor='black', facecolor='green', alpha=0.75, density=True)\n",
    "\n",
    "# Ver la escala vertical."
   ]
  },
  {
   "cell_type": "markdown",
   "metadata": {},
   "source": [
    "Y ya que estamos, para concientizar acerca de los peligros a la hora de la elección de *bins*, graficamos algunos histogramas superpuestos."
   ]
  },
  {
   "cell_type": "code",
   "execution_count": 24,
   "metadata": {},
   "outputs": [
    {
     "data": {
      "image/png": "[encoded data removed]",
      "text/plain": [
       "<Figure size 432x288 with 1 Axes>"
      ]
     },
     "metadata": {
      "needs_background": "light"
     },
     "output_type": "display_data"
    }
   ],
   "source": [
    "n, bins, patches = plt.hist(x, bins=100, density=True, edgecolor='black', facecolor='green', alpha=0.75)\n",
    "n, bins, patches = plt.hist(x, bins=10 , density=True, edgecolor='black', facecolor='red'  , alpha=0.5)\n",
    "n, bins, patches = plt.hist(x, bins=2 , density=True, edgecolor='black', facecolor='yellow'  , alpha=0.3)"
   ]
  },
  {
   "cell_type": "markdown",
   "metadata": {},
   "source": [
    "### Ejercicio 6\n",
    "\n",
    "La función `randn` que usamos nos brinda números aleatorios distribuidos de manera gaussiana (distribución normal).\n",
    "1. Haga el mismo ejercicio de recién pero con números aleatorios distribuidos de manera uniforme\n",
    "2. Lo mismo pero con números con una distribución de $\\chi^2$"
   ]
  },
  {
   "cell_type": "markdown",
   "metadata": {},
   "source": [
    "---\n",
    "## Resolución de un sistema de ecuaciones diferenciales ordinarias (ODE)"
   ]
  },
  {
   "cell_type": "markdown",
   "metadata": {},
   "source": [
    "Vamos con un caso simple y conocido por la mayoría: el infaltable problema del péndulo. Arrancamos desde donde sabemos todos. (Donde sabemos todos? Si no saben de donde salió esto no se hagan problema, es solo algo físico, no lo podemos evitar)\n",
    "\n",
    "$$ \\frac{d^2\\theta}{dt^2} + \\omega^2 \\theta = 0$$\n",
    "\n",
    "con $\\omega^2 = \\frac{g}{l}$\n",
    "\n",
    "Para resolver numéricamente este problema, proponemos utilizar la función `odeint` de la biblioteca `scipy.integrate` (Otra opción podría ser la función `solve_ivp`, para problemas de valores iniciales), y esa función utiliza un método no taaaaan distinto al [método de Euler](https://es.wikipedia.org/wiki/M%C3%A9todo_de_Euler) para la solución de ODE's, (inserte conocimientos de Cálculo Numérico aquí, sí, dale, cursala antes de recibirte) por lo que, para un problema con derivadas de segundo orden debemos armar un sistema de ecuaciones de primer orden.\n",
    "\n",
    "Sea $\\phi = \\dot{\\theta} \\rightarrow \\dot{\\phi} = \\ddot{\\theta}$\n",
    "\n",
    "Nos queda entonces"
   ]
  },
  {
   "cell_type": "markdown",
   "metadata": {},
   "source": [
    "$$\n",
    "\\begin{align}\n",
    "\\dot{\\theta} = \\phi \\\\\n",
    "\\dot{\\phi} = -\\omega^2 \\theta\n",
    "\\end{align}\n",
    "$$"
   ]
  },
  {
   "cell_type": "markdown",
   "metadata": {},
   "source": [
    "o bien"
   ]
  },
  {
   "cell_type": "markdown",
   "metadata": {},
   "source": [
    "$$\n",
    "\\begin{equation}\n",
    "\\begin{pmatrix}\n",
    "\\dot{\\theta} \\\\ \n",
    "\\dot{\\phi}\n",
    "\\end{pmatrix}\n",
    "=\n",
    " \\begin{pmatrix}\n",
    "  0 & 1  \\\\ \n",
    "  -\\omega^2 & 0 \n",
    " \\end{pmatrix}\n",
    "\\begin{pmatrix}\n",
    "\\theta \\\\ \n",
    "\\phi \n",
    "\\end{pmatrix}\n",
    "\\end{equation}\n",
    "$$"
   ]
  },
  {
   "cell_type": "markdown",
   "metadata": {},
   "source": [
    "o también\n",
    "\n",
    "$$ \\dot{\\vec{X}} = A \\vec{X} $$\n",
    "\n",
    "Escencialmente, nuestro `odeint` va a intentar resolver ese sistema para distintos $t$ mientras le hayamos dado un valor inicial de donde comenzar. Nada demasiado extraño. Así que lo que la función va a necesitar es una función que tome como primer argumento $\\vec{X}$, segundo argumento $t$ (por ser la variable independiente) y luego los demás parametros que necesite (en este caso sean $g$ y $l$) y opere para obtener $\\dot{\\vec{X}}$."
   ]
  },
  {
   "cell_type": "code",
   "execution_count": 25,
   "metadata": {},
   "outputs": [],
   "source": [
    "from scipy.integrate import odeint\n",
    "import numpy as np"
   ]
  },
  {
   "cell_type": "code",
   "execution_count": 26,
   "metadata": {},
   "outputs": [
    {
     "data": {
      "image/png": "[encoded data removed]",
      "text/plain": [
       "<Figure size 432x288 with 1 Axes>"
      ]
     },
     "metadata": {
      "needs_background": "light"
     },
     "output_type": "display_data"
    }
   ],
   "source": [
    "def ecdif(X, t, g, l):\n",
    "    theta, phi = X\n",
    "    omega2 = g/l\n",
    "    return [phi, -omega2 * theta]\n",
    "\n",
    "g = 9.8\n",
    "l = 2\n",
    "X0 = [np.pi/4, 0] # Inicio a 45 grados con velocidad = 0\n",
    "t = np.linspace(0, 10, 101)\n",
    "solucion = odeint(ecdif, X0, t, args = (g,l))\n",
    "\n",
    "plt.plot(t,solucion[:,0], label = 'theta')\n",
    "plt.plot(t,solucion[:,1], label = 'phi')\n",
    "plt.title('Resolucion del pendulo')\n",
    "plt.xlabel('Tiempo')\n",
    "plt.ylabel('Valores')\n",
    "plt.grid(True)\n",
    "plt.legend(loc = 'best')\n",
    "plt.show()"
   ]
  },
  {
   "cell_type": "markdown",
   "metadata": {},
   "source": [
    "Si quieren ver otro ejemplo que esto, recomendamos el [resuelto](../Extras/Fisica2/oscilador_forzado.py) que hizo un Ex-FIFA del oscilador con forzante sin aproximación y comparado con la solución analítica (sí, esa que sin aproximación no buscó nadie). También recomendamos, a cuento de esto, un pasito más en resolución de ODE's que es una [simulación](../Extras/Fisica1/simulacion.ipynb) de uno de los ejercicios de F1, donde se arma una animación y una visualización más interactiva con la biblioteca `ipywidgets` de tantas otras posibles."
   ]
  },
  {
   "cell_type": "markdown",
   "metadata": {},
   "source": [
    "### Ejercicio\n",
    "1. Resuelvan el oscilador armónico amortiguado con el parámetro $\\gamma$\n",
    "2. Vuelvan a todas esas guías que nadie terminó, busquen los ejercicios con asterisco, métanlos en Python y aprecien el poder del cálculo numérico."
   ]
  },
  {
   "cell_type": "markdown",
   "metadata": {},
   "source": [
    "---\n",
    "\n",
    "## Un poco de algebra lineal con *NumPy*\n",
    "\n",
    "NumPy trae muchas funciones para resolver problemas típicos de algebra lineal usando a los arrays como vectores. El que nos interesa en general es el de autovalores y autovectores y el sistema de ecuaciones lineales, pero empecemos con un ejemplo más fácil:"
   ]
  },
  {
   "cell_type": "code",
   "execution_count": 27,
   "metadata": {},
   "outputs": [
    {
     "name": "stdout",
     "output_type": "stream",
     "text": [
      "1.7320508075688772\n",
      "1.7320508075688772\n",
      "True\n"
     ]
    }
   ],
   "source": [
    "# cargamos el módulo de algebra lineal\n",
    "from numpy import linalg\n",
    "v = np.array([1, 1, 1])\n",
    "w = np.array([2, 2, 2])\n",
    "z = np.array([1, 0, 1])\n",
    "\n",
    "norma =linalg.norm(v) # la norma 2 / módulo del vector v\n",
    "print(norma)\n",
    "print(np.sqrt(v[0]**2 + v[1]**2 + v[2]**2)) # calculado a mano == sqrt(3)\n",
    "print(norma == np.sqrt(3)) # y numpy sabe que son lo mismo"
   ]
  },
  {
   "cell_type": "markdown",
   "metadata": {},
   "source": [
    "Ahora si, usemos los vectores que creamos recién para crear una matriz y digamosle a _NumPy_ que calcule los autovectoresy autovalores de esa matriz:"
   ]
  },
  {
   "cell_type": "code",
   "execution_count": 28,
   "metadata": {},
   "outputs": [
    {
     "name": "stdout",
     "output_type": "stream",
     "text": [
      "Los autovalores: [ 3.41421356e+00 -1.23150120e-16  5.85786438e-01]\n",
      "\n",
      "Los autovectores: [[ 4.39732612e-01  7.07106781e-01 -3.03890631e-01]\n",
      " [ 8.79465224e-01 -5.45825614e-17 -6.07781262e-01]\n",
      " [ 1.82143212e-01 -7.07106781e-01  7.33656883e-01]]\n"
     ]
    }
   ],
   "source": [
    "matriz = np.array([v, w, z], dtype=np.float64) \n",
    "#eig devuelve una tupla de arrays con los autovalores en un array 1D y los autovec en un array 2D\n",
    "eigens = linalg.eig(matriz)\n",
    "\n",
    "autvals, autvecs = eigens\n",
    "\n",
    "print('Los autovalores:', autvals)\n",
    "print()\n",
    "print('Los autovectores:', autvecs)\n",
    "\n",
    "#se terminó el problema"
   ]
  },
  {
   "cell_type": "markdown",
   "metadata": {},
   "source": [
    "Y para un sistema de ecuaciones del tipo $Ax = b$:"
   ]
  },
  {
   "cell_type": "code",
   "execution_count": 29,
   "metadata": {},
   "outputs": [
    {
     "name": "stdout",
     "output_type": "stream",
     "text": [
      "[0.67857143 0.07142857 0.03571429]\n"
     ]
    }
   ],
   "source": [
    "mat = np.array([[1, 2, 5], [2, 5, 8], [4, 0, 8]], dtype=np.float64)\n",
    "b = np.array([1, 2, 3])\n",
    "x = linalg.solve(mat, b) #resuelve el sistema A*x = b\n",
    "print(x)\n",
    "\n",
    "#se terminó el problema"
   ]
  },
  {
   "cell_type": "markdown",
   "metadata": {},
   "source": [
    "Por supuesto, también se puede hacer producto matriz con vector, y... oh si, se pueden calcular *inversas*."
   ]
  },
  {
   "cell_type": "code",
   "execution_count": 30,
   "metadata": {},
   "outputs": [
    {
     "name": "stdout",
     "output_type": "stream",
     "text": [
      "[1. 2. 3.]\n",
      "[[-1.42857143  0.57142857  0.32142857]\n",
      " [-0.57142857  0.42857143 -0.07142857]\n",
      " [ 0.71428571 -0.28571429 -0.03571429]]\n"
     ]
    }
   ],
   "source": [
    "print(np.dot(mat,x))\n",
    "print(linalg.inv(mat))"
   ]
  },
  {
   "cell_type": "markdown",
   "metadata": {},
   "source": [
    "--- \n",
    "\n",
    "### Ejercicio\n",
    "\n",
    "Parecen incrédulos. Fabriquen entonces la matriz \n",
    "$$\n",
    "\\begin{equation}\n",
    "A = \n",
    "\\begin{pmatrix}\n",
    "  0 & 1 \\\\\n",
    "  1 & 0  \n",
    "\\end{pmatrix}\n",
    "\\end{equation}\n",
    "$$\n",
    "\n",
    "cuyos autovalores son $\\lambda_1 = 1$ y $\\lambda_2 = -1 $, hallen sus autovalores y autovectores (a mano y con Python) y calculen $Ax$ con \n",
    "$$\n",
    "\\begin{equation}\n",
    "x = \n",
    "\\begin{pmatrix}\n",
    "1\\\\0\n",
    "\\end{pmatrix}\n",
    "\\end{equation}\n",
    "$$"
   ]
  },
  {
   "cell_type": "markdown",
   "metadata": {},
   "source": [
    "---\n",
    "### Ejercicio\n",
    "\n",
    "Inventen una matriz de 5x5 (con el método que quieran y ¡que no sea la identidad!) y averigüen si es invertible. Si están prestando atención, saben que para resolver este problema les conviene ver la documentación de numpy.linalg.\n",
    "\n",
    "*Ayuda*: ¿Es necesario calcular la inversa? ¿Se acuerdan algo de álgebra lineal?"
   ]
  },
  {
   "cell_type": "markdown",
   "metadata": {},
   "source": [
    "---\n",
    "\n",
    "# Cálculo simbólico"
   ]
  },
  {
   "cell_type": "markdown",
   "metadata": {},
   "source": [
    "Ahora no sólo nos vamos a emancipar del *Oriyin*, sino también del bendito *Wolfram Alpha* (Disclaimer: si bien la librería que se usa es muy buena, todavía no llega a tener el nivel de software como Mathematica, Maple, etc). \n",
    "Así es, Python nos va a permitir hacer cálculos simbólicos, como las integrales que nunca supimos calcular. Todo eso y más, en el paquete **SymPy**:\n",
    "\n",
    "Hemos dicho que en general no es una buena práctica, pero este es uno de los pocos casos para los cuales se justifica importar toda la librería."
   ]
  },
  {
   "cell_type": "code",
   "execution_count": 2,
   "metadata": {},
   "outputs": [],
   "source": [
    "from sympy import *"
   ]
  },
  {
   "cell_type": "markdown",
   "metadata": {},
   "source": [
    "Les daremos ahora un breve tour por algunas de las funciones que nos ofrece *SymPy*. Así como *numpy* nos introdujo el array como tipo de variable, las expresiones algebraicas en *sympy* son del tipo *symbols*. Estas pueden representar números enteros, reales, funciones, etc.\n",
    "\n",
    "A diferencia de las librerías anteriores, en las cuales usualmente escribimos los comandos dentro de un archivo a ejectutar todo junto (*script*); a modo de demostración utilizaremos *SymPy* de forma *interactiva*. Esta es posiblemente la manera en la que usaron *Wolfram Alpha* o *Mathematica* (para quienes lo hayan hecho).\n",
    "\n",
    "Una forma conveniente para empezar es utilizando el siguiente comando:"
   ]
  },
  {
   "cell_type": "code",
   "execution_count": 3,
   "metadata": {},
   "outputs": [
    {
     "name": "stdout",
     "output_type": "stream",
     "text": [
      "IPython console for SymPy 1.5.1 (Python 3.7.3-64-bit) (ground types: gmpy)\n",
      "\n",
      "These commands were executed:\n",
      ">>> from __future__ import division\n",
      ">>> from sympy import *\n",
      ">>> x, y, z, t = symbols('x y z t')\n",
      ">>> k, m, n = symbols('k m n', integer=True)\n",
      ">>> f, g, h = symbols('f g h', cls=Function)\n",
      ">>> init_printing()\n",
      "\n",
      "Documentation can be found at https://docs.sympy.org/1.5.1/\n",
      "\n"
     ]
    }
   ],
   "source": [
    "init_session(use_latex='matplotlib') #el argumento nos permite renderear los resultados con el latex de matplotlib"
   ]
  },
  {
   "cell_type": "markdown",
   "metadata": {},
   "source": [
    "Vimos aquí que una cantidad de variables se definieron como *symbols* de distintos tipos.\n",
    "Veamos ahora algunas de las posibilidades que tenemos:"
   ]
  },
  {
   "cell_type": "code",
   "execution_count": 33,
   "metadata": {},
   "outputs": [
    {
     "data": {
      "image/png": "[encoded data removed]",
      "text/plain": [
       " 5      4         3  2       2  3        4    5\n",
       "x  + 5⋅x ⋅y + 10⋅x ⋅y  + 10⋅x ⋅y  + 5⋅x⋅y  + y "
      ]
     },
     "execution_count": 33,
     "metadata": {},
     "output_type": "execute_result"
    }
   ],
   "source": [
    "expand( (x + y)**5 )"
   ]
  },
  {
   "cell_type": "code",
   "execution_count": 34,
   "metadata": {},
   "outputs": [
    {
     "data": {
      "image/png": "[encoded data removed]",
      "text/plain": [
       "                ⎛ 2        ⎞ ⎛ 2        ⎞\n",
       "(x - 1)⋅(x + 1)⋅⎝x  - x + 1⎠⋅⎝x  + x + 1⎠"
      ]
     },
     "execution_count": 34,
     "metadata": {},
     "output_type": "execute_result"
    }
   ],
   "source": [
    "factor( x**6 - 1 )"
   ]
  },
  {
   "cell_type": "markdown",
   "metadata": {},
   "source": [
    "Utilizando variables simbólicas de tipo integer, podemos hacer algunas sumatorias, por ejemplo, la famosa $$\\sum_{k=0}^{m}k$$"
   ]
  },
  {
   "cell_type": "code",
   "execution_count": 35,
   "metadata": {},
   "outputs": [
    {
     "data": {
      "image/png": "[encoded data removed]",
      "text/plain": [
       "m⋅(m + 1)\n",
       "─────────\n",
       "    2    "
      ]
     },
     "execution_count": 35,
     "metadata": {},
     "output_type": "execute_result"
    }
   ],
   "source": [
    "Sum(k, (k,0,m) ).doit().factor()  #el comando .doit() evalúa la suma"
   ]
  },
  {
   "cell_type": "markdown",
   "metadata": {},
   "source": [
    "O incluso algunas series, como $$ \\sum_{n=1}^{\\infty}\\frac{1}{n^2} $$"
   ]
  },
  {
   "cell_type": "code",
   "execution_count": 36,
   "metadata": {},
   "outputs": [
    {
     "data": {
      "image/png": "[encoded data removed]",
      "text/plain": [
       " 2\n",
       "π \n",
       "──\n",
       "6 "
      ]
     },
     "execution_count": 36,
     "metadata": {},
     "output_type": "execute_result"
    }
   ],
   "source": [
    "Sum(1/n**2, (n, 1, oo)).doit() #el infinito se escribe como oo (dos o minúscula)"
   ]
  },
  {
   "cell_type": "markdown",
   "metadata": {},
   "source": [
    "---\n",
    "Posiblemente si queremos algo de cálculo simbólico, sea para calcular derivadas e integrales que nos molesten. Veamos algunos ejemplos $\\dfrac{\\text{d}x^n}{\\text{d}x}$"
   ]
  },
  {
   "cell_type": "code",
   "execution_count": 37,
   "metadata": {},
   "outputs": [
    {
     "data": {
      "image/png": "[encoded data removed]",
      "text/plain": [
       "   n - 1\n",
       "n⋅x     "
      ]
     },
     "execution_count": 37,
     "metadata": {},
     "output_type": "execute_result"
    }
   ],
   "source": [
    "diff(x**n , x).simplify()"
   ]
  },
  {
   "cell_type": "markdown",
   "metadata": {},
   "source": [
    "$$ \\frac{d}{dx}\\big(\\ \\sin(\\tan(8x))\\ \\big)$$"
   ]
  },
  {
   "cell_type": "code",
   "execution_count": 20,
   "metadata": {},
   "outputs": [
    {
     "data": {
      "image/png": "[encoded data removed]",
      "text/plain": [
       "⎛     2         ⎞              \n",
       "⎝8⋅tan (8⋅x) + 8⎠⋅cos(tan(8⋅x))"
      ]
     },
     "execution_count": 20,
     "metadata": {},
     "output_type": "execute_result"
    }
   ],
   "source": [
    "diff(sin(tan(8*x)), x)"
   ]
  },
  {
   "cell_type": "code",
   "execution_count": 39,
   "metadata": {},
   "outputs": [
    {
     "data": {
      "image/png": "[encoded data removed]",
      "text/plain": [
       "8⋅cos(tan(8⋅x))\n",
       "───────────────\n",
       "      2        \n",
       "   cos (8⋅x)   "
      ]
     },
     "execution_count": 39,
     "metadata": {},
     "output_type": "execute_result"
    }
   ],
   "source": [
    "out = diff(sin(tan(8*x)), x).simplify()"
   ]
  },
  {
   "cell_type": "code",
   "execution_count": 23,
   "metadata": {},
   "outputs": [
    {
     "data": {
      "image/png": "[encoded data removed]",
      "text/plain": [
       "⎛     2          ⎞                          sin(tan(8⋅√y))\n",
       "⎝8⋅tan (8⋅√y) + 8⎠⋅log(√y)⋅cos(tan(8⋅√y)) + ──────────────\n",
       "                                                  √y      "
      ]
     },
     "execution_count": 23,
     "metadata": {},
     "output_type": "execute_result"
    }
   ],
   "source": [
    "# Podemos hacer sustituciones de simbolos por otros simbolos!!\n",
    "out.subs(x, sqrt(y))"
   ]
  },
  {
   "cell_type": "code",
   "execution_count": 25,
   "metadata": {},
   "outputs": [
    {
     "name": "stdout",
     "output_type": "stream",
     "text": [
      "(8 + 8*tan(64)**2)*log(8)*cos(tan(64)) + sin(tan(64))/8 = -75.8763346443574\n"
     ]
    }
   ],
   "source": [
    "# Hasta podemos sustituir por valores numéricos y evaluar la funcion!!\n",
    "print(f\"{out.subs(x, 8)} = {out.subs(x, 8).evalf()}\")"
   ]
  },
  {
   "cell_type": "markdown",
   "metadata": {},
   "source": [
    "Si alguno desconfia, puede verlo desde [WolframAlfa](https://www.wolframalpha.com/input/?i=%288+%2B+8*tan%2864%29**2%29*log%288%29*cos%28tan%2864%29%29+%2B+sin%28tan%2864%29%29%2F8)"
   ]
  },
  {
   "cell_type": "markdown",
   "metadata": {},
   "source": [
    "---\n",
    "Otro ejemplo! Derivadas parciales: $\\dfrac{\\partial^2}{\\partial y \\partial x}\\left( x\\sin{y} \\right)$"
   ]
  },
  {
   "cell_type": "code",
   "execution_count": 40,
   "metadata": {},
   "outputs": [
    {
     "data": {
      "image/png": "[encoded data removed]",
      "text/plain": [
       "cos(y)"
      ]
     },
     "execution_count": 40,
     "metadata": {},
     "output_type": "execute_result"
    }
   ],
   "source": [
    "diff(x*sin(y), x, y) #qué pasa si en lugar de x,y ponemos y,y?"
   ]
  },
  {
   "cell_type": "markdown",
   "metadata": {},
   "source": [
    "También se pueden hacer integrales indefinidas o definidas con dominio infinito/acotado, obviamente luego se podría reemplazar en la expresión final por algun valor numérico, si así se quisiera\n",
    "$$\\int \\dfrac{1}{1+x^2}\\text{d}x$$"
   ]
  },
  {
   "cell_type": "code",
   "execution_count": 41,
   "metadata": {},
   "outputs": [
    {
     "data": {
      "image/png": "[encoded data removed]",
      "text/plain": [
       "atan(x)"
      ]
     },
     "execution_count": 41,
     "metadata": {},
     "output_type": "execute_result"
    }
   ],
   "source": [
    "integrate(1/(1+x**2), x)"
   ]
  },
  {
   "cell_type": "markdown",
   "metadata": {},
   "source": [
    "$$\\int_{-\\infty}^{+\\infty} \\dfrac{\\sin(x)}{x}\\text{d}x$$"
   ]
  },
  {
   "cell_type": "code",
   "execution_count": 42,
   "metadata": {},
   "outputs": [
    {
     "data": {
      "image/png": "[encoded data removed]",
      "text/plain": [
       "π"
      ]
     },
     "execution_count": 42,
     "metadata": {},
     "output_type": "execute_result"
    }
   ],
   "source": [
    "integrate( sin(x)/x, (x,-oo,oo) )"
   ]
  },
  {
   "cell_type": "markdown",
   "metadata": {},
   "source": [
    "---\n",
    "Algo importantisimo y fabuloso de Sympy (algo que sorprendentemente NO tiene Mathematica ni Matlab) es que a cualquier expresión, podemos envolverla en un `latex()` para que devuelva la misma expresión que renderizó, pero en el formato de LaTeX. Derecho para mandar al informe o trabajo sin tipearla."
   ]
  },
  {
   "cell_type": "code",
   "execution_count": 12,
   "metadata": {},
   "outputs": [
    {
     "data": {
      "image/png": "[encoded data removed]",
      "text/plain": [
       "⎛     2         ⎞                        sin(tan(8⋅x))\n",
       "⎝8⋅tan (8⋅x) + 8⎠⋅log(x)⋅cos(tan(8⋅x)) + ─────────────\n",
       "                                               x      "
      ]
     },
     "execution_count": 12,
     "metadata": {},
     "output_type": "execute_result"
    }
   ],
   "source": [
    "out = diff(sin(tan(8*x))*log(x), x)\n",
    "out"
   ]
  },
  {
   "cell_type": "code",
   "execution_count": 13,
   "metadata": {},
   "outputs": [
    {
     "name": "stdout",
     "output_type": "stream",
     "text": [
      "Normal: (8*tan(8*x)**2 + 8)*log(x)*cos(tan(8*x)) + sin(tan(8*x))/x\n",
      "LaTeX: \\left(8 \\tan^{2}{\\left(8 x \\right)} + 8\\right) \\log{\\left(x \\right)} \\cos{\\left(\\tan{\\left(8 x \\right)} \\right)} + \\frac{\\sin{\\left(\\tan{\\left(8 x \\right)} \\right)}}{x}\n"
     ]
    }
   ],
   "source": [
    "print(f\"Normal: {out}\")\n",
    "print(f\"LaTeX: {latex(out)}\")"
   ]
  },
  {
   "cell_type": "markdown",
   "metadata": {},
   "source": [
    "### Ejercicio 9"
   ]
  },
  {
   "cell_type": "markdown",
   "metadata": {},
   "source": [
    "Calculen la siguiente integral:  $$ \\int_{-\\infty}^{+\\infty} e^{-x^2} \\text{d}x $$ (opcional: verificar el resultado a mano!)"
   ]
  },
  {
   "cell_type": "code",
   "execution_count": 43,
   "metadata": {},
   "outputs": [],
   "source": [
    "# Realicen el ejercicio 9"
   ]
  },
  {
   "cell_type": "markdown",
   "metadata": {},
   "source": [
    "---\n",
    "# Integración numérica\n",
    "Siempre es útil tener a mano una rutina de integración numérica. Puede ser para el caso en el cual la integral analítica sea muy complicada o no estándar. También es fundamental para poder integrar datos obtenidos experimentalmente, sin asumir alguna función que los modele. Para ambos casos, el paquete relevante será `scipy.integrate`"
   ]
  },
  {
   "cell_type": "markdown",
   "metadata": {},
   "source": [
    "### A partir de una función predefinida\n",
    "En este caso, la función a importar es `quad`, porque usa un método de [cuadraturas](https://en.wikipedia.org/wiki/Numerical_integration#Quadrature_rules_based_on_interpolating_functions)"
   ]
  },
  {
   "cell_type": "code",
   "execution_count": 44,
   "metadata": {},
   "outputs": [],
   "source": [
    "from scipy.integrate import quad"
   ]
  },
  {
   "cell_type": "markdown",
   "metadata": {},
   "source": [
    "Definamos una función para ser integrada. A modo de ejemplo, calcularemos \n",
    "\n",
    "$$\\int_a^b \\dfrac{\\text{e}^{-x^2 / 2}}{\\sqrt{2\\pi}}\\text{d}x$$"
   ]
  },
  {
   "cell_type": "code",
   "execution_count": 45,
   "metadata": {},
   "outputs": [],
   "source": [
    "def integrando(x): return np.exp(-x**2 / 2)/np.sqrt(2*np.pi)"
   ]
  },
  {
   "cell_type": "markdown",
   "metadata": {},
   "source": [
    "Ahora, llamamos a `quad` para integrar esta función entre $a=-1$ y $b=1$"
   ]
  },
  {
   "cell_type": "code",
   "execution_count": 46,
   "metadata": {},
   "outputs": [
    {
     "name": "stdout",
     "output_type": "stream",
     "text": [
      "0.682689492137086 7.579375928402476e-15\n"
     ]
    }
   ],
   "source": [
    "a = -1\n",
    "b = 1\n",
    "integral, error = quad(integrando, a, b)\n",
    "print(integral, error)"
   ]
  },
  {
   "cell_type": "markdown",
   "metadata": {},
   "source": [
    "Podemos, con este método, incluso obtener la primitiva numéricamente. Por ejemplo\n",
    "\n",
    "$$F(x) = \\int_a^x \\dfrac{\\text{e}^{-t^2 / 2}}{\\sqrt{2\\pi}}\\text{d}t$$"
   ]
  },
  {
   "cell_type": "code",
   "execution_count": 47,
   "metadata": {},
   "outputs": [],
   "source": [
    "# Definimos este dominio\n",
    "x = np.linspace(-5,5,100)\n",
    "\n",
    "# Ahora obtenemos la primitiva\n",
    "prim = np.zeros(x.size)\n",
    "\n",
    "for i in range(x.size):\n",
    "    prim[i], error = quad(integrando, a, x[i])\n"
   ]
  },
  {
   "cell_type": "markdown",
   "metadata": {},
   "source": [
    "Veamos la gráfica para este dominio"
   ]
  },
  {
   "cell_type": "code",
   "execution_count": 48,
   "metadata": {},
   "outputs": [
    {
     "data": {
      "text/plain": [
       "<matplotlib.legend.Legend at 0x12b6e4190>"
      ]
     },
     "execution_count": 48,
     "metadata": {},
     "output_type": "execute_result"
    },
    {
     "data": {
      "image/png": "[encoded data removed]",
      "text/plain": [
       "<Figure size 432x288 with 1 Axes>"
      ]
     },
     "metadata": {
      "needs_background": "light"
     },
     "output_type": "display_data"
    }
   ],
   "source": [
    "plt.figure()\n",
    "\n",
    "plt.plot(x, integrando(x), 'b', label = 'integrando')\n",
    "plt.plot(x, prim, 'r', label = 'primitiva')\n",
    "plt.grid(True)\n",
    "plt.legend()"
   ]
  },
  {
   "cell_type": "markdown",
   "metadata": {},
   "source": [
    "---\n",
    "# Funciones especiales"
   ]
  },
  {
   "cell_type": "markdown",
   "metadata": {},
   "source": [
    "Tal vez en algún momento de la vida nos encontremos con funciones más exóticas que el seno, coseno y exponenciales, funciones que las conocemos de nombre pero de graficarlas ni hablemos. Por suerte, la biblioteca *scipy* cuenta con abanico muy grande de estas funciones con nombre propio. En la documentación (bloque de ayuda del spyder) podemos encontrar la lista completa de funciones, buscando `scipy.special`"
   ]
  },
  {
   "cell_type": "code",
   "execution_count": 49,
   "metadata": {},
   "outputs": [],
   "source": [
    "import scipy.special as sp"
   ]
  },
  {
   "cell_type": "markdown",
   "metadata": {},
   "source": [
    "Empecemos graficando un ejemplo común en probabilidad, la *función error*:"
   ]
  },
  {
   "cell_type": "code",
   "execution_count": 50,
   "metadata": {},
   "outputs": [
    {
     "data": {
      "image/png": "[encoded data removed]",
      "text/plain": [
       "<Figure size 432x288 with 1 Axes>"
      ]
     },
     "metadata": {
      "needs_background": "light"
     },
     "output_type": "display_data"
    }
   ],
   "source": [
    "import numpy as np\n",
    "import matplotlib.pyplot as plt\n",
    "%matplotlib inline\n",
    "\n",
    "x = np.linspace(-5,5,100) #generamos el dominio\n",
    "y = sp.erf(x) #llama a la función error de la librería\n",
    "\n",
    "plt.plot(x,y, label='función error')\n",
    "plt.grid(True)\n",
    "plt.legend(loc='best')\n",
    "plt.show()"
   ]
  },
  {
   "cell_type": "markdown",
   "metadata": {},
   "source": [
    "Dentro de las muchas funciones que nos ofrece la librería, otro ejemplo importante en la física son las *funciones de Bessel* $J_{\\nu}(x)$. Hay una función para cada valor del índice $\\nu$ (que llamamos orden). En la librería, se llaman con el comando `jv(i,x)`, donde la primer entrada corresponde al orden $\\nu$.\n",
    "Como demostración, veamos ahora algunos de sus gráficos:"
   ]
  },
  {
   "cell_type": "code",
   "execution_count": 51,
   "metadata": {},
   "outputs": [
    {
     "data": {
      "text/plain": [
       "Text(0.5, 1.0, 'Funciones de Bessel')"
      ]
     },
     "execution_count": 51,
     "metadata": {},
     "output_type": "execute_result"
    },
    {
     "data": {
      "image/png": "[encoded data removed]",
      "text/plain": [
       "<Figure size 432x288 with 1 Axes>"
      ]
     },
     "metadata": {
      "needs_background": "light"
     },
     "output_type": "display_data"
    }
   ],
   "source": [
    "num = 500\n",
    "r = np.linspace(0,10,num)\n",
    "\n",
    "for i in range(5):\n",
    "    y_i = sp.jv(i,r) # para cada i, grafica la función de orden i\n",
    "    plt.plot(r,y_i,label='orden {}'.format(i))\n",
    "    plt.legend(loc='best')\n",
    "plt.grid(True)\n",
    "plt.xlim(0, 10)\n",
    "plt.title('Funciones de Bessel')"
   ]
  },
  {
   "cell_type": "markdown",
   "metadata": {},
   "source": [
    "### Ejercicio 8"
   ]
  },
  {
   "cell_type": "markdown",
   "metadata": {},
   "source": [
    "1. Busquen en la documentación la función *gamma*, y grafiquenla en el intervalo $\\left[-5,5\\right]$\n",
    "2. (Opcional) Googleen a ver qué es lo tan importante de esa función."
   ]
  }
 ],
 "metadata": {
  "anaconda-cloud": {},
  "kernelspec": {
   "display_name": "Python 3",
   "language": "python",
   "name": "python3"
  },
  "language_info": {
   "codemirror_mode": {
    "name": "ipython",
    "version": 3
   },
   "file_extension": ".py",
   "mimetype": "text/x-python",
   "name": "python",
   "nbconvert_exporter": "python",
   "pygments_lexer": "ipython3",
   "version": "3.7.3"
  }
 },
 "nbformat": 4,
 "nbformat_minor": 4
}
