{
 "cells": [
  {
   "cell_type": "code",
   "execution_count": 9,
   "metadata": {
    "collapsed": false
   },
   "outputs": [
    {
     "name": "stdout",
     "output_type": "stream",
     "text": [
      "Populating the interactive namespace from numpy and matplotlib\n"
     ]
    },
    {
     "name": "stderr",
     "output_type": "stream",
     "text": [
      "WARNING: pylab import has clobbered these variables: ['interactive']\n",
      "`%matplotlib` prevents importing * from pylab and numpy\n"
     ]
    }
   ],
   "source": [
    "%pylab inline\n",
    "#%numpy.linalg inline\n",
    "%qtconsole\n",
    "from mpl_toolkits.mplot3d import Axes3D\n",
    "from ipywidgets import interact, interactive\n",
    "from IPython.display import clear_output, display, HTML"
   ]
  },
  {
   "cell_type": "markdown",
   "metadata": {},
   "source": [
    "# Un poquito de álgebra lineal"
   ]
  },
  {
   "cell_type": "markdown",
   "metadata": {},
   "source": [
    "Para esta primera parte, utilizaremos una biblioteca muy útil para cálculo matricial, numpy. De allí sacaremos los tipos de dato ndarray, matrix, y todas las operaciones que utilicemos. Veamos un poco cómo definir vectores fila, matrices, y cómo llamar a determinado componente de determinado vector o matriz. "
   ]
  },
  {
   "cell_type": "code",
   "execution_count": 5,
   "metadata": {
    "collapsed": false
   },
   "outputs": [
    {
     "name": "stdout",
     "output_type": "stream",
     "text": [
      "suma de las componentes: 8 8\n",
      "operación con los elementos de la matriz: 15\n",
      "[[1 2 3]\n",
      " [4 5 6]\n",
      " [7 8 9]] <type 'numpy.ndarray'>\n"
     ]
    }
   ],
   "source": [
    "pos = array([1,4,3])\n",
    "mat = matrix([[1,2,3], \n",
    "             [4,5,6], \n",
    "             [7,8,9]])\n",
    "\n",
    "x = pos[0] # en Python, las posiciones de los vectores comienzan a contarse en 0\n",
    "y = pos[1]\n",
    "z = pos[2]\n",
    "print 'suma de las componentes:', x+y+z, sum(pos)\n",
    "\n",
    "c = (mat[0,0] + mat[0,1])* mat[1,1]\n",
    "print 'operación con los elementos de la matriz:' , c\n",
    "\n",
    "#Nos acostumbraremos a utilizar arrays para matrices\n",
    "mat = array(mat) # La función array() transforma mat (que era una matrix) en un ndarray\n",
    "print mat, type(mat)"
   ]
  },
  {
   "cell_type": "markdown",
   "metadata": {},
   "source": [
    "Las matrices especiales pueden armarse \"a mano\" como ejercicio, como también pueden buscarse entre las funciones que Python ofrece"
   ]
  },
  {
   "cell_type": "code",
   "execution_count": 6,
   "metadata": {
    "collapsed": false
   },
   "outputs": [
    {
     "name": "stdout",
     "output_type": "stream",
     "text": [
      "identidad armada a mano: \n",
      "[[ 1.  0.  0.]\n",
      " [ 0.  1.  0.]\n",
      " [ 0.  0.  1.]]\n",
      "identidad de la función de Python: \n",
      "[[ 1.  0.  0.]\n",
      " [ 0.  1.  0.]\n",
      " [ 0.  0.  1.]]\n",
      "matriz de unos: \n",
      "[[ 1.  1.  1.  1.]\n",
      " [ 1.  1.  1.  1.]\n",
      " [ 1.  1.  1.  1.]]\n",
      "matriz de ceros: \n",
      "[[ 0.  0.  0.]\n",
      " [ 0.  0.  0.]\n",
      " [ 0.  0.  0.]\n",
      " [ 0.  0.  0.]]\n"
     ]
    }
   ],
   "source": [
    "identidad = zeros([3,3])\n",
    "for i in range(3):\n",
    "    for j in range(3):\n",
    "        if i == j:\n",
    "            identidad[i,j] = 1       \n",
    "print 'identidad armada a mano: '\n",
    "print identidad\n",
    "\n",
    "identidad2 = identity(3)\n",
    "print 'identidad de la función de Python: ' \n",
    "print identidad2\n",
    "\n",
    "unos = ones([3,4]) #matriz de unos\n",
    "print 'matriz de unos: '\n",
    "print unos\n",
    "\n",
    "ceros = zeros([4,3]) #matriz de ceros\n",
    "print 'matriz de ceros: '\n",
    "print ceros\n"
   ]
  },
  {
   "cell_type": "markdown",
   "metadata": {},
   "source": [
    "Entre las operaciones que pueden hacerse con vectores y matrices se encuentran las que esperamos que estén: producto escalar, producto de matrices con vectores, transposición."
   ]
  },
  {
   "cell_type": "code",
   "execution_count": 7,
   "metadata": {
    "collapsed": false
   },
   "outputs": [
    {
     "name": "stdout",
     "output_type": "stream",
     "text": [
      "teníamos la matriz: \n",
      "[[1 2 3]\n",
      " [4 5 6]\n",
      " [7 8 9]]\n",
      "la traspuesta es: \n",
      "[[1 4 7]\n",
      " [2 5 8]\n",
      " [3 6 9]]\n",
      "vector pos= [1 4 3]\n",
      "producto escalar:  26\n",
      "producto componente a componente: [ 1 16  9]\n",
      "A =  [[1 2]\n",
      " [0 1]]    x=  [1 2]\n",
      "Ax= [5 2]\n"
     ]
    }
   ],
   "source": [
    "print 'teníamos la matriz: '\n",
    "print mat\n",
    "\n",
    "trans = transpose(mat)\n",
    "print 'la traspuesta es: '\n",
    "print trans\n",
    "\n",
    "print 'vector pos=', pos\n",
    "\n",
    "print 'producto escalar: ' , dot(pos, pos) # producto escalar entre vectores\n",
    "\n",
    "print 'producto componente a componente:' , pos*pos # producto componente a componente. Más útil con funciones\n",
    "\n",
    "A = array([[1,2],[0,1]]) #Otra forma de definir directamente matrices como arrays sin tener que transformar\n",
    "x = array([1,2])\n",
    "print 'A = ',A,'  ', 'x= ', x\n",
    "print 'Ax=', dot(A, x)\n",
    "\n"
   ]
  },
  {
   "cell_type": "markdown",
   "metadata": {},
   "source": [
    "Y también tenemos esas funciones que siempre quisimos tener desde el CBC: inversa de una matriz, cálculo de determinantes, resolución de sistema de ecuaciones, hallazgo de autovalores y autovectores. Para esto usamos una biblioteca extra llamada linalg"
   ]
  },
  {
   "cell_type": "code",
   "execution_count": 12,
   "metadata": {
    "collapsed": false
   },
   "outputs": [
    {
     "name": "stdout",
     "output_type": "stream",
     "text": [
      "Podemos encontrar la matriz inversa: \n",
      "[[ 1. -2.]\n",
      " [ 0.  1.]]\n",
      "su determinante: 1.0\n",
      "Resolver un sistema de forma Ax=b\n",
      "x = [-3.  2.]\n",
      "Y hallar autovalores y autovectores\n",
      "Los autovalores:  [ 1.  1.]\n",
      "Los autovectores:  [[  1.00000000e+00  -1.00000000e+00]\n",
      " [  0.00000000e+00   1.11022302e-16]]\n"
     ]
    }
   ],
   "source": [
    "print 'Podemos encontrar la matriz inversa: ' \n",
    "print inv(A)\n",
    "\n",
    "print 'su determinante:', det(A)\n",
    "print 'Resolver un sistema de forma Ax=b'\n",
    "b = x\n",
    "print 'x =' ,solve(A, b)\n",
    "print 'Y hallar autovalores y autovectores'\n",
    "autoval, autovec = eig(A)\n",
    "print 'Los autovalores: ', autoval\n",
    "print 'Los autovectores: ', autovec"
   ]
  },
  {
   "cell_type": "markdown",
   "metadata": {},
   "source": [
    "# Funciones y gráficos"
   ]
  },
  {
   "cell_type": "markdown",
   "metadata": {},
   "source": [
    "Lo siguiente que Python tiene de interesante para usar son sus facilidades para hacer gráficos. La biblioteca \"matplotlib\" nos ayudará en este caso. Primero, definimos un vector que nos hace de dominio, luego, un vector imagen de alguna función, y luego haremos el gráfico. Se muestran aquí algunas de las opciones que tiene matplotlib para presentar un gráfico, pero yendo a la documentación podrán encontrar infinidad de herramientas para hacer esto."
   ]
  },
  {
   "cell_type": "code",
   "execution_count": 44,
   "metadata": {
    "collapsed": false
   },
   "outputs": [
    {
     "data": {
      "text/plain": [
       "<matplotlib.legend.Legend at 0x7f4adaa19f90>"
      ]
     },
     "execution_count": 44,
     "metadata": {},
     "output_type": "execute_result"
    },
    {
     "data": {
      "image/png": "[encoded data removed]",
      "text/plain": [
       "<matplotlib.figure.Figure at 0x7f4adab1ed90>"
      ]
     },
     "metadata": {},
     "output_type": "display_data"
    }
   ],
   "source": [
    "# Ploteos\n",
    "\n",
    "x = linspace(-10, 10, 200) # con la función linspace generaremos un vector con componentes equidistantes.\n",
    "y = x**2 # el vector imagen será igual de largo que x\n",
    "plot(x,y, '-', color = 'red', label = 'Curva x**2') # ver qué pasa con 'r', 'g', '*' entre otros\n",
    "title('Mi primer ploteo')\n",
    "xlabel('Eje de las x')\n",
    "ylabel('Eje de las y')\n",
    "#xlim(-5,5)\n",
    "#ylim(0,4)\n",
    "legend('best')\n",
    "\n"
   ]
  },
  {
   "cell_type": "code",
   "execution_count": 38,
   "metadata": {
    "collapsed": false
   },
   "outputs": [
    {
     "data": {
      "text/plain": [
       "<matplotlib.legend.Legend at 0x7f4adaa9e6d0>"
      ]
     },
     "execution_count": 38,
     "metadata": {},
     "output_type": "execute_result"
    },
    {
     "data": {
      "image/png": "[encoded data removed]",
      "text/plain": [
       "<matplotlib.figure.Figure at 0x7f4adaba8290>"
      ]
     },
     "metadata": {},
     "output_type": "display_data"
    }
   ],
   "source": [
    "f = lambda x,n: sin(n*pi*x) # Definimos una sucesión de funciones trigonométricas\n",
    "y = f(x,0) # vector imagen de la función f(x) = 0\n",
    "\n",
    "for i in range(5): # este es un caso simple donde sumo las 5 primeras funciones de la sucesión\n",
    "\ty =  y + f(x,i) # a esa y le sumo el valor de las imágenes de las siguientes funciones de la sucesión de funciones\n",
    "\n",
    "plot(x,y, label = 'Curva')\n",
    "title('Suma de senos')\n",
    "xlabel('Dominio')\n",
    "ylabel('Suma de los primeros 5 senos')\n",
    "legend('best')\n",
    "\n",
    "# Podríamos hacer derivación numérica\n",
    "\n",
    "# Integración sería útil?\n",
    "\n",
    "# Transformada de Fourier es irse al chori?"
   ]
  },
  {
   "cell_type": "markdown",
   "metadata": {},
   "source": [
    "# La importancia de las referencias"
   ]
  },
  {
   "cell_type": "markdown",
   "metadata": {},
   "source": [
    "Para más referencias pueden googlear. Dejamos algunas de referencia:\n",
    "\n",
    "http://pybonacci.org/2012/06/07/algebra-lineal-en-python-con-numpy-i-operaciones-basicas/\n",
    "\n",
    "http://relopezbriega.github.io/blog/2015/06/14/algebra-lineal-con-python/\n",
    "\n",
    "http://pendientedemigracion.ucm.es/info/aocg/python/modulos_cientificos/numpy/index.html\n",
    "\n",
    "Pero es importantísimo manejarse con la documentación de las bibliotecas que se utilizan\n",
    "\n",
    "http://docs.scipy.org/doc/numpy/reference/routines.linalg.html\n",
    "\n",
    "http://matplotlib.org/api/pyplot_api.html"
   ]
  },
  {
   "cell_type": "code",
   "execution_count": null,
   "metadata": {
    "collapsed": true
   },
   "outputs": [],
   "source": []
  }
 ],
 "metadata": {
  "kernelspec": {
   "display_name": "Python 3",
   "language": "python",
   "name": "python3"
  },
  "language_info": {
   "codemirror_mode": {
    "name": "ipython",
    "version": 3
   },
   "file_extension": ".py",
   "mimetype": "text/x-python",
   "name": "python",
   "nbconvert_exporter": "python",
   "pygments_lexer": "ipython3",
   "version": "3.6.0"
  }
 },
 "nbformat": 4,
 "nbformat_minor": 0
}
