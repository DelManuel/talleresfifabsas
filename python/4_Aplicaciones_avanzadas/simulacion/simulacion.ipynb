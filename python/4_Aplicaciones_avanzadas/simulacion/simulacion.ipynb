{
 "cells": [
  {
   "cell_type": "markdown",
   "metadata": {},
   "source": [
    "![fifa](./logo_fifa.png)\n",
    "\n",
    "# Ejemplo de simulación numérica"
   ]
  },
  {
   "cell_type": "code",
   "execution_count": 30,
   "metadata": {},
   "outputs": [],
   "source": [
    "import numpy as np\n",
    "from scipy.integrate import odeint\n",
    "from matplotlib import rc\n",
    "import matplotlib.pyplot as plt\n",
    "%matplotlib inline\n",
    "\n",
    "rc(\"text\", usetex=True)\n",
    "rc(\"font\", size=16)\n",
    "rc(\"figure\", figsize=(6,4))\n",
    "rc(\"axes\", grid=True)"
   ]
  },
  {
   "cell_type": "markdown",
   "metadata": {},
   "source": [
    "## Problema físico\n",
    "\n",
    "![esquema](esquema.png)\n",
    "\n",
    "Definimos un SR con el origen en el orificio donde el hilo atravieza el plano, la coordenada $\\hat{z}$ apuntando hacia abajo. Con esto sacamos, de la segunda ley de Newton para las particulas:\n",
    "\n",
    "$$\n",
    "\\begin{align}\n",
    "\\text{Masa 1)}\\quad&\\vec{F}_1 = m_1 \\vec{a}_1 \\\\\n",
    "&T \\hat{r} = m_1 \\vec{a}_1 \\\\\n",
    "&T \\hat{r} = m_1 \\left\\{ \\left(\\ddot{r} - r \\dot{\\theta}^2\\right)  \\hat{r} + \\left(r\\ddot{\\theta} + 2\\dot{r}\\dot{\\theta}\\right)\\hat{\\theta} \\right\\} \\\\\n",
    "&\\begin{cases}\n",
    "\\hat{r})\\  T = m_1\\left( \\ddot{r} - r\\, \\dot{\\theta}^2\\right)\\\\\n",
    "\\hat{\\theta})\\  0 = m_1 \\left(r \\ddot{\\theta} + 2 \\dot{r}\\dot{\\theta}\\right)\\\\\n",
    "\\end{cases}\\\\\n",
    "\\\\\n",
    "\\text{Masa 2)}\\quad&\\vec{F}_2 = m_2 \\vec{a}_2 \\\\\n",
    "&-T \\hat{z} + m_2 g \\hat{z} = m_2 \\ddot{z} \\hat{z} \\\\\n",
    "\\implies & \\boxed{T = m_2 \\left( g - \\ddot{z} \\right)}\\\\\n",
    "\\end{align}\n",
    "$$\n",
    "\n",
    "Ahora reemplazando este resultado para la tension (que es igual en ambas expresiones) y entendiendo que $\\ddot{z} = \\ddot{r}$ pues la soga es ideal y de largo constante, podemos rescribir las ecuaciones obtenidas para la masa 1 como:\n",
    "\n",
    "$$\n",
    "\\begin{cases}\n",
    "\\hat{r})\\quad  m_2 \\left( g - \\ddot{r} \\right) = m_1\\left( \\ddot{r} - r\\, \\dot{\\theta}^2\\right)\\\\\n",
    "\\\\\n",
    "\\hat{\\theta})\\quad  0 = m_1 \\left(r \\ddot{\\theta} + 2 \\dot{r}\\dot{\\theta}\\right)\n",
    "\\end{cases}\n",
    "\\implies\n",
    "\\begin{cases}\n",
    "\\hat{r})\\quad  \\ddot{r} = \\dfrac{m_2 g + m_1 r \\dot{\\theta}^2}{m_1 + m_2}\\\\\n",
    "\\\\\n",
    "\\hat{\\theta})\\quad  \\ddot{\\theta} = -2 \\dfrac{\\dot{r}\\dot{\\theta}}{r}\\\\\n",
    "\\end{cases}\n",
    "$$\n"
   ]
  },
  {
   "cell_type": "markdown",
   "metadata": {},
   "source": [
    "La gracia de estos métodos es lograr encontrar una expresión de la forma $y'(x) = f(x,t)$ donde x será la solución buscada, aca como estamos en un sistema de segundo orden en dos variables diferentes ($r$ y $\\theta$) sabemos que nuestra solución va a tener que involucrar 4 componentes. Es como en el oscilador armónico, que uno tiene que definir posicion y velocidad inicial para poder conocer el sistema, solo que aca tenemos dos para $r$ y dos para $\\theta$.\n",
    "\n",
    "Se puede ver entonces que vamos a necesitar una solucion del tipo:\n",
    "$$\\mathbf{X} = \\begin{pmatrix} r \\\\ \\dot{r}\\\\ \\theta \\\\ \\dot{\\theta} \\end{pmatrix} $$\n",
    "Y entonces\n",
    "$$\n",
    "\\dot{\\mathbf{X}} = \n",
    "\\begin{pmatrix} \\dot{r} \\\\ \\ddot{r}\\\\ \\dot{\\theta} \\\\ \\ddot{\\theta} \\end{pmatrix} =\n",
    "\\begin{pmatrix} \\dot{r} \\\\ \\dfrac{m_2 g + m_1 r \\dot{\\theta}^2}{m_1 + m_2} \\\\ \\dot{\\theta} \\\\ -2 \\dfrac{\\dot{r}\\dot{\\theta}}{r} \\end{pmatrix} =\n",
    "\\mathbf{f}(\\mathbf{X}, t)\n",
    "$$\n",
    "\n",
    "---"
   ]
  },
  {
   "cell_type": "markdown",
   "metadata": {},
   "source": [
    "Si alguno quiere, tambien se puede escribir la evolucion del sistema de una forma piola, que no es otra cosa que una querida expansión de Taylor a orden lineal.\n",
    "\n",
    "$$\n",
    "\\begin{align}\n",
    "    r(t+dt) &= r(t) + \\dot{r}(t)\\cdot dt \\\\\n",
    "    \\dot{r}(t+dt) &= \\dot{r}(t) + \\ddot{r}(t)\\cdot dt \\\\\n",
    "    \\theta(t+dt) &= \\theta(t) + \\dot{\\theta}(t)\\cdot dt \\\\\n",
    "    \\dot{\\theta}(t+dt) &= \\dot{\\theta}(t) + \\ddot{\\theta}(t)\\cdot dt\n",
    "\\end{align}\n",
    "\\implies\n",
    "\\begin{pmatrix}\n",
    "    r\\\\\n",
    "    \\dot{r}\\\\\n",
    "    \\theta\\\\\n",
    "    \\ddot{\\theta}\n",
    "\\end{pmatrix}(t + dt) = \n",
    "\\begin{pmatrix}\n",
    "    r\\\\\n",
    "    \\dot{r}\\\\\n",
    "    \\theta\\\\\n",
    "    \\ddot{\\theta}\n",
    "\\end{pmatrix}(t) + \n",
    "\\begin{pmatrix}\n",
    "    \\dot{r}\\\\\n",
    "    \\ddot{r}\\\\\n",
    "    \\dot{\\theta}\\\\\n",
    "    \\ddot{\\theta}\n",
    "\\end{pmatrix}(t) \\cdot dt\n",
    "$$\n",
    "\n",
    "Aca tenemos que recordar que la compu no puede hacer cosas continuas, porque son infinitas cuentas, entones si o si hay que discretizar el tiempo y el paso temporal!\n",
    "\n",
    "$$\n",
    "\\begin{pmatrix}\n",
    "r\\\\\n",
    "\\dot{r}\\\\\n",
    "\\theta\\\\\n",
    "\\ddot{\\theta}\n",
    "\\end{pmatrix}_{i+1} = \n",
    "\\begin{pmatrix}\n",
    "r\\\\\n",
    "\\dot{r}\\\\\n",
    "\\theta\\\\\n",
    "\\ddot{\\theta}\n",
    "\\end{pmatrix}_i + \n",
    "\\begin{pmatrix}\n",
    "\\dot{r}\\\\\n",
    "\\ddot{r}\\\\\n",
    "\\dot{\\theta}\\\\\n",
    "\\ddot{\\theta}\n",
    "\\end{pmatrix}_i \\cdot dt\n",
    "$$\n",
    "\n",
    "Si entonces decido llamar a este vector columna $\\mathbf{X}$, el sistema queda escrito como:\n",
    "\n",
    "$$\n",
    "\\mathbf{X}_{i+1} = \\mathbf{X}_i + \\dot{\\mathbf{X}}_i\\ dt\n",
    "$$\n",
    "\n",
    "Donde sale denuevo que $\\dot{\\mathbf{X}}$ es lo que está escrito arriba.\n",
    "\n",
    "Es decir que para encontrar cualquier valor, solo hace falta saber el vector anterior y la derivada, pero las derivadas ya las tenemos (es todo el trabajo que hicimos de fisica antes)!!\n",
    "\n",
    "---\n",
    "---\n",
    "\n",
    "\n",
    "De cualquier forma que lo piensen, ojala hayan entendido que entonces con tener las condiciones iniciales y las ecuaciones diferenciales ya podemos resolver (tambien llamado `integrar`) el sistema."
   ]
  },
  {
   "cell_type": "code",
   "execution_count": 44,
   "metadata": {},
   "outputs": [
    {
     "data": {
      "text/plain": [
       "Text(0.5, 0, '$r/r_0\\\\ \\\\cos\\\\left(\\\\theta - \\\\theta_0\\\\right)$')"
      ]
     },
     "execution_count": 44,
     "metadata": {},
     "output_type": "execute_result"
    },
    {
     "data": {
      "image/png": "[encoded data removed]",
      "text/plain": [
       "<Figure size 432x288 with 1 Axes>"
      ]
     },
     "metadata": {
      "needs_background": "light"
     },
     "output_type": "display_data"
    },
    {
     "data": {
      "image/png": "[encoded data removed]",
      "text/plain": [
       "<Figure size 432x288 with 1 Axes>"
      ]
     },
     "metadata": {
      "needs_background": "light"
     },
     "output_type": "display_data"
    },
    {
     "data": {
      "image/png": "[encoded data removed]",
      "text/plain": [
       "<Figure size 432x288 with 1 Axes>"
      ]
     },
     "metadata": {
      "needs_background": "light"
     },
     "output_type": "display_data"
    }
   ],
   "source": [
    "# Constantes del problema:\n",
    "m1 = 1\n",
    "m2 = 0.5\n",
    "g = 9.81\n",
    "\n",
    "# Condiciones iniciales del problema:\n",
    "r0 = 2\n",
    "r_punto0 = 0\n",
    "tita0 = 0\n",
    "tita_punto0 = 1\n",
    "\n",
    "c1 = (m2*g)/(m1+m2) # Defino constantes utiles\n",
    "c2 = (m1)/(m1+m2)\n",
    "cond_iniciales = [r0, r_punto0, tita0, tita_punto0]\n",
    "\n",
    "def derivada(X, t, c1, c2): # esto sería la f del caso { x' = f(x,t) }\n",
    "    r, r_punto, tita, tita_punto = X\n",
    "    deriv = [0, 0, 0, 0] # es como el vector columna de arriba pero en filado\n",
    "    \n",
    "    deriv[0] = r_punto # derivada de r\n",
    "    deriv[1] = -c1 + c2*r*(tita_punto)**2 # r dos puntos\n",
    "    deriv[2] = tita_punto # derivada de tita\n",
    "    deriv[3] = -2*r_punto*tita_punto/r\n",
    "    return deriv\n",
    "\n",
    "\n",
    "def resuelvo_sistema(m1=1, m2=1, tmax = 20):\n",
    "    t0 = 0\n",
    "    c1 = (m2*g)/(m1+m2) # Defino constantes utiles\n",
    "    c2 = (m1)/(m1+m2)\n",
    "    t = np.linspace(t0, tmax, 1000)\n",
    "    \n",
    "    # aca podemos definirnos nuestro propio algoritmo de integracion\n",
    "    # o bien usar el que viene a armado de scipy. \n",
    "    # Ojo que no es perfecto eh, a veces es mejor escribirlo uno\n",
    "    out = odeint(derivada, cond_iniciales, t, args = (c1, c2,))\n",
    "    \n",
    "    # r, rp, tita, titap = out.T\n",
    "    return [t, out.T]\n",
    "\n",
    "t, (r, rp, tita, titap) = solve(m1=1, m2=10, tmax=2)\n",
    "\n",
    "plt.figure()\n",
    "plt.plot(t, r/r0, 'r')\n",
    "plt.ylabel(r\"$r / r_0$\")\n",
    "plt.xlabel(r\"tiempo\")\n",
    "# plt.savefig(\"directorio/r_vs_t.pdf\", dpi=300)\n",
    "\n",
    "plt.figure()\n",
    "plt.plot(t, tita-tita0, 'b')\n",
    "plt.ylabel(r\"$\\theta - \\theta_0$\")\n",
    "plt.xlabel(r\"tiempo\")\n",
    "# plt.savefig(\"directorio/tita_vs_t.pdf\", dpi=300)\n",
    "\n",
    "\n",
    "plt.figure()\n",
    "plt.plot(r*np.cos(tita-tita0)/r0, r*np.sin(tita-tita0)/r0, 'g')\n",
    "plt.ylabel(r\"$r/r_0\\ \\sin\\left(\\theta - \\theta_0\\right)$\")\n",
    "plt.xlabel(r\"$r/r_0\\ \\cos\\left(\\theta - \\theta_0\\right)$\")\n",
    "# plt.savefig(\"directorio/trayectoria.pdf\", dpi=300)"
   ]
  },
  {
   "cell_type": "code",
   "execution_count": null,
   "metadata": {
    "collapsed": true
   },
   "outputs": [],
   "source": [
    "#TODO: Animacion loca de la trayectoria. Quizas fixeando el nro de puntos e ir moviendolos?"
   ]
  }
 ],
 "metadata": {
  "kernelspec": {
   "display_name": "Python 3",
   "language": "python",
   "name": "python3"
  },
  "language_info": {
   "codemirror_mode": {
    "name": "ipython",
    "version": 3
   },
   "file_extension": ".py",
   "mimetype": "text/x-python",
   "name": "python",
   "nbconvert_exporter": "python",
   "pygments_lexer": "ipython3",
   "version": "3.7.3"
  }
 },
 "nbformat": 4,
 "nbformat_minor": 1
}
