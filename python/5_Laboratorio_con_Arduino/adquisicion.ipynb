{
 "cells": [
  {
   "cell_type": "markdown",
   "metadata": {},
   "source": [
    "# Adquisición de datos automatizada\n",
    "![](logo_fifa.png)\n",
    "\n",
    "En este notebook vamos a presentar la adquisición automática de datos, a partir de un osciloscopio Tektronix TDS2000. La idea es que saquemos información relevante de estos datos, veremos que tenemos a mano"
   ]
  },
  {
   "cell_type": "code",
   "execution_count": 1,
   "metadata": {
    "collapsed": false
   },
   "outputs": [],
   "source": [
    "import visa\n",
    "import numpy as np\n",
    "import matplotlib.pyplot as plt\n",
    "%matplotlib inline"
   ]
  },
  {
   "cell_type": "markdown",
   "metadata": {},
   "source": [
    "Para la adquisición hicimos una clase que abstrae el uso del osciloscopio TDS2000"
   ]
  },
  {
   "cell_type": "code",
   "execution_count": 2,
   "metadata": {
    "collapsed": true
   },
   "outputs": [],
   "source": [
    "class Osciloscopio(object):\n",
    "    '''Clase para el manejo osciloscopio TDS2000 usando PyVISA de interfaz'''\n",
    "    def __init__(self, resource):\n",
    "        #Defino el recurso\n",
    "        self._osci = visa.ResourceManager(\"@py\").open_resource(resource)\n",
    "        self._osci.query(\"*IDN?\")\n",
    "\n",
    "        #Configuración de curva\n",
    "        self._osci.write('DAT:ENC RPB') # Modo de transmision: Binario positivo. \n",
    "        self._osci.write('DAT:WID 1') #1 byte de dato. Con RPB 127 es la mitad de la pantalla\n",
    "        self._osci.write(\"DAT:STAR 1\") #La curva mandada inicia en el primer dato\n",
    "        self._osci.write(\"DAT:STOP 2500\") #La curva mandada finaliza en el último dato\n",
    "\n",
    "\n",
    "        #Adquisición por sampleo\n",
    "        self._osci.write(\"ACQ:MOD SAMP\")\n",
    "\n",
    "        #Seteo de canal\n",
    "        self.setCanal(canal = 1, escala = 20e-3)\n",
    "        self.setCanal(canal = 2, escala = 20e-3)\n",
    "        self.setTiempo(escala = 1e-3, cero = 0)\n",
    "\n",
    "        #Bloquea el control del osciloscopio\n",
    "        self._osci.write(\"LOC\")\n",
    "\n",
    "    def __del__(self):\n",
    "        self._osci.write(\"UNLOC\") #Desbloquea el control del osciloscopio\n",
    "        self._osci.close()\n",
    "\n",
    "    def setCanal(self, canal, escala, cero = 0):\n",
    "        #if coup != \"DC\" or coup != \"AC\" or coup != \"GND\":\n",
    "        #coup = \"DC\"\n",
    "        #self._osci.write(\"CH{0}:COUP \".format(canal) + coup) #Acoplamiento DC\n",
    "        #self._osci.write(\"CH{0}:PROB \n",
    "        print\n",
    "        self._osci.write(\"CH{0}:SCA {1}\".format(canal,escala))\n",
    "        self._osci.write(\"CH{0}:POS {1}\".format(canal,cero))\n",
    "\n",
    "    def getCanal(self,canal):\n",
    "        return self._osci.query(\"CH{0}?\".format(canal))\n",
    "\n",
    "    def setTiempo(self, escala, cero = 0):\n",
    "        self._osci.write(\"HOR:SCA {0}\".format(escala))\n",
    "        self._osci.write(\"HOR:POS {0}\".format(cero))\t\n",
    "        \n",
    "    def getTiempo(self):\n",
    "        return self._osci.query(\"HOR?\")\n",
    "    \n",
    "    def getVentana(self,canal):\n",
    "        self._osci.write(\"SEL:CH{0} ON\".format(canal)) #Hace aparecer el canal en pantalla. Por si no está habilitado\n",
    "        self._osci.write(\"DAT:SOU CH{0}\".format(canal)) #Selecciona el canal\n",
    "        #xze primer punto de la waveform\n",
    "        #xin intervalo de sampleo\n",
    "        #ymu factor de escala vertical\n",
    "        #yoff offset vertical\n",
    "        xze, xin, yze, ymu, yoff = self._osci.query_ascii_values('WFMPRE:XZE?;XIN?;YZE?;YMU?;YOFF?;', \n",
    "                                                                 separator=';') \n",
    "        data = (self._osci.query_binary_values('CURV?', datatype='B', \n",
    "                                               container=np.array) - yoff) * ymu + yze        \n",
    "        tiempo = xze + np.arange(len(data)) * xin\n",
    "        return tiempo, data\n"
   ]
  },
  {
   "cell_type": "code",
   "execution_count": null,
   "metadata": {
    "collapsed": false
   },
   "outputs": [],
   "source": [
    "rm = visa.ResourceManager('@py')\n",
    "rm.list_resources()"
   ]
  },
  {
   "cell_type": "code",
   "execution_count": null,
   "metadata": {
    "collapsed": false
   },
   "outputs": [],
   "source": [
    "osci = Osciloscopio('USB0::0x0699::0x0363::C108013::INSTR')\n",
    "osci.setCanal(1, 2)"
   ]
  },
  {
   "cell_type": "code",
   "execution_count": 19,
   "metadata": {
    "collapsed": false
   },
   "outputs": [
    {
     "data": {
      "text/plain": [
       "[<matplotlib.lines.Line2D at 0x7fa81c388860>]"
      ]
     },
     "execution_count": 19,
     "metadata": {},
     "output_type": "execute_result"
    },
    {
     "data": {
      "image/png": "[encoded data removed]",
      "text/plain": [
       "<matplotlib.figure.Figure at 0x7fa82028f2b0>"
      ]
     },
     "metadata": {},
     "output_type": "display_data"
    }
   ],
   "source": [
    "t,V = osci.getVentana(1)\n",
    "plt.plot(t,V,\"r-\")"
   ]
  }
 ],
 "metadata": {
  "kernelspec": {
   "display_name": "Python 3",
   "language": "python",
   "name": "python3"
  },
  "language_info": {
   "codemirror_mode": {
    "name": "ipython",
    "version": 3
   },
   "file_extension": ".py",
   "mimetype": "text/x-python",
   "name": "python",
   "nbconvert_exporter": "python",
   "pygments_lexer": "ipython3",
   "version": "3.5.1"
  }
 },
 "nbformat": 4,
 "nbformat_minor": 0
}
