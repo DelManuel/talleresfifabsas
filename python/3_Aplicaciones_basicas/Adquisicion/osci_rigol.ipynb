{
  "worksheets": [
    {
      "cells": [
        {
          "cell_type": "code",
          "input": "%matplotlib inline\nfrom matplotlib import pyplot as plt\nimport numpy as np\nimport time\nimport visa",
          "outputs": [],
          "language": "python",
          "metadata": {
            "cellView": null,
            "executionInfo": null
          }
        },
        {
          "cell_type": "code",
          "input": "rm = visa.ResourceManager()",
          "outputs": [],
          "language": "python",
          "metadata": {
            "cellView": null,
            "executionInfo": null
          }
        },
        {
          "cell_type": "code",
          "input": "rm.list_resources()",
          "outputs": [],
          "language": "python",
          "metadata": {
            "cellView": null,
            "executionInfo": null
          }
        },
        {
          "cell_type": "code",
          "input": "osci = rm.open_resource('USB0::0x1AB1::0x0588::DS1K00005888::INSTR')\nosci.query('*IDN?')",
          "outputs": [],
          "language": "python",
          "metadata": {
            "cellView": null,
            "executionInfo": null
          }
        },
        {
          "cell_type": "code",
          "input": "# Cambia a modo RAW (lee todo los puntos)\nosci.write(':WAV:POIN:MODE RAW')\n# Frena la adquisicion\nosci.write(':STOP')",
          "outputs": [],
          "language": "python",
          "metadata": {
            "cellView": null,
            "executionInfo": null
          }
        },
        {
          "cell_type": "code",
          "input": "# Si vas a repetir la adquisicion muchas veces sin cambiar la escala\n# es util definir una funcion que mida y haga las cuentas\ndef medir(inst):\n    # Escala de voltaje\n    voltscale = float(inst.query(\":CHAN1:SCAL?\"))\n\n    # Offset de voltaje\n    voltoffset = float(inst.query(\":CHAN1:OFFS?\"))\n\n    # Escala de tiempo\n    timescale = float(inst.query(\":TIM:SCAL?\"))\n\n    # Offset de tiempo\n    timeoffset = float(inst.query(\":TIM:OFFS?\"))\n    \n    # Adquiere los datos del canal 1 y los devuelve en un array de numpy\n    data = inst.query_binary_values(':WAV:DATA? CHAN1', datatype='B', container=np.array)\n    \n    #Divisiones de tiempo\n    divisions = 12 * 6\n    tiempo = timeoffset + np.linspace(-timescale * divisions / 2 , timescale * divisions /2, num=len(data))\n\n    # Convierte los datos de Unidades digitales a Volts\n    data = (125 - data) * voltscale / 25 - voltoffset\n    return tiempo, data",
          "outputs": [],
          "language": "python",
          "metadata": {
            "cellView": null,
            "executionInfo": null
          }
        },
        {
          "cell_type": "code",
          "input": "N = 100\nfor n in range(N): #Tomo N mediciones cada 1s\n    tiempo, data = medir(osci) #mido\n    plt.figure() \n    plt.plot(tiempo, data);\n    plt.xlabel('Tiempo [s]');\n    plt.ylabel('Voltaje [V]');\n    time.sleep(1) #Espero 1s",
          "outputs": [],
          "language": "python",
          "metadata": {
            "cellView": null,
            "executionInfo": null
          }
        },
        {
          "cell_type": "code",
          "input": "osci.close()",
          "outputs": [],
          "language": "python",
          "metadata": {
            "cellView": null,
            "executionInfo": null
          }
        }
      ]
    }
  ],
  "metadata": {
    "name": "osci_rigol.ipynb",
    "colabVersion": "0.1"
  },
  "nbformat": 3,
  "nbformat_minor": 0
}
