{
 "cells": [
  {
   "cell_type": "markdown",
   "metadata": {},
   "source": [
    "# Taller de Python - Estadística en Física Experimental - 2do día\n",
    "\n",
    "![taller_python](logos_python_fifa.png)"
   ]
  },
  {
   "cell_type": "markdown",
   "metadata": {},
   "source": [
    "## _NumPy_: vectores, matrices y tablas de datos\n",
    "\n",
    "NumPy es LA biblioteca para cálculo vectorial. Además de contener un nuevo [tipo de dato](http://docs.scipy.org/doc/numpy/reference/arrays.ndarray.html) que nos va a ser muy útil para representar vectores y matrices, nos provee de un arsenal de [funciones de todo tipo](https://docs.scipy.org/doc/numpy/reference/routines.html).\n",
    "\n",
    "Vamos a empezar por importar la bliblioteca _numpy_. La sintaxis típica de eso era *import biblio as nombre*:"
   ]
  },
  {
   "cell_type": "code",
   "execution_count": 1,
   "metadata": {
    "collapsed": false
   },
   "outputs": [
    {
     "name": "stdout",
     "output_type": "stream",
     "text": [
      "El numero e = 2.72\n",
      "O el numero Pi =  3.141592653589793\n",
      "1.22464679915e-16\n"
     ]
    }
   ],
   "source": [
    "import numpy as np # con eso voy a poder acceder a las funciones de numpy a través de np.función()\n",
    "\n",
    "# en ejemplo\n",
    "print('El numero e = {:.3}'.format(np.e))\n",
    "print('O el numero Pi = ', np.pi)\n",
    "\n",
    "# y podemos calcular senos y cosenos entre otras cosas\n",
    "print(np.sin(np.pi)) # casi cero! guarda con los floats!"
   ]
  },
  {
   "cell_type": "markdown",
   "metadata": {},
   "source": [
    "Todo eso está muy bien, pero lo importante de numpy son los _arrays numéricos_. Los arrays numéricos nos van a servir para representar vectores (el objeto matemático) o columnas/tablas de datos (el objeto oriyinezco o de laboratorio).\n",
    "\n",
    "La idea es que es parecido a una lista: son muchos números juntos en la misma variable y están indexados (los puedo llamar de a uno dando la posición dentro de la variable). La gran diferencia con las listas de Python es que los arrays de numpy operan de la forma que todos queremos:\n",
    "1. Si sumamos o restamos dos arrays, se suman componente a componente.\n",
    "2. Si multiplicamos o dividimos dos arrays, se multiplican o dividen componente a componente.\n",
    "\n",
    "Veamos ejemplos usando la función *array* para crear arrays básicos."
   ]
  },
  {
   "cell_type": "code",
   "execution_count": 2,
   "metadata": {
    "collapsed": false
   },
   "outputs": [
    {
     "name": "stdout",
     "output_type": "stream",
     "text": [
      "<class 'numpy.ndarray'>\n",
      "[ 6  8 10 12]\n",
      "[ 5 12 21 32]\n",
      "[1, 2, 3, 4, 5, 6, 7, 8]\n"
     ]
    }
   ],
   "source": [
    "a = np.array([1, 2, 3, 4]) # array toma como argumento un vector_like (lista, tupla, otro array...vector_like)\n",
    "b = np.array([5, 6, 7, 8])\n",
    "\n",
    "print(type(a)) #Tipos de dato de a\n",
    "\n",
    "print(a + b) # vector suma\n",
    "print(a * b) # acá multiplicó\n",
    "\n",
    "# en el caso de las listas esto era muy molesto\n",
    "l1 = [1, 2, 3, 4]\n",
    "l2 = [5, 6, 7, 8]\n",
    "\n",
    "print(l1 + l2) # sumar concatena\n",
    "# print(l1 * l2) # esto ni siquiera se puede hacer!"
   ]
  },
  {
   "cell_type": "markdown",
   "metadata": {},
   "source": [
    "Y al igual que con las listas, uno puede acceder a elementos específicos de un array:"
   ]
  },
  {
   "cell_type": "code",
   "execution_count": 3,
   "metadata": {
    "collapsed": false
   },
   "outputs": [
    {
     "name": "stdout",
     "output_type": "stream",
     "text": [
      "1 2 3 4\n",
      "8\n",
      "[6 7 8]\n"
     ]
    }
   ],
   "source": [
    "print(a[0], a[1], a[2], a[3]) # son 4 elementos, los indices van del 0 al 3\n",
    "# y más o menos vale todo lo que valía con listas\n",
    "print(b[-1]) # agarro al último elemento de b\n",
    "print(b[1:]) # desde el primero hasta el 3 (no incluido el final, nunca se incluye)"
   ]
  },
  {
   "cell_type": "markdown",
   "metadata": {},
   "source": [
    "Para facilitar la vida del usuario _numpy_ viene con un montón de rutinas de creación de arrays típicos. En particular, matrices típicas como las identidades o de todos elementos iguales a 1 o 0 y arrays con cierta cantidad de elementos entre dos números (muy útil para crear dominios para gráficos).\n",
    "\n",
    "Veamos ejemplos de esos:"
   ]
  },
  {
   "cell_type": "code",
   "execution_count": 4,
   "metadata": {
    "collapsed": false
   },
   "outputs": [
    {
     "name": "stdout",
     "output_type": "stream",
     "text": [
      "Equiespaciado lineal: [ 0.          0.11111111  0.22222222  0.33333333  0.44444444  0.55555556\n",
      "  0.66666667  0.77777778  0.88888889  1.        ]\n",
      "Como el range de las listas: [ 0.   0.1  0.2  0.3  0.4  0.5  0.6  0.7  0.8  0.9]\n",
      "Identidad de 3x3: [[ 1.  0.  0.]\n",
      " [ 0.  1.  0.]\n",
      " [ 0.  0.  1.]]\n",
      "\n",
      "[[ 0.  0.  0.  0.]\n",
      " [ 0.  0.  0.  0.]\n",
      " [ 0.  0.  0.  0.]\n",
      " [ 0.  0.  0.  0.]]\n",
      "\n",
      "[[ 1.  1.  1.]\n",
      " [ 1.  1.  1.]]\n",
      "\n",
      "[[ 1.  0.  0.  0.  0.]\n",
      " [ 0.  1.  0.  0.  0.]\n",
      " [ 0.  0.  1.  0.  0.]\n",
      " [ 0.  0.  0.  1.  0.]\n",
      " [ 0.  0.  0.  0.  1.]]\n",
      "\n",
      "[[ 0.  0.  1.  0.  0.]\n",
      " [ 0.  0.  0.  1.  0.]\n",
      " [ 0.  0.  0.  0.  1.]\n",
      " [ 0.  0.  0.  0.  0.]\n",
      " [ 0.  0.  0.  0.  0.]]\n"
     ]
    }
   ],
   "source": [
    "# equiespaciados\n",
    "equilin = np.linspace(0, 1, 10) # 10 número equiespaciados linealmente entre 0 y 1\n",
    "print('Equiespaciado lineal:', equilin)\n",
    "\n",
    "arange = np.arange(0, 1, 1./10) # como el range de Python pero puede venir con un paso en coma flotante\n",
    "print('Como el range de las listas:', arange)\n",
    "\n",
    "identidad = np.identity(3)\n",
    "print('Identidad de 3x3:', identidad)\n",
    "print()\n",
    "\n",
    "#otros para que prueben ustedes\n",
    "ceros = np.zeros((4, 4)) # todos ceros, matriz de 4x4\n",
    "unos = np.ones((2,3)) # todos unos, matriz de 2x3\n",
    "ojos = np.eye(5, k=0) # unos en la diagonal, como identidad\n",
    "ojos2 = np.eye(5, k=2) # qué pasó acá?\n",
    "\n",
    "print(ceros)\n",
    "print() \n",
    "print(unos)\n",
    "print()\n",
    "print(ojos)\n",
    "print()\n",
    "print(ojos2)"
   ]
  },
  {
   "cell_type": "markdown",
   "metadata": {},
   "source": [
    "Y antes de seguir, algo que siempre puede ser útil: los arrays tienen ciertas propiedades como su _shape_ (de cuánto por cuánto) y el _dtype_ (qué tipo de cosas tiene adentro). Podemos acceder a estos datos de la siguiente manera:"
   ]
  },
  {
   "cell_type": "code",
   "execution_count": 5,
   "metadata": {
    "collapsed": false
   },
   "outputs": [
    {
     "name": "stdout",
     "output_type": "stream",
     "text": [
      "float64\n",
      "(100, 100)\n"
     ]
    }
   ],
   "source": [
    "x = np.linspace(0, 10, 1000) # ese array tiene 1000 elementos, andar printeando es poco práctico!\n",
    "print(x.dtype) # array.dtype nos dice que tipo de elementos tiene el array\n",
    "ceros = np.zeros((100, 100)) # matriz de 100x100\n",
    "print(ceros.shape) # array.shape nos dice cuántas filas y columnas tiene el array\n",
    "\n",
    "\n",
    "# prueben que pasa cuando le piden el shape a un array con una sola fila o columna como el x"
   ]
  },
  {
   "cell_type": "markdown",
   "metadata": {},
   "source": [
    "Para construir un vector (o array) más complejo podemos usar las funciones `r_` y `c_` (busquen la documentación de `c_`, pero `r_` mostramos un ejemplo)"
   ]
  },
  {
   "cell_type": "code",
   "execution_count": 6,
   "metadata": {
    "collapsed": false
   },
   "outputs": [
    {
     "name": "stdout",
     "output_type": "stream",
     "text": [
      "Vector concatenado:  [-1.         -0.7        -0.4        -0.1         0.2         0.5         0.8\n",
      "  2.          3.          4.          5.          5.11111111  5.22222222\n",
      "  5.33333333  5.44444444  5.55555556  5.66666667  5.77777778  5.88888889\n",
      "  6.        ]\n",
      "Matriz concatenada:  [[  0.     6.    12.  ]\n",
      " [  1.25   7.25  13.25]\n",
      " [  2.5    8.5   14.5 ]\n",
      " [  3.75   9.75  15.75]\n",
      " [  5.    11.    17.  ]]\n"
     ]
    }
   ],
   "source": [
    "print(\"Vector concatenado: \", np.r_[np.arange(-1, 1, 0.3), 2, 3, 4, np.linspace(5, 6, 10)])\n",
    "\n",
    "#Para concatenar tres vectores podemos usarlo\n",
    "a = np.linspace(0, 5, 5)\n",
    "b = np.linspace(6, 11, 5)\n",
    "c = np.linspace(12, 17, 5)\n",
    "print(\"Matriz concatenada: \", np.r_['0,2', a, b, c].T)"
   ]
  },
  {
   "cell_type": "markdown",
   "metadata": {},
   "source": [
    "---\n",
    "\n",
    "### Ejercicio 1\n",
    "\n",
    "Creen un vector \"dominio\" con 20 valores entre -5 y 5, y un vector \"imagen\" donde la imagen sea la de la función $x^2$"
   ]
  },
  {
   "cell_type": "code",
   "execution_count": 7,
   "metadata": {
    "collapsed": true
   },
   "outputs": [],
   "source": [
    "# Realicen el ejercicio 1"
   ]
  },
  {
   "cell_type": "markdown",
   "metadata": {},
   "source": [
    "---\n",
    "\n",
    "### Ejercicio 2\n",
    "\n",
    "Creen una matriz de 15x15 con los números del 1 al 255.\n",
    "\n",
    "*Ayuda*: siempre que puedan utilicen las funciones de creación de arrays de numpy. \n",
    "\n",
    "*Ayuda* bis: la función _reshape_ hace lo que promete (reshapear) y puede tomar tuplas como argumento. (Si, hay que *googlear*. ¿Nunca les pasó?)"
   ]
  },
  {
   "cell_type": "code",
   "execution_count": 8,
   "metadata": {
    "collapsed": false
   },
   "outputs": [],
   "source": [
    "# Realicen el ejercicio 2"
   ]
  },
  {
   "cell_type": "markdown",
   "metadata": {},
   "source": [
    "`numpy` es además la librería encargada de las operaciones de álgebra lineal. Ya de por si la suma y producto por escalar de arrays de dos dimensiones son operaciones matriciales. Leanse la documentación de `numpy.linalg` (o revisen nuestro apartado de álgebra lineal del taller numérico); la idea es que está hecho para ser MATLAB compatible."
   ]
  },
  {
   "cell_type": "markdown",
   "metadata": {},
   "source": [
    "## Gráficos, datos y ajustes"
   ]
  },
  {
   "cell_type": "markdown",
   "metadata": {},
   "source": [
    "Hacer gráficos es lo primero que aprendimos a hacer en *Origin*, así que es lo primero que vamos a aprender para reemplazarlo. Van a ver que no es nada complicado.\n",
    "\n",
    "Primero, debemos importar las bibliotecas necesarias para graficar, *numpy* por si no la teníamos, y de la biblioteca *matplotlib* (que tiene infinitas funciones y posibilidades), solamente *pyplot* de donde sacaremos las funciones que necesitaremos para graficar."
   ]
  },
  {
   "cell_type": "code",
   "execution_count": 9,
   "metadata": {
    "collapsed": false
   },
   "outputs": [],
   "source": [
    "from matplotlib import pyplot as plt\n",
    "# muestra los gráficos en el mismo notebook\n",
    "%matplotlib inline"
   ]
  },
  {
   "cell_type": "markdown",
   "metadata": {},
   "source": [
    "Importemos los datos que tenemos en el archivo datos.csv. Este archivo tiene tres columnas, x, y, errores en y. Separemoslos en tres variables"
   ]
  },
  {
   "cell_type": "code",
   "execution_count": 10,
   "metadata": {
    "collapsed": false
   },
   "outputs": [],
   "source": [
    "# Con esto cargamos los datos\n",
    "# Si vemos los archivos son dos columnas\n",
    "# que vamos a guardar como x, y\n",
    "data = np.loadtxt(\"doble_exp.dat\") \n",
    "\n",
    "x = data[:,0]\n",
    "y = data[:,1]\n",
    "error_y = data[:,2]"
   ]
  },
  {
   "cell_type": "markdown",
   "metadata": {},
   "source": [
    "Para tener un poco de intuición de los datos, sin el error en y, primeros grafiquemoslos con `plt.plot`"
   ]
  },
  {
   "cell_type": "code",
   "execution_count": 11,
   "metadata": {
    "collapsed": false
   },
   "outputs": [
    {
     "data": {
      "image/png": "[encoded data removed]",
      "text/plain": [
       "<matplotlib.figure.Figure at 0x10ac11588>"
      ]
     },
     "metadata": {},
     "output_type": "display_data"
    }
   ],
   "source": [
    "# Ploteamos. Los datos como puntos de color rojo\n",
    "plt.plot(x, y, 'ro', label = 'Datos')\n",
    "\n",
    "# Detalles del gráfico\n",
    "plt.grid(True) # Para que quede en hoja cuadriculada\n",
    "plt.title('Grafico ejemplo')\n",
    "plt.xlabel('Valores en x')\n",
    "plt.ylabel('Valores en y')\n",
    "plt.legend(loc = 'best') \n",
    "\n",
    "plt.show() # si no usaron %matplotlib inline, esto abre una ventanita con el gráfico\n"
   ]
  },
  {
   "cell_type": "markdown",
   "metadata": {},
   "source": [
    "Notemos que dentro de la función *plot* pusimos como parámetros *ro* que significa que el color que queremos para la curva sea azul, y que el trazo sea una línea continua. Esto es customizable, pueden probar letras de otros colores (*g, r, y, k*) o bien otros trazos. \n",
    "\n",
    "Alteremos los ejes para que sean logaritmicos (_porque podemos_, aunque es un proceso standard cuando tenés datos \"exponenciales\") y los puntos de color verde"
   ]
  },
  {
   "cell_type": "code",
   "execution_count": 12,
   "metadata": {
    "collapsed": false
   },
   "outputs": [
    {
     "data": {
      "image/png": "[encoded data removed]",
      "text/plain": [
       "<matplotlib.figure.Figure at 0x10df95fd0>"
      ]
     },
     "metadata": {},
     "output_type": "display_data"
    }
   ],
   "source": [
    "# Ploteamos\n",
    "plt.plot(x, y, 'go', label = 'Modelo')\n",
    "\n",
    "# Detalles del gráfico\n",
    "plt.grid(True) # Para que quede en hoja cuadriculada\n",
    "plt.yscale('log')\n",
    "plt.xscale('log')\n",
    "plt.title('Grafico ejemplo')\n",
    "plt.xlabel('Valores en x')\n",
    "plt.ylabel('Valores en y')\n",
    "plt.legend(loc = 'best') \n",
    "\n",
    "plt.show()\n"
   ]
  },
  {
   "cell_type": "markdown",
   "metadata": {},
   "source": [
    "Así aparece una recta a ajustar, con el proceso de linealizado. Esto ya lo deberían tener más o menos claro de cursar laboratorios, pero es algo muy importante; los algoritmos lineales de cuadrados mínimo (sea por la formula normal o por descendiente del gradiente) _siempre_ convergen. No les voy a contar toda la historia porque ya lo van a ver, pero por ahora creame\n",
    "\n",
    "Volviendo sobre la cosas para customizar los gráficos, pasense por el repositorio nuestro pero especialmente por la [*documentation* de *matplotlib*](http://matplotlib.org/)\n",
    "\n",
    "Finalmente, para graficar los errores además de los datos tenemos la función `plt.errorbar` (vean la documentación y entiendan por qué se usa como la usamos acá)"
   ]
  },
  {
   "cell_type": "code",
   "execution_count": 13,
   "metadata": {
    "collapsed": false
   },
   "outputs": [
    {
     "data": {
      "image/png": "[encoded data removed]",
      "text/plain": [
       "<matplotlib.figure.Figure at 0x10e4ddbe0>"
      ]
     },
     "metadata": {},
     "output_type": "display_data"
    }
   ],
   "source": [
    "plt.errorbar(x, y, yerr=error_y, fmt='go', label=\"Datos\")\n",
    "\n",
    "# Detalles del gráfico\n",
    "plt.grid(True) # Para que quede en hoja cuadriculada\n",
    "plt.yscale('log')\n",
    "plt.xscale('log')\n",
    "plt.title('Grafico ejemplo')\n",
    "plt.xlabel('Valores en x')\n",
    "plt.ylabel('Valores en y')\n",
    "plt.legend(loc = 'best') \n",
    "\n",
    "plt.show()\n"
   ]
  },
  {
   "cell_type": "markdown",
   "metadata": {},
   "source": [
    "Si necesitamos guardar cambios de los datos, por ejemplo con el logaritmo aplicado, podemos usar la función `np.savetxt`(que gaurdar en formato `csv`)"
   ]
  },
  {
   "cell_type": "code",
   "execution_count": 14,
   "metadata": {
    "collapsed": false
   },
   "outputs": [
    {
     "data": {
      "image/png": "[encoded data removed]",
      "text/plain": [
       "<matplotlib.figure.Figure at 0x10f37e5f8>"
      ]
     },
     "metadata": {},
     "output_type": "display_data"
    }
   ],
   "source": [
    "# Guardamos y cargamos, a modo de ejemplo\n",
    "\n",
    "#vean que crea un archivo Datos_taller.txt\n",
    "np.savetxt('Datos_taller.txt', np.log(data[:,:-1]), delimiter = '\\t')\n",
    "\n",
    "Data = np.loadtxt('Datos_taller.txt', delimiter = '\\t') \n",
    "\n",
    "#plt.plot(Data[:,0],Data[:,1], 'r.') # Veamos que son los mismos datos, pero linealizados!\n",
    "plt.errorbar(Data[:,0],Data[:,1], yerr=1/y*error_y, fmt='ro')\n",
    "plt.show()"
   ]
  },
  {
   "cell_type": "markdown",
   "metadata": {},
   "source": [
    "Obtenidos los datos y con un poco de inteligencia adquirida de ellos, queremos efectuar un ajuste. Para eso importamos la biblioteca con la función que usaremos, que aplica cuadrados mínimos para obtener los coeficientes."
   ]
  },
  {
   "cell_type": "code",
   "execution_count": 15,
   "metadata": {
    "collapsed": true
   },
   "outputs": [],
   "source": [
    "from scipy.optimize import curve_fit"
   ]
  },
  {
   "cell_type": "markdown",
   "metadata": {},
   "source": [
    "El algoritmo de cuadrados mínimos necesita la función con la que queremos ajustar (que como ya linealizamos, es lineal), que vamos a definir como como función lambda, dominio, los datos, un vector con los valores iniciales de los parámetros desde donde debe comenzar a iterar. Los parámetros iniciales son importantes para el ajuste correcto (aún para el caso lineal, aunque acá el método hace un guess correcto).\n",
    "\n",
    "La función nos devolverá 2 cosas. Primero, los parámetros optimizados por este algoritmo, ordenados como los pusimos en la función lambda cuando la definimos, que lo guardamos en el vector *popt*. Por otro lado nos dará la *matriz de covarianza* (recuerden, que tiene en su diagonal los $\\sigma^2$ de cada parámetro)."
   ]
  },
  {
   "cell_type": "code",
   "execution_count": 16,
   "metadata": {
    "collapsed": false
   },
   "outputs": [
    {
     "name": "stdout",
     "output_type": "stream",
     "text": [
      "[ -1.18030384  10.20836531]\n",
      "[[  1.88619767e-05  -1.10627982e-04]\n",
      " [ -1.10627982e-04   6.51123342e-04]]\n"
     ]
    }
   ],
   "source": [
    "f = lambda x, A, B: A * x + B\n",
    "\n",
    "# Ajustamos, pero con las funciónes logaritmicas. Usamos propagación de errores\n",
    "popt, pcov = curve_fit(f, np.log(x), np.log(y), sigma = 1/y * error_y, \n",
    "                       absolute_sigma=True)\n",
    "\n",
    "print(popt)\n",
    "print(pcov)"
   ]
  },
  {
   "cell_type": "markdown",
   "metadata": {},
   "source": [
    "Listo, ahora chequeamos con un gráfico que haya ajustado"
   ]
  },
  {
   "cell_type": "code",
   "execution_count": 17,
   "metadata": {
    "collapsed": false
   },
   "outputs": [
    {
     "data": {
      "image/png": "[encoded data removed]",
      "text/plain": [
       "<matplotlib.figure.Figure at 0x1106cef98>"
      ]
     },
     "metadata": {},
     "output_type": "display_data"
    }
   ],
   "source": [
    "t = np.linspace(min(x), max(x), 1000) #Las funciones \"viejas\" de python siguen funcionando!\n",
    "t = np.log(t) #Aplico logaritmo\n",
    "plt.plot(np.log(x), np.log(y), 'ro', label = 'Datos')\n",
    "plt.plot(t, f(t, *popt), 'g-', label = 'Ajuste') #grafico la función\n",
    "\n",
    "# Detalles del gráfico\n",
    "plt.grid(True)\n",
    "plt.title('Grafico ejemplo')\n",
    "plt.xlabel('Valores en x')\n",
    "plt.ylabel('Valores en y')\n",
    "plt.legend(loc = 'best')\n",
    "\n",
    "plt.show()"
   ]
  },
  {
   "cell_type": "markdown",
   "metadata": {},
   "source": [
    "¿Se les ocurre otra forma de obtener el ajuste que no sea por curve_fit? Revisen la librería `optimize`, ahí pueden encontrar la respuesta (y con lo que van a ver en las clases)\n",
    "\n",
    "### Ejercicio 3\n",
    "1. Hagan un ajuste sobre la función $f(x) = Acos(\\omega x)$ con $A = 2$ y $\\omega = 3$ para 40 valores en $Dom = [-\\pi, \\pi]$ con valores que varían el 15% del valor dado por el modelo, y compare los parámetros obtenidos con los dados.\n",
    "2. **Bonus track**: Se puede escribir en LaTeX sobre los gráficos. Averiguen qué biblioteca hace falta importar y presenten los parámetros ajustados en el título."
   ]
  },
  {
   "cell_type": "code",
   "execution_count": 18,
   "metadata": {
    "collapsed": true
   },
   "outputs": [],
   "source": [
    "# Realicen el ejercicio 3"
   ]
  },
  {
   "cell_type": "markdown",
   "metadata": {},
   "source": [
    "## Datos aleatorios. Histogramas\n",
    "\n",
    "Hasta ahora hicimos un análisis de datos adquiridos en el laboratorio, pero no hablamos de datos aleatorios (lo que manejamos cuando hablamos de estadísticas!)\n",
    "\n",
    "La computadora tiene internamente un mecanismo de creación de números _pseudoaleatorios_ (usando un algoritmo bastante elegante) que permite obtener muestras de una variable con distribución uniforme \"continua\" (¿me explican por qué las comillas?). Sobre eso, Python crea un montón de librerías para muestrear variables en otras distibuciones\n",
    "\n",
    "Y luego, vamos a crear histogramas, es decir un gráfico donde dividimos una serie de datos en rangos y contamos cuántos de nuestros datos caen en cada rango. A esos rangos se los llama _bins_. \n",
    "\n",
    "La función que vamos a usar es `plt.hist` toma como argumentos un array de números, en cuántos _bins_ queremos dividir a nuestro eje x y algunas otras opciones de color como constante de normalización y color de las barras.\n",
    "\n",
    "Hagamos un histograma simple de un set gaussiano. Para eso, creemos datos alrededor de algún valor medio usando _randn_ de _NumPy_:"
   ]
  },
  {
   "cell_type": "code",
   "execution_count": 19,
   "metadata": {
    "collapsed": false
   },
   "outputs": [
    {
     "data": {
      "image/png": "[encoded data removed]",
      "text/plain": [
       "<matplotlib.figure.Figure at 0x10f3d4160>"
      ]
     },
     "metadata": {},
     "output_type": "display_data"
    }
   ],
   "source": [
    "mu, sigma = 100, 15 # mu es mi valor medio, sigma la desviación\n",
    "x = mu + sigma * np.random.randn(10000) # Ya deben saber, que z = (x - mu)/s es una N(0,1)\n",
    "\n",
    "n, bins, patches = plt.hist(x, bins=50, normed=1, facecolor='green', \n",
    "                            edgecolor='black', alpha=0.75)\n",
    "# en la variable n se encuentran los datos del histograma\n",
    "# bins es un vector con los bordes de los rangos de datos\n",
    "# patches no nos interesa en general"
   ]
  },
  {
   "cell_type": "markdown",
   "metadata": {},
   "source": [
    "Y ya que estamos, para mostrar cómo afecta la elección de _bins_, graficamos dos histogramas uno arriba del otro."
   ]
  },
  {
   "cell_type": "code",
   "execution_count": 20,
   "metadata": {
    "collapsed": false
   },
   "outputs": [
    {
     "data": {
      "image/png": "[encoded data removed]",
      "text/plain": [
       "<matplotlib.figure.Figure at 0x110d58400>"
      ]
     },
     "metadata": {},
     "output_type": "display_data"
    }
   ],
   "source": [
    "n, bins, patches = plt.hist(x, bins=100, normed=1, facecolor='green', alpha=0.75)\n",
    "n, bins, patches = plt.hist(x, bins=10, normed=1, facecolor='red', alpha=0.75)"
   ]
  },
  {
   "cell_type": "markdown",
   "metadata": {},
   "source": [
    "Los bins los podemos construir como un array, con `linspace`, pero tenemos que recordar que estamos dando el borde derecho de los bins"
   ]
  },
  {
   "cell_type": "code",
   "execution_count": 21,
   "metadata": {
    "collapsed": false
   },
   "outputs": [
    {
     "data": {
      "image/png": "[encoded data removed]",
      "text/plain": [
       "<matplotlib.figure.Figure at 0x110b49eb8>"
      ]
     },
     "metadata": {},
     "output_type": "display_data"
    }
   ],
   "source": [
    "bins = np.arange(0, 200, 5)\n",
    "plt.hist(x, bins = bins, normed=1, facecolor='green', \n",
    "                            edgecolor='black', alpha=0.75);"
   ]
  },
  {
   "cell_type": "markdown",
   "metadata": {},
   "source": [
    "No solo podemos muestrear variables aleatorias con distribución normal, `numpy.random` tiene una gran selección de distribuciones. Aún así en la librería `scipy.stats` tenemos aún más distribuciones y funciones estadísticas, pero requieren otra forma de uso. Veamos como muestrar una distribución $\\chi^2$ con 3 grados de libertad"
   ]
  },
  {
   "cell_type": "code",
   "execution_count": 22,
   "metadata": {
    "collapsed": false
   },
   "outputs": [
    {
     "data": {
      "text/plain": [
       "[<matplotlib.lines.Line2D at 0x10f0d7a20>]"
      ]
     },
     "execution_count": 22,
     "metadata": {},
     "output_type": "execute_result"
    },
    {
     "data": {
      "image/png": "[encoded data removed]",
      "text/plain": [
       "<matplotlib.figure.Figure at 0x10f054fd0>"
      ]
     },
     "metadata": {},
     "output_type": "display_data"
    }
   ],
   "source": [
    "import scipy as sp\n",
    "from scipy import stats #Tengo que importar la sublibrería\n",
    "\n",
    "X = sp.stats.chi2(df=3)\n",
    "\n",
    "t = np.linspace(0, 10, 1000)\n",
    "plt.plot(t, X.pdf(t), 'r-') #Puedo usar la PDF de la distribución así"
   ]
  },
  {
   "cell_type": "markdown",
   "metadata": {},
   "source": [
    "La variable `X` que construimos con `scipy.stats` tiene propiedades útiles para la inferencia estadística. Es más veamos su tipo y además usemos la función `help` para ver que contiene"
   ]
  },
  {
   "cell_type": "code",
   "execution_count": 23,
   "metadata": {
    "collapsed": false
   },
   "outputs": [
    {
     "name": "stdout",
     "output_type": "stream",
     "text": [
      "<class 'scipy.stats._distn_infrastructure.rv_frozen'>\n"
     ]
    }
   ],
   "source": [
    "print(type(X))\n",
    "#print(help(X)) #Hagan esto si están en un entorno no tan cool como Jupyter"
   ]
  },
  {
   "cell_type": "markdown",
   "metadata": {},
   "source": [
    "El tipo `rv_frozen` se llama así porque es una distribución congelada en sus parámetros. Podríamos construir una distribución para un caso puntual a partir de la función `scipy.stats.chi2`, variando `df` en cada caso. Pero para mejorar la lectura, podemos considerar a `X` como una variable aleatoria, donde tenemos conocimiento de su distribución, de sus momentos y podemos muestrar de ella. \n",
    "\n",
    "Veamos primero los primeros momentos y la capacidad de integrar funciones arbitrarias"
   ]
  },
  {
   "cell_type": "code",
   "execution_count": 24,
   "metadata": {
    "collapsed": false
   },
   "outputs": [
    {
     "name": "stdout",
     "output_type": "stream",
     "text": [
      "3.0 3\n",
      "6.0 15\n",
      "105.00000000000011 105.0\n"
     ]
    }
   ],
   "source": [
    "print(X.mean(), X.moment(1))\n",
    "print(X.var(), X.moment(2)) #Calculen si está bien la varianza y el momento no centrado\n",
    "print(X.expect(lambda x: x**3), X.moment(3)) #Integral entre 0 e infinito de x**3. "
   ]
  },
  {
   "cell_type": "markdown",
   "metadata": {},
   "source": [
    "Mientras si queremos muestrar de la distribución tenemos la función `rvs`"
   ]
  },
  {
   "cell_type": "code",
   "execution_count": 25,
   "metadata": {
    "collapsed": false
   },
   "outputs": [
    {
     "data": {
      "image/png": "[encoded data removed]",
      "text/plain": [
       "<matplotlib.figure.Figure at 0x110cac5f8>"
      ]
     },
     "metadata": {},
     "output_type": "display_data"
    }
   ],
   "source": [
    "A = X.rvs(10000)\n",
    "plt.hist(A, bins=50, normed=1, facecolor='green', \n",
    "                            edgecolor='black', alpha=0.75);"
   ]
  },
  {
   "cell_type": "markdown",
   "metadata": {},
   "source": [
    "### Ejercicio 4\n",
    "Muestren de la distribución exponencial con `scipy.stats` (que pueden ver [acá](https://docs.scipy.org/doc/scipy/reference/generated/scipy.stats.expon.html#scipy.stats.expon)) y tomen 10000 muestras de esta distribución. ¿Se les ocurre una forma de encontrar una exponencial desde una uniforme? Verifiquen muestreando 1000 datos de la uniforme y aplicando la transformación que realmente es una exponencial"
   ]
  },
  {
   "cell_type": "code",
   "execution_count": 26,
   "metadata": {
    "collapsed": true
   },
   "outputs": [],
   "source": [
    "# Realicen el ejercicio 4"
   ]
  },
  {
   "cell_type": "markdown",
   "metadata": {},
   "source": [
    "Con esto último ya tienen todas las herramientas para lidiar con las guías y el parcial, pero antes de terminar vamos a ver como agregarle barras de error a los histogramas.\n",
    "\n",
    "### Herramientas de ploteo estadístico\n",
    "Para hacer un gráfico de histograma con errores tenemos un par de opciones. La más intuitiva es usar las herramientas `pandas`, que permiten crear a partir de un histograma computado con `numpy.histogram` un gráfico de barras. La función, que pueden usar y adaptar para esto es"
   ]
  },
  {
   "cell_type": "code",
   "execution_count": 27,
   "metadata": {
    "collapsed": false
   },
   "outputs": [
    {
     "data": {
      "image/png": "[encoded data removed]",
      "text/plain": [
       "<matplotlib.figure.Figure at 0x110cee518>"
      ]
     },
     "metadata": {},
     "output_type": "display_data"
    }
   ],
   "source": [
    "import pandas as pd\n",
    "\n",
    "def plot_histogram(data, bins, ticks=5, xlabel='X', ylabel='Histograma', normed=True, ecolor='', ax = None):\n",
    "    N = len(data)\n",
    "    num_bins = len(bins)\n",
    "    xmin = min(bins)\n",
    "    xmax = max(bins)\n",
    "    if ax is None:\n",
    "        ax = plt.gca()\n",
    "    \n",
    "    hist, _ = np.histogram(data, bins=bins, normed=normed)\n",
    "\n",
    "    df = pd.DataFrame({'histograma': hist, 'error': np.sqrt(hist/N)})\n",
    "\n",
    "    ax = df.plot.bar(y='histograma', yerr='error', width=1, edgecolor='k', ecolor='red', capsize=3, label=ylabel, \n",
    "                     ax=ax)\n",
    "\n",
    "    plt.xticks(np.linspace(0, num_bins - 2, ticks), np.linspace(xmin, xmax, ticks), rotation='horizontal');\n",
    "    plt.xlabel(xlabel);\n",
    "    return ax\n",
    "\n",
    "plt.figure(figsize=(9.7,6))\n",
    "ax = plot_histogram(A, np.linspace(0, 25, 50))\n",
    "plt.grid(True, axis='y')"
   ]
  },
  {
   "cell_type": "markdown",
   "metadata": {},
   "source": [
    "##  Yapa: Monte Carlo para estimación de parámetros\n",
    "\n",
    "El método de Monte Carlo en estadística pertenece a una familia de métodos de _remuestro_, que permite obtener, de muestras pequeñas de datos, estimadores con sus valor estimado y varianza. Veamos en qué consiste este método. \n",
    "\n",
    "Primero volvamos a cargar los datos de `double_exp.dat`"
   ]
  },
  {
   "cell_type": "code",
   "execution_count": 28,
   "metadata": {
    "collapsed": true
   },
   "outputs": [],
   "source": [
    "# Volvemos a cargar los datos y los guardamos en x, y\n",
    "data = np.loadtxt(\"doble_exp.dat\") \n",
    "\n",
    "x = data[:,0]\n",
    "y = data[:,1]\n",
    "error_y = data[:,2]"
   ]
  },
  {
   "cell_type": "markdown",
   "metadata": {},
   "source": [
    "El método consiste en simular un nuevo conjunto de mediciones usando las propiedades del error, que en este caso asumimos gaussiano (podría ser de otra propiedad, pero por el teorema central del límite casi siempre será una distribución normal)."
   ]
  },
  {
   "cell_type": "code",
   "execution_count": 29,
   "metadata": {
    "collapsed": false
   },
   "outputs": [
    {
     "data": {
      "image/png": "[encoded data removed]",
      "text/plain": [
       "<matplotlib.figure.Figure at 0x10e7aa390>"
      ]
     },
     "metadata": {},
     "output_type": "display_data"
    }
   ],
   "source": [
    "#Creo al azar datos dentro del error de y con distribución gaussiana\n",
    "yp = y + np.random.randn(y.shape[0]) * error_y\n",
    "plt.plot(x, yp, 'ro')\n",
    "plt.yscale('log')\n",
    "plt.grid()\n",
    "plt.errorbar(x, y, yerr=error_y, fmt='b*');"
   ]
  },
  {
   "cell_type": "code",
   "execution_count": 30,
   "metadata": {
    "collapsed": false
   },
   "outputs": [
    {
     "name": "stderr",
     "output_type": "stream",
     "text": [
      "/Users/sadeus/anaconda3/lib/python3.5/site-packages/ipykernel/__main__.py:10: RuntimeWarning: invalid value encountered in log\n"
     ]
    },
    {
     "name": "stdout",
     "output_type": "stream",
     "text": [
      "[-1.106403    9.98038812]\n",
      "[[ 0.00091203 -0.00528701]\n",
      " [-0.00528701  0.03158084]]\n"
     ]
    },
    {
     "data": {
      "image/png": "[encoded data removed]",
      "text/plain": [
       "<matplotlib.figure.Figure at 0x11340a128>"
      ]
     },
     "metadata": {},
     "output_type": "display_data"
    }
   ],
   "source": [
    "#Creo al azar datos dentro del error de y con distribución gaussiana\n",
    "M = []\n",
    "logx = np.log(x)\n",
    "\n",
    "f = lambda x, A, B: A * x + B\n",
    "for i in range(10000):\n",
    "    \n",
    "    #Vuelvo a computar y\n",
    "    yp = y + np.random.randn(y.shape[0]) * error_y\n",
    "    logy = np.log(yp)\n",
    "    \n",
    "    #Dado que calculo el logaritmo, debo sacarme los valores NaN (que son logaritmos negativos)\n",
    "    valid_idx = ~np.isnan(logy)\n",
    "    \n",
    "    p, cov = sp.optimize.curve_fit(f, logx[valid_idx], logy[valid_idx])\n",
    "    \n",
    "    M.append(p)\n",
    "\n",
    "M = np.array(M)\n",
    "\n",
    "#Valor medio y covarianza\n",
    "p = np.mean(M, axis=0)\n",
    "cov = np.cov(M.T)\n",
    "\n",
    "#Imprimamos\n",
    "print(p)\n",
    "print(cov)\n",
    "\n",
    "t = np.linspace(min(x), max(y), 1000)\n",
    "plt.grid()\n",
    "plt.errorbar(np.log(x), np.log(y), yerr=1/y * error_y, fmt='go')\n",
    "plt.plot(np.log(t), f(np.log(t), *p), 'r-');"
   ]
  },
  {
   "cell_type": "markdown",
   "metadata": {},
   "source": [
    "Si revisan las cuentas de `curve_fit` les da un resultado sumamente parecido, lo que nos da un poco más de confianza en el método (o `curve_fit` hace algo parecido, fijense que `scipy` tiene a disposición el [código fuente](https://docs.scipy.org/doc/scipy-0.18.1/reference/generated/scipy.optimize.curve_fit.html) de forma bastante a mano).\n",
    "\n",
    "Finalmente hagamos el histograma de ambos estimadores en 2D. Para eso usamos `numpy.histogram2d` que nos devuelve las cuentas, las coordenadas en `x`, `y`. Lean lo que dice histogram2d para entenderlo (y por qué usamos los bordes `xedges` e `yedges` con un elemento menos)"
   ]
  },
  {
   "cell_type": "code",
   "execution_count": 31,
   "metadata": {
    "collapsed": false
   },
   "outputs": [
    {
     "data": {
      "image/png": "[encoded data removed]",
      "text/plain": [
       "<matplotlib.figure.Figure at 0x1134b64e0>"
      ]
     },
     "metadata": {},
     "output_type": "display_data"
    }
   ],
   "source": [
    "counts, xedges, yedges = np.histogram2d(M[:,0], M[:,1], bins=100, normed=True);\n",
    "\n",
    "plt.xlim((min(M[:,0]), max(M[:,0])))\n",
    "plt.ylim((min(M[:,1]), max(M[:,1])))\n",
    "plt.xlabel(\"A\")\n",
    "plt.ylabel(\"B\")\n",
    "plt.contour(xedges[:-1], yedges[:-1], counts);"
   ]
  },
  {
   "cell_type": "markdown",
   "metadata": {},
   "source": [
    "Ahora la pregunta que deben hacerse, ¿están o no correlacionado los parámetros? ¿Tiene sentido?. \n",
    "\n",
    "### Ejercicio 5 (de yapa)\n",
    "Prueben ejecutar el ajuste no linealizado con Monte Carlo. Es decir en vez de ajustar una lineal, deben ajustar $$f(x|A,B,C,D, E) = A + B \\exp(C x) + D \\exp(E x)$$\n",
    "Elija como parámetros iniciales $A=10$, $B=130$, $C=-0.001$, $D=960$ y $E=-0.02$"
   ]
  },
  {
   "cell_type": "code",
   "execution_count": 32,
   "metadata": {
    "collapsed": false
   },
   "outputs": [],
   "source": [
    "#Ejercicio 5"
   ]
  },
  {
   "cell_type": "markdown",
   "metadata": {},
   "source": [
    "Bueno, con esto terminamos las sesiones del taller de Python. Esperemos que les haya servido, y que les sirva para avanzar en la materia (y en la vida profesional). A nosotros nos sirve y trabajamos con esto todo el tiempo\n",
    "\n",
    "Como siempre, tenemos en el reposotorio de Github (https://github.com/fifabsas/talleresfifabsas) este material y más cosas que vamos subiendo con el tiempo."
   ]
  },
  {
   "cell_type": "markdown",
   "metadata": {},
   "source": [
    "# Algunas referencias\n",
    "\n",
    "Páginas para leer  \n",
    "http://pybonacci.org/2012/06/07/algebra-lineal-en-python-con-numpy-i-operaciones-basicas/\n",
    "http://relopezbriega.github.io/blog/2015/06/14/algebra-lineal-con-python/\n",
    "http://pendientedemigracion.ucm.es/info/aocg/python/modulos_cientificos/numpy/index.html\n",
    "\n",
    "\n",
    "Documentación  \n",
    "https://docs.python.org/2/library/math.html\n",
    "http://docs.scipy.org/doc/numpy/reference/routines.linalg.html\n",
    "http://matplotlib.org/api/pyplot_api.html  \n",
    "http://pandas.pydata.org/pandas-docs/stable/ (no la vimos, pero estos son los _dataframes_)"
   ]
  },
  {
   "cell_type": "markdown",
   "metadata": {},
   "source": [
    "# Agradecimientos\n",
    "Todo esto es posible gracias al aporte de mucha gente.\n",
    "* A Ricardo Piegaia, Darío Rodrigues, Edgar Altszyler y Mauro Silberberg, los docentes de la materia, por darnos el espacio para ayudar y que se lleve a cabo este taller.\n",
    "* Gente muy copada del DF como Hernán Grecco, Guillermo Frank y Agustín Corbat por hacer aportes a estos talleres de diferentes maneras, desde poner su apellido para que nos presten un labo hasta venir como invitado a un taller.\n",
    "* El Departamento de Computación que cuatrimestre a cuatrimestre nos presta los labos desinteresadamente.\n",
    "* Pibes de la FIFA que prestan su tiempo a organizar el material y llevan a cabo el taller.\n",
    "* Todos los que se acercan y piden que estos talleres se sigan dando y nos siguen llenando los Labos. Sí ¡Gracias a todos ustedes!"
   ]
  }
 ],
 "metadata": {
  "anaconda-cloud": {},
  "kernelspec": {
   "display_name": "Python [default]",
   "language": "python",
   "name": "python3"
  },
  "language_info": {
   "codemirror_mode": {
    "name": "ipython",
    "version": 3
   },
   "file_extension": ".py",
   "mimetype": "text/x-python",
   "name": "python",
   "nbconvert_exporter": "python",
   "pygments_lexer": "ipython3",
   "version": "3.5.2"
  }
 },
 "nbformat": 4,
 "nbformat_minor": 0
}
