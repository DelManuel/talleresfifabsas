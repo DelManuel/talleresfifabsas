{
 "cells": [
  {
   "cell_type": "markdown",
   "metadata": {},
   "source": [
    "# Taller de Python - Estadística en Física Experimental - 1er día\n",
    "\n",
    "![taller_python](logos_python_fifa.png)\n",
    "\n",
    "Esta presentación/notebook está disponible:  \n",
    "[Repositorio Github FIFA BsAs](https://github.com/fifabsas/talleresfifabsas/blob/master/python/Incertezas/introduccion.ipynb) (para descargarlo, usen el botón `raw` o hagan un `fork` del repositorio)  \n",
    "[Página web de talleres FIFA BsAs](http://fifabsas.github.io/talleresfifabsas)"
   ]
  },
  {
   "cell_type": "markdown",
   "metadata": {},
   "source": [
    "## Programar ¿con qué se come?\n",
    "\n",
    "Programar es dar una lista de tareas concretas a la computadora para que haga. Esencialmente, una computadora sabe:\n",
    "\n",
    "- Leer datos \n",
    "- Escribir datos \n",
    "- Transformar datos\n",
    "\n",
    "Y nada más que esto, esencialmente. Así, la computadora pasa a ser suna gran gran calculadora que permite hacer cualquier tipo de cuenta de las que necesitemos dentro de la Física (y de la vida también) mientras sepamos cómo decirle a la máquina qué cómputos hacer. \n",
    "\n",
    "Para poner en contexto, Python es un lenguaje para hablarle a la computadora. Después existen interpretes del lenguaje que lo transforman a un lenguaje que entiende la computadora (lo que se llama lenguaje máquina), como IPython, CPython, PyPy, etc.\n",
    "\n",
    "<img src=\"modelo_computacional_python.png\" alt=\"Drawing\" style=\"width: 400px;\"/>\n",
    "\n",
    "Para trabajar vamos a usar **Spyder**, el cual les mostramos un ejemplo ahora. Permite ejecutar código en la _consola_, escribirlo en el _editor_ y ejecutarlo de forma total o particionado con _celdas_ (que se crean escribiendo `#%%`).\n",
    "\n",
    "Abran una terminal (usualmente `Ctrl+Alt+T`) y escriban `spyder`. En Windows los que instalaron `Anaconda` busquen el acceso directo en el menú de inicio"
   ]
  },
  {
   "cell_type": "markdown",
   "metadata": {
    "slideshow": {
     "slide_type": "-"
    }
   },
   "source": [
    "## Datos, memoria y otras yerbas\n",
    "Para hacer cuentas, primero necesitamos el medio para guardar o almacenar los datos. El sector este se denomina _memoria_. Nuestros datos se guardan en _espacios de memoria_, y esos espacios tienen un nombre, un rótulo con el cual los podremos llamar y pedirle a la computadora que los utilice para operar con ellos, los modifique, etc. \n",
    "\n",
    "Como esos espacios son capaces de variar al avanzar los datos llegamos a llamarlos _variables_, y el proceso de llenar la variable con un valor se denomina _asignación_, que en Python se corresponde con el \"=\".\n",
    "\n",
    "Hasta ahora sólo tenemos en la cabeza valores numéricos para nuestras variables, considerando la analogía de la super-calculadora. Pero esto no es así, y es más las variables en Python contienen la información adicional del _tipo de dato_. Este tipo de dato determina las operaciones posibles con la variable (además del tamaño en memoria, pero esto ya era esperable del mismo valor de la variable).\n",
    "\n",
    "Veamos un par de ejemplos"
   ]
  },
  {
   "cell_type": "code",
   "execution_count": 1,
   "metadata": {},
   "outputs": [],
   "source": [
    "x = 5\n",
    "y = 'Hola mundo!'\n",
    "z = [1,2,3]"
   ]
  },
  {
   "cell_type": "markdown",
   "metadata": {},
   "source": [
    "Aquí hemos guardado en un espacio de memoria llamado por nosotros \"x\" la información de un valor de tipo entero, 5, en otro espacio de memoria, que nosotros llamamos \"y\" guardamos el texto \"Hola mundo!\". En Python, las comillas indican que lo que encerramos con ellas es un texto. x no es un texto, así que Python lo tratará como variable para manipular. \"z\" es el nombre del espacio de memoria donde se almacena una lista con 3 elementos enteros.\n",
    "\n",
    "Podemos hacer cosas con esta información. Python es un lenguaje interpretado (a diferencia de otros como Java o C++), eso significa que ni bien nosotros le pedimos algo a Python, éste lo ejecuta. Así es que podremos pedirle por ejemplo que imprima en pantalla el contenido en y, el tipo de valor que es x (entero) entre otras cosas."
   ]
  },
  {
   "cell_type": "code",
   "execution_count": 2,
   "metadata": {},
   "outputs": [
    {
     "name": "stdout",
     "output_type": "stream",
     "text": [
      "Hola mundo!\n",
      "<class 'int'>\n",
      "<class 'str'> <class 'list'> 3\n"
     ]
    }
   ],
   "source": [
    "print(y)\n",
    "print(type(x))\n",
    "print(type(y), type(z), len(z))"
   ]
  },
  {
   "cell_type": "markdown",
   "metadata": {},
   "source": [
    "Vamos a utilizar mucho la función *type()* para entender con qué tipo de variables estamos trabajando. *type()* es una función predeterminada por Python, y lo que hace es pedir como argumento (lo que va entre los paréntesis) una variable y devuelve inmediatamente el tipo de variable que es."
   ]
  },
  {
   "cell_type": "markdown",
   "metadata": {},
   "source": [
    "### Ejercicio 1\n",
    "\n",
    "En el siguiente bloque cree las variables \"dato1\" y \"dato2\" y guarde en ellas los textos \"estoy programando\" y \"que emocion!\". Con la función *type()* averigue qué tipo de datos se almacena en esas variables."
   ]
  },
  {
   "cell_type": "code",
   "execution_count": 3,
   "metadata": {},
   "outputs": [],
   "source": [
    "# Realice el ejercicio 1"
   ]
  },
  {
   "cell_type": "markdown",
   "metadata": {},
   "source": [
    "\n",
    "\n",
    "Para las variables *integers*(enteros) y *floats* (flotantes) podemos hacer las operaciones matemáticas usuales y esperables. Veamos un poco las compatibilidades entre estos tipos de variables."
   ]
  },
  {
   "cell_type": "code",
   "execution_count": 4,
   "metadata": {},
   "outputs": [
    {
     "name": "stdout",
     "output_type": "stream",
     "text": [
      "12 12.0 35.0 0.7142857142857143 0.7142857142857143 25.0\n"
     ]
    }
   ],
   "source": [
    "a = 5\n",
    "b = 7\n",
    "c = 5.0\n",
    "d = 7.0\n",
    "print(a+b, b+c, a*d, a/b, a/d, c**2)"
   ]
  },
  {
   "cell_type": "markdown",
   "metadata": {},
   "source": [
    "### Ejercicio 2\n",
    "\n",
    "Calcule el resultado de $$ \\frac{(2+7.9)^2}{4^{7.4-3.14*9.81}-1} $$ y guárdelo en una variable"
   ]
  },
  {
   "cell_type": "code",
   "execution_count": 5,
   "metadata": {},
   "outputs": [],
   "source": [
    "# Realice el ejercicio 2. El resultado esperado es -98.01"
   ]
  },
  {
   "cell_type": "markdown",
   "metadata": {},
   "source": [
    "## Listas, tuplas y diccionarios"
   ]
  },
  {
   "cell_type": "markdown",
   "metadata": {},
   "source": [
    "Las **listas** son cadenas de datos de cualquier tipo, unidos por estar en una misma variable, con posiciones dentro de esa lista, con las cuales nosotros podemos llamarlas. En Python, las listas se enumeran desde el 0 en adelante.\n",
    "\n",
    "Estas listas también tienen algunas operaciones que le son válidas.\n",
    "\n",
    "Distintas son las **tuplas**. Las listas son editables (en jerga, _mutables_), pero las tuplas no (_inmutables_). Esto es importante cuando, a lo largo del desarrollo de un código donde necesitamos que ciertas cosas no cambien, no editemos por error valores fundamentales de nuestro problema a resolver."
   ]
  },
  {
   "cell_type": "code",
   "execution_count": 6,
   "metadata": {},
   "outputs": [
    {
     "name": "stdout",
     "output_type": "stream",
     "text": [
      "[1, 2, 'saraza'] <class 'list'>\n",
      "2 <class 'int'>\n",
      "saraza <class 'str'>\n",
      "saraza\n"
     ]
    }
   ],
   "source": [
    "lista1 = [1, 2, 'saraza']\n",
    "print(lista1, type(lista1))\n",
    "print(lista1[1], type(lista1[1]))\n",
    "print(lista1[2], type(lista1[2]))\n",
    "print(lista1[-1])"
   ]
  },
  {
   "cell_type": "code",
   "execution_count": 7,
   "metadata": {},
   "outputs": [
    {
     "name": "stdout",
     "output_type": "stream",
     "text": [
      "9\n"
     ]
    }
   ],
   "source": [
    "lista2 = [2,3,4]\n",
    "lista3 = [5,6,7]\n",
    "#print(lista2+lista3)\n",
    "print(lista2[2]+lista3[0])"
   ]
  },
  {
   "cell_type": "code",
   "execution_count": 8,
   "metadata": {},
   "outputs": [
    {
     "name": "stdout",
     "output_type": "stream",
     "text": [
      "[1, 2, 0]\n",
      "(1, 2, 3)\n"
     ]
    }
   ],
   "source": [
    "tupla1 = (1,2,3)\n",
    "lista4 = [1,2,3]\n",
    "lista4[2] = 0\n",
    "print(lista4)\n",
    "#tupla1[0] = 0\n",
    "print(tupla1)"
   ]
  },
  {
   "cell_type": "markdown",
   "metadata": {},
   "source": [
    "Hay formas muy cómodas de hacer listas. Presentamos una que utilizaremos mucho, que es usando la función *range*. Esta devuelve como una _receta_ de como hacer los numeros; por lo tanto tenemos que decirle al generador que cree la lista, por medio de otra herramienta incorporada de Python, *list*"
   ]
  },
  {
   "cell_type": "code",
   "execution_count": 9,
   "metadata": {},
   "outputs": [
    {
     "name": "stdout",
     "output_type": "stream",
     "text": [
      "[0, 1, 2, 3, 4, 5, 6, 7, 8, 9] <class 'list'>\n"
     ]
    }
   ],
   "source": [
    "listilla = list(range(10))\n",
    "print(listilla, type(listilla))"
   ]
  },
  {
   "cell_type": "markdown",
   "metadata": {},
   "source": [
    "Cómo en general no se hace seguido esto, no existe una forma \"rápida\" o \"más elegante\" de hacerlo."
   ]
  },
  {
   "cell_type": "markdown",
   "metadata": {},
   "source": [
    "### Ejercicio 3\n",
    "\n",
    "1. Haga una lista con los resultados de los últimos dos ejercicios y que la imprima en pantalla\n",
    "\n",
    "* Sobreescriba en la misma variable la misma lista pero con sus elementos permutados e imprima nuevamente la lista\n",
    "\n",
    "Ejemplo de lo que debería mostrarse en pantalla\n",
    "\n",
    "`['estoy programando', 'que emocion!', -98.01]`\n",
    "\n",
    "`['estoy programando', -98.01, 'que emocion!']`"
   ]
  },
  {
   "cell_type": "code",
   "execution_count": 10,
   "metadata": {},
   "outputs": [],
   "source": [
    "# Realice el ejercicio 3"
   ]
  },
  {
   "cell_type": "markdown",
   "metadata": {},
   "source": [
    "### Ejercicio 4\n",
    "\n",
    "1. Haga una lista con la función *range* de 15 elementos y sume los elementos 5, 10 y 12\n",
    "\n",
    "* Con la misma lista, haga el producto de los primeros 4 elementos de esa lista\n",
    "\n",
    "* Con la misma lista, reste el último valor con el primero"
   ]
  },
  {
   "cell_type": "code",
   "execution_count": 11,
   "metadata": {},
   "outputs": [],
   "source": [
    "# Realice el ejercicio 4"
   ]
  },
  {
   "cell_type": "markdown",
   "metadata": {},
   "source": [
    "Ahora, el titulo hablaba de diccionarios... pero no son los que usamos para buscar el significado de las palabras.  ¡Aunque pueden ser parecidos o funcionar igual!.\n",
    "\n",
    "Un diccionario es un relación entre una variable llamada llave y otra variable llamado valor. Relación en el sentido de función que veíamos en el secundario, pero usualmente de forma discreta. \n",
    "\n",
    "La magia es que sabiendo la llave, o _key_, ya tienes el valor, o _value_, por lo que podés usarlo como una lista pero sin usar indices si no cosas como cadenas. Las keys son únicas, y si quiero crear un diccionario con las mismas keys se van a pisar y queda la última aparición\n",
    "\n",
    "Veamos un ejemplo"
   ]
  },
  {
   "cell_type": "code",
   "execution_count": 12,
   "metadata": {},
   "outputs": [
    {
     "name": "stdout",
     "output_type": "stream",
     "text": [
      "{'hola': 1, 'mundo': 2, 0: 'numero', (0, 1): ['tupla', 0, 1]} <class 'dict'>\n",
      "1\n",
      "numero\n",
      "['tupla', 0, 1]\n",
      "{'hola': 1, 'mundo': 2, 0: 10, (0, 1): ['tupla', 0, 1], 42: 'La respuesta'}\n",
      "{0: 2}\n",
      "{}\n"
     ]
    }
   ],
   "source": [
    "d = {\"hola\": 1, \"mundo\": 2, 0: \"numero\", (0, 1): [\"tupla\", 0, 1]}  # Las llaves pueden ser casi cualquier cosa (lista no)\n",
    "\n",
    "print(d, type(d))\n",
    "\n",
    "print(d[\"hola\"])\n",
    "print(d[0])\n",
    "print(d[(0, 1)])\n",
    "\n",
    "# Podés setear una llave (o key) vieja\n",
    "d[0] = 10\n",
    "\n",
    "# O podes agregar una nueva. El orden de las llaves no es algo en qué confiar necesariamente, para eso está OrderedDict\n",
    "d[42] = \"La respuesta\"\n",
    "\n",
    "# Cambiamos el diccionario, así que aparecen nuevas keys y cambios de values\n",
    "print(d)\n",
    "\n",
    "# Keys repetidas terminan siendo sobreescritas\n",
    "rep_d = {0: 1, 0: 2}\n",
    "print(rep_d)\n",
    "\n",
    "# Otra cosas menor, un diccionario vacío es\n",
    "empt_d = {}\n",
    "print(empt_d)"
   ]
  },
  {
   "cell_type": "markdown",
   "metadata": {},
   "source": [
    "Es particularmente mágico el diccionario y lo podes usar para muchisimas cosas (y además Python lo usa para casi todo internamente, así que está muy bueno saber usarlos!).\n",
    "\n",
    "El largo de un diccionario es la cantidad de keys que tiene, por ejemplo"
   ]
  },
  {
   "cell_type": "code",
   "execution_count": 13,
   "metadata": {},
   "outputs": [
    {
     "name": "stdout",
     "output_type": "stream",
     "text": [
      "2\n",
      "0\n"
     ]
    }
   ],
   "source": [
    "new_d = {0: '0', '0': 0}\n",
    "\n",
    "print(len(new_d))\n",
    "\n",
    "# Diccionario vacío\n",
    "print(len({}))"
   ]
  },
  {
   "cell_type": "markdown",
   "metadata": {},
   "source": [
    "### Ejercicio 5\n",
    "Haga un diccionario con tal que con el siguiente código\n",
    "\n",
    "```\n",
    "print(tu_dict[1] + tu_dict[\"FIFA\"] + tu_dict[(3,4)])\n",
    "```\n",
    "\n",
    "Imprima \"Programador, hola mundo!\". Puede tener todas las entradas que quieras, no hay limite de la creatividad acá"
   ]
  },
  {
   "cell_type": "code",
   "execution_count": 14,
   "metadata": {},
   "outputs": [],
   "source": [
    "# Realice el ejercicio 5\n",
    "\n",
    "# Descomente esta línea y a trabajar\n",
    "# print(tu_dict[1] + tu_dict[\"FIFA\"] + tu_dict[(3,4)])"
   ]
  },
  {
   "cell_type": "markdown",
   "metadata": {},
   "source": [
    "## Booleans"
   ]
  },
  {
   "cell_type": "markdown",
   "metadata": {},
   "source": [
    "Este tipo de variable tiene sólo dos valores posibles: 1 y 0, o *True* y *False*. Las utilizaremos escencialmente para que Python reconozca relaciones entre números."
   ]
  },
  {
   "cell_type": "code",
   "execution_count": 15,
   "metadata": {},
   "outputs": [
    {
     "name": "stdout",
     "output_type": "stream",
     "text": [
      "True\n",
      "False\n",
      "False\n",
      "True\n",
      "<class 'bool'>\n"
     ]
    }
   ],
   "source": [
    "print(5 > 4)\n",
    "print(4 > 5)\n",
    "print(4 == 5) #La igualdad matemática se escribe con doble ==\n",
    "print(4 != 5) #La desigualdad matemática se escribe con !=\n",
    "print(type(4 > 5))"
   ]
  },
  {
   "cell_type": "markdown",
   "metadata": {},
   "source": [
    "Las listas, tuplas y diccionarios también pueden devolver booleanos cuando se le pregunta si tiene o no algún elemento. Los diccionarios trabajaran sobre las llaves y las listas/tuplas sobre sus indices/valores"
   ]
  },
  {
   "cell_type": "code",
   "execution_count": 16,
   "metadata": {},
   "outputs": [
    {
     "name": "stdout",
     "output_type": "stream",
     "text": [
      "True\n",
      "False\n",
      "True\n"
     ]
    }
   ],
   "source": [
    "nueva_l = [0, 42, 3]\n",
    "nueva_t = (2.3, 4.2); \n",
    "nuevo_d = {\"0\": -4, (0, 1): \"tupla\"}\n",
    "\n",
    "# La frase es \n",
    "# >>> x in collection\n",
    "# donde collection es una tupla, lista o diccionario. Parece inglés escrito no?\n",
    "print(42 in nueva_l)\n",
    "print(3 in nueva_t)\n",
    "print((0,1) in nuevo_d)"
   ]
  },
  {
   "cell_type": "markdown",
   "metadata": {},
   "source": [
    "### Ejercicio 6\n",
    "\n",
    "Averigue el resultado de `4!=5==1`. ¿Dónde pondría paréntesis para que el resultado fuera distinto?"
   ]
  },
  {
   "cell_type": "code",
   "execution_count": 17,
   "metadata": {},
   "outputs": [],
   "source": [
    "# Realice el ejercicio 5"
   ]
  },
  {
   "cell_type": "markdown",
   "metadata": {},
   "source": [
    "## Control de flujo: condicionales e iteraciones (if y for para los amigos)\n",
    "Si en el fondo un programa es una serie de algoritmos que la computadora debe seguir, un conocimiento fundamental para programar es saber cómo pedirle a una computadora que haga operaciones si se cumple una condición y que haga otras si no se cumple. Nos va a permitir hacer programas mucho más complejos. Veamos entonces como aplicar un *if*."
   ]
  },
  {
   "cell_type": "code",
   "execution_count": 18,
   "metadata": {},
   "outputs": [
    {
     "name": "stdout",
     "output_type": "stream",
     "text": [
      "Tu parametro es 5 y es mayor a cero\n",
      "Gracias\n",
      "Vuelva pronto\n",
      " \n"
     ]
    }
   ],
   "source": [
    "parametro = 5\n",
    "if parametro > 0: # un if inaugura un nuevo bloque indentado\n",
    "    print('Tu parametro es {} y es mayor a cero'.format(parametro))\n",
    "    print('Gracias')\n",
    "else:            # el else inaugura otro bloque indentado\n",
    "    print('Tu parametro es {} y es menor o igual a cero'.format(parametro))\n",
    "    print('Gracias')\n",
    "print('Vuelva pronto')\n",
    "print(' ')"
   ]
  },
  {
   "cell_type": "code",
   "execution_count": 19,
   "metadata": {},
   "outputs": [
    {
     "name": "stdout",
     "output_type": "stream",
     "text": [
      "Tu parametro es -5 y es menor o igual a cero\n",
      "Gracias\n",
      "Vuelva pronto\n",
      " \n"
     ]
    }
   ],
   "source": [
    "parametro = -5\n",
    "if parametro > 0: # un if inaugura un nuevo bloque indentado\n",
    "    print('Tu parametro es {} y es mayor a cero'.format(parametro))\n",
    "    print('Gracias')\n",
    "else:            # el else inaugura otro bloque indentado\n",
    "    print('Tu parametro es {} y es menor o igual a cero'.format(parametro))\n",
    "    print('Gracias')\n",
    "print('Vuelva pronto')\n",
    "print(' ')"
   ]
  },
  {
   "cell_type": "markdown",
   "metadata": {},
   "source": [
    "### Ejercicio 7\n",
    "\n",
    "Haga un programa con un *if* que imprima la suma de dos números si un tercero es positivo, y que imprima la resta si el tercero es negativo."
   ]
  },
  {
   "cell_type": "code",
   "execution_count": 20,
   "metadata": {},
   "outputs": [],
   "source": [
    "# Realice el ejercicio 7"
   ]
  },
  {
   "cell_type": "markdown",
   "metadata": {},
   "source": [
    "Para que Python repita una misma acción *n* cantidad de veces, utilizaremos la estructura *for*. En cada paso, nosotros podemos aprovechar el \"número de iteración\" como una variable. Eso nos servirá en la mayoría de los casos."
   ]
  },
  {
   "cell_type": "code",
   "execution_count": 21,
   "metadata": {},
   "outputs": [
    {
     "name": "stdout",
     "output_type": "stream",
     "text": [
      "nada\n",
      "1\n",
      "2\n",
      "tres\n",
      "cuatro\n",
      "5\n",
      "6\n",
      "7.0\n",
      "8\n",
      "9\n"
     ]
    }
   ],
   "source": [
    "nueva_lista = ['nada',1,2,'tres', 'cuatro', 7-2, 2*3, 7/1, 2**3, 3**2]\n",
    "for i in range(10):       # i es una variable que inventamos en el for, y que tomará los valores de la \n",
    "    print(nueva_lista[i])   #lista que se genere con range(10)"
   ]
  },
  {
   "cell_type": "markdown",
   "metadata": {},
   "source": [
    "### Ejercicio 8\n",
    "\n",
    "1. Haga otra lista con 16 elementos, y haga un programa que con un *for* imprima solo los primeros 7\n",
    "* Modifique el *for* anterior y haga que imprima solo los elementos pares de su lista"
   ]
  },
  {
   "cell_type": "code",
   "execution_count": 22,
   "metadata": {},
   "outputs": [],
   "source": [
    "# Realice el ejercicio 8"
   ]
  },
  {
   "cell_type": "markdown",
   "metadata": {},
   "source": [
    "La estructura *while* es poco recomendada en Python pero es importante saber que existe: consiste en repetir un paso mientras se cumpla una condición. Es como un *for* mezclado con un *if*."
   ]
  },
  {
   "cell_type": "code",
   "execution_count": 23,
   "metadata": {},
   "outputs": [
    {
     "name": "stdout",
     "output_type": "stream",
     "text": [
      "2\n",
      "3\n",
      "4\n",
      "5\n",
      "6\n",
      "7\n",
      "8\n",
      "9\n",
      "10\n"
     ]
    }
   ],
   "source": [
    "i = 1\n",
    "while i < 10: # tener cuidado con los while que se cumplen siempre. Eso daría lugar a los loops infinitos.\n",
    "    i = i+1\n",
    "    print(i)"
   ]
  },
  {
   "cell_type": "markdown",
   "metadata": {},
   "source": [
    "### Ejercicio 9\n",
    "\n",
    "1. Calcule el factorial de N, siendo N la única variable que recibe la función (Se puede pensar usando *for* o usando *while*).\n",
    "* Calcule la sumatoria de los elementos de una lista."
   ]
  },
  {
   "cell_type": "code",
   "execution_count": 24,
   "metadata": {},
   "outputs": [],
   "source": [
    "# Realice el ejercicio 8"
   ]
  },
  {
   "cell_type": "markdown",
   "metadata": {},
   "source": [
    "## Funciones"
   ]
  },
  {
   "cell_type": "markdown",
   "metadata": {},
   "source": [
    "Pero si queremos definir nuestra propia manera de calcular algo, o si queremos agrupar una serie de órdenes bajo un mismo nombre, podemos definirnos nuestras propias funciones, pidiendo la cantidad de argumentos que querramos.\n",
    "\n",
    "Vamos a usar las funciones *lambda* (también llamadas anonimas) más que nada para funciones matemáticas, aunque también tenga otros usos. Definamos el polinomio $f(x) = x^2 - 5x + 6$ que tiene como raíces $x = 3$ y $x = 2$."
   ]
  },
  {
   "cell_type": "code",
   "execution_count": 25,
   "metadata": {},
   "outputs": [
    {
     "name": "stdout",
     "output_type": "stream",
     "text": [
      "0 0 6\n"
     ]
    }
   ],
   "source": [
    "f = lambda x: x**2 - 5*x + 6\n",
    "print(f(3), f(2), f(0))"
   ]
  },
  {
   "cell_type": "markdown",
   "metadata": {},
   "source": [
    "Las funciones *lambda* son necesariamente funciones de una sola linea y también tienen que retornar nada; por eso son candidatas para expresiones matemáticas simples.\n",
    "\n",
    "Las otras funciones, las más generales, se las llama funciones *def*, y tienen la siguiente forma."
   ]
  },
  {
   "cell_type": "code",
   "execution_count": 26,
   "metadata": {},
   "outputs": [
    {
     "name": "stdout",
     "output_type": "stream",
     "text": [
      "5.666666666666667\n"
     ]
    }
   ],
   "source": [
    "def promedio(a,b,c):\n",
    "    N = a + b + c # Es importante que toda la función tenga su contenido indentado\n",
    "    N = N/3.0\n",
    "    return N\n",
    "mipromedio = promedio(5,5,7) # Aquí rompimos la indentación\n",
    "print(mipromedio)"
   ]
  },
  {
   "cell_type": "markdown",
   "metadata": {},
   "source": [
    "Algo muy interesante y curioso, es que podemos hacer lo siguiente con las funciones"
   ]
  },
  {
   "cell_type": "code",
   "execution_count": 27,
   "metadata": {},
   "outputs": [
    {
     "name": "stdout",
     "output_type": "stream",
     "text": [
      "<function otra_funcion at 0x7fda5cab9840>\n",
      "<class 'function'>\n",
      "8\n"
     ]
    }
   ],
   "source": [
    "def otra_funcion(a, b):\n",
    "    return a + b * 2\n",
    "\n",
    "# Es un valor!\n",
    "otra_f = otra_funcion\n",
    "print(otra_f)\n",
    "print(type(otra_f))\n",
    "\n",
    "print(otra_f(2, 3))"
   ]
  },
  {
   "cell_type": "markdown",
   "metadata": {},
   "source": [
    "Las funciones pueden ser variables y esto abre la puerta a muchas cosas. Si tienen curiosidad, pregunten que está re bueno esto!"
   ]
  },
  {
   "cell_type": "markdown",
   "metadata": {},
   "source": [
    "### Ejercicio 10\n",
    "\n",
    "Hacer una función que calcule el promedio de $n$ elementos dados en una lista.\n",
    "\n",
    "**Sugerencia**: utilizar las funciones *len()* y *sum()* como auxiliares."
   ]
  },
  {
   "cell_type": "code",
   "execution_count": 28,
   "metadata": {},
   "outputs": [],
   "source": [
    "# Realice el ejercicio 9"
   ]
  },
  {
   "cell_type": "markdown",
   "metadata": {},
   "source": [
    "### Ejercicio 11\n",
    "\n",
    "Usando lo que ya sabemos de funciones matemáticas y las bifurcaciones que puede generar un *if*, hacer una función que reciba los coeficientes $a, b, c$ de la parábola $f(x) = ax^2 + bx + c$ y calcule las raíces *si* son reales (es decir, usando el discriminante $\\Delta = b^2 - 4ac$ como criterio), y sino que imprima en pantalla una advertencia de que el cálculo no se puede hacer en $\\mathbb{R}$."
   ]
  },
  {
   "cell_type": "code",
   "execution_count": 29,
   "metadata": {},
   "outputs": [],
   "source": [
    "# Realice el ejercicio 10"
   ]
  },
  {
   "cell_type": "markdown",
   "metadata": {},
   "source": [
    "### Bonus track 1\n",
    "\n",
    "Modificar la función anterior para que calcule las raíces de todos modos, aunque sean complejas. Python permite usar números complejos escritos de la forma `1 + 4j`. Investiguen un poco"
   ]
  },
  {
   "cell_type": "code",
   "execution_count": 30,
   "metadata": {},
   "outputs": [],
   "source": [
    "# Bonus track 1"
   ]
  },
  {
   "cell_type": "markdown",
   "metadata": {},
   "source": [
    "### Ejercicio 12\n",
    "\n",
    "Repitan el ejercicio 8, es decir\n",
    "1. Hacer una función que calcule el factorial de N, siendo N la única variable que recibe la función (Se puede pensar usando *for* o usando *while*).\n",
    "* Hacer una función que calcule la sumatoria de los elementos de una lista.\n",
    "\n",
    "¿Se les ocurre otra forma de hacer el factorial? Piensen la definición matemática y escribanla en Python, y prueben calcular el factorial de 100 con esta definición nueva"
   ]
  },
  {
   "cell_type": "code",
   "execution_count": 31,
   "metadata": {},
   "outputs": [],
   "source": [
    "# Realice el ejercicio 12"
   ]
  },
  {
   "cell_type": "markdown",
   "metadata": {},
   "source": [
    "## Bibliotecas"
   ]
  },
  {
   "cell_type": "markdown",
   "metadata": {},
   "source": [
    "Pero las operaciones básicas de suma, resta, multiplicación y división son todo lo que un lenguaje como Python puede hacer \"nativamente\". Una potencia o un seno es álgebra no lineal, y para hacerlo, habría que inventarse un algoritmo (una serie de pasos) para calcular por ejemplo *sen($\\pi$)*. Pero alguien ya lo hizo, ya lo pensó, ya lo escribió en lenguaje Python y ahora todos podemos usar ese algoritmo sin pensar en él. Solamente hay que decirle a nuestro intérprete de Python dónde está guardado ese algoritmo. **Esta posibilidad de usar algoritmos de otros es fundamental en la programación, porque es lo que permite que nuestro problema se limite solamente a entender cómo llamar a estos algoritmos ya pensados y no tener que pensarlos cada vez**.\n",
    "\n",
    "Vamos entonces a llamar a una *biblioteca* llamada *math* que nos va a extender nuestras posibilididades matemáticas."
   ]
  },
  {
   "cell_type": "code",
   "execution_count": 32,
   "metadata": {},
   "outputs": [
    {
     "name": "stdout",
     "output_type": "stream",
     "text": [
      "16.0 -1.0 2.0 1.0\n"
     ]
    }
   ],
   "source": [
    "import math # Llamamos a una biblioteca\n",
    "\n",
    "r1 = math.pow(2,4)\n",
    "r2 = math.cos(math.pi)\n",
    "r3 = math.log(100,10)\n",
    "r4 = math.log(math.e)\n",
    "\n",
    "print(r1, r2, r3, r4)"
   ]
  },
  {
   "cell_type": "markdown",
   "metadata": {},
   "source": [
    "Para entender cómo funcionan estas funciones, es importante recurrir a su *documentation*. La de esta biblioteca en particular se encuentra en\n",
    "\n",
    "https://docs.python.org/2/library/math.html"
   ]
  },
  {
   "cell_type": "markdown",
   "metadata": {},
   "source": [
    "### Ejercicio 13\n",
    "\n",
    "Use Python como calculadora y halle los resultados de\n",
    "\n",
    "1. $\\log(\\cos(2\\pi))$\n",
    "*  $\\text{atanh}(2^{\\cos(e)} -1) $\n",
    "*  $\\sqrt{x^2+2x+1}$ con $x = 125$\n",
    "\n"
   ]
  },
  {
   "cell_type": "code",
   "execution_count": 33,
   "metadata": {},
   "outputs": [],
   "source": [
    "# Realice el ejercicio 13"
   ]
  },
  {
   "cell_type": "markdown",
   "metadata": {},
   "source": [
    "### Bonus track 2\n",
    "\n",
    "Ahora que nos animamos a buscar nuevas bibliotecas y definir funciones, buscar la función *newton()* de la biblioteca **scipy.optimize** para hallar $x$ tal que se cumpla la siguiente ecuación no lineal $$\\frac{1}{x} = ln(x)$$"
   ]
  },
  {
   "cell_type": "code",
   "execution_count": 34,
   "metadata": {},
   "outputs": [],
   "source": [
    "#Acá va el bonus track 2, para ya saborear la próxima clase"
   ]
  },
  {
   "cell_type": "markdown",
   "metadata": {},
   "source": [
    "Con esto terminamos la primera sesión del taller! Para la próxima vamos a aprender a manejar muchos datos al mismo tiempo, graficarlos y crear datos estadísticos, usando un par de librerías especificas del set científico de Python (*numpy*, *scipy* y *matplotlib*).\n",
    "\n",
    "En nuestro repositorio en Github (https://github.com/fifabsas/talleresfifabsas) está colgado este material así como el de la próxima clase. Además tiene ejemplos (hasta de automatización de instrumental) y otras instancias de talleres que hemos dado a traves del tiempo."
   ]
  },
  {
   "cell_type": "markdown",
   "metadata": {},
   "source": [
    "# La importancia de las referencias"
   ]
  },
  {
   "cell_type": "markdown",
   "metadata": {},
   "source": [
    "Para más referencias pueden googlear. Dejamos algunas de referencia:\n",
    "\n",
    "http://pybonacci.org/2012/06/07/algebra-lineal-en-python-con-numpy-i-operaciones-basicas/\n",
    "\n",
    "http://relopezbriega.github.io/blog/2015/06/14/algebra-lineal-con-python/\n",
    "\n",
    "http://pendientedemigracion.ucm.es/info/aocg/python/modulos_cientificos/numpy/index.html\n",
    "\n",
    "Pero es importantísimo manejarse con la documentación de las bibliotecas que se utilizan\n",
    "\n",
    "https://docs.python.org/2/library/math.html\n",
    "\n",
    "http://docs.scipy.org/doc/numpy/reference/routines.linalg.html\n",
    "\n",
    "http://matplotlib.org/api/pyplot_api.html"
   ]
  },
  {
   "cell_type": "markdown",
   "metadata": {},
   "source": [
    "# Recursos\n",
    "\n",
    "Para seguir profundizando con la programación en Python, ofrecemos distintos recursos\n",
    "\n",
    "Un tutorial: http://www.learnpython.org/\n",
    "\n",
    "*How to think like a computer scientist* (aprendizaje interactivo): http://interactivepython.org/runestone/static/thinkcspy/index.html\n",
    "\n",
    "Otro tutorial, en inglés, pero muy completo: http://learnpythonthehardway.org/book\n",
    "\n",
    "Coursera, que nunca está de más: https://www.coursera.org/learn/interactive-python-1\n",
    "\n",
    "Otro más: https://es.coursera.org/learn/python\n",
    "\n",
    "Y por fuera del taller, seguimos en contacto. Tenemos un grupo de Facebook donde pueden hacerse consultas y otros chicos que fueron al taller antes o aprendieron por sus medios podrán responderles. El grupo es https://www.facebook.com/groups/303815376436624/?fref=ts\n",
    "\n",
    "\n"
   ]
  },
  {
   "cell_type": "markdown",
   "metadata": {
    "collapsed": true
   },
   "source": [
    "# Agradecimientos\n",
    "\n",
    "Todo esto es posible gracias al aporte de mucha gente.\n",
    "* A los docentes de la materia, por darnos el espacio para ayudar y que se lleve a cabo este taller.\n",
    "* Gente muy copada del DF como Hernán Grecco, Guillermo Frank y Agustín Corbat por hacer aportes a estos talleres de diferentes maneras, desde poner su apellido para que nos presten un labo hasta venir como invitado a un taller.\n",
    "* El Departamento de Computación que cuatrimestre a cuatrimestre nos presta los labos desinteresadamente.\n",
    "* Pibes de la FIFA que prestan su tiempo a organizar el material y llevan a cabo el taller.\n",
    "* Todos los que se acercan y piden que estos talleres se sigan dando y nos siguen llenando los Labos. Sí ¡Gracias a todos ustedes!"
   ]
  }
 ],
 "metadata": {
  "anaconda-cloud": {},
  "kernelspec": {
   "display_name": "Python 3",
   "language": "python",
   "name": "python3"
  },
  "language_info": {
   "codemirror_mode": {
    "name": "ipython",
    "version": 3
   },
   "file_extension": ".py",
   "mimetype": "text/x-python",
   "name": "python",
   "nbconvert_exporter": "python",
   "pygments_lexer": "ipython3",
   "version": "3.6.7"
  }
 },
 "nbformat": 4,
 "nbformat_minor": 1
}
